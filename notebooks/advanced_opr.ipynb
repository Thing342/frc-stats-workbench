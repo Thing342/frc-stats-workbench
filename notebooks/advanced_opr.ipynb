{
 "cells": [
  {
   "cell_type": "code",
   "execution_count": 28,
   "metadata": {},
   "outputs": [
    {
     "name": "stderr",
     "output_type": "stream",
     "text": [
      "WARNING: replacing module Lib.\n",
      "WARNING: replacing module DeepSpace.\n"
     ]
    }
   ],
   "source": [
    "include(\"../lib/Lib.jl\")\n",
    "include(\"../lib/DeepSpace.jl\")\n",
    "\n",
    "using DataFrames, DataFramesMeta\n",
    "using CSV\n",
    "using Statistics\n",
    "using ScikitLearn\n",
    "using Main"
   ]
  },
  {
   "cell_type": "code",
   "execution_count": 29,
   "metadata": {},
   "outputs": [
    {
     "name": "stderr",
     "output_type": "stream",
     "text": [
      "WARNING: redefining constant LinearRegression\n",
      "WARNING: redefining constant ElasticNet\n"
     ]
    },
    {
     "data": {
      "text/plain": [
       "PyObject <class 'sklearn.linear_model.coordinate_descent.ElasticNet'>"
      ]
     },
     "execution_count": 29,
     "metadata": {},
     "output_type": "execute_result"
    }
   ],
   "source": [
    "@sk_import linear_model: LinearRegression\n",
    "@sk_import linear_model: ElasticNet"
   ]
  },
  {
   "cell_type": "code",
   "execution_count": 30,
   "metadata": {},
   "outputs": [
    {
     "data": {
      "text/plain": [
       ":totalPoints"
      ]
     },
     "execution_count": 30,
     "metadata": {},
     "output_type": "execute_result"
    }
   ],
   "source": [
    "KEY = \"2019vahay_sat\"\n",
    "YEAR = \"2019\"\n",
    "COLUMN = :totalPoints"
   ]
  },
  {
   "cell_type": "code",
   "execution_count": 31,
   "metadata": {},
   "outputs": [
    {
     "data": {
      "text/plain": [
       "([\"adjustPoints\", \"autoPoints\", \"bay1\", \"bay2\", \"bay3\", \"bay4\", \"bay5\", \"bay6\", \"bay7\", \"bay8\"  …  \"techFoulCount\", \"teleopPoints\", \"topLeftRocketFar\", \"topLeftRocketNear\", \"topRightRocketFar\", \"topRightRocketNear\", \"totalPoints\", \"key\", \"level\", \"event\"], 108×54 DataFrame. Omitted printing of 50 columns\n",
       "│ Row │ adjustPoints │ autoPoints │ bay1          │ bay2          │\n",
       "│     │ \u001b[90mInt64⍰\u001b[39m       │ \u001b[90mInt64⍰\u001b[39m     │ \u001b[90mString⍰\u001b[39m       │ \u001b[90mString⍰\u001b[39m       │\n",
       "├─────┼──────────────┼────────────┼───────────────┼───────────────┤\n",
       "│ 1   │ 0            │ 9          │ Panel         │ Panel         │\n",
       "│ 2   │ 0            │ 12         │ Panel         │ Panel         │\n",
       "│ 3   │ 0            │ 6          │ None          │ Panel         │\n",
       "│ 4   │ 0            │ 15         │ Panel         │ PanelAndCargo │\n",
       "│ 5   │ 0            │ 3          │ None          │ None          │\n",
       "│ 6   │ 0            │ 12         │ None          │ None          │\n",
       "│ 7   │ 0            │ 6          │ None          │ PanelAndCargo │\n",
       "│ 8   │ 0            │ 6          │ Panel         │ Panel         │\n",
       "│ 9   │ 0            │ 6          │ Panel         │ PanelAndCargo │\n",
       "│ 10  │ 0            │ 12         │ PanelAndCargo │ None          │\n",
       "⋮\n",
       "│ 98  │ 0            │ 15         │ PanelAndCargo │ PanelAndCargo │\n",
       "│ 99  │ 0            │ 12         │ PanelAndCargo │ PanelAndCargo │\n",
       "│ 100 │ 0            │ 12         │ Panel         │ PanelAndCargo │\n",
       "│ 101 │ 0            │ 6          │ Panel         │ Panel         │\n",
       "│ 102 │ 0            │ 6          │ Panel         │ None          │\n",
       "│ 103 │ 0            │ 15         │ PanelAndCargo │ PanelAndCargo │\n",
       "│ 104 │ 0            │ 12         │ Panel         │ Panel         │\n",
       "│ 105 │ 0            │ 9          │ PanelAndCargo │ PanelAndCargo │\n",
       "│ 106 │ 0            │ 0          │ Panel         │ Panel         │\n",
       "│ 107 │ 0            │ 15         │ PanelAndCargo │ PanelAndCargo │\n",
       "│ 108 │ 0            │ 15         │ PanelAndCargo │ PanelAndCargo │, 108×6 DataFrame. Omitted printing of 1 columns\n",
       "│ Row │ team1   │ team2   │ team3   │ key                 │ level   │\n",
       "│     │ \u001b[90mString⍰\u001b[39m │ \u001b[90mString⍰\u001b[39m │ \u001b[90mString⍰\u001b[39m │ \u001b[90mString⍰\u001b[39m             │ \u001b[90mString⍰\u001b[39m │\n",
       "├─────┼─────────┼─────────┼─────────┼─────────────────────┼─────────┤\n",
       "│ 1   │ frc4505 │ frc2988 │ frc3941 │ 2019vahay_qm1_red   │ qm      │\n",
       "│ 2   │ frc620  │ frc339  │ frc5338 │ 2019vahay_qm1_blue  │ qm      │\n",
       "│ 3   │ frc2421 │ frc3941 │ frc1719 │ 2019vahay_qm10_red  │ qm      │\n",
       "│ 4   │ frc2028 │ frc316  │ frc2363 │ 2019vahay_qm10_blue │ qm      │\n",
       "│ 5   │ frc623  │ frc1418 │ frc4464 │ 2019vahay_qm11_red  │ qm      │\n",
       "│ 6   │ frc3274 │ frc339  │ frc2534 │ 2019vahay_qm11_blue │ qm      │\n",
       "│ 7   │ frc2961 │ frc5338 │ frc4242 │ 2019vahay_qm12_red  │ qm      │\n",
       "│ 8   │ frc888  │ frc2186 │ frc5549 │ 2019vahay_qm12_blue │ qm      │\n",
       "│ 9   │ frc6543 │ frc1629 │ frc2819 │ 2019vahay_qm13_red  │ qm      │\n",
       "│ 10  │ frc611  │ frc612  │ frc6584 │ 2019vahay_qm13_blue │ qm      │\n",
       "⋮\n",
       "│ 98  │ frc1719 │ frc4242 │ frc614  │ 2019vahay_qm53_blue │ qm      │\n",
       "│ 99  │ frc3373 │ frc2199 │ frc316  │ 2019vahay_qm54_red  │ qm      │\n",
       "│ 100 │ frc4505 │ frc5549 │ frc623  │ 2019vahay_qm54_blue │ qm      │\n",
       "│ 101 │ frc5549 │ frc2028 │ frc2961 │ 2019vahay_qm6_red   │ qm      │\n",
       "│ 102 │ frc1895 │ frc2421 │ frc1629 │ 2019vahay_qm6_blue  │ qm      │\n",
       "│ 103 │ frc4242 │ frc6504 │ frc1731 │ 2019vahay_qm7_red   │ qm      │\n",
       "│ 104 │ frc1123 │ frc3455 │ frc316  │ 2019vahay_qm7_blue  │ qm      │\n",
       "│ 105 │ frc614  │ frc620  │ frc116  │ 2019vahay_qm8_red   │ qm      │\n",
       "│ 106 │ frc3373 │ frc6863 │ frc2819 │ 2019vahay_qm8_blue  │ qm      │\n",
       "│ 107 │ frc612  │ frc2988 │ frc1895 │ 2019vahay_qm9_red   │ qm      │\n",
       "│ 108 │ frc2199 │ frc4505 │ frc4099 │ 2019vahay_qm9_blue  │ qm      │)"
      ]
     },
     "execution_count": 31,
     "metadata": {},
     "output_type": "execute_result"
    }
   ],
   "source": [
    "(headers, scores, teams) = Lib.read_stacked(KEY, YEAR)"
   ]
  },
  {
   "cell_type": "code",
   "execution_count": 32,
   "metadata": {},
   "outputs": [
    {
     "data": {
      "text/plain": [
       "108-element Array{Float64,1}:\n",
       " 32.0\n",
       " 27.0\n",
       " 23.0\n",
       " 50.0\n",
       " 26.0\n",
       " 46.0\n",
       " 38.0\n",
       " 23.0\n",
       " 25.0\n",
       " 33.0\n",
       " 51.0\n",
       " 18.0\n",
       " 48.0\n",
       "  ⋮  \n",
       " 26.0\n",
       " 92.0\n",
       " 65.0\n",
       " 37.0\n",
       " 19.0\n",
       " 19.0\n",
       " 38.0\n",
       " 28.0\n",
       " 39.0\n",
       "  2.0\n",
       " 69.0\n",
       " 53.0"
      ]
     },
     "execution_count": 32,
     "metadata": {},
     "output_type": "execute_result"
    }
   ],
   "source": [
    "scores_train = @linq scores |> where(:level .== \"qm\")\n",
    "teams_train = @linq teams |> where(:level .== \"qm\")\n",
    "\n",
    "scores_test = @linq scores |> where(:level .!= \"qm\")\n",
    "teams_test = @linq teams |> where(:level .!= \"qm\")\n",
    "\n",
    "(ß, teamnums, teamindex) = Lib.opr_ß(scores_train, teams_train, shortevent=true)\n",
    "y = convert.(Float64, coalesce(scores_train[COLUMN], -1.0))"
   ]
  },
  {
   "cell_type": "code",
   "execution_count": 33,
   "metadata": {},
   "outputs": [
    {
     "data": {
      "text/plain": [
       "PyObject LinearRegression(copy_X=True, fit_intercept=False, n_jobs=None,\n",
       "         normalize=False)"
      ]
     },
     "execution_count": 33,
     "metadata": {},
     "output_type": "execute_result"
    }
   ],
   "source": [
    "model1 = ScikitLearn.fit!(LinearRegression(fit_intercept=false), ß, y)"
   ]
  },
  {
   "cell_type": "code",
   "execution_count": 34,
   "metadata": {},
   "outputs": [
    {
     "data": {
      "text/html": [
       "<table class=\"data-frame\"><thead><tr><th></th><th>team</th><th>rating</th></tr><tr><th></th><th>Any</th><th>Any</th></tr></thead><tbody><p>38 rows × 2 columns</p><tr><th>1</th><td>frc1123</td><td>5.66419</td></tr><tr><th>2</th><td>frc116</td><td>14.0356</td></tr><tr><th>3</th><td>frc1418</td><td>20.8558</td></tr><tr><th>4</th><td>frc1629</td><td>13.8876</td></tr><tr><th>5</th><td>frc1719</td><td>18.4075</td></tr><tr><th>6</th><td>frc1731</td><td>6.10189</td></tr><tr><th>7</th><td>frc1895</td><td>20.9665</td></tr><tr><th>8</th><td>frc2028</td><td>11.5811</td></tr><tr><th>9</th><td>frc2186</td><td>6.9579</td></tr><tr><th>10</th><td>frc2199</td><td>16.1506</td></tr><tr><th>11</th><td>frc2363</td><td>21.7347</td></tr><tr><th>12</th><td>frc2421</td><td>2.7272</td></tr><tr><th>13</th><td>frc2534</td><td>24.4349</td></tr><tr><th>14</th><td>frc2819</td><td>2.77428</td></tr><tr><th>15</th><td>frc2961</td><td>1.20733</td></tr><tr><th>16</th><td>frc2988</td><td>18.2381</td></tr><tr><th>17</th><td>frc316</td><td>19.9886</td></tr><tr><th>18</th><td>frc3274</td><td>5.30733</td></tr><tr><th>19</th><td>frc3373</td><td>13.5228</td></tr><tr><th>20</th><td>frc339</td><td>11.0467</td></tr><tr><th>21</th><td>frc3455</td><td>15.555</td></tr><tr><th>22</th><td>frc3941</td><td>13.468</td></tr><tr><th>23</th><td>frc4099</td><td>15.0723</td></tr><tr><th>24</th><td>frc4242</td><td>19.1922</td></tr><tr><th>25</th><td>frc4464</td><td>2.98707</td></tr><tr><th>26</th><td>frc4505</td><td>15.9034</td></tr><tr><th>27</th><td>frc5338</td><td>20.206</td></tr><tr><th>28</th><td>frc5549</td><td>11.7059</td></tr><tr><th>29</th><td>frc611</td><td>16.2439</td></tr><tr><th>30</th><td>frc612</td><td>21.9303</td></tr><tr><th>&vellip;</th><td>&vellip;</td><td>&vellip;</td></tr></tbody></table>"
      ],
      "text/latex": [
       "\\begin{tabular}{r|cc}\n",
       "\t& team & rating\\\\\n",
       "\t\\hline\n",
       "\t& Any & Any\\\\\n",
       "\t\\hline\n",
       "\t1 & frc1123 & 5.66419 \\\\\n",
       "\t2 & frc116 & 14.0356 \\\\\n",
       "\t3 & frc1418 & 20.8558 \\\\\n",
       "\t4 & frc1629 & 13.8876 \\\\\n",
       "\t5 & frc1719 & 18.4075 \\\\\n",
       "\t6 & frc1731 & 6.10189 \\\\\n",
       "\t7 & frc1895 & 20.9665 \\\\\n",
       "\t8 & frc2028 & 11.5811 \\\\\n",
       "\t9 & frc2186 & 6.9579 \\\\\n",
       "\t10 & frc2199 & 16.1506 \\\\\n",
       "\t11 & frc2363 & 21.7347 \\\\\n",
       "\t12 & frc2421 & 2.7272 \\\\\n",
       "\t13 & frc2534 & 24.4349 \\\\\n",
       "\t14 & frc2819 & 2.77428 \\\\\n",
       "\t15 & frc2961 & 1.20733 \\\\\n",
       "\t16 & frc2988 & 18.2381 \\\\\n",
       "\t17 & frc316 & 19.9886 \\\\\n",
       "\t18 & frc3274 & 5.30733 \\\\\n",
       "\t19 & frc3373 & 13.5228 \\\\\n",
       "\t20 & frc339 & 11.0467 \\\\\n",
       "\t21 & frc3455 & 15.555 \\\\\n",
       "\t22 & frc3941 & 13.468 \\\\\n",
       "\t23 & frc4099 & 15.0723 \\\\\n",
       "\t24 & frc4242 & 19.1922 \\\\\n",
       "\t25 & frc4464 & 2.98707 \\\\\n",
       "\t26 & frc4505 & 15.9034 \\\\\n",
       "\t27 & frc5338 & 20.206 \\\\\n",
       "\t28 & frc5549 & 11.7059 \\\\\n",
       "\t29 & frc611 & 16.2439 \\\\\n",
       "\t30 & frc612 & 21.9303 \\\\\n",
       "\t$\\dots$ & $\\dots$ & $\\dots$ \\\\\n",
       "\\end{tabular}\n"
      ],
      "text/plain": [
       "38×2 DataFrame\n",
       "│ Row │ team    │ rating   │\n",
       "│     │ \u001b[90mAny\u001b[39m     │ \u001b[90mAny\u001b[39m      │\n",
       "├─────┼─────────┼──────────┤\n",
       "│ 1   │ frc1123 │ 5.66419  │\n",
       "│ 2   │ frc116  │ 14.0356  │\n",
       "│ 3   │ frc1418 │ 20.8558  │\n",
       "│ 4   │ frc1629 │ 13.8876  │\n",
       "│ 5   │ frc1719 │ 18.4075  │\n",
       "│ 6   │ frc1731 │ 6.10189  │\n",
       "│ 7   │ frc1895 │ 20.9665  │\n",
       "│ 8   │ frc2028 │ 11.5811  │\n",
       "│ 9   │ frc2186 │ 6.9579   │\n",
       "│ 10  │ frc2199 │ 16.1506  │\n",
       "⋮\n",
       "│ 28  │ frc5549 │ 11.7059  │\n",
       "│ 29  │ frc611  │ 16.2439  │\n",
       "│ 30  │ frc612  │ 21.9303  │\n",
       "│ 31  │ frc614  │ 32.9461  │\n",
       "│ 32  │ frc620  │ -1.46115 │\n",
       "│ 33  │ frc623  │ 8.31322  │\n",
       "│ 34  │ frc6504 │ 11.8939  │\n",
       "│ 35  │ frc6543 │ 10.47    │\n",
       "│ 36  │ frc6584 │ 8.46913  │\n",
       "│ 37  │ frc6863 │ 2.94594  │\n",
       "│ 38  │ frc888  │ 16.6095  │"
      ]
     },
     "execution_count": 34,
     "metadata": {},
     "output_type": "execute_result"
    }
   ],
   "source": [
    "oprs = DataFrame(hcat(teamnums, model1[:coef_]), [:team, :rating])\n",
    "#sort(oprs, (:rating), rev = true) |> print"
   ]
  },
  {
   "cell_type": "code",
   "execution_count": 35,
   "metadata": {},
   "outputs": [
    {
     "name": "stdout",
     "output_type": "stream",
     "text": [
      "38×2 DataFrame\n",
      "│ Row │ team    │ rating    │\n",
      "│     │ \u001b[90mAny\u001b[39m     │ \u001b[90mAny\u001b[39m       │\n",
      "├─────┼─────────┼───────────┤\n",
      "│ 1   │ frc614  │ 20.1808   │\n",
      "│ 2   │ frc2534 │ 11.6696   │\n",
      "│ 3   │ frc612  │ 9.16499   │\n",
      "│ 4   │ frc2363 │ 8.96938   │\n",
      "│ 5   │ frc1895 │ 8.20119   │\n",
      "│ 6   │ frc1418 │ 8.09044   │\n",
      "│ 7   │ frc5338 │ 7.44064   │\n",
      "│ 8   │ frc316  │ 7.2233    │\n",
      "│ 9   │ frc4242 │ 6.4269    │\n",
      "│ 10  │ frc1719 │ 5.64216   │\n",
      "│ 11  │ frc2988 │ 5.47273   │\n",
      "│ 12  │ frc888  │ 3.84417   │\n",
      "│ 13  │ frc611  │ 3.47854   │\n",
      "│ 14  │ frc2199 │ 3.38525   │\n",
      "│ 15  │ frc4505 │ 3.13804   │\n",
      "│ 16  │ frc3455 │ 2.78969   │\n",
      "│ 17  │ frc4099 │ 2.30694   │\n",
      "│ 18  │ frc116  │ 1.27028   │\n",
      "│ 19  │ frc1629 │ 1.12224   │\n",
      "│ 20  │ frc3373 │ 0.757425  │\n",
      "│ 21  │ frc3941 │ 0.702704  │\n",
      "│ 22  │ frc6504 │ -0.871413 │\n",
      "│ 23  │ frc5549 │ -1.05947  │\n",
      "│ 24  │ frc2028 │ -1.18422  │\n",
      "│ 25  │ frc339  │ -1.71865  │\n",
      "│ 26  │ frc6543 │ -2.29536  │\n",
      "│ 27  │ frc6584 │ -4.29622  │\n",
      "│ 28  │ frc623  │ -4.45212  │\n",
      "│ 29  │ frc2186 │ -5.80744  │\n",
      "│ 30  │ frc1731 │ -6.66345  │\n",
      "│ 31  │ frc1123 │ -7.10115  │\n",
      "│ 32  │ frc3274 │ -7.45801  │\n",
      "│ 33  │ frc4464 │ -9.77827  │\n",
      "│ 34  │ frc6863 │ -9.81941  │\n",
      "│ 35  │ frc2819 │ -9.99106  │\n",
      "│ 36  │ frc2421 │ -10.0381  │\n",
      "│ 37  │ frc2961 │ -11.558   │\n",
      "│ 38  │ frc620  │ -14.2265  │"
     ]
    }
   ],
   "source": [
    "model2 = ScikitLearn.fit!(ElasticNet(alpha=0, l1_ratio=0, fit_intercept=true), ß, y)\n",
    "oprs2 = DataFrame(hcat(teamnums, model2[:coef_]), [:team, :rating])\n",
    "sort(oprs2, (:rating), rev = true) |> print"
   ]
  },
  {
   "cell_type": "code",
   "execution_count": 36,
   "metadata": {},
   "outputs": [
    {
     "data": {
      "text/plain": [
       "(Array{Float64}(0,38), Union{Missing, String}[\"frc1123\", \"frc116\", \"frc1418\", \"frc1629\", \"frc1719\", \"frc1731\", \"frc1895\", \"frc2028\", \"frc2186\", \"frc2199\"  …  \"frc611\", \"frc612\", \"frc614\", \"frc620\", \"frc623\", \"frc6504\", \"frc6543\", \"frc6584\", \"frc6863\", \"frc888\"], Dict(\"frc888\"=>38,\"frc4505\"=>26,\"frc2421\"=>12,\"frc2819\"=>14,\"frc3941\"=>22,\"frc2961\"=>15,\"frc3274\"=>18,\"frc620\"=>32,\"frc2199\"=>10,\"frc4242\"=>24…))"
      ]
     },
     "execution_count": 36,
     "metadata": {},
     "output_type": "execute_result"
    }
   ],
   "source": [
    "(ßtest, _, _) = Lib.opr_ß(scores_test, teams_test, teamnums=teamnums)"
   ]
  },
  {
   "cell_type": "code",
   "execution_count": 37,
   "metadata": {},
   "outputs": [
    {
     "ename": "PyCall.PyError",
     "evalue": "PyError ($(Expr(:escape, :(ccall(#= /Users/wes/.julia/packages/PyCall/0jMpb/src/pyfncall.jl:44 =# @pysym(:PyObject_Call), PyPtr, (PyPtr, PyPtr, PyPtr), o, pyargsptr, kw))))) <class 'ValueError'>\nValueError('Found array with 0 sample(s) (shape=(0, 38)) while a minimum of 1 is required.')\n  File \"/Users/wes/.julia/conda/3/lib/python3.7/site-packages/sklearn/linear_model/base.py\", line 213, in predict\n    return self._decision_function(X)\n  File \"/Users/wes/.julia/conda/3/lib/python3.7/site-packages/sklearn/linear_model/base.py\", line 196, in _decision_function\n    X = check_array(X, accept_sparse=['csr', 'csc', 'coo'])\n  File \"/Users/wes/.julia/conda/3/lib/python3.7/site-packages/sklearn/utils/validation.py\", line 582, in check_array\n    context))\n",
     "output_type": "error",
     "traceback": [
      "PyError ($(Expr(:escape, :(ccall(#= /Users/wes/.julia/packages/PyCall/0jMpb/src/pyfncall.jl:44 =# @pysym(:PyObject_Call), PyPtr, (PyPtr, PyPtr, PyPtr), o, pyargsptr, kw))))) <class 'ValueError'>\nValueError('Found array with 0 sample(s) (shape=(0, 38)) while a minimum of 1 is required.')\n  File \"/Users/wes/.julia/conda/3/lib/python3.7/site-packages/sklearn/linear_model/base.py\", line 213, in predict\n    return self._decision_function(X)\n  File \"/Users/wes/.julia/conda/3/lib/python3.7/site-packages/sklearn/linear_model/base.py\", line 196, in _decision_function\n    X = check_array(X, accept_sparse=['csr', 'csc', 'coo'])\n  File \"/Users/wes/.julia/conda/3/lib/python3.7/site-packages/sklearn/utils/validation.py\", line 582, in check_array\n    context))\n",
      "",
      "Stacktrace:",
      " [1] pyerr_check at /Users/wes/.julia/packages/PyCall/0jMpb/src/exception.jl:60 [inlined]",
      " [2] pyerr_check at /Users/wes/.julia/packages/PyCall/0jMpb/src/exception.jl:64 [inlined]",
      " [3] macro expansion at /Users/wes/.julia/packages/PyCall/0jMpb/src/exception.jl:84 [inlined]",
      " [4] __pycall!(::PyCall.PyObject, ::Ptr{PyCall.PyObject_struct}, ::PyCall.PyObject, ::Ptr{Nothing}) at /Users/wes/.julia/packages/PyCall/0jMpb/src/pyfncall.jl:44",
      " [5] _pycall!(::PyCall.PyObject, ::PyCall.PyObject, ::Tuple{Array{Float64,2}}, ::Int64, ::Ptr{Nothing}) at /Users/wes/.julia/packages/PyCall/0jMpb/src/pyfncall.jl:22",
      " [6] _pycall!(::PyCall.PyObject, ::PyCall.PyObject, ::Tuple{Array{Float64,2}}, ::Base.Iterators.Pairs{Union{},Union{},Tuple{},NamedTuple{(),Tuple{}}}) at /Users/wes/.julia/packages/PyCall/0jMpb/src/pyfncall.jl:11",
      " [7] #call#89(::Base.Iterators.Pairs{Union{},Union{},Tuple{},NamedTuple{(),Tuple{}}}, ::PyCall.PyObject, ::Array{Float64,2}, ::Vararg{Any,N} where N) at /Users/wes/.julia/packages/PyCall/0jMpb/src/pyfncall.jl:89",
      " [8] (::PyCall.PyObject)(::Array{Float64,2}, ::Vararg{Any,N} where N) at /Users/wes/.julia/packages/PyCall/0jMpb/src/pyfncall.jl:89",
      " [9] #predict#21(::Base.Iterators.Pairs{Union{},Union{},Tuple{},NamedTuple{(),Tuple{}}}, ::Function, ::PyCall.PyObject, ::Array{Float64,2}) at /Users/wes/.julia/packages/ScikitLearn/HK6Vs/src/Skcore.jl:100",
      " [10] predict(::PyCall.PyObject, ::Array{Float64,2}) at /Users/wes/.julia/packages/ScikitLearn/HK6Vs/src/Skcore.jl:100",
      " [11] top-level scope at In[37]:2"
     ]
    }
   ],
   "source": [
    "test_y = convert.(Float64, coalesce(scores_test[COLUMN], -1.0))\n",
    "test_yhat_m1 = ScikitLearn.predict(model1, ßtest)\n",
    "test_yhat_m2 = ScikitLearn.predict(model2, ßtest)"
   ]
  },
  {
   "cell_type": "code",
   "execution_count": 38,
   "metadata": {},
   "outputs": [
    {
     "ename": "UndefVarError",
     "evalue": "UndefVarError: test_yhat_m1 not defined",
     "output_type": "error",
     "traceback": [
      "UndefVarError: test_yhat_m1 not defined",
      "",
      "Stacktrace:",
      " [1] top-level scope at In[38]:1"
     ]
    }
   ],
   "source": [
    "predictions_table = DataFrame(hcat(scores_test.key, test_y, test_yhat_m1, test_yhat_m2), [:key, :y, :LinReg, :RidgeReg])"
   ]
  },
  {
   "cell_type": "code",
   "execution_count": 39,
   "metadata": {},
   "outputs": [
    {
     "ename": "UndefVarError",
     "evalue": "UndefVarError: predictions_table not defined",
     "output_type": "error",
     "traceback": [
      "UndefVarError: predictions_table not defined",
      "",
      "Stacktrace:",
      " [1] top-level scope at In[39]:1"
     ]
    }
   ],
   "source": [
    "rmse_1 = mean((predictions_table.LinReg-predictions_table.y).^2) |> sqrt"
   ]
  },
  {
   "cell_type": "code",
   "execution_count": 40,
   "metadata": {},
   "outputs": [
    {
     "ename": "UndefVarError",
     "evalue": "UndefVarError: predictions_table not defined",
     "output_type": "error",
     "traceback": [
      "UndefVarError: predictions_table not defined",
      "",
      "Stacktrace:",
      " [1] top-level scope at In[40]:1"
     ]
    }
   ],
   "source": [
    "rmse_2 = mean((predictions_table.RidgeReg-predictions_table.y).^2) |> sqrt"
   ]
  },
  {
   "cell_type": "code",
   "execution_count": null,
   "metadata": {},
   "outputs": [],
   "source": []
  },
  {
   "cell_type": "code",
   "execution_count": null,
   "metadata": {},
   "outputs": [],
   "source": []
  }
 ],
 "metadata": {
  "kernelspec": {
   "display_name": "Julia 1.0.2",
   "language": "julia",
   "name": "julia-1.0"
  },
  "language_info": {
   "file_extension": ".jl",
   "mimetype": "application/julia",
   "name": "julia",
   "version": "1.0.2"
  }
 },
 "nbformat": 4,
 "nbformat_minor": 2
}
