{
 "cells": [
  {
   "cell_type": "code",
   "execution_count": 21,
   "metadata": {},
   "outputs": [],
   "source": [
    "include(\"../lib/Lib.jl\")\n",
    "include(\"../lib/DeepSpace.jl\")\n",
    "\n",
    "using DataFrames, DataFramesMeta\n",
    "using CSV\n",
    "using Statistics\n",
    "using ScikitLearn\n",
    "using Main"
   ]
  },
  {
   "cell_type": "code",
   "execution_count": 22,
   "metadata": {},
   "outputs": [
    {
     "name": "stderr",
     "output_type": "stream",
     "text": [
      "WARNING: redefining constant LinearRegression\n",
      "WARNING: redefining constant ElasticNet\n"
     ]
    },
    {
     "data": {
      "text/plain": [
       "PyObject <class 'sklearn.linear_model.coordinate_descent.ElasticNet'>"
      ]
     },
     "execution_count": 22,
     "metadata": {},
     "output_type": "execute_result"
    }
   ],
   "source": [
    "@sk_import linear_model: LinearRegression\n",
    "@sk_import linear_model: ElasticNet"
   ]
  },
  {
   "cell_type": "code",
   "execution_count": 23,
   "metadata": {},
   "outputs": [
    {
     "data": {
      "text/plain": [
       ":totalPoints"
      ]
     },
     "execution_count": 23,
     "metadata": {},
     "output_type": "execute_result"
    }
   ],
   "source": [
    "KEY = \"2019week0\"\n",
    "YEAR = \"2019\"\n",
    "COLUMN = :totalPoints"
   ]
  },
  {
   "cell_type": "code",
   "execution_count": 24,
   "metadata": {},
   "outputs": [
    {
     "data": {
      "text/plain": [
       "([\"adjustPoints\", \"autoPoints\", \"bay1\", \"bay2\", \"bay3\", \"bay4\", \"bay5\", \"bay6\", \"bay7\", \"bay8\"  …  \"techFoulCount\", \"teleopPoints\", \"topLeftRocketFar\", \"topLeftRocketNear\", \"topRightRocketFar\", \"topRightRocketNear\", \"totalPoints\", \"key\", \"level\", \"event\"], 58×54 DataFrame. Omitted printing of 50 columns\n",
       "│ Row │ adjustPoints │ autoPoints │ bay1          │ bay2          │\n",
       "│     │ \u001b[90mInt64⍰\u001b[39m       │ \u001b[90mInt64⍰\u001b[39m     │ \u001b[90mString⍰\u001b[39m       │ \u001b[90mString⍰\u001b[39m       │\n",
       "├─────┼──────────────┼────────────┼───────────────┼───────────────┤\n",
       "│ 1   │ 0            │ 9          │ Panel         │ Panel         │\n",
       "│ 2   │ 0            │ 12         │ Panel         │ PanelAndCargo │\n",
       "│ 3   │ 0            │ 12         │ PanelAndCargo │ PanelAndCargo │\n",
       "│ 4   │ 0            │ 12         │ PanelAndCargo │ PanelAndCargo │\n",
       "│ 5   │ 1            │ 0          │ Panel         │ Panel         │\n",
       "│ 6   │ 0            │ 0          │ Panel         │ Panel         │\n",
       "│ 7   │ 1            │ 0          │ Panel         │ Panel         │\n",
       "│ 8   │ 0            │ 0          │ Panel         │ Panel         │\n",
       "│ 9   │ 0            │ 12         │ Panel         │ Panel         │\n",
       "│ 10  │ 0            │ 9          │ Panel         │ Panel         │\n",
       "⋮\n",
       "│ 48  │ 0            │ 9          │ Panel         │ Panel         │\n",
       "│ 49  │ 0            │ 3          │ Panel         │ Panel         │\n",
       "│ 50  │ 0            │ 9          │ Panel         │ Panel         │\n",
       "│ 51  │ 0            │ 6          │ PanelAndCargo │ PanelAndCargo │\n",
       "│ 52  │ 0            │ 12         │ PanelAndCargo │ PanelAndCargo │\n",
       "│ 53  │ 0            │ 6          │ PanelAndCargo │ PanelAndCargo │\n",
       "│ 54  │ 0            │ 12         │ PanelAndCargo │ PanelAndCargo │\n",
       "│ 55  │ 0            │ 12         │ PanelAndCargo │ PanelAndCargo │\n",
       "│ 56  │ 0            │ 12         │ Panel         │ PanelAndCargo │\n",
       "│ 57  │ 0            │ 12         │ PanelAndCargo │ PanelAndCargo │\n",
       "│ 58  │ 0            │ 15         │ Panel         │ Panel         │, 58×6 DataFrame. Omitted printing of 1 columns\n",
       "│ Row │ team1   │ team2   │ team3   │ key                  │ level   │\n",
       "│     │ \u001b[90mString⍰\u001b[39m │ \u001b[90mString⍰\u001b[39m │ \u001b[90mString⍰\u001b[39m │ \u001b[90mString⍰\u001b[39m              │ \u001b[90mString⍰\u001b[39m │\n",
       "├─────┼─────────┼─────────┼─────────┼──────────────────────┼─────────┤\n",
       "│ 1   │ frc1153 │ frc3236 │ frc246  │ 2019week0_f1m1_red   │ f       │\n",
       "│ 2   │ frc5687 │ frc58   │ frc1517 │ 2019week0_f1m1_blue  │ f       │\n",
       "│ 3   │ frc1153 │ frc3236 │ frc246  │ 2019week0_f1m2_red   │ f       │\n",
       "│ 4   │ frc5687 │ frc58   │ frc1517 │ 2019week0_f1m2_blue  │ f       │\n",
       "│ 5   │ frc1153 │ frc3236 │ frc246  │ 2019week0_qf1m1_red  │ qf      │\n",
       "│ 6   │ frc9998 │ frc9999 │ frc9997 │ 2019week0_qf1m1_blue │ qf      │\n",
       "│ 7   │ frc1153 │ frc3236 │ frc246  │ 2019week0_qf1m2_red  │ qf      │\n",
       "│ 8   │ frc9998 │ frc9999 │ frc9997 │ 2019week0_qf1m2_blue │ qf      │\n",
       "│ 9   │ frc1729 │ frc1073 │ frc501  │ 2019week0_qf2m1_red  │ qf      │\n",
       "│ 10  │ frc1721 │ frc7314 │ frc2342 │ 2019week0_qf2m1_blue │ qf      │\n",
       "⋮\n",
       "│ 48  │ frc5813 │ frc1721 │ frc1729 │ 2019week0_qm8_blue   │ qm      │\n",
       "│ 49  │ frc3986 │ frc4905 │ frc246  │ 2019week0_qm9_red    │ qm      │\n",
       "│ 50  │ frc1517 │ frc58   │ frc3323 │ 2019week0_qm9_blue   │ qm      │\n",
       "│ 51  │ frc1153 │ frc3236 │ frc246  │ 2019week0_sf1m1_red  │ sf      │\n",
       "│ 52  │ frc1729 │ frc1073 │ frc501  │ 2019week0_sf1m1_blue │ sf      │\n",
       "│ 53  │ frc1153 │ frc3236 │ frc246  │ 2019week0_sf1m2_red  │ sf      │\n",
       "│ 54  │ frc1729 │ frc1073 │ frc501  │ 2019week0_sf1m2_blue │ sf      │\n",
       "│ 55  │ frc5687 │ frc58   │ frc1517 │ 2019week0_sf2m1_red  │ sf      │\n",
       "│ 56  │ frc509  │ frc6153 │ frc3323 │ 2019week0_sf2m1_blue │ sf      │\n",
       "│ 57  │ frc5687 │ frc58   │ frc1517 │ 2019week0_sf2m2_red  │ sf      │\n",
       "│ 58  │ frc509  │ frc6153 │ frc3323 │ 2019week0_sf2m2_blue │ sf      │)"
      ]
     },
     "execution_count": 24,
     "metadata": {},
     "output_type": "execute_result"
    }
   ],
   "source": [
    "(headers, scores, teams) = Lib.read_stacked(KEY, YEAR)"
   ]
  },
  {
   "cell_type": "code",
   "execution_count": 25,
   "metadata": {},
   "outputs": [
    {
     "data": {
      "text/plain": [
       "26-element Array{Float64,1}:\n",
       "  9.0\n",
       "  3.0\n",
       " 33.0\n",
       " 28.0\n",
       " 24.0\n",
       " 24.0\n",
       " 31.0\n",
       " 34.0\n",
       " 43.0\n",
       " 20.0\n",
       " 12.0\n",
       " 23.0\n",
       " 15.0\n",
       " 23.0\n",
       "  7.0\n",
       " 31.0\n",
       " 21.0\n",
       "  9.0\n",
       " 26.0\n",
       " 47.0\n",
       " 21.0\n",
       " 15.0\n",
       " 27.0\n",
       " 25.0\n",
       " 11.0\n",
       " 18.0"
      ]
     },
     "execution_count": 25,
     "metadata": {},
     "output_type": "execute_result"
    }
   ],
   "source": [
    "scores_train = @linq scores |> where(:level .== \"qm\")\n",
    "teams_train = @linq teams |> where(:level .== \"qm\")\n",
    "\n",
    "scores_test = @linq scores |> where(:level .!= \"qm\")\n",
    "teams_test = @linq teams |> where(:level .!= \"qm\")\n",
    "\n",
    "(ß, teamnums, teamindex) = Lib.opr_ß(scores_train, teams_train, shortevent=true)\n",
    "y = convert.(Float64, coalesce(scores_train[COLUMN], -1.0))"
   ]
  },
  {
   "cell_type": "code",
   "execution_count": 26,
   "metadata": {},
   "outputs": [
    {
     "data": {
      "text/plain": [
       "PyObject LinearRegression(copy_X=True, fit_intercept=False, n_jobs=None,\n",
       "         normalize=False)"
      ]
     },
     "execution_count": 26,
     "metadata": {},
     "output_type": "execute_result"
    }
   ],
   "source": [
    "model1 = ScikitLearn.fit!(LinearRegression(fit_intercept=false), ß, y)"
   ]
  },
  {
   "cell_type": "code",
   "execution_count": 27,
   "metadata": {},
   "outputs": [
    {
     "data": {
      "text/html": [
       "<table class=\"data-frame\"><thead><tr><th></th><th>team</th><th>rating</th></tr><tr><th></th><th>Any</th><th>Any</th></tr></thead><tbody><p>22 rows × 2 columns</p><tr><th>1</th><td>frc1073</td><td>-8.57041</td></tr><tr><th>2</th><td>frc1153</td><td>15.3282</td></tr><tr><th>3</th><td>frc1517</td><td>12.2336</td></tr><tr><th>4</th><td>frc1721</td><td>-0.974181</td></tr><tr><th>5</th><td>frc1729</td><td>19.4517</td></tr><tr><th>6</th><td>frc190</td><td>-4.08008</td></tr><tr><th>7</th><td>frc2084</td><td>7.73346</td></tr><tr><th>8</th><td>frc2342</td><td>14.5362</td></tr><tr><th>9</th><td>frc246</td><td>10.5781</td></tr><tr><th>10</th><td>frc3236</td><td>24.3668</td></tr><tr><th>11</th><td>frc3323</td><td>-9.19972</td></tr><tr><th>12</th><td>frc3467</td><td>-0.898359</td></tr><tr><th>13</th><td>frc3986</td><td>-7.13968</td></tr><tr><th>14</th><td>frc4905</td><td>1.60008</td></tr><tr><th>15</th><td>frc501</td><td>18.0895</td></tr><tr><th>16</th><td>frc509</td><td>-4.55366</td></tr><tr><th>17</th><td>frc5687</td><td>9.69797</td></tr><tr><th>18</th><td>frc58</td><td>18.5095</td></tr><tr><th>19</th><td>frc5813</td><td>6.02296</td></tr><tr><th>20</th><td>frc6153</td><td>10.3814</td></tr><tr><th>21</th><td>frc7314</td><td>8.37721</td></tr><tr><th>22</th><td>frc811</td><td>12.598</td></tr></tbody></table>"
      ],
      "text/latex": [
       "\\begin{tabular}{r|cc}\n",
       "\t& team & rating\\\\\n",
       "\t\\hline\n",
       "\t& Any & Any\\\\\n",
       "\t\\hline\n",
       "\t1 & frc1073 & -8.57041 \\\\\n",
       "\t2 & frc1153 & 15.3282 \\\\\n",
       "\t3 & frc1517 & 12.2336 \\\\\n",
       "\t4 & frc1721 & -0.974181 \\\\\n",
       "\t5 & frc1729 & 19.4517 \\\\\n",
       "\t6 & frc190 & -4.08008 \\\\\n",
       "\t7 & frc2084 & 7.73346 \\\\\n",
       "\t8 & frc2342 & 14.5362 \\\\\n",
       "\t9 & frc246 & 10.5781 \\\\\n",
       "\t10 & frc3236 & 24.3668 \\\\\n",
       "\t11 & frc3323 & -9.19972 \\\\\n",
       "\t12 & frc3467 & -0.898359 \\\\\n",
       "\t13 & frc3986 & -7.13968 \\\\\n",
       "\t14 & frc4905 & 1.60008 \\\\\n",
       "\t15 & frc501 & 18.0895 \\\\\n",
       "\t16 & frc509 & -4.55366 \\\\\n",
       "\t17 & frc5687 & 9.69797 \\\\\n",
       "\t18 & frc58 & 18.5095 \\\\\n",
       "\t19 & frc5813 & 6.02296 \\\\\n",
       "\t20 & frc6153 & 10.3814 \\\\\n",
       "\t21 & frc7314 & 8.37721 \\\\\n",
       "\t22 & frc811 & 12.598 \\\\\n",
       "\\end{tabular}\n"
      ],
      "text/plain": [
       "22×2 DataFrame\n",
       "│ Row │ team    │ rating    │\n",
       "│     │ \u001b[90mAny\u001b[39m     │ \u001b[90mAny\u001b[39m       │\n",
       "├─────┼─────────┼───────────┤\n",
       "│ 1   │ frc1073 │ -8.57041  │\n",
       "│ 2   │ frc1153 │ 15.3282   │\n",
       "│ 3   │ frc1517 │ 12.2336   │\n",
       "│ 4   │ frc1721 │ -0.974181 │\n",
       "│ 5   │ frc1729 │ 19.4517   │\n",
       "│ 6   │ frc190  │ -4.08008  │\n",
       "│ 7   │ frc2084 │ 7.73346   │\n",
       "│ 8   │ frc2342 │ 14.5362   │\n",
       "│ 9   │ frc246  │ 10.5781   │\n",
       "│ 10  │ frc3236 │ 24.3668   │\n",
       "│ 11  │ frc3323 │ -9.19972  │\n",
       "│ 12  │ frc3467 │ -0.898359 │\n",
       "│ 13  │ frc3986 │ -7.13968  │\n",
       "│ 14  │ frc4905 │ 1.60008   │\n",
       "│ 15  │ frc501  │ 18.0895   │\n",
       "│ 16  │ frc509  │ -4.55366  │\n",
       "│ 17  │ frc5687 │ 9.69797   │\n",
       "│ 18  │ frc58   │ 18.5095   │\n",
       "│ 19  │ frc5813 │ 6.02296   │\n",
       "│ 20  │ frc6153 │ 10.3814   │\n",
       "│ 21  │ frc7314 │ 8.37721   │\n",
       "│ 22  │ frc811  │ 12.598    │"
      ]
     },
     "execution_count": 27,
     "metadata": {},
     "output_type": "execute_result"
    }
   ],
   "source": [
    "oprs = DataFrame(hcat(teamnums, model1[:coef_]), [:team, :rating])\n",
    "#sort(oprs, (:rating), rev = true) |> print"
   ]
  },
  {
   "cell_type": "code",
   "execution_count": 28,
   "metadata": {},
   "outputs": [
    {
     "name": "stdout",
     "output_type": "stream",
     "text": [
      "22×2 DataFrame\n",
      "│ Row │ team    │ rating   │\n",
      "│     │ \u001b[90mAny\u001b[39m     │ \u001b[90mAny\u001b[39m      │\n",
      "├─────┼─────────┼──────────┤\n",
      "│ 1   │ frc3236 │ 17.1412  │\n",
      "│ 2   │ frc1729 │ 12.2261  │\n",
      "│ 3   │ frc58   │ 11.2839  │\n",
      "│ 4   │ frc501  │ 10.8639  │\n",
      "│ 5   │ frc1153 │ 8.10263  │\n",
      "│ 6   │ frc2342 │ 7.3106   │\n",
      "│ 7   │ frc811  │ 5.37237  │\n",
      "│ 8   │ frc1517 │ 5.00804  │\n",
      "│ 9   │ frc246  │ 3.35255  │\n",
      "│ 10  │ frc6153 │ 3.15578  │\n",
      "│ 11  │ frc5687 │ 2.47237  │\n",
      "│ 12  │ frc7314 │ 1.15161  │\n",
      "│ 13  │ frc2084 │ 0.507864 │\n",
      "│ 14  │ frc5813 │ -1.20264 │\n",
      "│ 15  │ frc4905 │ -5.62552 │\n",
      "│ 16  │ frc3467 │ -8.12396 │\n",
      "│ 17  │ frc1721 │ -8.19978 │\n",
      "│ 18  │ frc190  │ -11.3057 │\n",
      "│ 19  │ frc509  │ -11.7793 │\n",
      "│ 20  │ frc3986 │ -14.3653 │\n",
      "│ 21  │ frc1073 │ -15.796  │\n",
      "│ 22  │ frc3323 │ -16.4253 │"
     ]
    }
   ],
   "source": [
    "model2 = ScikitLearn.fit!(ElasticNet(alpha=0, l1_ratio=0, fit_intercept=true), ß, y)\n",
    "oprs2 = DataFrame(hcat(teamnums, model2[:coef_]), [:team, :rating])\n",
    "sort(oprs2, (:rating), rev = true) |> print"
   ]
  },
  {
   "cell_type": "code",
   "execution_count": 20,
   "metadata": {},
   "outputs": [
    {
     "ename": "KeyError",
     "evalue": "KeyError: key \"frc9998\" not found",
     "output_type": "error",
     "traceback": [
      "KeyError: key \"frc9998\" not found",
      "",
      "Stacktrace:",
      " [1] getindex(::Dict{String,Int64}, ::String) at ./dict.jl:478",
      " [2] opr_ß(::DataFrame, ::DataFrame, ::Array{Union{Missing, String},1}, ::Bool) at ./In[11]:16",
      " [3] opr_ß(::DataFrame, ::DataFrame, ::Array{Union{Missing, String},1}) at ./In[11]:2",
      " [4] top-level scope at In[20]:1"
     ]
    }
   ],
   "source": [
    "(ßtest, _, _) = Lib.opr_ß(scores_test, teams_test, teamnums)"
   ]
  },
  {
   "cell_type": "code",
   "execution_count": 130,
   "metadata": {},
   "outputs": [
    {
     "data": {
      "text/plain": [
       "200-element Array{Float64,1}:\n",
       " 356.4634845230824 \n",
       " 469.8945103790024 \n",
       " 356.4634845230824 \n",
       " 469.8945103790024 \n",
       " 478.4038875502631 \n",
       " 396.2738478142097 \n",
       " 445.924253341976  \n",
       " 396.2738478142097 \n",
       " 445.924253341976  \n",
       " 396.2738478142097 \n",
       " 356.4634845230824 \n",
       " 413.23055699752   \n",
       " 356.4634845230824 \n",
       "   ⋮               \n",
       " 466.47721702579304\n",
       " 449.008953579127  \n",
       " 466.47721702579304\n",
       " 449.008953579127  \n",
       " 466.66331521952486\n",
       " 386.894678606519  \n",
       " 466.66331521952486\n",
       " 386.894678606519  \n",
       " 434.2987333174266 \n",
       " 466.47721702579304\n",
       " 488.1537770916406 \n",
       " 466.47721702579304"
      ]
     },
     "execution_count": 130,
     "metadata": {},
     "output_type": "execute_result"
    }
   ],
   "source": [
    "test_y = convert.(Float64, coalesce(scores_test[COLUMN], -1.0))\n",
    "test_yhat_m1 = ScikitLearn.predict(model1, ßtest)\n",
    "test_yhat_m2 = ScikitLearn.predict(model2, ßtest)"
   ]
  },
  {
   "cell_type": "code",
   "execution_count": 131,
   "metadata": {},
   "outputs": [
    {
     "data": {
      "text/html": [
       "<table class=\"data-frame\"><thead><tr><th></th><th>key</th><th>y</th><th>LinReg</th><th>RidgeReg</th></tr><tr><th></th><th>Any</th><th>Any</th><th>Any</th><th>Any</th></tr></thead><tbody><p>200 rows × 4 columns</p><tr><th>1</th><td>2018arc_f1m1_red</td><td>356.0</td><td>356.463</td><td>356.463</td></tr><tr><th>2</th><td>2018arc_f1m1_blue</td><td>361.0</td><td>469.895</td><td>469.895</td></tr><tr><th>3</th><td>2018arc_f1m2_red</td><td>356.0</td><td>356.463</td><td>356.463</td></tr><tr><th>4</th><td>2018arc_f1m2_blue</td><td>397.0</td><td>469.895</td><td>469.895</td></tr><tr><th>5</th><td>2018arc_qf1m1_red</td><td>270.0</td><td>478.404</td><td>478.404</td></tr><tr><th>6</th><td>2018arc_qf1m1_blue</td><td>317.0</td><td>396.274</td><td>396.274</td></tr><tr><th>7</th><td>2018arc_qf1m2_red</td><td>455.0</td><td>445.924</td><td>445.924</td></tr><tr><th>8</th><td>2018arc_qf1m2_blue</td><td>303.0</td><td>396.274</td><td>396.274</td></tr><tr><th>9</th><td>2018arc_qf1m3_red</td><td>443.0</td><td>445.924</td><td>445.924</td></tr><tr><th>10</th><td>2018arc_qf1m3_blue</td><td>272.0</td><td>396.274</td><td>396.274</td></tr><tr><th>11</th><td>2018arc_qf2m1_red</td><td>440.0</td><td>356.463</td><td>356.463</td></tr><tr><th>12</th><td>2018arc_qf2m1_blue</td><td>306.0</td><td>413.231</td><td>413.231</td></tr><tr><th>13</th><td>2018arc_qf2m2_red</td><td>387.0</td><td>356.463</td><td>356.463</td></tr><tr><th>14</th><td>2018arc_qf2m2_blue</td><td>365.0</td><td>363.181</td><td>363.181</td></tr><tr><th>15</th><td>2018arc_qf3m1_red</td><td>452.0</td><td>487.37</td><td>487.37</td></tr><tr><th>16</th><td>2018arc_qf3m1_blue</td><td>213.0</td><td>416.998</td><td>416.998</td></tr><tr><th>17</th><td>2018arc_qf3m2_red</td><td>393.0</td><td>487.425</td><td>487.425</td></tr><tr><th>18</th><td>2018arc_qf3m2_blue</td><td>297.0</td><td>416.998</td><td>416.998</td></tr><tr><th>19</th><td>2018arc_qf4m1_red</td><td>311.0</td><td>469.895</td><td>469.895</td></tr><tr><th>20</th><td>2018arc_qf4m1_blue</td><td>460.0</td><td>372.021</td><td>372.021</td></tr><tr><th>21</th><td>2018arc_qf4m2_red</td><td>368.0</td><td>469.895</td><td>469.895</td></tr><tr><th>22</th><td>2018arc_qf4m2_blue</td><td>352.0</td><td>372.021</td><td>372.021</td></tr><tr><th>23</th><td>2018arc_qf4m3_red</td><td>397.0</td><td>469.895</td><td>469.895</td></tr><tr><th>24</th><td>2018arc_qf4m3_blue</td><td>255.0</td><td>372.021</td><td>372.021</td></tr><tr><th>25</th><td>2018arc_sf1m1_red</td><td>313.0</td><td>445.924</td><td>445.924</td></tr><tr><th>26</th><td>2018arc_sf1m1_blue</td><td>527.0</td><td>356.463</td><td>356.463</td></tr><tr><th>27</th><td>2018arc_sf1m2_red</td><td>348.0</td><td>445.924</td><td>445.924</td></tr><tr><th>28</th><td>2018arc_sf1m2_blue</td><td>405.0</td><td>356.463</td><td>356.463</td></tr><tr><th>29</th><td>2018arc_sf2m1_red</td><td>276.0</td><td>487.37</td><td>487.37</td></tr><tr><th>30</th><td>2018arc_sf2m1_blue</td><td>438.0</td><td>469.895</td><td>469.895</td></tr><tr><th>&vellip;</th><td>&vellip;</td><td>&vellip;</td><td>&vellip;</td><td>&vellip;</td></tr></tbody></table>"
      ],
      "text/latex": [
       "\\begin{tabular}{r|cccc}\n",
       "\t& key & y & LinReg & RidgeReg\\\\\n",
       "\t\\hline\n",
       "\t& Any & Any & Any & Any\\\\\n",
       "\t\\hline\n",
       "\t1 & 2018arc\\_f1m1\\_red & 356.0 & 356.463 & 356.463 \\\\\n",
       "\t2 & 2018arc\\_f1m1\\_blue & 361.0 & 469.895 & 469.895 \\\\\n",
       "\t3 & 2018arc\\_f1m2\\_red & 356.0 & 356.463 & 356.463 \\\\\n",
       "\t4 & 2018arc\\_f1m2\\_blue & 397.0 & 469.895 & 469.895 \\\\\n",
       "\t5 & 2018arc\\_qf1m1\\_red & 270.0 & 478.404 & 478.404 \\\\\n",
       "\t6 & 2018arc\\_qf1m1\\_blue & 317.0 & 396.274 & 396.274 \\\\\n",
       "\t7 & 2018arc\\_qf1m2\\_red & 455.0 & 445.924 & 445.924 \\\\\n",
       "\t8 & 2018arc\\_qf1m2\\_blue & 303.0 & 396.274 & 396.274 \\\\\n",
       "\t9 & 2018arc\\_qf1m3\\_red & 443.0 & 445.924 & 445.924 \\\\\n",
       "\t10 & 2018arc\\_qf1m3\\_blue & 272.0 & 396.274 & 396.274 \\\\\n",
       "\t11 & 2018arc\\_qf2m1\\_red & 440.0 & 356.463 & 356.463 \\\\\n",
       "\t12 & 2018arc\\_qf2m1\\_blue & 306.0 & 413.231 & 413.231 \\\\\n",
       "\t13 & 2018arc\\_qf2m2\\_red & 387.0 & 356.463 & 356.463 \\\\\n",
       "\t14 & 2018arc\\_qf2m2\\_blue & 365.0 & 363.181 & 363.181 \\\\\n",
       "\t15 & 2018arc\\_qf3m1\\_red & 452.0 & 487.37 & 487.37 \\\\\n",
       "\t16 & 2018arc\\_qf3m1\\_blue & 213.0 & 416.998 & 416.998 \\\\\n",
       "\t17 & 2018arc\\_qf3m2\\_red & 393.0 & 487.425 & 487.425 \\\\\n",
       "\t18 & 2018arc\\_qf3m2\\_blue & 297.0 & 416.998 & 416.998 \\\\\n",
       "\t19 & 2018arc\\_qf4m1\\_red & 311.0 & 469.895 & 469.895 \\\\\n",
       "\t20 & 2018arc\\_qf4m1\\_blue & 460.0 & 372.021 & 372.021 \\\\\n",
       "\t21 & 2018arc\\_qf4m2\\_red & 368.0 & 469.895 & 469.895 \\\\\n",
       "\t22 & 2018arc\\_qf4m2\\_blue & 352.0 & 372.021 & 372.021 \\\\\n",
       "\t23 & 2018arc\\_qf4m3\\_red & 397.0 & 469.895 & 469.895 \\\\\n",
       "\t24 & 2018arc\\_qf4m3\\_blue & 255.0 & 372.021 & 372.021 \\\\\n",
       "\t25 & 2018arc\\_sf1m1\\_red & 313.0 & 445.924 & 445.924 \\\\\n",
       "\t26 & 2018arc\\_sf1m1\\_blue & 527.0 & 356.463 & 356.463 \\\\\n",
       "\t27 & 2018arc\\_sf1m2\\_red & 348.0 & 445.924 & 445.924 \\\\\n",
       "\t28 & 2018arc\\_sf1m2\\_blue & 405.0 & 356.463 & 356.463 \\\\\n",
       "\t29 & 2018arc\\_sf2m1\\_red & 276.0 & 487.37 & 487.37 \\\\\n",
       "\t30 & 2018arc\\_sf2m1\\_blue & 438.0 & 469.895 & 469.895 \\\\\n",
       "\t$\\dots$ & $\\dots$ & $\\dots$ & $\\dots$ & $\\dots$ \\\\\n",
       "\\end{tabular}\n"
      ],
      "text/plain": [
       "200×4 DataFrame\n",
       "│ Row │ key                │ y     │ LinReg  │ RidgeReg │\n",
       "│     │ \u001b[90mAny\u001b[39m                │ \u001b[90mAny\u001b[39m   │ \u001b[90mAny\u001b[39m     │ \u001b[90mAny\u001b[39m      │\n",
       "├─────┼────────────────────┼───────┼─────────┼──────────┤\n",
       "│ 1   │ 2018arc_f1m1_red   │ 356.0 │ 356.463 │ 356.463  │\n",
       "│ 2   │ 2018arc_f1m1_blue  │ 361.0 │ 469.895 │ 469.895  │\n",
       "│ 3   │ 2018arc_f1m2_red   │ 356.0 │ 356.463 │ 356.463  │\n",
       "│ 4   │ 2018arc_f1m2_blue  │ 397.0 │ 469.895 │ 469.895  │\n",
       "│ 5   │ 2018arc_qf1m1_red  │ 270.0 │ 478.404 │ 478.404  │\n",
       "│ 6   │ 2018arc_qf1m1_blue │ 317.0 │ 396.274 │ 396.274  │\n",
       "│ 7   │ 2018arc_qf1m2_red  │ 455.0 │ 445.924 │ 445.924  │\n",
       "│ 8   │ 2018arc_qf1m2_blue │ 303.0 │ 396.274 │ 396.274  │\n",
       "│ 9   │ 2018arc_qf1m3_red  │ 443.0 │ 445.924 │ 445.924  │\n",
       "│ 10  │ 2018arc_qf1m3_blue │ 272.0 │ 396.274 │ 396.274  │\n",
       "⋮\n",
       "│ 190 │ 2018tes_qf4m1_blue │ 358.0 │ 449.009 │ 449.009  │\n",
       "│ 191 │ 2018tes_qf4m2_red  │ 429.0 │ 466.477 │ 466.477  │\n",
       "│ 192 │ 2018tes_qf4m2_blue │ 337.0 │ 449.009 │ 449.009  │\n",
       "│ 193 │ 2018tes_sf1m1_red  │ 425.0 │ 466.663 │ 466.663  │\n",
       "│ 194 │ 2018tes_sf1m1_blue │ 336.0 │ 386.895 │ 386.895  │\n",
       "│ 195 │ 2018tes_sf1m2_red  │ 520.0 │ 466.663 │ 466.663  │\n",
       "│ 196 │ 2018tes_sf1m2_blue │ 112.0 │ 386.895 │ 386.895  │\n",
       "│ 197 │ 2018tes_sf2m1_red  │ 377.0 │ 434.299 │ 434.299  │\n",
       "│ 198 │ 2018tes_sf2m1_blue │ 394.0 │ 466.477 │ 466.477  │\n",
       "│ 199 │ 2018tes_sf2m2_red  │ 275.0 │ 488.154 │ 488.154  │\n",
       "│ 200 │ 2018tes_sf2m2_blue │ 461.0 │ 466.477 │ 466.477  │"
      ]
     },
     "execution_count": 131,
     "metadata": {},
     "output_type": "execute_result"
    }
   ],
   "source": [
    "predictions_table = DataFrame(hcat(scores_test.key, test_y, test_yhat_m1, test_yhat_m2), [:key, :y, :LinReg, :RidgeReg])"
   ]
  },
  {
   "cell_type": "code",
   "execution_count": 132,
   "metadata": {},
   "outputs": [
    {
     "data": {
      "text/plain": [
       "128.15965838569656"
      ]
     },
     "execution_count": 132,
     "metadata": {},
     "output_type": "execute_result"
    }
   ],
   "source": [
    "rmse_1 = mean((predictions_table.LinReg-predictions_table.y).^2) |> sqrt"
   ]
  },
  {
   "cell_type": "code",
   "execution_count": 133,
   "metadata": {},
   "outputs": [
    {
     "data": {
      "text/plain": [
       "128.15965838569633"
      ]
     },
     "execution_count": 133,
     "metadata": {},
     "output_type": "execute_result"
    }
   ],
   "source": [
    "rmse_2 = mean((predictions_table.RidgeReg-predictions_table.y).^2) |> sqrt"
   ]
  },
  {
   "cell_type": "code",
   "execution_count": 1,
   "metadata": {},
   "outputs": [
    {
     "ename": "UndefVarError",
     "evalue": "UndefVarError: ß not defined",
     "output_type": "error",
     "traceback": [
      "UndefVarError: ß not defined",
      "",
      "Stacktrace:",
      " [1] top-level scope at In[1]:1"
     ]
    }
   ],
   "source": []
  },
  {
   "cell_type": "code",
   "execution_count": null,
   "metadata": {},
   "outputs": [],
   "source": []
  }
 ],
 "metadata": {
  "kernelspec": {
   "display_name": "Julia 1.0.2",
   "language": "julia",
   "name": "julia-1.0"
  },
  "language_info": {
   "file_extension": ".jl",
   "mimetype": "application/julia",
   "name": "julia",
   "version": "1.0.2"
  }
 },
 "nbformat": 4,
 "nbformat_minor": 2
}
