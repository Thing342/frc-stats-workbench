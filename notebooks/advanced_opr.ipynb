{
 "cells": [
  {
   "cell_type": "code",
   "execution_count": 2,
   "metadata": {},
   "outputs": [],
   "source": [
    "using DataFrames\n",
    "using CSV\n",
    "using Statistics\n",
    "using ScikitLearn"
   ]
  },
  {
   "cell_type": "code",
   "execution_count": 26,
   "metadata": {},
   "outputs": [
    {
     "name": "stderr",
     "output_type": "stream",
     "text": [
      "WARNING: redefining constant LinearRegression\n"
     ]
    },
    {
     "data": {
      "text/plain": [
       "PyObject <class 'sklearn.linear_model.coordinate_descent.ElasticNet'>"
      ]
     },
     "execution_count": 26,
     "metadata": {},
     "output_type": "execute_result"
    }
   ],
   "source": [
    "@sk_import linear_model: LinearRegression\n",
    "@sk_import linear_model: ElasticNet"
   ]
  },
  {
   "cell_type": "code",
   "execution_count": 12,
   "metadata": {},
   "outputs": [
    {
     "data": {
      "text/plain": [
       ":totalPoints"
      ]
     },
     "execution_count": 12,
     "metadata": {},
     "output_type": "execute_result"
    }
   ],
   "source": [
    "KEY = \"2018chs\"\n",
    "COLUMN = :totalPoints"
   ]
  },
  {
   "cell_type": "code",
   "execution_count": 13,
   "metadata": {},
   "outputs": [
    {
     "data": {
      "text/plain": [
       "1510-element Array{Float64,1}:\n",
       " 436.0\n",
       " 221.0\n",
       " 423.0\n",
       " 202.0\n",
       " 335.0\n",
       " 342.0\n",
       " 275.0\n",
       " 411.0\n",
       " 466.0\n",
       " 305.0\n",
       " 371.0\n",
       " 218.0\n",
       " 173.0\n",
       "   ⋮  \n",
       " 194.0\n",
       " 246.0\n",
       " 407.0\n",
       " 260.0\n",
       " 307.0\n",
       " 315.0\n",
       " 276.0\n",
       " 361.0\n",
       " 381.0\n",
       " 218.0\n",
       " 333.0\n",
       " 258.0"
      ]
     },
     "execution_count": 13,
     "metadata": {},
     "output_type": "execute_result"
    }
   ],
   "source": [
    "headers = CSV.read(\"../data/2018_headers.csv\") |> (h -> String.(names(h))) |> (a -> push!(a, \"key\"))\n",
    "scores = CSV.read(\"../data/matches_$KEY.csv\", header=headers)\n",
    "teams = CSV.read(\"../data/matches_teams_$KEY.csv\", header=[\"team1\",\"team2\",\"team3\",\"key\"])\n",
    "\n",
    "teamnums = teams.team1 |> unique |> sort\n",
    "teamindex = Dict(t => i for (i, t) in enumerate(teamnums))\n",
    "\n",
    "ß = zeros(size(scores,1), size(teamnums,1))\n",
    "for p in [:team1, :team2, :team3]\n",
    "    for i=1:size(teams,1)\n",
    "        team = teams[i,p]\n",
    "        j = teamindex[team]\n",
    "        ß[i,j] = 1.0\n",
    "    end\n",
    "end\n",
    "y = convert.(Float64, coalesce(scores[COLUMN], -1.0))"
   ]
  },
  {
   "cell_type": "code",
   "execution_count": 16,
   "metadata": {},
   "outputs": [
    {
     "data": {
      "text/plain": [
       "PyObject LinearRegression(copy_X=True, fit_intercept=False, n_jobs=None,\n",
       "         normalize=False)"
      ]
     },
     "execution_count": 16,
     "metadata": {},
     "output_type": "execute_result"
    }
   ],
   "source": [
    "model = ScikitLearn.fit!(LinearRegression(fit_intercept=false), ß, y)"
   ]
  },
  {
   "cell_type": "code",
   "execution_count": 32,
   "metadata": {},
   "outputs": [
    {
     "data": {
      "text/html": [
       "<table class=\"data-frame\"><thead><tr><th></th><th>team</th><th>rating</th></tr><tr><th></th><th>Any</th><th>Any</th></tr></thead><tbody><p>130 rows × 2 columns</p><tr><th>1</th><td>frc225</td><td>180.061</td></tr><tr><th>2</th><td>frc1629</td><td>179.407</td></tr><tr><th>3</th><td>frc1731</td><td>161.824</td></tr><tr><th>4</th><td>frc1262</td><td>151.46</td></tr><tr><th>5</th><td>frc623</td><td>145.201</td></tr><tr><th>6</th><td>frc384</td><td>144.733</td></tr><tr><th>7</th><td>frc4472</td><td>143.854</td></tr><tr><th>8</th><td>frc5945</td><td>142.947</td></tr><tr><th>9</th><td>frc5546</td><td>142.848</td></tr><tr><th>10</th><td>frc2377</td><td>142.467</td></tr><tr><th>11</th><td>frc836</td><td>137.079</td></tr><tr><th>12</th><td>frc1599</td><td>136.895</td></tr><tr><th>13</th><td>frc316</td><td>134.629</td></tr><tr><th>14</th><td>frc2363</td><td>133.855</td></tr><tr><th>15</th><td>frc1885</td><td>132.902</td></tr><tr><th>16</th><td>frc888</td><td>132.221</td></tr><tr><th>17</th><td>frc3072</td><td>131.574</td></tr><tr><th>18</th><td>frc4541</td><td>130.439</td></tr><tr><th>19</th><td>frc346</td><td>129.879</td></tr><tr><th>20</th><td>frc1418</td><td>127.978</td></tr><tr><th>21</th><td>frc612</td><td>124.089</td></tr><tr><th>22</th><td>frc2537</td><td>123.782</td></tr><tr><th>23</th><td>frc5587</td><td>122.876</td></tr><tr><th>24</th><td>frc422</td><td>122.596</td></tr><tr><th>25</th><td>frc2534</td><td>119.652</td></tr><tr><th>26</th><td>frc5338</td><td>117.983</td></tr><tr><th>27</th><td>frc4795</td><td>117.647</td></tr><tr><th>28</th><td>frc2199</td><td>117.419</td></tr><tr><th>29</th><td>frc614</td><td>117.367</td></tr><tr><th>30</th><td>frc977</td><td>117.22</td></tr><tr><th>&vellip;</th><td>&vellip;</td><td>&vellip;</td></tr></tbody></table>"
      ],
      "text/latex": [
       "\\begin{tabular}{r|cc}\n",
       "\t& team & rating\\\\\n",
       "\t\\hline\n",
       "\t& Any & Any\\\\\n",
       "\t\\hline\n",
       "\t1 & frc225 & 180.061 \\\\\n",
       "\t2 & frc1629 & 179.407 \\\\\n",
       "\t3 & frc1731 & 161.824 \\\\\n",
       "\t4 & frc1262 & 151.46 \\\\\n",
       "\t5 & frc623 & 145.201 \\\\\n",
       "\t6 & frc384 & 144.733 \\\\\n",
       "\t7 & frc4472 & 143.854 \\\\\n",
       "\t8 & frc5945 & 142.947 \\\\\n",
       "\t9 & frc5546 & 142.848 \\\\\n",
       "\t10 & frc2377 & 142.467 \\\\\n",
       "\t11 & frc836 & 137.079 \\\\\n",
       "\t12 & frc1599 & 136.895 \\\\\n",
       "\t13 & frc316 & 134.629 \\\\\n",
       "\t14 & frc2363 & 133.855 \\\\\n",
       "\t15 & frc1885 & 132.902 \\\\\n",
       "\t16 & frc888 & 132.221 \\\\\n",
       "\t17 & frc3072 & 131.574 \\\\\n",
       "\t18 & frc4541 & 130.439 \\\\\n",
       "\t19 & frc346 & 129.879 \\\\\n",
       "\t20 & frc1418 & 127.978 \\\\\n",
       "\t21 & frc612 & 124.089 \\\\\n",
       "\t22 & frc2537 & 123.782 \\\\\n",
       "\t23 & frc5587 & 122.876 \\\\\n",
       "\t24 & frc422 & 122.596 \\\\\n",
       "\t25 & frc2534 & 119.652 \\\\\n",
       "\t26 & frc5338 & 117.983 \\\\\n",
       "\t27 & frc4795 & 117.647 \\\\\n",
       "\t28 & frc2199 & 117.419 \\\\\n",
       "\t29 & frc614 & 117.367 \\\\\n",
       "\t30 & frc977 & 117.22 \\\\\n",
       "\t$\\dots$ & $\\dots$ & $\\dots$ \\\\\n",
       "\\end{tabular}\n"
      ],
      "text/plain": [
       "130×2 DataFrame\n",
       "│ Row │ team    │ rating  │\n",
       "│     │ \u001b[90mAny\u001b[39m     │ \u001b[90mAny\u001b[39m     │\n",
       "├─────┼─────────┼─────────┤\n",
       "│ 1   │ frc225  │ 180.061 │\n",
       "│ 2   │ frc1629 │ 179.407 │\n",
       "│ 3   │ frc1731 │ 161.824 │\n",
       "│ 4   │ frc1262 │ 151.46  │\n",
       "│ 5   │ frc623  │ 145.201 │\n",
       "│ 6   │ frc384  │ 144.733 │\n",
       "│ 7   │ frc4472 │ 143.854 │\n",
       "│ 8   │ frc5945 │ 142.947 │\n",
       "│ 9   │ frc5546 │ 142.848 │\n",
       "│ 10  │ frc2377 │ 142.467 │\n",
       "⋮\n",
       "│ 120 │ frc6189 │ 43.0326 │\n",
       "│ 121 │ frc1719 │ 41.8937 │\n",
       "│ 122 │ frc4464 │ 40.8737 │\n",
       "│ 123 │ frc1598 │ 36.6767 │\n",
       "│ 124 │ frc5954 │ 34.1709 │\n",
       "│ 125 │ frc4949 │ 30.2648 │\n",
       "│ 126 │ frc6893 │ 29.7068 │\n",
       "│ 127 │ frc4286 │ 24.541  │\n",
       "│ 128 │ frc617  │ 20.4372 │\n",
       "│ 129 │ frc7330 │ 19.6018 │\n",
       "│ 130 │ frc3714 │ 14.5124 │"
      ]
     },
     "execution_count": 32,
     "metadata": {},
     "output_type": "execute_result"
    }
   ],
   "source": [
    "oprs = DataFrame(hcat(teamnums, model[:coef_]), [:team, :rating])\n",
    "sort(oprs, (:rating), rev = true)"
   ]
  },
  {
   "cell_type": "code",
   "execution_count": 35,
   "metadata": {},
   "outputs": [
    {
     "data": {
      "text/html": [
       "<table class=\"data-frame\"><thead><tr><th></th><th>team</th><th>rating</th></tr><tr><th></th><th>Any</th><th>Any</th></tr></thead><tbody><p>130 rows × 2 columns</p><tr><th>1</th><td>frc1629</td><td>67.4714</td></tr><tr><th>2</th><td>frc384</td><td>59.7123</td></tr><tr><th>3</th><td>frc1731</td><td>58.9891</td></tr><tr><th>4</th><td>frc1262</td><td>58.3808</td></tr><tr><th>5</th><td>frc1885</td><td>56.545</td></tr><tr><th>6</th><td>frc5546</td><td>56.5257</td></tr><tr><th>7</th><td>frc836</td><td>55.3608</td></tr><tr><th>8</th><td>frc4472</td><td>54.5846</td></tr><tr><th>9</th><td>frc612</td><td>54.3343</td></tr><tr><th>10</th><td>frc422</td><td>53.7598</td></tr><tr><th>11</th><td>frc346</td><td>52.8851</td></tr><tr><th>12</th><td>frc614</td><td>52.219</td></tr><tr><th>13</th><td>frc623</td><td>51.3438</td></tr><tr><th>14</th><td>frc4541</td><td>50.9063</td></tr><tr><th>15</th><td>frc2363</td><td>49.9673</td></tr><tr><th>16</th><td>frc888</td><td>49.9488</td></tr><tr><th>17</th><td>frc2537</td><td>49.773</td></tr><tr><th>18</th><td>frc2377</td><td>49.1151</td></tr><tr><th>19</th><td>frc1599</td><td>49.066</td></tr><tr><th>20</th><td>frc5945</td><td>48.9919</td></tr><tr><th>21</th><td>frc401</td><td>48.856</td></tr><tr><th>22</th><td>frc5804</td><td>47.6323</td></tr><tr><th>23</th><td>frc5243</td><td>47.4683</td></tr><tr><th>24</th><td>frc122</td><td>46.8385</td></tr><tr><th>25</th><td>frc1418</td><td>46.1485</td></tr><tr><th>26</th><td>frc1610</td><td>45.7444</td></tr><tr><th>27</th><td>frc3274</td><td>45.4421</td></tr><tr><th>28</th><td>frc5724</td><td>45.2576</td></tr><tr><th>29</th><td>frc3793</td><td>45.2381</td></tr><tr><th>30</th><td>frc977</td><td>45.0945</td></tr><tr><th>&vellip;</th><td>&vellip;</td><td>&vellip;</td></tr></tbody></table>"
      ],
      "text/latex": [
       "\\begin{tabular}{r|cc}\n",
       "\t& team & rating\\\\\n",
       "\t\\hline\n",
       "\t& Any & Any\\\\\n",
       "\t\\hline\n",
       "\t1 & frc1629 & 67.4714 \\\\\n",
       "\t2 & frc384 & 59.7123 \\\\\n",
       "\t3 & frc1731 & 58.9891 \\\\\n",
       "\t4 & frc1262 & 58.3808 \\\\\n",
       "\t5 & frc1885 & 56.545 \\\\\n",
       "\t6 & frc5546 & 56.5257 \\\\\n",
       "\t7 & frc836 & 55.3608 \\\\\n",
       "\t8 & frc4472 & 54.5846 \\\\\n",
       "\t9 & frc612 & 54.3343 \\\\\n",
       "\t10 & frc422 & 53.7598 \\\\\n",
       "\t11 & frc346 & 52.8851 \\\\\n",
       "\t12 & frc614 & 52.219 \\\\\n",
       "\t13 & frc623 & 51.3438 \\\\\n",
       "\t14 & frc4541 & 50.9063 \\\\\n",
       "\t15 & frc2363 & 49.9673 \\\\\n",
       "\t16 & frc888 & 49.9488 \\\\\n",
       "\t17 & frc2537 & 49.773 \\\\\n",
       "\t18 & frc2377 & 49.1151 \\\\\n",
       "\t19 & frc1599 & 49.066 \\\\\n",
       "\t20 & frc5945 & 48.9919 \\\\\n",
       "\t21 & frc401 & 48.856 \\\\\n",
       "\t22 & frc5804 & 47.6323 \\\\\n",
       "\t23 & frc5243 & 47.4683 \\\\\n",
       "\t24 & frc122 & 46.8385 \\\\\n",
       "\t25 & frc1418 & 46.1485 \\\\\n",
       "\t26 & frc1610 & 45.7444 \\\\\n",
       "\t27 & frc3274 & 45.4421 \\\\\n",
       "\t28 & frc5724 & 45.2576 \\\\\n",
       "\t29 & frc3793 & 45.2381 \\\\\n",
       "\t30 & frc977 & 45.0945 \\\\\n",
       "\t$\\dots$ & $\\dots$ & $\\dots$ \\\\\n",
       "\\end{tabular}\n"
      ],
      "text/plain": [
       "130×2 DataFrame\n",
       "│ Row │ team    │ rating  │\n",
       "│     │ \u001b[90mAny\u001b[39m     │ \u001b[90mAny\u001b[39m     │\n",
       "├─────┼─────────┼─────────┤\n",
       "│ 1   │ frc1629 │ 67.4714 │\n",
       "│ 2   │ frc384  │ 59.7123 │\n",
       "│ 3   │ frc1731 │ 58.9891 │\n",
       "│ 4   │ frc1262 │ 58.3808 │\n",
       "│ 5   │ frc1885 │ 56.545  │\n",
       "│ 6   │ frc5546 │ 56.5257 │\n",
       "│ 7   │ frc836  │ 55.3608 │\n",
       "│ 8   │ frc4472 │ 54.5846 │\n",
       "│ 9   │ frc612  │ 54.3343 │\n",
       "│ 10  │ frc422  │ 53.7598 │\n",
       "⋮\n",
       "│ 120 │ frc4464 │ 16.0872 │\n",
       "│ 121 │ frc6021 │ 15.9414 │\n",
       "│ 122 │ frc6893 │ 15.4875 │\n",
       "│ 123 │ frc5954 │ 14.5832 │\n",
       "│ 124 │ frc4795 │ 14.544  │\n",
       "│ 125 │ frc4286 │ 13.96   │\n",
       "│ 126 │ frc3714 │ 13.7584 │\n",
       "│ 127 │ frc617  │ 13.054  │\n",
       "│ 128 │ frc6312 │ 9.56628 │\n",
       "│ 129 │ frc435  │ 8.86545 │\n",
       "│ 130 │ frc7330 │ 6.78294 │"
      ]
     },
     "execution_count": 35,
     "metadata": {},
     "output_type": "execute_result"
    }
   ],
   "source": [
    "model2 = ScikitLearn.fit!(ElasticNet(alpha=0.25, fit_intercept=false), ß, y)\n",
    "oprs2 = DataFrame(hcat(teamnums, model2[:coef_]), [:team, :rating])\n",
    "sort(oprs2, (:rating), rev = true)"
   ]
  },
  {
   "cell_type": "code",
   "execution_count": null,
   "metadata": {},
   "outputs": [],
   "source": []
  }
 ],
 "metadata": {
  "kernelspec": {
   "display_name": "Julia 1.0.2",
   "language": "julia",
   "name": "julia-1.0"
  },
  "language_info": {
   "file_extension": ".jl",
   "mimetype": "application/julia",
   "name": "julia",
   "version": "1.0.2"
  }
 },
 "nbformat": 4,
 "nbformat_minor": 2
}
