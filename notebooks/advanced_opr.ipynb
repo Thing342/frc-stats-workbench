{
 "cells": [
  {
   "cell_type": "code",
   "execution_count": 1,
   "metadata": {},
   "outputs": [],
   "source": [
    "using DataFrames, DataFramesMeta\n",
    "using CSV\n",
    "using Statistics\n",
    "using ScikitLearn"
   ]
  },
  {
   "cell_type": "code",
   "execution_count": 2,
   "metadata": {},
   "outputs": [
    {
     "data": {
      "text/plain": [
       "PyObject <class 'sklearn.linear_model.coordinate_descent.ElasticNet'>"
      ]
     },
     "execution_count": 2,
     "metadata": {},
     "output_type": "execute_result"
    }
   ],
   "source": [
    "@sk_import linear_model: LinearRegression\n",
    "@sk_import linear_model: ElasticNet"
   ]
  },
  {
   "cell_type": "code",
   "execution_count": 24,
   "metadata": {},
   "outputs": [
    {
     "data": {
      "text/plain": [
       ":totalPoints"
      ]
     },
     "execution_count": 24,
     "metadata": {},
     "output_type": "execute_result"
    }
   ],
   "source": [
    "KEY = \"2018chs\"\n",
    "COLUMN = :totalPoints"
   ]
  },
  {
   "cell_type": "code",
   "execution_count": 25,
   "metadata": {},
   "outputs": [
    {
     "data": {
      "text/plain": [
       "opr_ß (generic function with 3 methods)"
      ]
     },
     "execution_count": 25,
     "metadata": {},
     "output_type": "execute_result"
    }
   ],
   "source": [
    "function opr_ß(scores::DataFrame, teams::DataFrame, teamnums=nothing)\n",
    "    if teamnums == nothing\n",
    "        teamnums = teams.team1 |> unique |> sort\n",
    "    end\n",
    "    \n",
    "    teamindex = Dict(t => i for (i, t) in enumerate(teamnums))\n",
    "\n",
    "    ß = zeros(size(scores,1), size(teamnums,1))\n",
    "    for p in [:team1, :team2, :team3]\n",
    "        for i=1:size(teams,1)\n",
    "            team = teams[i,p]\n",
    "            j = teamindex[team]\n",
    "            ß[i,j] = 1.0\n",
    "        end\n",
    "    end\n",
    "    return (ß, teamnums, teamindex)\n",
    "end"
   ]
  },
  {
   "cell_type": "code",
   "execution_count": 26,
   "metadata": {},
   "outputs": [
    {
     "data": {
      "text/plain": [
       "1260-element Array{Float64,1}:\n",
       " 427.0\n",
       " 234.0\n",
       "  95.0\n",
       " 386.0\n",
       " 215.0\n",
       " 322.0\n",
       " 167.0\n",
       " 445.0\n",
       " 140.0\n",
       " 340.0\n",
       " 327.0\n",
       " 155.0\n",
       " 379.0\n",
       "   ⋮  \n",
       " 435.0\n",
       " 240.0\n",
       " 366.0\n",
       " 304.0\n",
       " 421.0\n",
       " 213.0\n",
       " 186.0\n",
       " 330.0\n",
       " 302.0\n",
       " 311.0\n",
       " 194.0\n",
       " 246.0"
      ]
     },
     "execution_count": 26,
     "metadata": {},
     "output_type": "execute_result"
    }
   ],
   "source": [
    "headers = CSV.read(\"../data/2018_headers.csv\") |> (h -> String.(names(h)))\n",
    "push!(headers, \"key\")\n",
    "push!(headers, \"level\")\n",
    "push!(headers, \"event\")\n",
    "\n",
    "scores = CSV.read(\"../data/matches_$KEY.csv\", header=headers)\n",
    "teams = CSV.read(\"../data/matches_teams_$KEY.csv\", header=[\"team1\",\"team2\",\"team3\",\"key\",\"level\",\"event\"])\n",
    "\n",
    "scores_train = @linq scores |> where(:level .== \"qm\")\n",
    "teams_train = @linq teams |> where(:level .== \"qm\")\n",
    "\n",
    "scores_test = @linq scores |> where(:level .!= \"qm\")\n",
    "teams_test = @linq teams |> where(:level .!= \"qm\")\n",
    "\n",
    "\"\"\"\n",
    "teamnums = teams_train.team1 |> unique |> sort\n",
    "teamindex = Dict(t => i for (i, t) in enumerate(teamnums))\n",
    "\n",
    "ß = zeros(size(scores_train,1), size(teamnums,1))\n",
    "for p in [:team1, :team2, :team3]\n",
    "    for i=1:size(teams_train,1)\n",
    "        team = teams_train[i,p]\n",
    "        j = teamindex[team]\n",
    "        ß[i,j] = 1.0\n",
    "    end\n",
    "end\n",
    "\"\"\"\n",
    "\n",
    "(ß, teamnums, teamindex) = opr_ß(scores_train, teams_train)\n",
    "y = convert.(Float64, coalesce(scores_train[COLUMN], -1.0))"
   ]
  },
  {
   "cell_type": "code",
   "execution_count": 27,
   "metadata": {},
   "outputs": [
    {
     "data": {
      "text/plain": [
       "PyObject LinearRegression(copy_X=True, fit_intercept=False, n_jobs=None,\n",
       "         normalize=False)"
      ]
     },
     "execution_count": 27,
     "metadata": {},
     "output_type": "execute_result"
    }
   ],
   "source": [
    "model1 = ScikitLearn.fit!(LinearRegression(fit_intercept=false), ß, y)"
   ]
  },
  {
   "cell_type": "code",
   "execution_count": 28,
   "metadata": {},
   "outputs": [
    {
     "data": {
      "text/html": [
       "<table class=\"data-frame\"><thead><tr><th></th><th>team</th><th>rating</th></tr><tr><th></th><th>Any</th><th>Any</th></tr></thead><tbody><p>130 rows × 2 columns</p><tr><th>1</th><td>frc1080</td><td>109.168</td></tr><tr><th>2</th><td>frc1086</td><td>114.351</td></tr><tr><th>3</th><td>frc1111</td><td>89.9161</td></tr><tr><th>4</th><td>frc1123</td><td>56.7184</td></tr><tr><th>5</th><td>frc1137</td><td>57.2592</td></tr><tr><th>6</th><td>frc116</td><td>87.0477</td></tr><tr><th>7</th><td>frc122</td><td>115.127</td></tr><tr><th>8</th><td>frc1262</td><td>156.803</td></tr><tr><th>9</th><td>frc1389</td><td>74.9499</td></tr><tr><th>10</th><td>frc141</td><td>67.9638</td></tr><tr><th>11</th><td>frc1413</td><td>109.182</td></tr><tr><th>12</th><td>frc1418</td><td>145.131</td></tr><tr><th>13</th><td>frc1446</td><td>57.8559</td></tr><tr><th>14</th><td>frc1522</td><td>95.9965</td></tr><tr><th>15</th><td>frc1598</td><td>36.1283</td></tr><tr><th>16</th><td>frc1599</td><td>130.676</td></tr><tr><th>17</th><td>frc1610</td><td>114.552</td></tr><tr><th>18</th><td>frc1629</td><td>193.611</td></tr><tr><th>19</th><td>frc1719</td><td>38.6205</td></tr><tr><th>20</th><td>frc1727</td><td>88.5218</td></tr><tr><th>21</th><td>frc1731</td><td>169.308</td></tr><tr><th>22</th><td>frc1793</td><td>76.3617</td></tr><tr><th>23</th><td>frc1885</td><td>134.926</td></tr><tr><th>24</th><td>frc1895</td><td>106.856</td></tr><tr><th>25</th><td>frc1908</td><td>54.0923</td></tr><tr><th>26</th><td>frc1915</td><td>53.4041</td></tr><tr><th>27</th><td>frc2028</td><td>87.3103</td></tr><tr><th>28</th><td>frc2068</td><td>54.9175</td></tr><tr><th>29</th><td>frc2106</td><td>107.64</td></tr><tr><th>30</th><td>frc2186</td><td>76.0725</td></tr><tr><th>&vellip;</th><td>&vellip;</td><td>&vellip;</td></tr></tbody></table>"
      ],
      "text/latex": [
       "\\begin{tabular}{r|cc}\n",
       "\t& team & rating\\\\\n",
       "\t\\hline\n",
       "\t& Any & Any\\\\\n",
       "\t\\hline\n",
       "\t1 & frc1080 & 109.168 \\\\\n",
       "\t2 & frc1086 & 114.351 \\\\\n",
       "\t3 & frc1111 & 89.9161 \\\\\n",
       "\t4 & frc1123 & 56.7184 \\\\\n",
       "\t5 & frc1137 & 57.2592 \\\\\n",
       "\t6 & frc116 & 87.0477 \\\\\n",
       "\t7 & frc122 & 115.127 \\\\\n",
       "\t8 & frc1262 & 156.803 \\\\\n",
       "\t9 & frc1389 & 74.9499 \\\\\n",
       "\t10 & frc141 & 67.9638 \\\\\n",
       "\t11 & frc1413 & 109.182 \\\\\n",
       "\t12 & frc1418 & 145.131 \\\\\n",
       "\t13 & frc1446 & 57.8559 \\\\\n",
       "\t14 & frc1522 & 95.9965 \\\\\n",
       "\t15 & frc1598 & 36.1283 \\\\\n",
       "\t16 & frc1599 & 130.676 \\\\\n",
       "\t17 & frc1610 & 114.552 \\\\\n",
       "\t18 & frc1629 & 193.611 \\\\\n",
       "\t19 & frc1719 & 38.6205 \\\\\n",
       "\t20 & frc1727 & 88.5218 \\\\\n",
       "\t21 & frc1731 & 169.308 \\\\\n",
       "\t22 & frc1793 & 76.3617 \\\\\n",
       "\t23 & frc1885 & 134.926 \\\\\n",
       "\t24 & frc1895 & 106.856 \\\\\n",
       "\t25 & frc1908 & 54.0923 \\\\\n",
       "\t26 & frc1915 & 53.4041 \\\\\n",
       "\t27 & frc2028 & 87.3103 \\\\\n",
       "\t28 & frc2068 & 54.9175 \\\\\n",
       "\t29 & frc2106 & 107.64 \\\\\n",
       "\t30 & frc2186 & 76.0725 \\\\\n",
       "\t$\\dots$ & $\\dots$ & $\\dots$ \\\\\n",
       "\\end{tabular}\n"
      ],
      "text/plain": [
       "130×2 DataFrame\n",
       "│ Row │ team    │ rating  │\n",
       "│     │ \u001b[90mAny\u001b[39m     │ \u001b[90mAny\u001b[39m     │\n",
       "├─────┼─────────┼─────────┤\n",
       "│ 1   │ frc1080 │ 109.168 │\n",
       "│ 2   │ frc1086 │ 114.351 │\n",
       "│ 3   │ frc1111 │ 89.9161 │\n",
       "│ 4   │ frc1123 │ 56.7184 │\n",
       "│ 5   │ frc1137 │ 57.2592 │\n",
       "│ 6   │ frc116  │ 87.0477 │\n",
       "│ 7   │ frc122  │ 115.127 │\n",
       "│ 8   │ frc1262 │ 156.803 │\n",
       "│ 9   │ frc1389 │ 74.9499 │\n",
       "│ 10  │ frc141  │ 67.9638 │\n",
       "⋮\n",
       "│ 120 │ frc6543 │ 61.0432 │\n",
       "│ 121 │ frc6584 │ 49.3539 │\n",
       "│ 122 │ frc6802 │ 120.208 │\n",
       "│ 123 │ frc686  │ 76.9324 │\n",
       "│ 124 │ frc6863 │ 42.1743 │\n",
       "│ 125 │ frc6882 │ 87.1731 │\n",
       "│ 126 │ frc6893 │ 29.0704 │\n",
       "│ 127 │ frc7330 │ 17.7672 │\n",
       "│ 128 │ frc836  │ 137.852 │\n",
       "│ 129 │ frc888  │ 132.421 │\n",
       "│ 130 │ frc977  │ 117.746 │"
      ]
     },
     "execution_count": 28,
     "metadata": {},
     "output_type": "execute_result"
    }
   ],
   "source": [
    "oprs = DataFrame(hcat(teamnums, model1[:coef_]), [:team, :rating])\n",
    "#sort(oprs, (:rating), rev = true) |> print"
   ]
  },
  {
   "cell_type": "code",
   "execution_count": 29,
   "metadata": {},
   "outputs": [
    {
     "data": {
      "text/html": [
       "<table class=\"data-frame\"><thead><tr><th></th><th>team</th><th>rating</th></tr><tr><th></th><th>Any</th><th>Any</th></tr></thead><tbody><p>130 rows × 2 columns</p><tr><th>1</th><td>frc1080</td><td>0.0124507</td></tr><tr><th>2</th><td>frc1086</td><td>2.9221</td></tr><tr><th>3</th><td>frc1111</td><td>0.134462</td></tr><tr><th>4</th><td>frc1123</td><td>-2.25417</td></tr><tr><th>5</th><td>frc1137</td><td>-3.70896</td></tr><tr><th>6</th><td>frc116</td><td>0.577415</td></tr><tr><th>7</th><td>frc122</td><td>2.10781</td></tr><tr><th>8</th><td>frc1262</td><td>8.08552</td></tr><tr><th>9</th><td>frc1389</td><td>-2.74105</td></tr><tr><th>10</th><td>frc141</td><td>-0.707339</td></tr><tr><th>11</th><td>frc1413</td><td>0.525678</td></tr><tr><th>12</th><td>frc1418</td><td>6.39136</td></tr><tr><th>13</th><td>frc1446</td><td>-3.20877</td></tr><tr><th>14</th><td>frc1522</td><td>0.364333</td></tr><tr><th>15</th><td>frc1598</td><td>-4.42259</td></tr><tr><th>16</th><td>frc1599</td><td>4.80569</td></tr><tr><th>17</th><td>frc1610</td><td>2.2946</td></tr><tr><th>18</th><td>frc1629</td><td>12.7709</td></tr><tr><th>19</th><td>frc1719</td><td>-3.65412</td></tr><tr><th>20</th><td>frc1727</td><td>-1.29563</td></tr><tr><th>21</th><td>frc1731</td><td>10.0546</td></tr><tr><th>22</th><td>frc1793</td><td>-2.75326</td></tr><tr><th>23</th><td>frc1885</td><td>5.23557</td></tr><tr><th>24</th><td>frc1895</td><td>-0.0</td></tr><tr><th>25</th><td>frc1908</td><td>-4.39666</td></tr><tr><th>26</th><td>frc1915</td><td>-2.78706</td></tr><tr><th>27</th><td>frc2028</td><td>-0.951048</td></tr><tr><th>28</th><td>frc2068</td><td>-5.54176</td></tr><tr><th>29</th><td>frc2106</td><td>3.31337</td></tr><tr><th>30</th><td>frc2186</td><td>-1.45052</td></tr><tr><th>&vellip;</th><td>&vellip;</td><td>&vellip;</td></tr></tbody></table>"
      ],
      "text/latex": [
       "\\begin{tabular}{r|cc}\n",
       "\t& team & rating\\\\\n",
       "\t\\hline\n",
       "\t& Any & Any\\\\\n",
       "\t\\hline\n",
       "\t1 & frc1080 & 0.0124507 \\\\\n",
       "\t2 & frc1086 & 2.9221 \\\\\n",
       "\t3 & frc1111 & 0.134462 \\\\\n",
       "\t4 & frc1123 & -2.25417 \\\\\n",
       "\t5 & frc1137 & -3.70896 \\\\\n",
       "\t6 & frc116 & 0.577415 \\\\\n",
       "\t7 & frc122 & 2.10781 \\\\\n",
       "\t8 & frc1262 & 8.08552 \\\\\n",
       "\t9 & frc1389 & -2.74105 \\\\\n",
       "\t10 & frc141 & -0.707339 \\\\\n",
       "\t11 & frc1413 & 0.525678 \\\\\n",
       "\t12 & frc1418 & 6.39136 \\\\\n",
       "\t13 & frc1446 & -3.20877 \\\\\n",
       "\t14 & frc1522 & 0.364333 \\\\\n",
       "\t15 & frc1598 & -4.42259 \\\\\n",
       "\t16 & frc1599 & 4.80569 \\\\\n",
       "\t17 & frc1610 & 2.2946 \\\\\n",
       "\t18 & frc1629 & 12.7709 \\\\\n",
       "\t19 & frc1719 & -3.65412 \\\\\n",
       "\t20 & frc1727 & -1.29563 \\\\\n",
       "\t21 & frc1731 & 10.0546 \\\\\n",
       "\t22 & frc1793 & -2.75326 \\\\\n",
       "\t23 & frc1885 & 5.23557 \\\\\n",
       "\t24 & frc1895 & -0.0 \\\\\n",
       "\t25 & frc1908 & -4.39666 \\\\\n",
       "\t26 & frc1915 & -2.78706 \\\\\n",
       "\t27 & frc2028 & -0.951048 \\\\\n",
       "\t28 & frc2068 & -5.54176 \\\\\n",
       "\t29 & frc2106 & 3.31337 \\\\\n",
       "\t30 & frc2186 & -1.45052 \\\\\n",
       "\t$\\dots$ & $\\dots$ & $\\dots$ \\\\\n",
       "\\end{tabular}\n"
      ],
      "text/plain": [
       "130×2 DataFrame\n",
       "│ Row │ team    │ rating     │\n",
       "│     │ \u001b[90mAny\u001b[39m     │ \u001b[90mAny\u001b[39m        │\n",
       "├─────┼─────────┼────────────┤\n",
       "│ 1   │ frc1080 │ 0.0124507  │\n",
       "│ 2   │ frc1086 │ 2.9221     │\n",
       "│ 3   │ frc1111 │ 0.134462   │\n",
       "│ 4   │ frc1123 │ -2.25417   │\n",
       "│ 5   │ frc1137 │ -3.70896   │\n",
       "│ 6   │ frc116  │ 0.577415   │\n",
       "│ 7   │ frc122  │ 2.10781    │\n",
       "│ 8   │ frc1262 │ 8.08552    │\n",
       "│ 9   │ frc1389 │ -2.74105   │\n",
       "│ 10  │ frc141  │ -0.707339  │\n",
       "⋮\n",
       "│ 120 │ frc6543 │ -2.45339   │\n",
       "│ 121 │ frc6584 │ -2.60945   │\n",
       "│ 122 │ frc6802 │ 2.63257    │\n",
       "│ 123 │ frc686  │ -0.515575  │\n",
       "│ 124 │ frc6863 │ -4.37313   │\n",
       "│ 125 │ frc6882 │ -0.0798386 │\n",
       "│ 126 │ frc6893 │ -5.57214   │\n",
       "│ 127 │ frc7330 │ -3.52494   │\n",
       "│ 128 │ frc836  │ 5.5438     │\n",
       "│ 129 │ frc888  │ 4.54449    │\n",
       "│ 130 │ frc977  │ 2.60249    │"
      ]
     },
     "execution_count": 29,
     "metadata": {},
     "output_type": "execute_result"
    }
   ],
   "source": [
    "model2 = ScikitLearn.fit!(ElasticNet(alpha=0.25, l1_ratio=0.1, fit_intercept=true), ß, y)\n",
    "oprs2 = DataFrame(hcat(teamnums, model2[:coef_]), [:team, :rating])\n",
    "#sort(oprs2, (:rating), rev = true) |> print"
   ]
  },
  {
   "cell_type": "code",
   "execution_count": 30,
   "metadata": {},
   "outputs": [
    {
     "data": {
      "text/plain": [
       "([0.0 0.0 … 0.0 0.0; 0.0 0.0 … 0.0 0.0; … ; 0.0 0.0 … 0.0 1.0; 0.0 0.0 … 0.0 0.0], Union{Missing, String}[\"frc1080\", \"frc1086\", \"frc1111\", \"frc1123\", \"frc1137\", \"frc116\", \"frc122\", \"frc1262\", \"frc1389\", \"frc141\"  …  \"frc6584\", \"frc6802\", \"frc686\", \"frc6863\", \"frc6882\", \"frc6893\", \"frc7330\", \"frc836\", \"frc888\", \"frc977\"], Dict(\"frc888\"=>129,\"frc1086\"=>2,\"frc2421\"=>35,\"frc3359\"=>53,\"frc3941\"=>66,\"frc5724\"=>95,\"frc5546\"=>92,\"frc4242\"=>71,\"frc4514\"=>80,\"frc1418\"=>12…))"
      ]
     },
     "execution_count": 30,
     "metadata": {},
     "output_type": "execute_result"
    }
   ],
   "source": [
    "(ßtest, _, _) = opr_ß(scores_test, teams_test, teamnums)"
   ]
  },
  {
   "cell_type": "code",
   "execution_count": 31,
   "metadata": {},
   "outputs": [
    {
     "data": {
      "text/plain": [
       "250-element Array{Float64,1}:\n",
       " 297.5437862481179 \n",
       " 290.7305511661394 \n",
       " 297.5437862481179 \n",
       " 290.7305511661394 \n",
       " 305.61120961181933\n",
       " 297.5437862481179 \n",
       " 305.61120961181933\n",
       " 297.5437862481179 \n",
       " 298.3195540768279 \n",
       " 295.8307444778829 \n",
       " 298.3195540768279 \n",
       " 295.8307444778829 \n",
       " 296.14557940004784\n",
       "   ⋮               \n",
       " 285.1451784953888 \n",
       " 274.4095206583749 \n",
       " 287.18857905954997\n",
       " 284.59310367461785\n",
       " 287.18857905954997\n",
       " 284.59310367461785\n",
       " 287.18857905954997\n",
       " 284.59310367461785\n",
       " 290.5355520132392 \n",
       " 285.1451784953888 \n",
       " 290.5355520132392 \n",
       " 285.1451784953888 "
      ]
     },
     "execution_count": 31,
     "metadata": {},
     "output_type": "execute_result"
    }
   ],
   "source": [
    "test_y = convert.(Float64, coalesce(scores_test[COLUMN], -1.0))\n",
    "test_yhat_m1 = ScikitLearn.predict(model1, ßtest)\n",
    "test_yhat_m2 = ScikitLearn.predict(model2, ßtest)"
   ]
  },
  {
   "cell_type": "code",
   "execution_count": 32,
   "metadata": {},
   "outputs": [
    {
     "data": {
      "text/html": [
       "<table class=\"data-frame\"><thead><tr><th></th><th>key</th><th>y</th><th>LinReg</th><th>RidgeReg</th></tr><tr><th></th><th>Any</th><th>Any</th><th>Any</th><th>Any</th></tr></thead><tbody><p>250 rows × 4 columns</p><tr><th>1</th><td>2018chcmp_f1m1_red</td><td>436.0</td><td>396.524</td><td>297.544</td></tr><tr><th>2</th><td>2018chcmp_f1m1_blue</td><td>221.0</td><td>358.901</td><td>290.731</td></tr><tr><th>3</th><td>2018chcmp_f1m2_red</td><td>423.0</td><td>396.524</td><td>297.544</td></tr><tr><th>4</th><td>2018chcmp_f1m2_blue</td><td>202.0</td><td>358.901</td><td>290.731</td></tr><tr><th>5</th><td>2018chcmp_qf1m1_red</td><td>335.0</td><td>470.841</td><td>305.611</td></tr><tr><th>6</th><td>2018chcmp_qf1m1_blue</td><td>342.0</td><td>396.524</td><td>297.544</td></tr><tr><th>7</th><td>2018chcmp_qf1m2_red</td><td>275.0</td><td>470.841</td><td>305.611</td></tr><tr><th>8</th><td>2018chcmp_qf1m2_blue</td><td>411.0</td><td>396.524</td><td>297.544</td></tr><tr><th>9</th><td>2018chcmp_qf2m1_red</td><td>466.0</td><td>412.58</td><td>298.32</td></tr><tr><th>10</th><td>2018chcmp_qf2m1_blue</td><td>305.0</td><td>389.188</td><td>295.831</td></tr><tr><th>11</th><td>2018chcmp_qf2m2_red</td><td>371.0</td><td>412.58</td><td>298.32</td></tr><tr><th>12</th><td>2018chcmp_qf2m2_blue</td><td>218.0</td><td>389.188</td><td>295.831</td></tr><tr><th>13</th><td>2018chcmp_qf3m1_red</td><td>173.0</td><td>397.874</td><td>296.146</td></tr><tr><th>14</th><td>2018chcmp_qf3m1_blue</td><td>380.0</td><td>385.312</td><td>294.909</td></tr><tr><th>15</th><td>2018chcmp_qf3m2_red</td><td>274.0</td><td>397.874</td><td>296.146</td></tr><tr><th>16</th><td>2018chcmp_qf3m2_blue</td><td>315.0</td><td>385.312</td><td>294.909</td></tr><tr><th>17</th><td>2018chcmp_qf4m1_red</td><td>379.0</td><td>358.267</td><td>289.923</td></tr><tr><th>18</th><td>2018chcmp_qf4m1_blue</td><td>226.0</td><td>358.901</td><td>290.731</td></tr><tr><th>19</th><td>2018chcmp_qf4m2_red</td><td>307.0</td><td>358.267</td><td>289.923</td></tr><tr><th>20</th><td>2018chcmp_qf4m2_blue</td><td>434.0</td><td>358.901</td><td>290.731</td></tr><tr><th>21</th><td>2018chcmp_qf4m3_red</td><td>213.0</td><td>358.267</td><td>289.923</td></tr><tr><th>22</th><td>2018chcmp_qf4m3_blue</td><td>362.0</td><td>358.901</td><td>290.731</td></tr><tr><th>23</th><td>2018chcmp_sf1m1_red</td><td>354.0</td><td>396.524</td><td>297.544</td></tr><tr><th>24</th><td>2018chcmp_sf1m1_blue</td><td>264.0</td><td>412.58</td><td>298.32</td></tr><tr><th>25</th><td>2018chcmp_sf1m2_red</td><td>344.0</td><td>396.524</td><td>297.544</td></tr><tr><th>26</th><td>2018chcmp_sf1m2_blue</td><td>299.0</td><td>412.58</td><td>298.32</td></tr><tr><th>27</th><td>2018chcmp_sf2m1_red</td><td>276.0</td><td>385.312</td><td>294.909</td></tr><tr><th>28</th><td>2018chcmp_sf2m1_blue</td><td>315.0</td><td>358.901</td><td>290.731</td></tr><tr><th>29</th><td>2018chcmp_sf2m2_red</td><td>269.0</td><td>385.312</td><td>294.909</td></tr><tr><th>30</th><td>2018chcmp_sf2m2_blue</td><td>355.0</td><td>358.901</td><td>290.731</td></tr><tr><th>&vellip;</th><td>&vellip;</td><td>&vellip;</td><td>&vellip;</td><td>&vellip;</td></tr></tbody></table>"
      ],
      "text/latex": [
       "\\begin{tabular}{r|cccc}\n",
       "\t& key & y & LinReg & RidgeReg\\\\\n",
       "\t\\hline\n",
       "\t& Any & Any & Any & Any\\\\\n",
       "\t\\hline\n",
       "\t1 & 2018chcmp\\_f1m1\\_red & 436.0 & 396.524 & 297.544 \\\\\n",
       "\t2 & 2018chcmp\\_f1m1\\_blue & 221.0 & 358.901 & 290.731 \\\\\n",
       "\t3 & 2018chcmp\\_f1m2\\_red & 423.0 & 396.524 & 297.544 \\\\\n",
       "\t4 & 2018chcmp\\_f1m2\\_blue & 202.0 & 358.901 & 290.731 \\\\\n",
       "\t5 & 2018chcmp\\_qf1m1\\_red & 335.0 & 470.841 & 305.611 \\\\\n",
       "\t6 & 2018chcmp\\_qf1m1\\_blue & 342.0 & 396.524 & 297.544 \\\\\n",
       "\t7 & 2018chcmp\\_qf1m2\\_red & 275.0 & 470.841 & 305.611 \\\\\n",
       "\t8 & 2018chcmp\\_qf1m2\\_blue & 411.0 & 396.524 & 297.544 \\\\\n",
       "\t9 & 2018chcmp\\_qf2m1\\_red & 466.0 & 412.58 & 298.32 \\\\\n",
       "\t10 & 2018chcmp\\_qf2m1\\_blue & 305.0 & 389.188 & 295.831 \\\\\n",
       "\t11 & 2018chcmp\\_qf2m2\\_red & 371.0 & 412.58 & 298.32 \\\\\n",
       "\t12 & 2018chcmp\\_qf2m2\\_blue & 218.0 & 389.188 & 295.831 \\\\\n",
       "\t13 & 2018chcmp\\_qf3m1\\_red & 173.0 & 397.874 & 296.146 \\\\\n",
       "\t14 & 2018chcmp\\_qf3m1\\_blue & 380.0 & 385.312 & 294.909 \\\\\n",
       "\t15 & 2018chcmp\\_qf3m2\\_red & 274.0 & 397.874 & 296.146 \\\\\n",
       "\t16 & 2018chcmp\\_qf3m2\\_blue & 315.0 & 385.312 & 294.909 \\\\\n",
       "\t17 & 2018chcmp\\_qf4m1\\_red & 379.0 & 358.267 & 289.923 \\\\\n",
       "\t18 & 2018chcmp\\_qf4m1\\_blue & 226.0 & 358.901 & 290.731 \\\\\n",
       "\t19 & 2018chcmp\\_qf4m2\\_red & 307.0 & 358.267 & 289.923 \\\\\n",
       "\t20 & 2018chcmp\\_qf4m2\\_blue & 434.0 & 358.901 & 290.731 \\\\\n",
       "\t21 & 2018chcmp\\_qf4m3\\_red & 213.0 & 358.267 & 289.923 \\\\\n",
       "\t22 & 2018chcmp\\_qf4m3\\_blue & 362.0 & 358.901 & 290.731 \\\\\n",
       "\t23 & 2018chcmp\\_sf1m1\\_red & 354.0 & 396.524 & 297.544 \\\\\n",
       "\t24 & 2018chcmp\\_sf1m1\\_blue & 264.0 & 412.58 & 298.32 \\\\\n",
       "\t25 & 2018chcmp\\_sf1m2\\_red & 344.0 & 396.524 & 297.544 \\\\\n",
       "\t26 & 2018chcmp\\_sf1m2\\_blue & 299.0 & 412.58 & 298.32 \\\\\n",
       "\t27 & 2018chcmp\\_sf2m1\\_red & 276.0 & 385.312 & 294.909 \\\\\n",
       "\t28 & 2018chcmp\\_sf2m1\\_blue & 315.0 & 358.901 & 290.731 \\\\\n",
       "\t29 & 2018chcmp\\_sf2m2\\_red & 269.0 & 385.312 & 294.909 \\\\\n",
       "\t30 & 2018chcmp\\_sf2m2\\_blue & 355.0 & 358.901 & 290.731 \\\\\n",
       "\t$\\dots$ & $\\dots$ & $\\dots$ & $\\dots$ & $\\dots$ \\\\\n",
       "\\end{tabular}\n"
      ],
      "text/plain": [
       "250×4 DataFrame\n",
       "│ Row │ key                  │ y     │ LinReg  │ RidgeReg │\n",
       "│     │ \u001b[90mAny\u001b[39m                  │ \u001b[90mAny\u001b[39m   │ \u001b[90mAny\u001b[39m     │ \u001b[90mAny\u001b[39m      │\n",
       "├─────┼──────────────────────┼───────┼─────────┼──────────┤\n",
       "│ 1   │ 2018chcmp_f1m1_red   │ 436.0 │ 396.524 │ 297.544  │\n",
       "│ 2   │ 2018chcmp_f1m1_blue  │ 221.0 │ 358.901 │ 290.731  │\n",
       "│ 3   │ 2018chcmp_f1m2_red   │ 423.0 │ 396.524 │ 297.544  │\n",
       "│ 4   │ 2018chcmp_f1m2_blue  │ 202.0 │ 358.901 │ 290.731  │\n",
       "│ 5   │ 2018chcmp_qf1m1_red  │ 335.0 │ 470.841 │ 305.611  │\n",
       "│ 6   │ 2018chcmp_qf1m1_blue │ 342.0 │ 396.524 │ 297.544  │\n",
       "│ 7   │ 2018chcmp_qf1m2_red  │ 275.0 │ 470.841 │ 305.611  │\n",
       "│ 8   │ 2018chcmp_qf1m2_blue │ 411.0 │ 396.524 │ 297.544  │\n",
       "│ 9   │ 2018chcmp_qf2m1_red  │ 466.0 │ 412.58  │ 298.32   │\n",
       "│ 10  │ 2018chcmp_qf2m1_blue │ 305.0 │ 389.188 │ 295.831  │\n",
       "⋮\n",
       "│ 240 │ 2018vapor_qf4m2_blue │ 240.0 │ 240.427 │ 274.41   │\n",
       "│ 241 │ 2018vapor_sf1m1_red  │ 407.0 │ 359.423 │ 287.189  │\n",
       "│ 242 │ 2018vapor_sf1m1_blue │ 260.0 │ 307.904 │ 284.593  │\n",
       "│ 243 │ 2018vapor_sf1m2_red  │ 307.0 │ 359.423 │ 287.189  │\n",
       "│ 244 │ 2018vapor_sf1m2_blue │ 315.0 │ 307.904 │ 284.593  │\n",
       "│ 245 │ 2018vapor_sf1m3_red  │ 276.0 │ 359.423 │ 287.189  │\n",
       "│ 246 │ 2018vapor_sf1m3_blue │ 361.0 │ 307.904 │ 284.593  │\n",
       "│ 247 │ 2018vapor_sf2m1_red  │ 381.0 │ 363.448 │ 290.536  │\n",
       "│ 248 │ 2018vapor_sf2m1_blue │ 218.0 │ 286.731 │ 285.145  │\n",
       "│ 249 │ 2018vapor_sf2m2_red  │ 333.0 │ 363.448 │ 290.536  │\n",
       "│ 250 │ 2018vapor_sf2m2_blue │ 258.0 │ 286.731 │ 285.145  │"
      ]
     },
     "execution_count": 32,
     "metadata": {},
     "output_type": "execute_result"
    }
   ],
   "source": [
    "predictions_table = DataFrame(hcat(scores_test.key, test_y, test_yhat_m1, test_yhat_m2), [:key, :y, :LinReg, :RidgeReg])"
   ]
  },
  {
   "cell_type": "code",
   "execution_count": 33,
   "metadata": {},
   "outputs": [
    {
     "data": {
      "text/plain": [
       "86.8726166924313"
      ]
     },
     "execution_count": 33,
     "metadata": {},
     "output_type": "execute_result"
    }
   ],
   "source": [
    "rmse_1 = mean((predictions_table.LinReg-predictions_table.y).^2) |> sqrt"
   ]
  },
  {
   "cell_type": "code",
   "execution_count": 34,
   "metadata": {},
   "outputs": [
    {
     "data": {
      "text/plain": [
       "89.46248080737458"
      ]
     },
     "execution_count": 34,
     "metadata": {},
     "output_type": "execute_result"
    }
   ],
   "source": [
    "rmse_2 = mean((predictions_table.RidgeReg-predictions_table.y).^2) |> sqrt"
   ]
  },
  {
   "cell_type": "code",
   "execution_count": null,
   "metadata": {},
   "outputs": [],
   "source": []
  }
 ],
 "metadata": {
  "kernelspec": {
   "display_name": "Julia 1.0.2",
   "language": "julia",
   "name": "julia-1.0"
  },
  "language_info": {
   "file_extension": ".jl",
   "mimetype": "application/julia",
   "name": "julia",
   "version": "1.0.2"
  }
 },
 "nbformat": 4,
 "nbformat_minor": 2
}
