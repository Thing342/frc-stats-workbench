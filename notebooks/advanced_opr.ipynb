{
 "cells": [
  {
   "cell_type": "code",
   "execution_count": 1,
   "metadata": {},
   "outputs": [],
   "source": [
    "using DataFrames, DataFramesMeta\n",
    "using CSV\n",
    "using Statistics\n",
    "using ScikitLearn"
   ]
  },
  {
   "cell_type": "code",
   "execution_count": 2,
   "metadata": {},
   "outputs": [
    {
     "data": {
      "text/plain": [
       "PyObject <class 'sklearn.linear_model.coordinate_descent.ElasticNet'>"
      ]
     },
     "execution_count": 2,
     "metadata": {},
     "output_type": "execute_result"
    }
   ],
   "source": [
    "@sk_import linear_model: LinearRegression\n",
    "@sk_import linear_model: ElasticNet"
   ]
  },
  {
   "cell_type": "code",
   "execution_count": 86,
   "metadata": {},
   "outputs": [
    {
     "data": {
      "text/plain": [
       ":totalPoints"
      ]
     },
     "execution_count": 86,
     "metadata": {},
     "output_type": "execute_result"
    }
   ],
   "source": [
    "KEY = \"2018det\"\n",
    "COLUMN = :totalPoints"
   ]
  },
  {
   "cell_type": "code",
   "execution_count": 87,
   "metadata": {},
   "outputs": [
    {
     "data": {
      "text/plain": [
       "opr_ß (generic function with 3 methods)"
      ]
     },
     "execution_count": 87,
     "metadata": {},
     "output_type": "execute_result"
    }
   ],
   "source": [
    "function opr_ß(scores::DataFrame, teams::DataFrame, teamnums=nothing)\n",
    "    if teamnums == nothing\n",
    "        teamnums = teams.team1 |> unique |> sort\n",
    "    end\n",
    "    \n",
    "    teamindex = Dict(t => i for (i, t) in enumerate(teamnums))\n",
    "\n",
    "    ß = zeros(size(scores,1), size(teamnums,1))\n",
    "    for p in [:team1, :team2, :team3]\n",
    "        for i=1:size(teams,1)\n",
    "            team = teams[i,p]\n",
    "            j = teamindex[team]\n",
    "            ß[i,j] = 1.0\n",
    "        end\n",
    "    end\n",
    "    return (ß, teamnums, teamindex)\n",
    "end"
   ]
  },
  {
   "cell_type": "code",
   "execution_count": 88,
   "metadata": {},
   "outputs": [
    {
     "data": {
      "text/plain": [
       "1356-element Array{Float64,1}:\n",
       " 292.0\n",
       " 425.0\n",
       " 403.0\n",
       " 197.0\n",
       " 317.0\n",
       " 369.0\n",
       " 386.0\n",
       " 243.0\n",
       " 324.0\n",
       " 437.0\n",
       " 296.0\n",
       " 442.0\n",
       " 404.0\n",
       "   ⋮  \n",
       " 327.0\n",
       " 370.0\n",
       " 442.0\n",
       " 283.0\n",
       " 400.0\n",
       " 313.0\n",
       " 382.0\n",
       " 276.0\n",
       " 450.0\n",
       " 267.0\n",
       " 405.0\n",
       " 218.0"
      ]
     },
     "execution_count": 88,
     "metadata": {},
     "output_type": "execute_result"
    }
   ],
   "source": [
    "headers = CSV.read(\"../data/2018_headers.csv\") |> (h -> String.(names(h)))\n",
    "push!(headers, \"key\")\n",
    "push!(headers, \"level\")\n",
    "push!(headers, \"event\")\n",
    "\n",
    "scores = CSV.read(\"../data/matches_$KEY.csv\", header=headers)\n",
    "teams = CSV.read(\"../data/matches_teams_$KEY.csv\", header=[\"team1\",\"team2\",\"team3\",\"key\",\"level\",\"event\"])\n",
    "\n",
    "scores_train = @linq scores |> where(:level .== \"qm\")\n",
    "teams_train = @linq teams |> where(:level .== \"qm\")\n",
    "\n",
    "scores_test = @linq scores |> where(:level .!= \"qm\")\n",
    "teams_test = @linq teams |> where(:level .!= \"qm\")\n",
    "\n",
    "\"\"\"\n",
    "teamnums = teams_train.team1 |> unique |> sort\n",
    "teamindex = Dict(t => i for (i, t) in enumerate(teamnums))\n",
    "\n",
    "ß = zeros(size(scores_train,1), size(teamnums,1))\n",
    "for p in [:team1, :team2, :team3]\n",
    "    for i=1:size(teams_train,1)\n",
    "        team = teams_train[i,p]\n",
    "        j = teamindex[team]\n",
    "        ß[i,j] = 1.0\n",
    "    end\n",
    "end\n",
    "\"\"\"\n",
    "\n",
    "(ß, teamnums, teamindex) = opr_ß(scores_train, teams_train)\n",
    "y = convert.(Float64, coalesce(scores_train[COLUMN], -1.0))"
   ]
  },
  {
   "cell_type": "code",
   "execution_count": 89,
   "metadata": {},
   "outputs": [
    {
     "data": {
      "text/plain": [
       "PyObject LinearRegression(copy_X=True, fit_intercept=False, n_jobs=None,\n",
       "         normalize=False)"
      ]
     },
     "execution_count": 89,
     "metadata": {},
     "output_type": "execute_result"
    }
   ],
   "source": [
    "model1 = ScikitLearn.fit!(LinearRegression(fit_intercept=false), ß, y)"
   ]
  },
  {
   "cell_type": "code",
   "execution_count": 90,
   "metadata": {},
   "outputs": [
    {
     "data": {
      "text/html": [
       "<table class=\"data-frame\"><thead><tr><th></th><th>team</th><th>rating</th></tr><tr><th></th><th>Any</th><th>Any</th></tr></thead><tbody><p>405 rows × 2 columns</p><tr><th>1</th><td>frc1018</td><td>132.53</td></tr><tr><th>2</th><td>frc1023</td><td>138.615</td></tr><tr><th>3</th><td>frc1024</td><td>140.688</td></tr><tr><th>4</th><td>frc1025</td><td>123.633</td></tr><tr><th>5</th><td>frc103</td><td>116.57</td></tr><tr><th>6</th><td>frc1071</td><td>115.18</td></tr><tr><th>7</th><td>frc1073</td><td>100.884</td></tr><tr><th>8</th><td>frc1076</td><td>92.5134</td></tr><tr><th>9</th><td>frc1100</td><td>121.227</td></tr><tr><th>10</th><td>frc111</td><td>74.5448</td></tr><tr><th>11</th><td>frc1114</td><td>176.672</td></tr><tr><th>12</th><td>frc1189</td><td>146.944</td></tr><tr><th>13</th><td>frc1218</td><td>108.381</td></tr><tr><th>14</th><td>frc1241</td><td>161.76</td></tr><tr><th>15</th><td>frc125</td><td>157.26</td></tr><tr><th>16</th><td>frc1259</td><td>131.923</td></tr><tr><th>17</th><td>frc126</td><td>128.389</td></tr><tr><th>18</th><td>frc1262</td><td>89.1705</td></tr><tr><th>19</th><td>frc1305</td><td>125.174</td></tr><tr><th>20</th><td>frc1310</td><td>137.866</td></tr><tr><th>21</th><td>frc1322</td><td>135.062</td></tr><tr><th>22</th><td>frc1325</td><td>202.456</td></tr><tr><th>23</th><td>frc133</td><td>158.084</td></tr><tr><th>24</th><td>frc1360</td><td>90.3247</td></tr><tr><th>25</th><td>frc1391</td><td>113.159</td></tr><tr><th>26</th><td>frc141</td><td>203.375</td></tr><tr><th>27</th><td>frc1418</td><td>102.762</td></tr><tr><th>28</th><td>frc145</td><td>118.767</td></tr><tr><th>29</th><td>frc1468</td><td>131.301</td></tr><tr><th>30</th><td>frc1493</td><td>55.2814</td></tr><tr><th>&vellip;</th><td>&vellip;</td><td>&vellip;</td></tr></tbody></table>"
      ],
      "text/latex": [
       "\\begin{tabular}{r|cc}\n",
       "\t& team & rating\\\\\n",
       "\t\\hline\n",
       "\t& Any & Any\\\\\n",
       "\t\\hline\n",
       "\t1 & frc1018 & 132.53 \\\\\n",
       "\t2 & frc1023 & 138.615 \\\\\n",
       "\t3 & frc1024 & 140.688 \\\\\n",
       "\t4 & frc1025 & 123.633 \\\\\n",
       "\t5 & frc103 & 116.57 \\\\\n",
       "\t6 & frc1071 & 115.18 \\\\\n",
       "\t7 & frc1073 & 100.884 \\\\\n",
       "\t8 & frc1076 & 92.5134 \\\\\n",
       "\t9 & frc1100 & 121.227 \\\\\n",
       "\t10 & frc111 & 74.5448 \\\\\n",
       "\t11 & frc1114 & 176.672 \\\\\n",
       "\t12 & frc1189 & 146.944 \\\\\n",
       "\t13 & frc1218 & 108.381 \\\\\n",
       "\t14 & frc1241 & 161.76 \\\\\n",
       "\t15 & frc125 & 157.26 \\\\\n",
       "\t16 & frc1259 & 131.923 \\\\\n",
       "\t17 & frc126 & 128.389 \\\\\n",
       "\t18 & frc1262 & 89.1705 \\\\\n",
       "\t19 & frc1305 & 125.174 \\\\\n",
       "\t20 & frc1310 & 137.866 \\\\\n",
       "\t21 & frc1322 & 135.062 \\\\\n",
       "\t22 & frc1325 & 202.456 \\\\\n",
       "\t23 & frc133 & 158.084 \\\\\n",
       "\t24 & frc1360 & 90.3247 \\\\\n",
       "\t25 & frc1391 & 113.159 \\\\\n",
       "\t26 & frc141 & 203.375 \\\\\n",
       "\t27 & frc1418 & 102.762 \\\\\n",
       "\t28 & frc145 & 118.767 \\\\\n",
       "\t29 & frc1468 & 131.301 \\\\\n",
       "\t30 & frc1493 & 55.2814 \\\\\n",
       "\t$\\dots$ & $\\dots$ & $\\dots$ \\\\\n",
       "\\end{tabular}\n"
      ],
      "text/plain": [
       "405×2 DataFrame\n",
       "│ Row │ team    │ rating  │\n",
       "│     │ \u001b[90mAny\u001b[39m     │ \u001b[90mAny\u001b[39m     │\n",
       "├─────┼─────────┼─────────┤\n",
       "│ 1   │ frc1018 │ 132.53  │\n",
       "│ 2   │ frc1023 │ 138.615 │\n",
       "│ 3   │ frc1024 │ 140.688 │\n",
       "│ 4   │ frc1025 │ 123.633 │\n",
       "│ 5   │ frc103  │ 116.57  │\n",
       "│ 6   │ frc1071 │ 115.18  │\n",
       "│ 7   │ frc1073 │ 100.884 │\n",
       "│ 8   │ frc1076 │ 92.5134 │\n",
       "│ 9   │ frc1100 │ 121.227 │\n",
       "│ 10  │ frc111  │ 74.5448 │\n",
       "⋮\n",
       "│ 395 │ frc85   │ 181.708 │\n",
       "│ 396 │ frc857  │ 97.405  │\n",
       "│ 397 │ frc862  │ 117.389 │\n",
       "│ 398 │ frc865  │ 146.729 │\n",
       "│ 399 │ frc868  │ 164.197 │\n",
       "│ 400 │ frc870  │ 125.226 │\n",
       "│ 401 │ frc88   │ 119.503 │\n",
       "│ 402 │ frc888  │ 134.513 │\n",
       "│ 403 │ frc894  │ 112.418 │\n",
       "│ 404 │ frc910  │ 175.314 │\n",
       "│ 405 │ frc977  │ 78.4268 │"
      ]
     },
     "execution_count": 90,
     "metadata": {},
     "output_type": "execute_result"
    }
   ],
   "source": [
    "oprs = DataFrame(hcat(teamnums, model1[:coef_]), [:team, :rating])\n",
    "#sort(oprs, (:rating), rev = true) |> print"
   ]
  },
  {
   "cell_type": "code",
   "execution_count": 128,
   "metadata": {},
   "outputs": [
    {
     "data": {
      "text/html": [
       "<table class=\"data-frame\"><thead><tr><th></th><th>team</th><th>rating</th></tr><tr><th></th><th>Any</th><th>Any</th></tr></thead><tbody><p>405 rows × 2 columns</p><tr><th>1</th><td>frc1018</td><td>19.9167</td></tr><tr><th>2</th><td>frc1023</td><td>26.0015</td></tr><tr><th>3</th><td>frc1024</td><td>28.0752</td></tr><tr><th>4</th><td>frc1025</td><td>11.02</td></tr><tr><th>5</th><td>frc103</td><td>3.9572</td></tr><tr><th>6</th><td>frc1071</td><td>2.56662</td></tr><tr><th>7</th><td>frc1073</td><td>-11.7296</td></tr><tr><th>8</th><td>frc1076</td><td>-20.0998</td></tr><tr><th>9</th><td>frc1100</td><td>8.61339</td></tr><tr><th>10</th><td>frc111</td><td>-38.0684</td></tr><tr><th>11</th><td>frc1114</td><td>64.0584</td></tr><tr><th>12</th><td>frc1189</td><td>34.3312</td></tr><tr><th>13</th><td>frc1218</td><td>-4.23179</td></tr><tr><th>14</th><td>frc1241</td><td>49.1473</td></tr><tr><th>15</th><td>frc125</td><td>44.647</td></tr><tr><th>16</th><td>frc1259</td><td>19.3096</td></tr><tr><th>17</th><td>frc126</td><td>15.7763</td></tr><tr><th>18</th><td>frc1262</td><td>-23.4427</td></tr><tr><th>19</th><td>frc1305</td><td>12.5605</td></tr><tr><th>20</th><td>frc1310</td><td>25.2531</td></tr><tr><th>21</th><td>frc1322</td><td>22.4492</td></tr><tr><th>22</th><td>frc1325</td><td>89.8431</td></tr><tr><th>23</th><td>frc133</td><td>45.4713</td></tr><tr><th>24</th><td>frc1360</td><td>-22.2884</td></tr><tr><th>25</th><td>frc1391</td><td>0.54543</td></tr><tr><th>26</th><td>frc141</td><td>90.7622</td></tr><tr><th>27</th><td>frc1418</td><td>-9.85157</td></tr><tr><th>28</th><td>frc145</td><td>6.15404</td></tr><tr><th>29</th><td>frc1468</td><td>18.6878</td></tr><tr><th>30</th><td>frc1493</td><td>-57.3318</td></tr><tr><th>&vellip;</th><td>&vellip;</td><td>&vellip;</td></tr></tbody></table>"
      ],
      "text/latex": [
       "\\begin{tabular}{r|cc}\n",
       "\t& team & rating\\\\\n",
       "\t\\hline\n",
       "\t& Any & Any\\\\\n",
       "\t\\hline\n",
       "\t1 & frc1018 & 19.9167 \\\\\n",
       "\t2 & frc1023 & 26.0015 \\\\\n",
       "\t3 & frc1024 & 28.0752 \\\\\n",
       "\t4 & frc1025 & 11.02 \\\\\n",
       "\t5 & frc103 & 3.9572 \\\\\n",
       "\t6 & frc1071 & 2.56662 \\\\\n",
       "\t7 & frc1073 & -11.7296 \\\\\n",
       "\t8 & frc1076 & -20.0998 \\\\\n",
       "\t9 & frc1100 & 8.61339 \\\\\n",
       "\t10 & frc111 & -38.0684 \\\\\n",
       "\t11 & frc1114 & 64.0584 \\\\\n",
       "\t12 & frc1189 & 34.3312 \\\\\n",
       "\t13 & frc1218 & -4.23179 \\\\\n",
       "\t14 & frc1241 & 49.1473 \\\\\n",
       "\t15 & frc125 & 44.647 \\\\\n",
       "\t16 & frc1259 & 19.3096 \\\\\n",
       "\t17 & frc126 & 15.7763 \\\\\n",
       "\t18 & frc1262 & -23.4427 \\\\\n",
       "\t19 & frc1305 & 12.5605 \\\\\n",
       "\t20 & frc1310 & 25.2531 \\\\\n",
       "\t21 & frc1322 & 22.4492 \\\\\n",
       "\t22 & frc1325 & 89.8431 \\\\\n",
       "\t23 & frc133 & 45.4713 \\\\\n",
       "\t24 & frc1360 & -22.2884 \\\\\n",
       "\t25 & frc1391 & 0.54543 \\\\\n",
       "\t26 & frc141 & 90.7622 \\\\\n",
       "\t27 & frc1418 & -9.85157 \\\\\n",
       "\t28 & frc145 & 6.15404 \\\\\n",
       "\t29 & frc1468 & 18.6878 \\\\\n",
       "\t30 & frc1493 & -57.3318 \\\\\n",
       "\t$\\dots$ & $\\dots$ & $\\dots$ \\\\\n",
       "\\end{tabular}\n"
      ],
      "text/plain": [
       "405×2 DataFrame\n",
       "│ Row │ team    │ rating    │\n",
       "│     │ \u001b[90mAny\u001b[39m     │ \u001b[90mAny\u001b[39m       │\n",
       "├─────┼─────────┼───────────┤\n",
       "│ 1   │ frc1018 │ 19.9167   │\n",
       "│ 2   │ frc1023 │ 26.0015   │\n",
       "│ 3   │ frc1024 │ 28.0752   │\n",
       "│ 4   │ frc1025 │ 11.02     │\n",
       "│ 5   │ frc103  │ 3.9572    │\n",
       "│ 6   │ frc1071 │ 2.56662   │\n",
       "│ 7   │ frc1073 │ -11.7296  │\n",
       "│ 8   │ frc1076 │ -20.0998  │\n",
       "│ 9   │ frc1100 │ 8.61339   │\n",
       "│ 10  │ frc111  │ -38.0684  │\n",
       "⋮\n",
       "│ 395 │ frc85   │ 69.0947   │\n",
       "│ 396 │ frc857  │ -15.2081  │\n",
       "│ 397 │ frc862  │ 4.77612   │\n",
       "│ 398 │ frc865  │ 34.1156   │\n",
       "│ 399 │ frc868  │ 51.5842   │\n",
       "│ 400 │ frc870  │ 12.6132   │\n",
       "│ 401 │ frc88   │ 6.89006   │\n",
       "│ 402 │ frc888  │ 21.8998   │\n",
       "│ 403 │ frc894  │ -0.195645 │\n",
       "│ 404 │ frc910  │ 62.701    │\n",
       "│ 405 │ frc977  │ -34.1864  │"
      ]
     },
     "execution_count": 128,
     "metadata": {},
     "output_type": "execute_result"
    }
   ],
   "source": [
    "model2 = ScikitLearn.fit!(ElasticNet(alpha=0, l1_ratio=0, fit_intercept=true), ß, y)\n",
    "oprs2 = DataFrame(hcat(teamnums, model2[:coef_]), [:team, :rating])\n",
    "#sort(oprs2, (:rating), rev = true) |> print"
   ]
  },
  {
   "cell_type": "code",
   "execution_count": 129,
   "metadata": {},
   "outputs": [
    {
     "data": {
      "text/plain": [
       "([0.0 0.0 … 0.0 0.0; 0.0 0.0 … 0.0 0.0; … ; 0.0 0.0 … 0.0 0.0; 0.0 0.0 … 0.0 0.0], Union{Missing, String}[\"frc1018\", \"frc1023\", \"frc1024\", \"frc1025\", \"frc103\", \"frc1071\", \"frc1073\", \"frc1076\", \"frc1100\", \"frc111\"  …  \"frc857\", \"frc862\", \"frc865\", \"frc868\", \"frc870\", \"frc88\", \"frc888\", \"frc894\", \"frc910\", \"frc977\"], Dict(\"frc888\"=>402,\"frc1816\"=>60,\"frc2549\"=>113,\"frc1071\"=>6,\"frc6964\"=>371,\"frc2604\"=>117,\"frc291\"=>139,\"frc7048\"=>376,\"frc5339\"=>289,\"frc555\"=>307…))"
      ]
     },
     "execution_count": 129,
     "metadata": {},
     "output_type": "execute_result"
    }
   ],
   "source": [
    "(ßtest, _, _) = opr_ß(scores_test, teams_test, teamnums)"
   ]
  },
  {
   "cell_type": "code",
   "execution_count": 130,
   "metadata": {},
   "outputs": [
    {
     "data": {
      "text/plain": [
       "200-element Array{Float64,1}:\n",
       " 356.4634845230824 \n",
       " 469.8945103790024 \n",
       " 356.4634845230824 \n",
       " 469.8945103790024 \n",
       " 478.4038875502631 \n",
       " 396.2738478142097 \n",
       " 445.924253341976  \n",
       " 396.2738478142097 \n",
       " 445.924253341976  \n",
       " 396.2738478142097 \n",
       " 356.4634845230824 \n",
       " 413.23055699752   \n",
       " 356.4634845230824 \n",
       "   ⋮               \n",
       " 466.47721702579304\n",
       " 449.008953579127  \n",
       " 466.47721702579304\n",
       " 449.008953579127  \n",
       " 466.66331521952486\n",
       " 386.894678606519  \n",
       " 466.66331521952486\n",
       " 386.894678606519  \n",
       " 434.2987333174266 \n",
       " 466.47721702579304\n",
       " 488.1537770916406 \n",
       " 466.47721702579304"
      ]
     },
     "execution_count": 130,
     "metadata": {},
     "output_type": "execute_result"
    }
   ],
   "source": [
    "test_y = convert.(Float64, coalesce(scores_test[COLUMN], -1.0))\n",
    "test_yhat_m1 = ScikitLearn.predict(model1, ßtest)\n",
    "test_yhat_m2 = ScikitLearn.predict(model2, ßtest)"
   ]
  },
  {
   "cell_type": "code",
   "execution_count": 131,
   "metadata": {},
   "outputs": [
    {
     "data": {
      "text/html": [
       "<table class=\"data-frame\"><thead><tr><th></th><th>key</th><th>y</th><th>LinReg</th><th>RidgeReg</th></tr><tr><th></th><th>Any</th><th>Any</th><th>Any</th><th>Any</th></tr></thead><tbody><p>200 rows × 4 columns</p><tr><th>1</th><td>2018arc_f1m1_red</td><td>356.0</td><td>356.463</td><td>356.463</td></tr><tr><th>2</th><td>2018arc_f1m1_blue</td><td>361.0</td><td>469.895</td><td>469.895</td></tr><tr><th>3</th><td>2018arc_f1m2_red</td><td>356.0</td><td>356.463</td><td>356.463</td></tr><tr><th>4</th><td>2018arc_f1m2_blue</td><td>397.0</td><td>469.895</td><td>469.895</td></tr><tr><th>5</th><td>2018arc_qf1m1_red</td><td>270.0</td><td>478.404</td><td>478.404</td></tr><tr><th>6</th><td>2018arc_qf1m1_blue</td><td>317.0</td><td>396.274</td><td>396.274</td></tr><tr><th>7</th><td>2018arc_qf1m2_red</td><td>455.0</td><td>445.924</td><td>445.924</td></tr><tr><th>8</th><td>2018arc_qf1m2_blue</td><td>303.0</td><td>396.274</td><td>396.274</td></tr><tr><th>9</th><td>2018arc_qf1m3_red</td><td>443.0</td><td>445.924</td><td>445.924</td></tr><tr><th>10</th><td>2018arc_qf1m3_blue</td><td>272.0</td><td>396.274</td><td>396.274</td></tr><tr><th>11</th><td>2018arc_qf2m1_red</td><td>440.0</td><td>356.463</td><td>356.463</td></tr><tr><th>12</th><td>2018arc_qf2m1_blue</td><td>306.0</td><td>413.231</td><td>413.231</td></tr><tr><th>13</th><td>2018arc_qf2m2_red</td><td>387.0</td><td>356.463</td><td>356.463</td></tr><tr><th>14</th><td>2018arc_qf2m2_blue</td><td>365.0</td><td>363.181</td><td>363.181</td></tr><tr><th>15</th><td>2018arc_qf3m1_red</td><td>452.0</td><td>487.37</td><td>487.37</td></tr><tr><th>16</th><td>2018arc_qf3m1_blue</td><td>213.0</td><td>416.998</td><td>416.998</td></tr><tr><th>17</th><td>2018arc_qf3m2_red</td><td>393.0</td><td>487.425</td><td>487.425</td></tr><tr><th>18</th><td>2018arc_qf3m2_blue</td><td>297.0</td><td>416.998</td><td>416.998</td></tr><tr><th>19</th><td>2018arc_qf4m1_red</td><td>311.0</td><td>469.895</td><td>469.895</td></tr><tr><th>20</th><td>2018arc_qf4m1_blue</td><td>460.0</td><td>372.021</td><td>372.021</td></tr><tr><th>21</th><td>2018arc_qf4m2_red</td><td>368.0</td><td>469.895</td><td>469.895</td></tr><tr><th>22</th><td>2018arc_qf4m2_blue</td><td>352.0</td><td>372.021</td><td>372.021</td></tr><tr><th>23</th><td>2018arc_qf4m3_red</td><td>397.0</td><td>469.895</td><td>469.895</td></tr><tr><th>24</th><td>2018arc_qf4m3_blue</td><td>255.0</td><td>372.021</td><td>372.021</td></tr><tr><th>25</th><td>2018arc_sf1m1_red</td><td>313.0</td><td>445.924</td><td>445.924</td></tr><tr><th>26</th><td>2018arc_sf1m1_blue</td><td>527.0</td><td>356.463</td><td>356.463</td></tr><tr><th>27</th><td>2018arc_sf1m2_red</td><td>348.0</td><td>445.924</td><td>445.924</td></tr><tr><th>28</th><td>2018arc_sf1m2_blue</td><td>405.0</td><td>356.463</td><td>356.463</td></tr><tr><th>29</th><td>2018arc_sf2m1_red</td><td>276.0</td><td>487.37</td><td>487.37</td></tr><tr><th>30</th><td>2018arc_sf2m1_blue</td><td>438.0</td><td>469.895</td><td>469.895</td></tr><tr><th>&vellip;</th><td>&vellip;</td><td>&vellip;</td><td>&vellip;</td><td>&vellip;</td></tr></tbody></table>"
      ],
      "text/latex": [
       "\\begin{tabular}{r|cccc}\n",
       "\t& key & y & LinReg & RidgeReg\\\\\n",
       "\t\\hline\n",
       "\t& Any & Any & Any & Any\\\\\n",
       "\t\\hline\n",
       "\t1 & 2018arc\\_f1m1\\_red & 356.0 & 356.463 & 356.463 \\\\\n",
       "\t2 & 2018arc\\_f1m1\\_blue & 361.0 & 469.895 & 469.895 \\\\\n",
       "\t3 & 2018arc\\_f1m2\\_red & 356.0 & 356.463 & 356.463 \\\\\n",
       "\t4 & 2018arc\\_f1m2\\_blue & 397.0 & 469.895 & 469.895 \\\\\n",
       "\t5 & 2018arc\\_qf1m1\\_red & 270.0 & 478.404 & 478.404 \\\\\n",
       "\t6 & 2018arc\\_qf1m1\\_blue & 317.0 & 396.274 & 396.274 \\\\\n",
       "\t7 & 2018arc\\_qf1m2\\_red & 455.0 & 445.924 & 445.924 \\\\\n",
       "\t8 & 2018arc\\_qf1m2\\_blue & 303.0 & 396.274 & 396.274 \\\\\n",
       "\t9 & 2018arc\\_qf1m3\\_red & 443.0 & 445.924 & 445.924 \\\\\n",
       "\t10 & 2018arc\\_qf1m3\\_blue & 272.0 & 396.274 & 396.274 \\\\\n",
       "\t11 & 2018arc\\_qf2m1\\_red & 440.0 & 356.463 & 356.463 \\\\\n",
       "\t12 & 2018arc\\_qf2m1\\_blue & 306.0 & 413.231 & 413.231 \\\\\n",
       "\t13 & 2018arc\\_qf2m2\\_red & 387.0 & 356.463 & 356.463 \\\\\n",
       "\t14 & 2018arc\\_qf2m2\\_blue & 365.0 & 363.181 & 363.181 \\\\\n",
       "\t15 & 2018arc\\_qf3m1\\_red & 452.0 & 487.37 & 487.37 \\\\\n",
       "\t16 & 2018arc\\_qf3m1\\_blue & 213.0 & 416.998 & 416.998 \\\\\n",
       "\t17 & 2018arc\\_qf3m2\\_red & 393.0 & 487.425 & 487.425 \\\\\n",
       "\t18 & 2018arc\\_qf3m2\\_blue & 297.0 & 416.998 & 416.998 \\\\\n",
       "\t19 & 2018arc\\_qf4m1\\_red & 311.0 & 469.895 & 469.895 \\\\\n",
       "\t20 & 2018arc\\_qf4m1\\_blue & 460.0 & 372.021 & 372.021 \\\\\n",
       "\t21 & 2018arc\\_qf4m2\\_red & 368.0 & 469.895 & 469.895 \\\\\n",
       "\t22 & 2018arc\\_qf4m2\\_blue & 352.0 & 372.021 & 372.021 \\\\\n",
       "\t23 & 2018arc\\_qf4m3\\_red & 397.0 & 469.895 & 469.895 \\\\\n",
       "\t24 & 2018arc\\_qf4m3\\_blue & 255.0 & 372.021 & 372.021 \\\\\n",
       "\t25 & 2018arc\\_sf1m1\\_red & 313.0 & 445.924 & 445.924 \\\\\n",
       "\t26 & 2018arc\\_sf1m1\\_blue & 527.0 & 356.463 & 356.463 \\\\\n",
       "\t27 & 2018arc\\_sf1m2\\_red & 348.0 & 445.924 & 445.924 \\\\\n",
       "\t28 & 2018arc\\_sf1m2\\_blue & 405.0 & 356.463 & 356.463 \\\\\n",
       "\t29 & 2018arc\\_sf2m1\\_red & 276.0 & 487.37 & 487.37 \\\\\n",
       "\t30 & 2018arc\\_sf2m1\\_blue & 438.0 & 469.895 & 469.895 \\\\\n",
       "\t$\\dots$ & $\\dots$ & $\\dots$ & $\\dots$ & $\\dots$ \\\\\n",
       "\\end{tabular}\n"
      ],
      "text/plain": [
       "200×4 DataFrame\n",
       "│ Row │ key                │ y     │ LinReg  │ RidgeReg │\n",
       "│     │ \u001b[90mAny\u001b[39m                │ \u001b[90mAny\u001b[39m   │ \u001b[90mAny\u001b[39m     │ \u001b[90mAny\u001b[39m      │\n",
       "├─────┼────────────────────┼───────┼─────────┼──────────┤\n",
       "│ 1   │ 2018arc_f1m1_red   │ 356.0 │ 356.463 │ 356.463  │\n",
       "│ 2   │ 2018arc_f1m1_blue  │ 361.0 │ 469.895 │ 469.895  │\n",
       "│ 3   │ 2018arc_f1m2_red   │ 356.0 │ 356.463 │ 356.463  │\n",
       "│ 4   │ 2018arc_f1m2_blue  │ 397.0 │ 469.895 │ 469.895  │\n",
       "│ 5   │ 2018arc_qf1m1_red  │ 270.0 │ 478.404 │ 478.404  │\n",
       "│ 6   │ 2018arc_qf1m1_blue │ 317.0 │ 396.274 │ 396.274  │\n",
       "│ 7   │ 2018arc_qf1m2_red  │ 455.0 │ 445.924 │ 445.924  │\n",
       "│ 8   │ 2018arc_qf1m2_blue │ 303.0 │ 396.274 │ 396.274  │\n",
       "│ 9   │ 2018arc_qf1m3_red  │ 443.0 │ 445.924 │ 445.924  │\n",
       "│ 10  │ 2018arc_qf1m3_blue │ 272.0 │ 396.274 │ 396.274  │\n",
       "⋮\n",
       "│ 190 │ 2018tes_qf4m1_blue │ 358.0 │ 449.009 │ 449.009  │\n",
       "│ 191 │ 2018tes_qf4m2_red  │ 429.0 │ 466.477 │ 466.477  │\n",
       "│ 192 │ 2018tes_qf4m2_blue │ 337.0 │ 449.009 │ 449.009  │\n",
       "│ 193 │ 2018tes_sf1m1_red  │ 425.0 │ 466.663 │ 466.663  │\n",
       "│ 194 │ 2018tes_sf1m1_blue │ 336.0 │ 386.895 │ 386.895  │\n",
       "│ 195 │ 2018tes_sf1m2_red  │ 520.0 │ 466.663 │ 466.663  │\n",
       "│ 196 │ 2018tes_sf1m2_blue │ 112.0 │ 386.895 │ 386.895  │\n",
       "│ 197 │ 2018tes_sf2m1_red  │ 377.0 │ 434.299 │ 434.299  │\n",
       "│ 198 │ 2018tes_sf2m1_blue │ 394.0 │ 466.477 │ 466.477  │\n",
       "│ 199 │ 2018tes_sf2m2_red  │ 275.0 │ 488.154 │ 488.154  │\n",
       "│ 200 │ 2018tes_sf2m2_blue │ 461.0 │ 466.477 │ 466.477  │"
      ]
     },
     "execution_count": 131,
     "metadata": {},
     "output_type": "execute_result"
    }
   ],
   "source": [
    "predictions_table = DataFrame(hcat(scores_test.key, test_y, test_yhat_m1, test_yhat_m2), [:key, :y, :LinReg, :RidgeReg])"
   ]
  },
  {
   "cell_type": "code",
   "execution_count": 132,
   "metadata": {},
   "outputs": [
    {
     "data": {
      "text/plain": [
       "128.15965838569656"
      ]
     },
     "execution_count": 132,
     "metadata": {},
     "output_type": "execute_result"
    }
   ],
   "source": [
    "rmse_1 = mean((predictions_table.LinReg-predictions_table.y).^2) |> sqrt"
   ]
  },
  {
   "cell_type": "code",
   "execution_count": 133,
   "metadata": {},
   "outputs": [
    {
     "data": {
      "text/plain": [
       "128.15965838569633"
      ]
     },
     "execution_count": 133,
     "metadata": {},
     "output_type": "execute_result"
    }
   ],
   "source": [
    "rmse_2 = mean((predictions_table.RidgeReg-predictions_table.y).^2) |> sqrt"
   ]
  },
  {
   "cell_type": "code",
   "execution_count": null,
   "metadata": {},
   "outputs": [],
   "source": []
  },
  {
   "cell_type": "code",
   "execution_count": null,
   "metadata": {},
   "outputs": [],
   "source": []
  }
 ],
 "metadata": {
  "kernelspec": {
   "display_name": "Julia 1.0.2",
   "language": "julia",
   "name": "julia-1.0"
  },
  "language_info": {
   "file_extension": ".jl",
   "mimetype": "application/julia",
   "name": "julia",
   "version": "1.0.2"
  }
 },
 "nbformat": 4,
 "nbformat_minor": 2
}
