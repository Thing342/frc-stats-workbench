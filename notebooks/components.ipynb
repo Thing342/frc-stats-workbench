{
 "cells": [
  {
   "cell_type": "code",
   "execution_count": 22,
   "metadata": {},
   "outputs": [
    {
     "name": "stderr",
     "output_type": "stream",
     "text": [
      "WARNING: replacing module Lib.\n",
      "WARNING: replacing module DeepSpace.\n"
     ]
    },
    {
     "data": {
      "text/plain": [
       "Main.DeepSpace"
      ]
     },
     "execution_count": 22,
     "metadata": {},
     "output_type": "execute_result"
    }
   ],
   "source": [
    "include(\"../lib/Lib.jl\")\n",
    "include(\"../lib/DeepSpace.jl\")"
   ]
  },
  {
   "cell_type": "code",
   "execution_count": 23,
   "metadata": {},
   "outputs": [
    {
     "name": "stderr",
     "output_type": "stream",
     "text": [
      "WARNING: redefining constant LinearRegression\n",
      "WARNING: redefining constant ElasticNet\n"
     ]
    },
    {
     "data": {
      "text/plain": [
       "PyObject <class 'sklearn.linear_model.coordinate_descent.ElasticNet'>"
      ]
     },
     "execution_count": 23,
     "metadata": {},
     "output_type": "execute_result"
    }
   ],
   "source": [
    "using DataFrames, DataFramesMeta\n",
    "using Statistics\n",
    "using ScikitLearn\n",
    "using Main\n",
    "\n",
    "@sk_import linear_model: LinearRegression\n",
    "@sk_import linear_model: ElasticNet"
   ]
  },
  {
   "cell_type": "code",
   "execution_count": 24,
   "metadata": {},
   "outputs": [
    {
     "data": {
      "text/plain": [
       "\"2019\""
      ]
     },
     "execution_count": 24,
     "metadata": {},
     "output_type": "execute_result"
    }
   ],
   "source": [
    "KEY = \"2019week0\"\n",
    "YEAR = \"2019\""
   ]
  },
  {
   "cell_type": "code",
   "execution_count": 25,
   "metadata": {},
   "outputs": [
    {
     "data": {
      "text/plain": [
       "([\"adjustPoints\", \"autoPoints\", \"bay1\", \"bay2\", \"bay3\", \"bay4\", \"bay5\", \"bay6\", \"bay7\", \"bay8\"  …  \"techFoulCount\", \"teleopPoints\", \"topLeftRocketFar\", \"topLeftRocketNear\", \"topRightRocketFar\", \"topRightRocketNear\", \"totalPoints\", \"key\", \"level\", \"event\"], 58×54 DataFrame. Omitted printing of 50 columns\n",
       "│ Row │ adjustPoints │ autoPoints │ bay1          │ bay2          │\n",
       "│     │ \u001b[90mInt64⍰\u001b[39m       │ \u001b[90mInt64⍰\u001b[39m     │ \u001b[90mString⍰\u001b[39m       │ \u001b[90mString⍰\u001b[39m       │\n",
       "├─────┼──────────────┼────────────┼───────────────┼───────────────┤\n",
       "│ 1   │ 0            │ 9          │ Panel         │ Panel         │\n",
       "│ 2   │ 0            │ 12         │ Panel         │ PanelAndCargo │\n",
       "│ 3   │ 0            │ 12         │ PanelAndCargo │ PanelAndCargo │\n",
       "│ 4   │ 0            │ 12         │ PanelAndCargo │ PanelAndCargo │\n",
       "│ 5   │ 1            │ 0          │ Panel         │ Panel         │\n",
       "│ 6   │ 0            │ 0          │ Panel         │ Panel         │\n",
       "│ 7   │ 1            │ 0          │ Panel         │ Panel         │\n",
       "│ 8   │ 0            │ 0          │ Panel         │ Panel         │\n",
       "│ 9   │ 0            │ 12         │ Panel         │ Panel         │\n",
       "│ 10  │ 0            │ 9          │ Panel         │ Panel         │\n",
       "⋮\n",
       "│ 48  │ 0            │ 9          │ Panel         │ Panel         │\n",
       "│ 49  │ 0            │ 3          │ Panel         │ Panel         │\n",
       "│ 50  │ 0            │ 9          │ Panel         │ Panel         │\n",
       "│ 51  │ 0            │ 6          │ PanelAndCargo │ PanelAndCargo │\n",
       "│ 52  │ 0            │ 12         │ PanelAndCargo │ PanelAndCargo │\n",
       "│ 53  │ 0            │ 6          │ PanelAndCargo │ PanelAndCargo │\n",
       "│ 54  │ 0            │ 12         │ PanelAndCargo │ PanelAndCargo │\n",
       "│ 55  │ 0            │ 12         │ PanelAndCargo │ PanelAndCargo │\n",
       "│ 56  │ 0            │ 12         │ Panel         │ PanelAndCargo │\n",
       "│ 57  │ 0            │ 12         │ PanelAndCargo │ PanelAndCargo │\n",
       "│ 58  │ 0            │ 15         │ Panel         │ Panel         │, 58×6 DataFrame. Omitted printing of 1 columns\n",
       "│ Row │ team1   │ team2   │ team3   │ key                  │ level   │\n",
       "│     │ \u001b[90mString⍰\u001b[39m │ \u001b[90mString⍰\u001b[39m │ \u001b[90mString⍰\u001b[39m │ \u001b[90mString⍰\u001b[39m              │ \u001b[90mString⍰\u001b[39m │\n",
       "├─────┼─────────┼─────────┼─────────┼──────────────────────┼─────────┤\n",
       "│ 1   │ frc1153 │ frc3236 │ frc246  │ 2019week0_f1m1_red   │ f       │\n",
       "│ 2   │ frc5687 │ frc58   │ frc1517 │ 2019week0_f1m1_blue  │ f       │\n",
       "│ 3   │ frc1153 │ frc3236 │ frc246  │ 2019week0_f1m2_red   │ f       │\n",
       "│ 4   │ frc5687 │ frc58   │ frc1517 │ 2019week0_f1m2_blue  │ f       │\n",
       "│ 5   │ frc1153 │ frc3236 │ frc246  │ 2019week0_qf1m1_red  │ qf      │\n",
       "│ 6   │ frc9998 │ frc9999 │ frc9997 │ 2019week0_qf1m1_blue │ qf      │\n",
       "│ 7   │ frc1153 │ frc3236 │ frc246  │ 2019week0_qf1m2_red  │ qf      │\n",
       "│ 8   │ frc9998 │ frc9999 │ frc9997 │ 2019week0_qf1m2_blue │ qf      │\n",
       "│ 9   │ frc1729 │ frc1073 │ frc501  │ 2019week0_qf2m1_red  │ qf      │\n",
       "│ 10  │ frc1721 │ frc7314 │ frc2342 │ 2019week0_qf2m1_blue │ qf      │\n",
       "⋮\n",
       "│ 48  │ frc5813 │ frc1721 │ frc1729 │ 2019week0_qm8_blue   │ qm      │\n",
       "│ 49  │ frc3986 │ frc4905 │ frc246  │ 2019week0_qm9_red    │ qm      │\n",
       "│ 50  │ frc1517 │ frc58   │ frc3323 │ 2019week0_qm9_blue   │ qm      │\n",
       "│ 51  │ frc1153 │ frc3236 │ frc246  │ 2019week0_sf1m1_red  │ sf      │\n",
       "│ 52  │ frc1729 │ frc1073 │ frc501  │ 2019week0_sf1m1_blue │ sf      │\n",
       "│ 53  │ frc1153 │ frc3236 │ frc246  │ 2019week0_sf1m2_red  │ sf      │\n",
       "│ 54  │ frc1729 │ frc1073 │ frc501  │ 2019week0_sf1m2_blue │ sf      │\n",
       "│ 55  │ frc5687 │ frc58   │ frc1517 │ 2019week0_sf2m1_red  │ sf      │\n",
       "│ 56  │ frc509  │ frc6153 │ frc3323 │ 2019week0_sf2m1_blue │ sf      │\n",
       "│ 57  │ frc5687 │ frc58   │ frc1517 │ 2019week0_sf2m2_red  │ sf      │\n",
       "│ 58  │ frc509  │ frc6153 │ frc3323 │ 2019week0_sf2m2_blue │ sf      │)"
      ]
     },
     "execution_count": 25,
     "metadata": {},
     "output_type": "execute_result"
    }
   ],
   "source": [
    "(headers, scores, teams) = Lib.read_stacked(KEY, YEAR)"
   ]
  },
  {
   "cell_type": "code",
   "execution_count": 26,
   "metadata": {},
   "outputs": [
    {
     "data": {
      "text/plain": [
       "58-element Array{Int64,1}:\n",
       "  4\n",
       "  0\n",
       "  0\n",
       "  0\n",
       "  0\n",
       "  0\n",
       "  0\n",
       "  0\n",
       "  0\n",
       "  9\n",
       "  0\n",
       "  0\n",
       "  0\n",
       "  ⋮\n",
       "  0\n",
       "  4\n",
       "  2\n",
       "  0\n",
       "  0\n",
       "  0\n",
       "  0\n",
       "  0\n",
       "  0\n",
       " 10\n",
       "  0\n",
       " 12"
      ]
     },
     "execution_count": 26,
     "metadata": {},
     "output_type": "execute_result"
    }
   ],
   "source": [
    "DeepSpace.calculated_columns!(scores)"
   ]
  },
  {
   "cell_type": "code",
   "execution_count": 27,
   "metadata": {},
   "outputs": [
    {
     "data": {
      "text/plain": [
       "([1.0 0.0 … 1.0 0.0; 0.0 0.0 … 0.0 0.0; … ; 0.0 0.0 … 0.0 0.0; 0.0 0.0 … 0.0 0.0], Union{Missing, String}[\"frc1073\", \"frc1153\", \"frc1517\", \"frc1721\", \"frc1729\", \"frc190\", \"frc2084\", \"frc2342\", \"frc246\", \"frc3236\"  …  \"frc3986\", \"frc4905\", \"frc501\", \"frc509\", \"frc5687\", \"frc58\", \"frc5813\", \"frc6153\", \"frc7314\", \"frc811\"], Dict(\"frc1721\"=>4,\"frc6153\"=>20,\"frc3236\"=>10,\"frc509\"=>16,\"frc3467\"=>12,\"frc5687\"=>17,\"frc1153\"=>2,\"frc1073\"=>1,\"frc1729\"=>5,\"frc2084\"=>7…))"
      ]
     },
     "execution_count": 27,
     "metadata": {},
     "output_type": "execute_result"
    }
   ],
   "source": [
    "scores_train = @linq scores |> where(:level .== \"qm\")\n",
    "teams_train = @linq teams |> where(:level .== \"qm\")\n",
    "\n",
    "scores_test = @linq scores |> where(:level .!= \"qm\")\n",
    "teams_test = @linq teams |> where(:level .!= \"qm\")\n",
    "\n",
    "(ß, teamnums, teamindex) = Lib.opr_ß(scores_train, teams_train ; shortevent = true)"
   ]
  },
  {
   "cell_type": "code",
   "execution_count": 28,
   "metadata": {},
   "outputs": [
    {
     "data": {
      "text/html": [
       "<table class=\"data-frame\"><thead><tr><th></th><th>team</th><th>adjustPoints</th><th>autoPoints</th><th>cargoPoints</th><th>completeRocketRankingPoint</th><th>completedRocketFar</th><th>completedRocketNear</th><th>foulCount</th><th>foulPoints</th><th>habClimbPoints</th><th>habDockingRankingPoint</th><th>hatchPanelPoints</th><th>rp</th><th>sandStormBonusPoints</th><th>techFoulCount</th><th>teleopPoints</th><th>totalPoints</th><th>rocketLowPoints</th><th>rocketMidPoints</th><th>rocketTopPoints</th><th>rocketPoints</th></tr><tr><th></th><th>String⍰</th><th>Float64</th><th>Float64</th><th>Float64</th><th>Float64</th><th>Float64</th><th>Float64</th><th>Float64</th><th>Float64</th><th>Float64</th><th>Float64</th><th>Float64</th><th>Float64</th><th>Float64</th><th>Float64</th><th>Float64</th><th>Float64</th><th>Float64</th><th>Float64</th><th>Float64</th><th>Float64</th></tr></thead><tbody><p>22 rows × 21 columns</p><tr><th>1</th><td>frc1073</td><td>0.0</td><td>1.14393</td><td>-3.89734</td><td>0.0</td><td>0.0</td><td>0.0</td><td>-0.0727926</td><td>-1.5973</td><td>-2.41895</td><td>-0.217654</td><td>-1.80075</td><td>0.807215</td><td>1.14393</td><td>-0.263667</td><td>-8.11704</td><td>-8.57041</td><td>0.398869</td><td>-0.602105</td><td>-0.538165</td><td>-0.741401</td></tr><tr><th>2</th><td>frc1153</td><td>0.0</td><td>1.48444</td><td>8.05003</td><td>0.0</td><td>0.0</td><td>0.0</td><td>-0.0737292</td><td>-1.27691</td><td>3.98808</td><td>0.11703</td><td>3.08258</td><td>1.03396</td><td>1.48444</td><td>0.499158</td><td>15.1207</td><td>15.3282</td><td>1.24248</td><td>0.0830439</td><td>-0.756906</td><td>0.568622</td></tr><tr><th>3</th><td>frc1517</td><td>0.0</td><td>3.87995</td><td>6.62942</td><td>0.0</td><td>0.0</td><td>0.0</td><td>0.0506349</td><td>-0.149519</td><td>0.646393</td><td>-0.0807191</td><td>1.2274</td><td>0.957621</td><td>3.87995</td><td>0.100965</td><td>8.50321</td><td>12.2336</td><td>0.880955</td><td>0.0593492</td><td>-0.126754</td><td>0.81355</td></tr><tr><th>4</th><td>frc1721</td><td>0.0</td><td>3.23734</td><td>-11.1395</td><td>0.0</td><td>0.0</td><td>0.0</td><td>0.110384</td><td>3.18017</td><td>0.913833</td><td>0.0194458</td><td>2.83401</td><td>-0.206687</td><td>3.23734</td><td>-0.251238</td><td>-7.39169</td><td>-0.974181</td><td>1.18423</td><td>1.40153</td><td>0.322903</td><td>2.90867</td></tr><tr><th>5</th><td>frc1729</td><td>0.0</td><td>5.10924</td><td>4.05574</td><td>0.0</td><td>0.0</td><td>0.0</td><td>-0.0372124</td><td>2.30582</td><td>8.50868</td><td>0.0576267</td><td>-0.527798</td><td>-0.404448</td><td>5.10924</td><td>0.447494</td><td>12.0366</td><td>19.4517</td><td>1.54817</td><td>-0.910057</td><td>0.0416279</td><td>0.679737</td></tr><tr><th>6</th><td>frc190</td><td>0.0</td><td>1.07835</td><td>-4.72199</td><td>0.0</td><td>0.0</td><td>0.0</td><td>-0.265043</td><td>-1.61334</td><td>1.34039</td><td>-0.24522</td><td>-0.163504</td><td>-0.784452</td><td>1.07835</td><td>-0.10842</td><td>-3.5451</td><td>-4.08008</td><td>-0.8875</td><td>-0.496676</td><td>0.5715</td><td>-0.812677</td></tr><tr><th>7</th><td>frc2084</td><td>0.0</td><td>3.7338</td><td>9.66709</td><td>0.0</td><td>0.0</td><td>0.0</td><td>0.377197</td><td>-3.60934</td><td>0.108556</td><td>-0.0971937</td><td>-2.16665</td><td>0.611937</td><td>3.7338</td><td>0.530647</td><td>7.609</td><td>7.73346</td><td>0.31514</td><td>-1.2243</td><td>-0.534246</td><td>-1.44341</td></tr><tr><th>8</th><td>frc2342</td><td>0.0</td><td>2.95087</td><td>3.46602</td><td>0.0</td><td>0.0</td><td>0.0</td><td>-0.189451</td><td>0.201802</td><td>2.80252</td><td>0.202153</td><td>5.11499</td><td>-0.100729</td><td>2.95087</td><td>-0.162454</td><td>11.3835</td><td>14.5362</td><td>2.31733</td><td>1.83836</td><td>0.0553357</td><td>4.21103</td></tr><tr><th>9</th><td>frc246</td><td>0.0</td><td>-0.348955</td><td>4.5299</td><td>0.0</td><td>0.0</td><td>0.0</td><td>0.349632</td><td>-0.78531</td><td>3.423</td><td>0.151889</td><td>3.75951</td><td>-0.776037</td><td>-0.348955</td><td>0.392619</td><td>11.7124</td><td>10.5781</td><td>1.11103</td><td>-0.42475</td><td>0.710701</td><td>1.39698</td></tr><tr><th>10</th><td>frc3236</td><td>0.0</td><td>1.78247</td><td>11.3474</td><td>0.0</td><td>0.0</td><td>0.0</td><td>-0.00363659</td><td>1.08132</td><td>3.16285</td><td>0.169937</td><td>6.9928</td><td>1.46235</td><td>1.78247</td><td>-0.10664</td><td>21.503</td><td>24.3668</td><td>4.0118</td><td>1.97731</td><td>1.03407</td><td>7.02318</td></tr><tr><th>11</th><td>frc3323</td><td>0.0</td><td>3.01584</td><td>-8.78895</td><td>0.0</td><td>0.0</td><td>0.0</td><td>-0.0926651</td><td>0.548935</td><td>-2.81225</td><td>-0.306929</td><td>-1.16329</td><td>-0.0130077</td><td>3.01584</td><td>-0.21595</td><td>-12.7645</td><td>-9.19972</td><td>-0.577925</td><td>0.34216</td><td>-0.304763</td><td>-0.540527</td></tr><tr><th>12</th><td>frc3467</td><td>0.0</td><td>-0.253051</td><td>-1.84673</td><td>0.0</td><td>0.0</td><td>0.0</td><td>-0.117634</td><td>-0.150034</td><td>2.09558</td><td>-0.0855907</td><td>-0.744122</td><td>-0.648932</td><td>-0.253051</td><td>0.214604</td><td>-0.495274</td><td>-0.898359</td><td>-1.51958</td><td>0.0973394</td><td>0.964236</td><td>-0.458005</td></tr><tr><th>13</th><td>frc3986</td><td>0.0</td><td>0.281428</td><td>-3.66571</td><td>0.0</td><td>0.0</td><td>0.0</td><td>-0.217468</td><td>-2.73418</td><td>-1.37968</td><td>-0.0928166</td><td>0.35846</td><td>0.217981</td><td>0.281428</td><td>0.216403</td><td>-4.68693</td><td>-7.13968</td><td>0.441445</td><td>0.206898</td><td>-0.276007</td><td>0.372337</td></tr><tr><th>14</th><td>frc4905</td><td>0.0</td><td>1.40961</td><td>-2.64938</td><td>0.0</td><td>0.0</td><td>0.0</td><td>-0.193081</td><td>2.82082</td><td>-3.15074</td><td>0.0107982</td><td>3.16977</td><td>0.404657</td><td>1.40961</td><td>-0.72792</td><td>-2.63035</td><td>1.60008</td><td>1.39709</td><td>0.300183</td><td>-0.724681</td><td>0.972595</td></tr><tr><th>15</th><td>frc501</td><td>0.0</td><td>5.36538</td><td>6.69406</td><td>0.0</td><td>0.0</td><td>0.0</td><td>0.389455</td><td>3.91793</td><td>1.04583</td><td>0.169439</td><td>1.06634</td><td>0.423695</td><td>5.36538</td><td>-0.306334</td><td>8.80623</td><td>18.0895</td><td>-0.0792455</td><td>-0.0446333</td><td>-0.230129</td><td>-0.354007</td></tr><tr><th>16</th><td>frc509</td><td>0.0</td><td>0.0884431</td><td>-8.52572</td><td>0.0</td><td>0.0</td><td>0.0</td><td>-0.131265</td><td>0.857342</td><td>1.96731</td><td>-0.0246645</td><td>1.05896</td><td>0.292184</td><td>0.0884431</td><td>-0.358599</td><td>-5.49945</td><td>-4.55366</td><td>-0.245248</td><td>2.08013</td><td>1.21507</td><td>3.04995</td></tr><tr><th>17</th><td>frc5687</td><td>0.0</td><td>3.62005</td><td>5.00666</td><td>0.0</td><td>0.0</td><td>0.0</td><td>0.300605</td><td>-0.668873</td><td>-0.113797</td><td>-0.186452</td><td>1.85394</td><td>0.872277</td><td>3.62005</td><td>-0.141258</td><td>6.74679</td><td>9.69797</td><td>1.26538</td><td>1.31091</td><td>-0.707884</td><td>1.86841</td></tr><tr><th>18</th><td>frc58</td><td>0.0</td><td>2.34</td><td>1.47174</td><td>0.0</td><td>0.0</td><td>0.0</td><td>-0.0129975</td><td>2.46737</td><td>12.2159</td><td>0.570474</td><td>0.0144649</td><td>1.58227</td><td>2.34</td><td>0.237422</td><td>13.7021</td><td>18.5095</td><td>-0.515731</td><td>-0.171436</td><td>0.349471</td><td>-0.337696</td></tr><tr><th>19</th><td>frc5813</td><td>0.0</td><td>0.863158</td><td>5.01363</td><td>0.0</td><td>0.0</td><td>0.0</td><td>-0.225671</td><td>-0.713453</td><td>-0.763062</td><td>0.0537832</td><td>1.62269</td><td>0.579124</td><td>0.863158</td><td>-0.192878</td><td>5.87326</td><td>6.02296</td><td>1.20996</td><td>-0.00215648</td><td>-0.240691</td><td>0.96711</td></tr><tr><th>20</th><td>frc6153</td><td>0.0</td><td>4.07511</td><td>-1.68595</td><td>0.0</td><td>0.0</td><td>0.0</td><td>0.141162</td><td>0.550018</td><td>2.1964</td><td>0.145887</td><td>5.2458</td><td>1.48353</td><td>4.07511</td><td>-0.0646944</td><td>5.75625</td><td>10.3814</td><td>1.86866</td><td>2.25279</td><td>-0.242297</td><td>3.87915</td></tr><tr><th>21</th><td>frc7314</td><td>0.0</td><td>0.777015</td><td>6.29531</td><td>0.0</td><td>0.0</td><td>0.0</td><td>0.0462709</td><td>0.559623</td><td>4.36971</td><td>0.103071</td><td>-3.62446</td><td>-0.20947</td><td>0.777015</td><td>0.346967</td><td>7.04057</td><td>8.37721</td><td>-2.16076</td><td>-1.71332</td><td>0.659488</td><td>-3.21459</td></tr><tr><th>22</th><td>frc811</td><td>0.0</td><td>5.87349</td><td>3.21355</td><td>0.0</td><td>0.0</td><td>0.0</td><td>0.261245</td><td>0.0933167</td><td>1.2167</td><td>-0.0257125</td><td>2.20092</td><td>0.347122</td><td>5.87349</td><td>0.330328</td><td>6.63116</td><td>12.598</td><td>-1.7818</td><td>0.361224</td><td>2.06627</td><td>0.645694</td></tr></tbody></table>"
      ],
      "text/latex": [
       "\\begin{tabular}{r|ccccccccccccccccccccc}\n",
       "\t& team & adjustPoints & autoPoints & cargoPoints & completeRocketRankingPoint & completedRocketFar & completedRocketNear & foulCount & foulPoints & habClimbPoints & habDockingRankingPoint & hatchPanelPoints & rp & sandStormBonusPoints & techFoulCount & teleopPoints & totalPoints & rocketLowPoints & rocketMidPoints & rocketTopPoints & rocketPoints\\\\\n",
       "\t\\hline\n",
       "\t& String⍰ & Float64 & Float64 & Float64 & Float64 & Float64 & Float64 & Float64 & Float64 & Float64 & Float64 & Float64 & Float64 & Float64 & Float64 & Float64 & Float64 & Float64 & Float64 & Float64 & Float64\\\\\n",
       "\t\\hline\n",
       "\t1 & frc1073 & 0.0 & 1.14393 & -3.89734 & 0.0 & 0.0 & 0.0 & -0.0727926 & -1.5973 & -2.41895 & -0.217654 & -1.80075 & 0.807215 & 1.14393 & -0.263667 & -8.11704 & -8.57041 & 0.398869 & -0.602105 & -0.538165 & -0.741401 \\\\\n",
       "\t2 & frc1153 & 0.0 & 1.48444 & 8.05003 & 0.0 & 0.0 & 0.0 & -0.0737292 & -1.27691 & 3.98808 & 0.11703 & 3.08258 & 1.03396 & 1.48444 & 0.499158 & 15.1207 & 15.3282 & 1.24248 & 0.0830439 & -0.756906 & 0.568622 \\\\\n",
       "\t3 & frc1517 & 0.0 & 3.87995 & 6.62942 & 0.0 & 0.0 & 0.0 & 0.0506349 & -0.149519 & 0.646393 & -0.0807191 & 1.2274 & 0.957621 & 3.87995 & 0.100965 & 8.50321 & 12.2336 & 0.880955 & 0.0593492 & -0.126754 & 0.81355 \\\\\n",
       "\t4 & frc1721 & 0.0 & 3.23734 & -11.1395 & 0.0 & 0.0 & 0.0 & 0.110384 & 3.18017 & 0.913833 & 0.0194458 & 2.83401 & -0.206687 & 3.23734 & -0.251238 & -7.39169 & -0.974181 & 1.18423 & 1.40153 & 0.322903 & 2.90867 \\\\\n",
       "\t5 & frc1729 & 0.0 & 5.10924 & 4.05574 & 0.0 & 0.0 & 0.0 & -0.0372124 & 2.30582 & 8.50868 & 0.0576267 & -0.527798 & -0.404448 & 5.10924 & 0.447494 & 12.0366 & 19.4517 & 1.54817 & -0.910057 & 0.0416279 & 0.679737 \\\\\n",
       "\t6 & frc190 & 0.0 & 1.07835 & -4.72199 & 0.0 & 0.0 & 0.0 & -0.265043 & -1.61334 & 1.34039 & -0.24522 & -0.163504 & -0.784452 & 1.07835 & -0.10842 & -3.5451 & -4.08008 & -0.8875 & -0.496676 & 0.5715 & -0.812677 \\\\\n",
       "\t7 & frc2084 & 0.0 & 3.7338 & 9.66709 & 0.0 & 0.0 & 0.0 & 0.377197 & -3.60934 & 0.108556 & -0.0971937 & -2.16665 & 0.611937 & 3.7338 & 0.530647 & 7.609 & 7.73346 & 0.31514 & -1.2243 & -0.534246 & -1.44341 \\\\\n",
       "\t8 & frc2342 & 0.0 & 2.95087 & 3.46602 & 0.0 & 0.0 & 0.0 & -0.189451 & 0.201802 & 2.80252 & 0.202153 & 5.11499 & -0.100729 & 2.95087 & -0.162454 & 11.3835 & 14.5362 & 2.31733 & 1.83836 & 0.0553357 & 4.21103 \\\\\n",
       "\t9 & frc246 & 0.0 & -0.348955 & 4.5299 & 0.0 & 0.0 & 0.0 & 0.349632 & -0.78531 & 3.423 & 0.151889 & 3.75951 & -0.776037 & -0.348955 & 0.392619 & 11.7124 & 10.5781 & 1.11103 & -0.42475 & 0.710701 & 1.39698 \\\\\n",
       "\t10 & frc3236 & 0.0 & 1.78247 & 11.3474 & 0.0 & 0.0 & 0.0 & -0.00363659 & 1.08132 & 3.16285 & 0.169937 & 6.9928 & 1.46235 & 1.78247 & -0.10664 & 21.503 & 24.3668 & 4.0118 & 1.97731 & 1.03407 & 7.02318 \\\\\n",
       "\t11 & frc3323 & 0.0 & 3.01584 & -8.78895 & 0.0 & 0.0 & 0.0 & -0.0926651 & 0.548935 & -2.81225 & -0.306929 & -1.16329 & -0.0130077 & 3.01584 & -0.21595 & -12.7645 & -9.19972 & -0.577925 & 0.34216 & -0.304763 & -0.540527 \\\\\n",
       "\t12 & frc3467 & 0.0 & -0.253051 & -1.84673 & 0.0 & 0.0 & 0.0 & -0.117634 & -0.150034 & 2.09558 & -0.0855907 & -0.744122 & -0.648932 & -0.253051 & 0.214604 & -0.495274 & -0.898359 & -1.51958 & 0.0973394 & 0.964236 & -0.458005 \\\\\n",
       "\t13 & frc3986 & 0.0 & 0.281428 & -3.66571 & 0.0 & 0.0 & 0.0 & -0.217468 & -2.73418 & -1.37968 & -0.0928166 & 0.35846 & 0.217981 & 0.281428 & 0.216403 & -4.68693 & -7.13968 & 0.441445 & 0.206898 & -0.276007 & 0.372337 \\\\\n",
       "\t14 & frc4905 & 0.0 & 1.40961 & -2.64938 & 0.0 & 0.0 & 0.0 & -0.193081 & 2.82082 & -3.15074 & 0.0107982 & 3.16977 & 0.404657 & 1.40961 & -0.72792 & -2.63035 & 1.60008 & 1.39709 & 0.300183 & -0.724681 & 0.972595 \\\\\n",
       "\t15 & frc501 & 0.0 & 5.36538 & 6.69406 & 0.0 & 0.0 & 0.0 & 0.389455 & 3.91793 & 1.04583 & 0.169439 & 1.06634 & 0.423695 & 5.36538 & -0.306334 & 8.80623 & 18.0895 & -0.0792455 & -0.0446333 & -0.230129 & -0.354007 \\\\\n",
       "\t16 & frc509 & 0.0 & 0.0884431 & -8.52572 & 0.0 & 0.0 & 0.0 & -0.131265 & 0.857342 & 1.96731 & -0.0246645 & 1.05896 & 0.292184 & 0.0884431 & -0.358599 & -5.49945 & -4.55366 & -0.245248 & 2.08013 & 1.21507 & 3.04995 \\\\\n",
       "\t17 & frc5687 & 0.0 & 3.62005 & 5.00666 & 0.0 & 0.0 & 0.0 & 0.300605 & -0.668873 & -0.113797 & -0.186452 & 1.85394 & 0.872277 & 3.62005 & -0.141258 & 6.74679 & 9.69797 & 1.26538 & 1.31091 & -0.707884 & 1.86841 \\\\\n",
       "\t18 & frc58 & 0.0 & 2.34 & 1.47174 & 0.0 & 0.0 & 0.0 & -0.0129975 & 2.46737 & 12.2159 & 0.570474 & 0.0144649 & 1.58227 & 2.34 & 0.237422 & 13.7021 & 18.5095 & -0.515731 & -0.171436 & 0.349471 & -0.337696 \\\\\n",
       "\t19 & frc5813 & 0.0 & 0.863158 & 5.01363 & 0.0 & 0.0 & 0.0 & -0.225671 & -0.713453 & -0.763062 & 0.0537832 & 1.62269 & 0.579124 & 0.863158 & -0.192878 & 5.87326 & 6.02296 & 1.20996 & -0.00215648 & -0.240691 & 0.96711 \\\\\n",
       "\t20 & frc6153 & 0.0 & 4.07511 & -1.68595 & 0.0 & 0.0 & 0.0 & 0.141162 & 0.550018 & 2.1964 & 0.145887 & 5.2458 & 1.48353 & 4.07511 & -0.0646944 & 5.75625 & 10.3814 & 1.86866 & 2.25279 & -0.242297 & 3.87915 \\\\\n",
       "\t21 & frc7314 & 0.0 & 0.777015 & 6.29531 & 0.0 & 0.0 & 0.0 & 0.0462709 & 0.559623 & 4.36971 & 0.103071 & -3.62446 & -0.20947 & 0.777015 & 0.346967 & 7.04057 & 8.37721 & -2.16076 & -1.71332 & 0.659488 & -3.21459 \\\\\n",
       "\t22 & frc811 & 0.0 & 5.87349 & 3.21355 & 0.0 & 0.0 & 0.0 & 0.261245 & 0.0933167 & 1.2167 & -0.0257125 & 2.20092 & 0.347122 & 5.87349 & 0.330328 & 6.63116 & 12.598 & -1.7818 & 0.361224 & 2.06627 & 0.645694 \\\\\n",
       "\\end{tabular}\n"
      ],
      "text/plain": [
       "22×21 DataFrame. Omitted printing of 17 columns\n",
       "│ Row │ team    │ adjustPoints │ autoPoints │ cargoPoints │\n",
       "│     │ \u001b[90mString⍰\u001b[39m │ \u001b[90mFloat64\u001b[39m      │ \u001b[90mFloat64\u001b[39m    │ \u001b[90mFloat64\u001b[39m     │\n",
       "├─────┼─────────┼──────────────┼────────────┼─────────────┤\n",
       "│ 1   │ frc1073 │ 0.0          │ 1.14393    │ -3.89734    │\n",
       "│ 2   │ frc1153 │ 0.0          │ 1.48444    │ 8.05003     │\n",
       "│ 3   │ frc1517 │ 0.0          │ 3.87995    │ 6.62942     │\n",
       "│ 4   │ frc1721 │ 0.0          │ 3.23734    │ -11.1395    │\n",
       "│ 5   │ frc1729 │ 0.0          │ 5.10924    │ 4.05574     │\n",
       "│ 6   │ frc190  │ 0.0          │ 1.07835    │ -4.72199    │\n",
       "│ 7   │ frc2084 │ 0.0          │ 3.7338     │ 9.66709     │\n",
       "│ 8   │ frc2342 │ 0.0          │ 2.95087    │ 3.46602     │\n",
       "│ 9   │ frc246  │ 0.0          │ -0.348955  │ 4.5299      │\n",
       "│ 10  │ frc3236 │ 0.0          │ 1.78247    │ 11.3474     │\n",
       "│ 11  │ frc3323 │ 0.0          │ 3.01584    │ -8.78895    │\n",
       "│ 12  │ frc3467 │ 0.0          │ -0.253051  │ -1.84673    │\n",
       "│ 13  │ frc3986 │ 0.0          │ 0.281428   │ -3.66571    │\n",
       "│ 14  │ frc4905 │ 0.0          │ 1.40961    │ -2.64938    │\n",
       "│ 15  │ frc501  │ 0.0          │ 5.36538    │ 6.69406     │\n",
       "│ 16  │ frc509  │ 0.0          │ 0.0884431  │ -8.52572    │\n",
       "│ 17  │ frc5687 │ 0.0          │ 3.62005    │ 5.00666     │\n",
       "│ 18  │ frc58   │ 0.0          │ 2.34       │ 1.47174     │\n",
       "│ 19  │ frc5813 │ 0.0          │ 0.863158   │ 5.01363     │\n",
       "│ 20  │ frc6153 │ 0.0          │ 4.07511    │ -1.68595    │\n",
       "│ 21  │ frc7314 │ 0.0          │ 0.777015   │ 6.29531     │\n",
       "│ 22  │ frc811  │ 0.0          │ 5.87349    │ 3.21355     │"
      ]
     },
     "execution_count": 28,
     "metadata": {},
     "output_type": "execute_result"
    }
   ],
   "source": [
    "model = LinearRegression(fit_intercept=false)\n",
    "components = DataFrame([teamnums], [:team])\n",
    "\n",
    "for col in Lib.numeric_col_names(scores_train)\n",
    "    y = convert.(Float64, coalesce(scores_train[col], -1.0))\n",
    "    modelfit = ScikitLearn.fit!(model, ß, y)\n",
    "    components[col] = modelfit[:coef_]\n",
    "end\n",
    "components"
   ]
  },
  {
   "cell_type": "code",
   "execution_count": null,
   "metadata": {},
   "outputs": [],
   "source": []
  }
 ],
 "metadata": {
  "kernelspec": {
   "display_name": "Julia 1.0.2",
   "language": "julia",
   "name": "julia-1.0"
  },
  "language_info": {
   "file_extension": ".jl",
   "mimetype": "application/julia",
   "name": "julia",
   "version": "1.0.2"
  }
 },
 "nbformat": 4,
 "nbformat_minor": 2
}
