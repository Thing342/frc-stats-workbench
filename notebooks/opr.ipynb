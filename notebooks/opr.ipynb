{
 "cells": [
  {
   "cell_type": "markdown",
   "metadata": {},
   "source": [
    "Libraries needed for this notebook:\n",
    "* DataFrames\n",
    "* CSV"
   ]
  },
  {
   "cell_type": "code",
   "execution_count": 14,
   "metadata": {},
   "outputs": [],
   "source": [
    "using DataFrames\n",
    "using CSV\n",
    "using Statistics"
   ]
  },
  {
   "cell_type": "code",
   "execution_count": 16,
   "metadata": {},
   "outputs": [
    {
     "data": {
      "text/plain": [
       "38-element Array{String,1}:\n",
       " \"adjustPoints\"            \n",
       " \"autoOwnershipPoints\"     \n",
       " \"autoPoints\"              \n",
       " \"autoQuestRankingPoint\"   \n",
       " \"autoRobot1\"              \n",
       " \"autoRobot2\"              \n",
       " \"autoRobot3\"              \n",
       " \"autoRunPoints\"           \n",
       " \"autoScaleOwnershipSec\"   \n",
       " \"autoSwitchAtZero\"        \n",
       " \"autoSwitchOwnershipSec\"  \n",
       " \"endgamePoints\"           \n",
       " \"endgameRobot1\"           \n",
       " ⋮                         \n",
       " \"teleopSwitchBoostSec\"    \n",
       " \"teleopSwitchForceSec\"    \n",
       " \"teleopSwitchOwnershipSec\"\n",
       " \"totalPoints\"             \n",
       " \"vaultBoostPlayed\"        \n",
       " \"vaultBoostTotal\"         \n",
       " \"vaultForcePlayed\"        \n",
       " \"vaultForceTotal\"         \n",
       " \"vaultLevitatePlayed\"     \n",
       " \"vaultLevitateTotal\"      \n",
       " \"vaultPoints\"             \n",
       " \"key\"                     "
      ]
     },
     "execution_count": 16,
     "metadata": {},
     "output_type": "execute_result"
    }
   ],
   "source": [
    "headers = CSV.read(\"../data/2018_headers.csv\") |> (h -> String.(names(h))) |> (a -> push!(a, \"key\"))"
   ]
  },
  {
   "cell_type": "code",
   "execution_count": 17,
   "metadata": {},
   "outputs": [
    {
     "data": {
      "text/html": [
       "<table class=\"data-frame\"><thead><tr><th></th><th>adjustPoints</th><th>autoOwnershipPoints</th><th>autoPoints</th><th>autoQuestRankingPoint</th><th>autoRobot1</th><th>autoRobot2</th><th>autoRobot3</th><th>autoRunPoints</th><th>autoScaleOwnershipSec</th><th>autoSwitchAtZero</th><th>autoSwitchOwnershipSec</th><th>endgamePoints</th><th>endgameRobot1</th><th>endgameRobot2</th><th>endgameRobot3</th><th>faceTheBossRankingPoint</th><th>foulCount</th><th>foulPoints</th><th>rp</th><th>tba_gameData</th><th>techFoulCount</th><th>teleopOwnershipPoints</th><th>teleopPoints</th><th>teleopScaleBoostSec</th><th>teleopScaleForceSec</th><th>teleopScaleOwnershipSec</th><th>teleopSwitchBoostSec</th><th>teleopSwitchForceSec</th><th>teleopSwitchOwnershipSec</th><th>totalPoints</th><th>vaultBoostPlayed</th><th>vaultBoostTotal</th><th>vaultForcePlayed</th><th>vaultForceTotal</th><th>vaultLevitatePlayed</th><th>vaultLevitateTotal</th><th>vaultPoints</th><th>key</th></tr><tr><th></th><th>Int64⍰</th><th>Int64⍰</th><th>Int64⍰</th><th>Bool⍰</th><th>String⍰</th><th>String⍰</th><th>String⍰</th><th>Int64⍰</th><th>Int64⍰</th><th>Bool⍰</th><th>Int64⍰</th><th>Int64⍰</th><th>String⍰</th><th>String⍰</th><th>String⍰</th><th>Bool⍰</th><th>Int64⍰</th><th>Int64⍰</th><th>Int64⍰</th><th>String⍰</th><th>Int64⍰</th><th>Int64⍰</th><th>Int64⍰</th><th>Int64⍰</th><th>Int64⍰</th><th>Int64⍰</th><th>Int64⍰</th><th>Int64⍰</th><th>Int64⍰</th><th>Int64⍰</th><th>Int64⍰</th><th>Int64⍰</th><th>Int64⍰</th><th>Int64⍰</th><th>Int64⍰</th><th>Int64⍰</th><th>Int64⍰</th><th>String⍰</th></tr></thead><tbody><p>1,510 rows × 38 columns</p><tr><th>1</th><td>0</td><td>14</td><td>29</td><td>false</td><td>AutoRun</td><td>AutoRun</td><td>AutoRun</td><td>15</td><td>0</td><td>true</td><td>7</td><td>90</td><td>Climbing</td><td>Climbing</td><td>Levitate</td><td>false</td><td>1</td><td>0</td><td>0</td><td>RRR</td><td>0</td><td>272</td><td>407</td><td>10</td><td>10</td><td>116</td><td>10</td><td>10</td><td>136</td><td>436</td><td>3</td><td>3</td><td>3</td><td>3</td><td>3</td><td>3</td><td>45</td><td>2018chcmp_f1m1_red</td></tr><tr><th>2</th><td>0</td><td>32</td><td>47</td><td>false</td><td>AutoRun</td><td>AutoRun</td><td>AutoRun</td><td>15</td><td>7</td><td>true</td><td>9</td><td>35</td><td>Climbing</td><td>None</td><td>Parking</td><td>false</td><td>0</td><td>5</td><td>0</td><td>RRR</td><td>0</td><td>134</td><td>169</td><td>0</td><td>0</td><td>14</td><td>0</td><td>0</td><td>120</td><td>221</td><td>0</td><td>0</td><td>0</td><td>0</td><td>0</td><td>0</td><td>0</td><td>2018chcmp_f1m1_blue</td></tr><tr><th>3</th><td>0</td><td>14</td><td>29</td><td>false</td><td>AutoRun</td><td>AutoRun</td><td>AutoRun</td><td>15</td><td>0</td><td>true</td><td>7</td><td>90</td><td>Climbing</td><td>Climbing</td><td>Levitate</td><td>false</td><td>0</td><td>5</td><td>0</td><td>RLR</td><td>1</td><td>259</td><td>389</td><td>10</td><td>10</td><td>103</td><td>10</td><td>0</td><td>136</td><td>423</td><td>3</td><td>3</td><td>2</td><td>2</td><td>3</td><td>3</td><td>40</td><td>2018chcmp_f1m2_red</td></tr><tr><th>4</th><td>0</td><td>34</td><td>49</td><td>false</td><td>AutoRun</td><td>AutoRun</td><td>AutoRun</td><td>15</td><td>8</td><td>true</td><td>9</td><td>5</td><td>None</td><td>None</td><td>Parking</td><td>false</td><td>1</td><td>25</td><td>0</td><td>RLR</td><td>0</td><td>103</td><td>128</td><td>0</td><td>10</td><td>27</td><td>0</td><td>0</td><td>76</td><td>202</td><td>0</td><td>0</td><td>2</td><td>2</td><td>0</td><td>2</td><td>20</td><td>2018chcmp_f1m2_blue</td></tr><tr><th>5</th><td>0</td><td>40</td><td>55</td><td>false</td><td>AutoRun</td><td>AutoRun</td><td>AutoRun</td><td>15</td><td>10</td><td>true</td><td>10</td><td>40</td><td>Parking</td><td>Levitate</td><td>Parking</td><td>false</td><td>0</td><td>25</td><td>0</td><td>LRL</td><td>0</td><td>180</td><td>255</td><td>0</td><td>10</td><td>34</td><td>10</td><td>0</td><td>136</td><td>335</td><td>1</td><td>2</td><td>2</td><td>2</td><td>3</td><td>3</td><td>35</td><td>2018chcmp_qf1m1_red</td></tr><tr><th>6</th><td>0</td><td>12</td><td>27</td><td>false</td><td>AutoRun</td><td>AutoRun</td><td>AutoRun</td><td>15</td><td>0</td><td>true</td><td>6</td><td>40</td><td>Parking</td><td>Parking</td><td>Levitate</td><td>false</td><td>0</td><td>0</td><td>0</td><td>LRL</td><td>1</td><td>250</td><td>315</td><td>0</td><td>0</td><td>104</td><td>10</td><td>0</td><td>136</td><td>342</td><td>1</td><td>1</td><td>0</td><td>1</td><td>3</td><td>3</td><td>25</td><td>2018chcmp_qf1m1_blue</td></tr><tr><th>7</th><td>0</td><td>38</td><td>53</td><td>false</td><td>AutoRun</td><td>AutoRun</td><td>AutoRun</td><td>15</td><td>9</td><td>true</td><td>10</td><td>65</td><td>Climbing</td><td>Parking</td><td>Levitate</td><td>false</td><td>0</td><td>5</td><td>0</td><td>LRL</td><td>0</td><td>132</td><td>217</td><td>0</td><td>0</td><td>12</td><td>0</td><td>0</td><td>120</td><td>275</td><td>0</td><td>0</td><td>0</td><td>1</td><td>3</td><td>3</td><td>20</td><td>2018chcmp_qf1m2_red</td></tr><tr><th>8</th><td>0</td><td>14</td><td>29</td><td>false</td><td>AutoRun</td><td>AutoRun</td><td>AutoRun</td><td>15</td><td>0</td><td>true</td><td>7</td><td>65</td><td>Climbing</td><td>Parking</td><td>Levitate</td><td>false</td><td>1</td><td>0</td><td>0</td><td>LRL</td><td>0</td><td>277</td><td>382</td><td>10</td><td>0</td><td>121</td><td>10</td><td>0</td><td>136</td><td>411</td><td>3</td><td>3</td><td>0</td><td>2</td><td>3</td><td>3</td><td>40</td><td>2018chcmp_qf1m2_blue</td></tr><tr><th>9</th><td>0</td><td>28</td><td>43</td><td>false</td><td>AutoRun</td><td>AutoRun</td><td>AutoRun</td><td>15</td><td>8</td><td>true</td><td>6</td><td>65</td><td>Parking</td><td>Climbing</td><td>Levitate</td><td>false</td><td>0</td><td>30</td><td>0</td><td>RLR</td><td>0</td><td>283</td><td>393</td><td>10</td><td>10</td><td>127</td><td>10</td><td>10</td><td>136</td><td>466</td><td>3</td><td>3</td><td>3</td><td>3</td><td>3</td><td>3</td><td>45</td><td>2018chcmp_qf2m1_red</td></tr><tr><th>10</th><td>0</td><td>18</td><td>33</td><td>false</td><td>AutoRun</td><td>AutoRun</td><td>AutoRun</td><td>15</td><td>0</td><td>true</td><td>9</td><td>90</td><td>Climbing</td><td>Climbing</td><td>Levitate</td><td>false</td><td>1</td><td>0</td><td>0</td><td>RLR</td><td>1</td><td>147</td><td>272</td><td>0</td><td>10</td><td>11</td><td>0</td><td>0</td><td>136</td><td>305</td><td>2</td><td>2</td><td>2</td><td>2</td><td>3</td><td>3</td><td>35</td><td>2018chcmp_qf2m1_blue</td></tr><tr><th>11</th><td>0</td><td>18</td><td>33</td><td>false</td><td>AutoRun</td><td>AutoRun</td><td>AutoRun</td><td>15</td><td>4</td><td>true</td><td>5</td><td>60</td><td>None</td><td>Climbing</td><td>Levitate</td><td>false</td><td>2</td><td>25</td><td>0</td><td>LRL</td><td>1</td><td>238</td><td>313</td><td>0</td><td>0</td><td>127</td><td>0</td><td>0</td><td>111</td><td>371</td><td>0</td><td>0</td><td>0</td><td>0</td><td>3</td><td>3</td><td>15</td><td>2018chcmp_qf2m2_red</td></tr><tr><th>12</th><td>0</td><td>20</td><td>35</td><td>false</td><td>AutoRun</td><td>AutoRun</td><td>AutoRun</td><td>15</td><td>1</td><td>true</td><td>9</td><td>35</td><td>Parking</td><td>None</td><td>Levitate</td><td>false</td><td>0</td><td>35</td><td>0</td><td>LRL</td><td>1</td><td>78</td><td>148</td><td>0</td><td>10</td><td>11</td><td>0</td><td>0</td><td>67</td><td>218</td><td>2</td><td>2</td><td>2</td><td>2</td><td>3</td><td>3</td><td>35</td><td>2018chcmp_qf2m2_blue</td></tr><tr><th>13</th><td>0</td><td>0</td><td>15</td><td>false</td><td>AutoRun</td><td>AutoRun</td><td>AutoRun</td><td>15</td><td>0</td><td>false</td><td>0</td><td>90</td><td>Climbing</td><td>Climbing</td><td>Levitate</td><td>false</td><td>0</td><td>0</td><td>0</td><td>LLL</td><td>0</td><td>28</td><td>158</td><td>0</td><td>10</td><td>11</td><td>0</td><td>0</td><td>17</td><td>173</td><td>0</td><td>3</td><td>2</td><td>2</td><td>3</td><td>3</td><td>40</td><td>2018chcmp_qf3m1_red</td></tr><tr><th>14</th><td>0</td><td>28</td><td>43</td><td>false</td><td>AutoRun</td><td>AutoRun</td><td>AutoRun</td><td>15</td><td>6</td><td>true</td><td>8</td><td>65</td><td>Levitate</td><td>Climbing</td><td>Parking</td><td>false</td><td>0</td><td>0</td><td>0</td><td>LLL</td><td>0</td><td>232</td><td>337</td><td>10</td><td>8</td><td>127</td><td>6</td><td>0</td><td>89</td><td>380</td><td>3</td><td>3</td><td>2</td><td>2</td><td>3</td><td>3</td><td>40</td><td>2018chcmp_qf3m1_blue</td></tr><tr><th>15</th><td>0</td><td>22</td><td>32</td><td>false</td><td>AutoRun</td><td>AutoRun</td><td>None</td><td>10</td><td>2</td><td>true</td><td>9</td><td>65</td><td>Parking</td><td>Climbing</td><td>Levitate</td><td>false</td><td>0</td><td>0</td><td>0</td><td>RLR</td><td>0</td><td>162</td><td>242</td><td>0</td><td>0</td><td>85</td><td>0</td><td>0</td><td>77</td><td>274</td><td>0</td><td>0</td><td>0</td><td>0</td><td>3</td><td>3</td><td>15</td><td>2018chcmp_qf3m2_red</td></tr><tr><th>16</th><td>0</td><td>18</td><td>33</td><td>false</td><td>AutoRun</td><td>AutoRun</td><td>AutoRun</td><td>15</td><td>0</td><td>true</td><td>9</td><td>40</td><td>Levitate</td><td>Parking</td><td>Parking</td><td>false</td><td>0</td><td>0</td><td>0</td><td>RLR</td><td>0</td><td>197</td><td>282</td><td>2</td><td>10</td><td>49</td><td>10</td><td>10</td><td>136</td><td>315</td><td>3</td><td>3</td><td>3</td><td>3</td><td>3</td><td>3</td><td>45</td><td>2018chcmp_qf3m2_blue</td></tr><tr><th>17</th><td>0</td><td>16</td><td>31</td><td>false</td><td>AutoRun</td><td>AutoRun</td><td>AutoRun</td><td>15</td><td>0</td><td>true</td><td>8</td><td>60</td><td>Climbing</td><td>Climbing</td><td>None</td><td>false</td><td>0</td><td>30</td><td>0</td><td>RLR</td><td>0</td><td>243</td><td>318</td><td>9</td><td>0</td><td>98</td><td>0</td><td>0</td><td>136</td><td>379</td><td>2</td><td>3</td><td>0</td><td>0</td><td>0</td><td>0</td><td>15</td><td>2018chcmp_qf4m1_red</td></tr><tr><th>18</th><td>0</td><td>36</td><td>51</td><td>false</td><td>AutoRun</td><td>AutoRun</td><td>AutoRun</td><td>15</td><td>9</td><td>true</td><td>9</td><td>5</td><td>Parking</td><td>None</td><td>None</td><td>false</td><td>1</td><td>0</td><td>0</td><td>RLR</td><td>1</td><td>150</td><td>175</td><td>0</td><td>10</td><td>19</td><td>0</td><td>0</td><td>131</td><td>226</td><td>0</td><td>0</td><td>2</td><td>2</td><td>0</td><td>2</td><td>20</td><td>2018chcmp_qf4m1_blue</td></tr><tr><th>19</th><td>0</td><td>16</td><td>31</td><td>false</td><td>AutoRun</td><td>AutoRun</td><td>AutoRun</td><td>15</td><td>0</td><td>true</td><td>8</td><td>90</td><td>Climbing</td><td>Climbing</td><td>Levitate</td><td>false</td><td>0</td><td>30</td><td>0</td><td>LRL</td><td>0</td><td>136</td><td>246</td><td>0</td><td>0</td><td>0</td><td>0</td><td>0</td><td>136</td><td>307</td><td>0</td><td>1</td><td>0</td><td>0</td><td>3</td><td>3</td><td>20</td><td>2018chcmp_qf4m2_red</td></tr><tr><th>20</th><td>0</td><td>34</td><td>49</td><td>false</td><td>AutoRun</td><td>AutoRun</td><td>AutoRun</td><td>15</td><td>7</td><td>true</td><td>10</td><td>65</td><td>Parking</td><td>Climbing</td><td>Levitate</td><td>false</td><td>1</td><td>0</td><td>0</td><td>LRL</td><td>1</td><td>290</td><td>385</td><td>10</td><td>0</td><td>134</td><td>10</td><td>0</td><td>136</td><td>434</td><td>3</td><td>3</td><td>0</td><td>0</td><td>3</td><td>3</td><td>30</td><td>2018chcmp_qf4m2_blue</td></tr><tr><th>21</th><td>0</td><td>16</td><td>31</td><td>false</td><td>AutoRun</td><td>AutoRun</td><td>AutoRun</td><td>15</td><td>0</td><td>true</td><td>8</td><td>10</td><td>Parking</td><td>Parking</td><td>None</td><td>false</td><td>1</td><td>5</td><td>0</td><td>LRL</td><td>0</td><td>152</td><td>177</td><td>0</td><td>0</td><td>6</td><td>10</td><td>0</td><td>136</td><td>213</td><td>1</td><td>1</td><td>0</td><td>2</td><td>0</td><td>0</td><td>15</td><td>2018chcmp_qf4m3_red</td></tr><tr><th>22</th><td>0</td><td>36</td><td>51</td><td>false</td><td>AutoRun</td><td>AutoRun</td><td>AutoRun</td><td>15</td><td>7</td><td>true</td><td>11</td><td>35</td><td>None</td><td>Parking</td><td>Levitate</td><td>false</td><td>1</td><td>5</td><td>0</td><td>LRL</td><td>0</td><td>251</td><td>306</td><td>0</td><td>0</td><td>110</td><td>5</td><td>0</td><td>136</td><td>362</td><td>1</td><td>1</td><td>0</td><td>0</td><td>3</td><td>3</td><td>20</td><td>2018chcmp_qf4m3_blue</td></tr><tr><th>23</th><td>0</td><td>24</td><td>39</td><td>true</td><td>AutoRun</td><td>AutoRun</td><td>AutoRun</td><td>15</td><td>3</td><td>true</td><td>9</td><td>65</td><td>Levitate</td><td>Climbing</td><td>Parking</td><td>false</td><td>0</td><td>0</td><td>3</td><td>RLR</td><td>0</td><td>288</td><td>388</td><td>10</td><td>0</td><td>132</td><td>10</td><td>0</td><td>136</td><td>427</td><td>3</td><td>3</td><td>0</td><td>1</td><td>3</td><td>3</td><td>35</td><td>2018chcmp_qm1_red</td></tr><tr><th>24</th><td>0</td><td>8</td><td>23</td><td>true</td><td>AutoRun</td><td>AutoRun</td><td>AutoRun</td><td>15</td><td>1</td><td>true</td><td>3</td><td>65</td><td>Levitate</td><td>Climbing</td><td>Parking</td><td>false</td><td>0</td><td>0</td><td>1</td><td>RLR</td><td>0</td><td>121</td><td>211</td><td>0</td><td>0</td><td>2</td><td>0</td><td>10</td><td>119</td><td>234</td><td>0</td><td>1</td><td>1</td><td>1</td><td>3</td><td>3</td><td>25</td><td>2018chcmp_qm1_blue</td></tr><tr><th>25</th><td>0</td><td>2</td><td>12</td><td>false</td><td>None</td><td>AutoRun</td><td>AutoRun</td><td>10</td><td>0</td><td>false</td><td>1</td><td>35</td><td>Parking</td><td>None</td><td>Climbing</td><td>false</td><td>1</td><td>5</td><td>0</td><td>RRR</td><td>0</td><td>38</td><td>78</td><td>0</td><td>0</td><td>0</td><td>0</td><td>10</td><td>38</td><td>95</td><td>0</td><td>0</td><td>1</td><td>1</td><td>0</td><td>0</td><td>5</td><td>2018chcmp_qm10_red</td></tr><tr><th>26</th><td>0</td><td>14</td><td>29</td><td>true</td><td>AutoRun</td><td>AutoRun</td><td>AutoRun</td><td>15</td><td>0</td><td>true</td><td>7</td><td>40</td><td>Parking</td><td>Levitate</td><td>Parking</td><td>false</td><td>1</td><td>5</td><td>3</td><td>RRR</td><td>0</td><td>267</td><td>352</td><td>10</td><td>10</td><td>111</td><td>10</td><td>10</td><td>136</td><td>386</td><td>3</td><td>3</td><td>3</td><td>3</td><td>3</td><td>3</td><td>45</td><td>2018chcmp_qm10_blue</td></tr><tr><th>27</th><td>0</td><td>24</td><td>39</td><td>true</td><td>AutoRun</td><td>AutoRun</td><td>AutoRun</td><td>15</td><td>2</td><td>true</td><td>10</td><td>60</td><td>Levitate</td><td>None</td><td>Climbing</td><td>false</td><td>1</td><td>5</td><td>1</td><td>RLR</td><td>0</td><td>96</td><td>171</td><td>0</td><td>0</td><td>62</td><td>0</td><td>0</td><td>34</td><td>215</td><td>0</td><td>0</td><td>0</td><td>0</td><td>3</td><td>3</td><td>15</td><td>2018chcmp_qm100_red</td></tr><tr><th>28</th><td>0</td><td>14</td><td>29</td><td>true</td><td>AutoRun</td><td>AutoRun</td><td>AutoRun</td><td>15</td><td>3</td><td>true</td><td>4</td><td>65</td><td>Parking</td><td>Climbing</td><td>Levitate</td><td>false</td><td>1</td><td>5</td><td>3</td><td>RLR</td><td>0</td><td>178</td><td>288</td><td>5</td><td>10</td><td>28</td><td>9</td><td>0</td><td>136</td><td>322</td><td>3</td><td>3</td><td>2</td><td>3</td><td>3</td><td>3</td><td>45</td><td>2018chcmp_qm100_blue</td></tr><tr><th>29</th><td>0</td><td>16</td><td>31</td><td>true</td><td>AutoRun</td><td>AutoRun</td><td>AutoRun</td><td>15</td><td>0</td><td>true</td><td>8</td><td>10</td><td>None</td><td>Parking</td><td>Parking</td><td>false</td><td>2</td><td>80</td><td>1</td><td>LRL</td><td>0</td><td>46</td><td>56</td><td>0</td><td>0</td><td>13</td><td>0</td><td>0</td><td>33</td><td>167</td><td>0</td><td>0</td><td>0</td><td>0</td><td>0</td><td>0</td><td>0</td><td>2018chcmp_qm101_red</td></tr><tr><th>30</th><td>0</td><td>36</td><td>51</td><td>true</td><td>AutoRun</td><td>AutoRun</td><td>AutoRun</td><td>15</td><td>10</td><td>true</td><td>8</td><td>90</td><td>Levitate</td><td>Climbing</td><td>Climbing</td><td>true</td><td>1</td><td>10</td><td>4</td><td>LRL</td><td>3</td><td>249</td><td>384</td><td>10</td><td>10</td><td>93</td><td>10</td><td>10</td><td>136</td><td>445</td><td>3</td><td>3</td><td>3</td><td>3</td><td>3</td><td>3</td><td>45</td><td>2018chcmp_qm101_blue</td></tr><tr><th>&vellip;</th><td>&vellip;</td><td>&vellip;</td><td>&vellip;</td><td>&vellip;</td><td>&vellip;</td><td>&vellip;</td><td>&vellip;</td><td>&vellip;</td><td>&vellip;</td><td>&vellip;</td><td>&vellip;</td><td>&vellip;</td><td>&vellip;</td><td>&vellip;</td><td>&vellip;</td><td>&vellip;</td><td>&vellip;</td><td>&vellip;</td><td>&vellip;</td><td>&vellip;</td><td>&vellip;</td><td>&vellip;</td><td>&vellip;</td><td>&vellip;</td><td>&vellip;</td><td>&vellip;</td><td>&vellip;</td><td>&vellip;</td><td>&vellip;</td><td>&vellip;</td><td>&vellip;</td><td>&vellip;</td><td>&vellip;</td><td>&vellip;</td><td>&vellip;</td><td>&vellip;</td><td>&vellip;</td><td>&vellip;</td></tr></tbody></table>"
      ],
      "text/latex": [
       "\\begin{tabular}{r|cccccccccccccccccccccccccccccccccccccc}\n",
       "\t& adjustPoints & autoOwnershipPoints & autoPoints & autoQuestRankingPoint & autoRobot1 & autoRobot2 & autoRobot3 & autoRunPoints & autoScaleOwnershipSec & autoSwitchAtZero & autoSwitchOwnershipSec & endgamePoints & endgameRobot1 & endgameRobot2 & endgameRobot3 & faceTheBossRankingPoint & foulCount & foulPoints & rp & tba\\_gameData & techFoulCount & teleopOwnershipPoints & teleopPoints & teleopScaleBoostSec & teleopScaleForceSec & teleopScaleOwnershipSec & teleopSwitchBoostSec & teleopSwitchForceSec & teleopSwitchOwnershipSec & totalPoints & vaultBoostPlayed & vaultBoostTotal & vaultForcePlayed & vaultForceTotal & vaultLevitatePlayed & vaultLevitateTotal & vaultPoints & key\\\\\n",
       "\t\\hline\n",
       "\t& Int64⍰ & Int64⍰ & Int64⍰ & Bool⍰ & String⍰ & String⍰ & String⍰ & Int64⍰ & Int64⍰ & Bool⍰ & Int64⍰ & Int64⍰ & String⍰ & String⍰ & String⍰ & Bool⍰ & Int64⍰ & Int64⍰ & Int64⍰ & String⍰ & Int64⍰ & Int64⍰ & Int64⍰ & Int64⍰ & Int64⍰ & Int64⍰ & Int64⍰ & Int64⍰ & Int64⍰ & Int64⍰ & Int64⍰ & Int64⍰ & Int64⍰ & Int64⍰ & Int64⍰ & Int64⍰ & Int64⍰ & String⍰\\\\\n",
       "\t\\hline\n",
       "\t1 & 0 & 14 & 29 & false & AutoRun & AutoRun & AutoRun & 15 & 0 & true & 7 & 90 & Climbing & Climbing & Levitate & false & 1 & 0 & 0 & RRR & 0 & 272 & 407 & 10 & 10 & 116 & 10 & 10 & 136 & 436 & 3 & 3 & 3 & 3 & 3 & 3 & 45 & 2018chcmp\\_f1m1\\_red \\\\\n",
       "\t2 & 0 & 32 & 47 & false & AutoRun & AutoRun & AutoRun & 15 & 7 & true & 9 & 35 & Climbing & None & Parking & false & 0 & 5 & 0 & RRR & 0 & 134 & 169 & 0 & 0 & 14 & 0 & 0 & 120 & 221 & 0 & 0 & 0 & 0 & 0 & 0 & 0 & 2018chcmp\\_f1m1\\_blue \\\\\n",
       "\t3 & 0 & 14 & 29 & false & AutoRun & AutoRun & AutoRun & 15 & 0 & true & 7 & 90 & Climbing & Climbing & Levitate & false & 0 & 5 & 0 & RLR & 1 & 259 & 389 & 10 & 10 & 103 & 10 & 0 & 136 & 423 & 3 & 3 & 2 & 2 & 3 & 3 & 40 & 2018chcmp\\_f1m2\\_red \\\\\n",
       "\t4 & 0 & 34 & 49 & false & AutoRun & AutoRun & AutoRun & 15 & 8 & true & 9 & 5 & None & None & Parking & false & 1 & 25 & 0 & RLR & 0 & 103 & 128 & 0 & 10 & 27 & 0 & 0 & 76 & 202 & 0 & 0 & 2 & 2 & 0 & 2 & 20 & 2018chcmp\\_f1m2\\_blue \\\\\n",
       "\t5 & 0 & 40 & 55 & false & AutoRun & AutoRun & AutoRun & 15 & 10 & true & 10 & 40 & Parking & Levitate & Parking & false & 0 & 25 & 0 & LRL & 0 & 180 & 255 & 0 & 10 & 34 & 10 & 0 & 136 & 335 & 1 & 2 & 2 & 2 & 3 & 3 & 35 & 2018chcmp\\_qf1m1\\_red \\\\\n",
       "\t6 & 0 & 12 & 27 & false & AutoRun & AutoRun & AutoRun & 15 & 0 & true & 6 & 40 & Parking & Parking & Levitate & false & 0 & 0 & 0 & LRL & 1 & 250 & 315 & 0 & 0 & 104 & 10 & 0 & 136 & 342 & 1 & 1 & 0 & 1 & 3 & 3 & 25 & 2018chcmp\\_qf1m1\\_blue \\\\\n",
       "\t7 & 0 & 38 & 53 & false & AutoRun & AutoRun & AutoRun & 15 & 9 & true & 10 & 65 & Climbing & Parking & Levitate & false & 0 & 5 & 0 & LRL & 0 & 132 & 217 & 0 & 0 & 12 & 0 & 0 & 120 & 275 & 0 & 0 & 0 & 1 & 3 & 3 & 20 & 2018chcmp\\_qf1m2\\_red \\\\\n",
       "\t8 & 0 & 14 & 29 & false & AutoRun & AutoRun & AutoRun & 15 & 0 & true & 7 & 65 & Climbing & Parking & Levitate & false & 1 & 0 & 0 & LRL & 0 & 277 & 382 & 10 & 0 & 121 & 10 & 0 & 136 & 411 & 3 & 3 & 0 & 2 & 3 & 3 & 40 & 2018chcmp\\_qf1m2\\_blue \\\\\n",
       "\t9 & 0 & 28 & 43 & false & AutoRun & AutoRun & AutoRun & 15 & 8 & true & 6 & 65 & Parking & Climbing & Levitate & false & 0 & 30 & 0 & RLR & 0 & 283 & 393 & 10 & 10 & 127 & 10 & 10 & 136 & 466 & 3 & 3 & 3 & 3 & 3 & 3 & 45 & 2018chcmp\\_qf2m1\\_red \\\\\n",
       "\t10 & 0 & 18 & 33 & false & AutoRun & AutoRun & AutoRun & 15 & 0 & true & 9 & 90 & Climbing & Climbing & Levitate & false & 1 & 0 & 0 & RLR & 1 & 147 & 272 & 0 & 10 & 11 & 0 & 0 & 136 & 305 & 2 & 2 & 2 & 2 & 3 & 3 & 35 & 2018chcmp\\_qf2m1\\_blue \\\\\n",
       "\t11 & 0 & 18 & 33 & false & AutoRun & AutoRun & AutoRun & 15 & 4 & true & 5 & 60 & None & Climbing & Levitate & false & 2 & 25 & 0 & LRL & 1 & 238 & 313 & 0 & 0 & 127 & 0 & 0 & 111 & 371 & 0 & 0 & 0 & 0 & 3 & 3 & 15 & 2018chcmp\\_qf2m2\\_red \\\\\n",
       "\t12 & 0 & 20 & 35 & false & AutoRun & AutoRun & AutoRun & 15 & 1 & true & 9 & 35 & Parking & None & Levitate & false & 0 & 35 & 0 & LRL & 1 & 78 & 148 & 0 & 10 & 11 & 0 & 0 & 67 & 218 & 2 & 2 & 2 & 2 & 3 & 3 & 35 & 2018chcmp\\_qf2m2\\_blue \\\\\n",
       "\t13 & 0 & 0 & 15 & false & AutoRun & AutoRun & AutoRun & 15 & 0 & false & 0 & 90 & Climbing & Climbing & Levitate & false & 0 & 0 & 0 & LLL & 0 & 28 & 158 & 0 & 10 & 11 & 0 & 0 & 17 & 173 & 0 & 3 & 2 & 2 & 3 & 3 & 40 & 2018chcmp\\_qf3m1\\_red \\\\\n",
       "\t14 & 0 & 28 & 43 & false & AutoRun & AutoRun & AutoRun & 15 & 6 & true & 8 & 65 & Levitate & Climbing & Parking & false & 0 & 0 & 0 & LLL & 0 & 232 & 337 & 10 & 8 & 127 & 6 & 0 & 89 & 380 & 3 & 3 & 2 & 2 & 3 & 3 & 40 & 2018chcmp\\_qf3m1\\_blue \\\\\n",
       "\t15 & 0 & 22 & 32 & false & AutoRun & AutoRun & None & 10 & 2 & true & 9 & 65 & Parking & Climbing & Levitate & false & 0 & 0 & 0 & RLR & 0 & 162 & 242 & 0 & 0 & 85 & 0 & 0 & 77 & 274 & 0 & 0 & 0 & 0 & 3 & 3 & 15 & 2018chcmp\\_qf3m2\\_red \\\\\n",
       "\t16 & 0 & 18 & 33 & false & AutoRun & AutoRun & AutoRun & 15 & 0 & true & 9 & 40 & Levitate & Parking & Parking & false & 0 & 0 & 0 & RLR & 0 & 197 & 282 & 2 & 10 & 49 & 10 & 10 & 136 & 315 & 3 & 3 & 3 & 3 & 3 & 3 & 45 & 2018chcmp\\_qf3m2\\_blue \\\\\n",
       "\t17 & 0 & 16 & 31 & false & AutoRun & AutoRun & AutoRun & 15 & 0 & true & 8 & 60 & Climbing & Climbing & None & false & 0 & 30 & 0 & RLR & 0 & 243 & 318 & 9 & 0 & 98 & 0 & 0 & 136 & 379 & 2 & 3 & 0 & 0 & 0 & 0 & 15 & 2018chcmp\\_qf4m1\\_red \\\\\n",
       "\t18 & 0 & 36 & 51 & false & AutoRun & AutoRun & AutoRun & 15 & 9 & true & 9 & 5 & Parking & None & None & false & 1 & 0 & 0 & RLR & 1 & 150 & 175 & 0 & 10 & 19 & 0 & 0 & 131 & 226 & 0 & 0 & 2 & 2 & 0 & 2 & 20 & 2018chcmp\\_qf4m1\\_blue \\\\\n",
       "\t19 & 0 & 16 & 31 & false & AutoRun & AutoRun & AutoRun & 15 & 0 & true & 8 & 90 & Climbing & Climbing & Levitate & false & 0 & 30 & 0 & LRL & 0 & 136 & 246 & 0 & 0 & 0 & 0 & 0 & 136 & 307 & 0 & 1 & 0 & 0 & 3 & 3 & 20 & 2018chcmp\\_qf4m2\\_red \\\\\n",
       "\t20 & 0 & 34 & 49 & false & AutoRun & AutoRun & AutoRun & 15 & 7 & true & 10 & 65 & Parking & Climbing & Levitate & false & 1 & 0 & 0 & LRL & 1 & 290 & 385 & 10 & 0 & 134 & 10 & 0 & 136 & 434 & 3 & 3 & 0 & 0 & 3 & 3 & 30 & 2018chcmp\\_qf4m2\\_blue \\\\\n",
       "\t21 & 0 & 16 & 31 & false & AutoRun & AutoRun & AutoRun & 15 & 0 & true & 8 & 10 & Parking & Parking & None & false & 1 & 5 & 0 & LRL & 0 & 152 & 177 & 0 & 0 & 6 & 10 & 0 & 136 & 213 & 1 & 1 & 0 & 2 & 0 & 0 & 15 & 2018chcmp\\_qf4m3\\_red \\\\\n",
       "\t22 & 0 & 36 & 51 & false & AutoRun & AutoRun & AutoRun & 15 & 7 & true & 11 & 35 & None & Parking & Levitate & false & 1 & 5 & 0 & LRL & 0 & 251 & 306 & 0 & 0 & 110 & 5 & 0 & 136 & 362 & 1 & 1 & 0 & 0 & 3 & 3 & 20 & 2018chcmp\\_qf4m3\\_blue \\\\\n",
       "\t23 & 0 & 24 & 39 & true & AutoRun & AutoRun & AutoRun & 15 & 3 & true & 9 & 65 & Levitate & Climbing & Parking & false & 0 & 0 & 3 & RLR & 0 & 288 & 388 & 10 & 0 & 132 & 10 & 0 & 136 & 427 & 3 & 3 & 0 & 1 & 3 & 3 & 35 & 2018chcmp\\_qm1\\_red \\\\\n",
       "\t24 & 0 & 8 & 23 & true & AutoRun & AutoRun & AutoRun & 15 & 1 & true & 3 & 65 & Levitate & Climbing & Parking & false & 0 & 0 & 1 & RLR & 0 & 121 & 211 & 0 & 0 & 2 & 0 & 10 & 119 & 234 & 0 & 1 & 1 & 1 & 3 & 3 & 25 & 2018chcmp\\_qm1\\_blue \\\\\n",
       "\t25 & 0 & 2 & 12 & false & None & AutoRun & AutoRun & 10 & 0 & false & 1 & 35 & Parking & None & Climbing & false & 1 & 5 & 0 & RRR & 0 & 38 & 78 & 0 & 0 & 0 & 0 & 10 & 38 & 95 & 0 & 0 & 1 & 1 & 0 & 0 & 5 & 2018chcmp\\_qm10\\_red \\\\\n",
       "\t26 & 0 & 14 & 29 & true & AutoRun & AutoRun & AutoRun & 15 & 0 & true & 7 & 40 & Parking & Levitate & Parking & false & 1 & 5 & 3 & RRR & 0 & 267 & 352 & 10 & 10 & 111 & 10 & 10 & 136 & 386 & 3 & 3 & 3 & 3 & 3 & 3 & 45 & 2018chcmp\\_qm10\\_blue \\\\\n",
       "\t27 & 0 & 24 & 39 & true & AutoRun & AutoRun & AutoRun & 15 & 2 & true & 10 & 60 & Levitate & None & Climbing & false & 1 & 5 & 1 & RLR & 0 & 96 & 171 & 0 & 0 & 62 & 0 & 0 & 34 & 215 & 0 & 0 & 0 & 0 & 3 & 3 & 15 & 2018chcmp\\_qm100\\_red \\\\\n",
       "\t28 & 0 & 14 & 29 & true & AutoRun & AutoRun & AutoRun & 15 & 3 & true & 4 & 65 & Parking & Climbing & Levitate & false & 1 & 5 & 3 & RLR & 0 & 178 & 288 & 5 & 10 & 28 & 9 & 0 & 136 & 322 & 3 & 3 & 2 & 3 & 3 & 3 & 45 & 2018chcmp\\_qm100\\_blue \\\\\n",
       "\t29 & 0 & 16 & 31 & true & AutoRun & AutoRun & AutoRun & 15 & 0 & true & 8 & 10 & None & Parking & Parking & false & 2 & 80 & 1 & LRL & 0 & 46 & 56 & 0 & 0 & 13 & 0 & 0 & 33 & 167 & 0 & 0 & 0 & 0 & 0 & 0 & 0 & 2018chcmp\\_qm101\\_red \\\\\n",
       "\t30 & 0 & 36 & 51 & true & AutoRun & AutoRun & AutoRun & 15 & 10 & true & 8 & 90 & Levitate & Climbing & Climbing & true & 1 & 10 & 4 & LRL & 3 & 249 & 384 & 10 & 10 & 93 & 10 & 10 & 136 & 445 & 3 & 3 & 3 & 3 & 3 & 3 & 45 & 2018chcmp\\_qm101\\_blue \\\\\n",
       "\t$\\dots$ & $\\dots$ & $\\dots$ & $\\dots$ & $\\dots$ & $\\dots$ & $\\dots$ & $\\dots$ & $\\dots$ & $\\dots$ & $\\dots$ & $\\dots$ & $\\dots$ & $\\dots$ & $\\dots$ & $\\dots$ & $\\dots$ & $\\dots$ & $\\dots$ & $\\dots$ & $\\dots$ & $\\dots$ & $\\dots$ & $\\dots$ & $\\dots$ & $\\dots$ & $\\dots$ & $\\dots$ & $\\dots$ & $\\dots$ & $\\dots$ & $\\dots$ & $\\dots$ & $\\dots$ & $\\dots$ & $\\dots$ & $\\dots$ & $\\dots$ & $\\dots$ \\\\\n",
       "\\end{tabular}\n"
      ],
      "text/plain": [
       "1510×38 DataFrame. Omitted printing of 35 columns\n",
       "│ Row  │ adjustPoints │ autoOwnershipPoints │ autoPoints │\n",
       "│      │ \u001b[90mInt64⍰\u001b[39m       │ \u001b[90mInt64⍰\u001b[39m              │ \u001b[90mInt64⍰\u001b[39m     │\n",
       "├──────┼──────────────┼─────────────────────┼────────────┤\n",
       "│ 1    │ 0            │ 14                  │ 29         │\n",
       "│ 2    │ 0            │ 32                  │ 47         │\n",
       "│ 3    │ 0            │ 14                  │ 29         │\n",
       "│ 4    │ 0            │ 34                  │ 49         │\n",
       "│ 5    │ 0            │ 40                  │ 55         │\n",
       "│ 6    │ 0            │ 12                  │ 27         │\n",
       "│ 7    │ 0            │ 38                  │ 53         │\n",
       "│ 8    │ 0            │ 14                  │ 29         │\n",
       "│ 9    │ 0            │ 28                  │ 43         │\n",
       "│ 10   │ 0            │ 18                  │ 33         │\n",
       "⋮\n",
       "│ 1500 │ 0            │ 16                  │ 21         │\n",
       "│ 1501 │ 0            │ 30                  │ 45         │\n",
       "│ 1502 │ 0            │ 8                   │ 18         │\n",
       "│ 1503 │ 0            │ 8                   │ 23         │\n",
       "│ 1504 │ 0            │ 0                   │ 15         │\n",
       "│ 1505 │ 0            │ 4                   │ 19         │\n",
       "│ 1506 │ 0            │ 0                   │ 15         │\n",
       "│ 1507 │ 0            │ 16                  │ 31         │\n",
       "│ 1508 │ 0            │ 12                  │ 27         │\n",
       "│ 1509 │ 0            │ 28                  │ 43         │\n",
       "│ 1510 │ 0            │ 14                  │ 29         │"
      ]
     },
     "execution_count": 17,
     "metadata": {},
     "output_type": "execute_result"
    }
   ],
   "source": [
    "scores = CSV.read(\"../data/matches_2018chs.csv\", header=headers)"
   ]
  },
  {
   "cell_type": "code",
   "execution_count": 26,
   "metadata": {},
   "outputs": [
    {
     "data": {
      "text/plain": [
       "Dict{String,Int64} with 1510 entries:\n",
       "  \"2018mdedg_qm1_red\"    => 295\n",
       "  \"2018mdoxo_qm26_red\"   => 519\n",
       "  \"2018vabla_qm12_blue\"  => 670\n",
       "  \"2018vapor_qm35_blue\"  => 1410\n",
       "  \"2018vapor_qm4_red\"    => 1419\n",
       "  \"2018vagle_qm24_blue\"  => 1030\n",
       "  \"2018vapor_qm47_blue\"  => 1436\n",
       "  \"2018vagle_qm25_blue\"  => 1032\n",
       "  \"2018vabla_qm49_blue\"  => 750\n",
       "  \"2018chcmp_qm21_red\"   => 91\n",
       "  \"2018vabla_qm55_blue\"  => 764\n",
       "  \"2018mdoxo_qm7_blue\"   => 616\n",
       "  \"2018mdedg_f1m1_blue\"  => 272\n",
       "  \"2018mdedg_qm25_red\"   => 329\n",
       "  \"2018mdedg_qm35_blue\"  => 352\n",
       "  \"2018mdedg_qm66_blue\"  => 420\n",
       "  \"2018vagle_qm50_red\"   => 1087\n",
       "  \"2018mdedg_qm22_red\"   => 323\n",
       "  \"2018vagdc_qm14_blue\"  => 828\n",
       "  \"2018vagle_qm37_red\"   => 1057\n",
       "  \"2018vahay_qm36_red\"   => 1225\n",
       "  \"2018vapor_qm60_blue\"  => 1466\n",
       "  \"2018chcmp_qf4m3_blue\" => 22\n",
       "  \"2018mdedg_qm61_red\"   => 409\n",
       "  \"2018vabla_qm37_blue\"  => 724\n",
       "  ⋮                      => ⋮"
      ]
     },
     "execution_count": 26,
     "metadata": {},
     "output_type": "execute_result"
    }
   ],
   "source": [
    "keyindex = Dict(scores.key[i] => i for i=1:size(scores, 1))"
   ]
  },
  {
   "cell_type": "code",
   "execution_count": 34,
   "metadata": {},
   "outputs": [
    {
     "data": {
      "text/html": [
       "<table class=\"data-frame\"><thead><tr><th></th><th>team1</th><th>team2</th><th>team3</th><th>key</th></tr><tr><th></th><th>String⍰</th><th>String⍰</th><th>String⍰</th><th>String⍰</th></tr></thead><tbody><p>1,510 rows × 4 columns</p><tr><th>1</th><td>frc1885</td><td>frc384</td><td>frc422</td><td>2018chcmp_f1m1_red</td></tr><tr><th>2</th><td>frc401</td><td>frc5804</td><td>frc2537</td><td>2018chcmp_f1m1_blue</td></tr><tr><th>3</th><td>frc1885</td><td>frc384</td><td>frc422</td><td>2018chcmp_f1m2_red</td></tr><tr><th>4</th><td>frc401</td><td>frc5804</td><td>frc2537</td><td>2018chcmp_f1m2_blue</td></tr><tr><th>5</th><td>frc1629</td><td>frc1731</td><td>frc339</td><td>2018chcmp_qf1m1_red</td></tr><tr><th>6</th><td>frc1885</td><td>frc384</td><td>frc422</td><td>2018chcmp_qf1m1_blue</td></tr><tr><th>7</th><td>frc1629</td><td>frc1731</td><td>frc339</td><td>2018chcmp_qf1m2_red</td></tr><tr><th>8</th><td>frc1885</td><td>frc384</td><td>frc422</td><td>2018chcmp_qf1m2_blue</td></tr><tr><th>9</th><td>frc836</td><td>frc5546</td><td>frc612</td><td>2018chcmp_qf2m1_red</td></tr><tr><th>10</th><td>frc1418</td><td>frc623</td><td>frc3793</td><td>2018chcmp_qf2m1_blue</td></tr><tr><th>11</th><td>frc836</td><td>frc5546</td><td>frc612</td><td>2018chcmp_qf2m2_red</td></tr><tr><th>12</th><td>frc1418</td><td>frc623</td><td>frc3793</td><td>2018chcmp_qf2m2_blue</td></tr><tr><th>13</th><td>frc346</td><td>frc1262</td><td>frc1610</td><td>2018chcmp_qf3m1_red</td></tr><tr><th>14</th><td>frc4541</td><td>frc888</td><td>frc614</td><td>2018chcmp_qf3m1_blue</td></tr><tr><th>15</th><td>frc346</td><td>frc1262</td><td>frc1610</td><td>2018chcmp_qf3m2_red</td></tr><tr><th>16</th><td>frc4541</td><td>frc888</td><td>frc614</td><td>2018chcmp_qf3m2_blue</td></tr><tr><th>17</th><td>frc2363</td><td>frc6334</td><td>frc122</td><td>2018chcmp_qf4m1_red</td></tr><tr><th>18</th><td>frc401</td><td>frc5804</td><td>frc2537</td><td>2018chcmp_qf4m1_blue</td></tr><tr><th>19</th><td>frc2363</td><td>frc6334</td><td>frc122</td><td>2018chcmp_qf4m2_red</td></tr><tr><th>20</th><td>frc401</td><td>frc5804</td><td>frc2537</td><td>2018chcmp_qf4m2_blue</td></tr><tr><th>21</th><td>frc2363</td><td>frc6334</td><td>frc122</td><td>2018chcmp_qf4m3_red</td></tr><tr><th>22</th><td>frc401</td><td>frc5804</td><td>frc2537</td><td>2018chcmp_qf4m3_blue</td></tr><tr><th>23</th><td>frc4541</td><td>frc384</td><td>frc5804</td><td>2018chcmp_qm1_red</td></tr><tr><th>24</th><td>frc614</td><td>frc2363</td><td>frc5115</td><td>2018chcmp_qm1_blue</td></tr><tr><th>25</th><td>frc5724</td><td>frc4472</td><td>frc5279</td><td>2018chcmp_qm10_red</td></tr><tr><th>26</th><td>frc5945</td><td>frc2890</td><td>frc5338</td><td>2018chcmp_qm10_blue</td></tr><tr><th>27</th><td>frc1610</td><td>frc5279</td><td>frc1599</td><td>2018chcmp_qm100_red</td></tr><tr><th>28</th><td>frc888</td><td>frc339</td><td>frc2534</td><td>2018chcmp_qm100_blue</td></tr><tr><th>29</th><td>frc4541</td><td>frc2914</td><td>frc5243</td><td>2018chcmp_qm101_red</td></tr><tr><th>30</th><td>frc1731</td><td>frc6334</td><td>frc384</td><td>2018chcmp_qm101_blue</td></tr><tr><th>&vellip;</th><td>&vellip;</td><td>&vellip;</td><td>&vellip;</td><td>&vellip;</td></tr></tbody></table>"
      ],
      "text/latex": [
       "\\begin{tabular}{r|cccc}\n",
       "\t& team1 & team2 & team3 & key\\\\\n",
       "\t\\hline\n",
       "\t& String⍰ & String⍰ & String⍰ & String⍰\\\\\n",
       "\t\\hline\n",
       "\t1 & frc1885 & frc384 & frc422 & 2018chcmp\\_f1m1\\_red \\\\\n",
       "\t2 & frc401 & frc5804 & frc2537 & 2018chcmp\\_f1m1\\_blue \\\\\n",
       "\t3 & frc1885 & frc384 & frc422 & 2018chcmp\\_f1m2\\_red \\\\\n",
       "\t4 & frc401 & frc5804 & frc2537 & 2018chcmp\\_f1m2\\_blue \\\\\n",
       "\t5 & frc1629 & frc1731 & frc339 & 2018chcmp\\_qf1m1\\_red \\\\\n",
       "\t6 & frc1885 & frc384 & frc422 & 2018chcmp\\_qf1m1\\_blue \\\\\n",
       "\t7 & frc1629 & frc1731 & frc339 & 2018chcmp\\_qf1m2\\_red \\\\\n",
       "\t8 & frc1885 & frc384 & frc422 & 2018chcmp\\_qf1m2\\_blue \\\\\n",
       "\t9 & frc836 & frc5546 & frc612 & 2018chcmp\\_qf2m1\\_red \\\\\n",
       "\t10 & frc1418 & frc623 & frc3793 & 2018chcmp\\_qf2m1\\_blue \\\\\n",
       "\t11 & frc836 & frc5546 & frc612 & 2018chcmp\\_qf2m2\\_red \\\\\n",
       "\t12 & frc1418 & frc623 & frc3793 & 2018chcmp\\_qf2m2\\_blue \\\\\n",
       "\t13 & frc346 & frc1262 & frc1610 & 2018chcmp\\_qf3m1\\_red \\\\\n",
       "\t14 & frc4541 & frc888 & frc614 & 2018chcmp\\_qf3m1\\_blue \\\\\n",
       "\t15 & frc346 & frc1262 & frc1610 & 2018chcmp\\_qf3m2\\_red \\\\\n",
       "\t16 & frc4541 & frc888 & frc614 & 2018chcmp\\_qf3m2\\_blue \\\\\n",
       "\t17 & frc2363 & frc6334 & frc122 & 2018chcmp\\_qf4m1\\_red \\\\\n",
       "\t18 & frc401 & frc5804 & frc2537 & 2018chcmp\\_qf4m1\\_blue \\\\\n",
       "\t19 & frc2363 & frc6334 & frc122 & 2018chcmp\\_qf4m2\\_red \\\\\n",
       "\t20 & frc401 & frc5804 & frc2537 & 2018chcmp\\_qf4m2\\_blue \\\\\n",
       "\t21 & frc2363 & frc6334 & frc122 & 2018chcmp\\_qf4m3\\_red \\\\\n",
       "\t22 & frc401 & frc5804 & frc2537 & 2018chcmp\\_qf4m3\\_blue \\\\\n",
       "\t23 & frc4541 & frc384 & frc5804 & 2018chcmp\\_qm1\\_red \\\\\n",
       "\t24 & frc614 & frc2363 & frc5115 & 2018chcmp\\_qm1\\_blue \\\\\n",
       "\t25 & frc5724 & frc4472 & frc5279 & 2018chcmp\\_qm10\\_red \\\\\n",
       "\t26 & frc5945 & frc2890 & frc5338 & 2018chcmp\\_qm10\\_blue \\\\\n",
       "\t27 & frc1610 & frc5279 & frc1599 & 2018chcmp\\_qm100\\_red \\\\\n",
       "\t28 & frc888 & frc339 & frc2534 & 2018chcmp\\_qm100\\_blue \\\\\n",
       "\t29 & frc4541 & frc2914 & frc5243 & 2018chcmp\\_qm101\\_red \\\\\n",
       "\t30 & frc1731 & frc6334 & frc384 & 2018chcmp\\_qm101\\_blue \\\\\n",
       "\t$\\dots$ & $\\dots$ & $\\dots$ & $\\dots$ & $\\dots$ \\\\\n",
       "\\end{tabular}\n"
      ],
      "text/plain": [
       "1510×4 DataFrame\n",
       "│ Row  │ team1   │ team2   │ team3   │ key                  │\n",
       "│      │ \u001b[90mString⍰\u001b[39m │ \u001b[90mString⍰\u001b[39m │ \u001b[90mString⍰\u001b[39m │ \u001b[90mString⍰\u001b[39m              │\n",
       "├──────┼─────────┼─────────┼─────────┼──────────────────────┤\n",
       "│ 1    │ frc1885 │ frc384  │ frc422  │ 2018chcmp_f1m1_red   │\n",
       "│ 2    │ frc401  │ frc5804 │ frc2537 │ 2018chcmp_f1m1_blue  │\n",
       "│ 3    │ frc1885 │ frc384  │ frc422  │ 2018chcmp_f1m2_red   │\n",
       "│ 4    │ frc401  │ frc5804 │ frc2537 │ 2018chcmp_f1m2_blue  │\n",
       "│ 5    │ frc1629 │ frc1731 │ frc339  │ 2018chcmp_qf1m1_red  │\n",
       "│ 6    │ frc1885 │ frc384  │ frc422  │ 2018chcmp_qf1m1_blue │\n",
       "│ 7    │ frc1629 │ frc1731 │ frc339  │ 2018chcmp_qf1m2_red  │\n",
       "│ 8    │ frc1885 │ frc384  │ frc422  │ 2018chcmp_qf1m2_blue │\n",
       "│ 9    │ frc836  │ frc5546 │ frc612  │ 2018chcmp_qf2m1_red  │\n",
       "│ 10   │ frc1418 │ frc623  │ frc3793 │ 2018chcmp_qf2m1_blue │\n",
       "⋮\n",
       "│ 1500 │ frc5804 │ frc7330 │ frc2890 │ 2018vapor_qm9_blue   │\n",
       "│ 1501 │ frc2363 │ frc3072 │ frc5950 │ 2018vapor_sf1m1_red  │\n",
       "│ 1502 │ frc122  │ frc5724 │ frc2028 │ 2018vapor_sf1m1_blue │\n",
       "│ 1503 │ frc2363 │ frc3072 │ frc5950 │ 2018vapor_sf1m2_red  │\n",
       "│ 1504 │ frc122  │ frc5724 │ frc2028 │ 2018vapor_sf1m2_blue │\n",
       "│ 1505 │ frc2363 │ frc3072 │ frc5950 │ 2018vapor_sf1m3_red  │\n",
       "│ 1506 │ frc122  │ frc5724 │ frc2028 │ 2018vapor_sf1m3_blue │\n",
       "│ 1507 │ frc5546 │ frc6334 │ frc977  │ 2018vapor_sf2m1_red  │\n",
       "│ 1508 │ frc422  │ frc1610 │ frc3359 │ 2018vapor_sf2m1_blue │\n",
       "│ 1509 │ frc5546 │ frc6334 │ frc977  │ 2018vapor_sf2m2_red  │\n",
       "│ 1510 │ frc422  │ frc1610 │ frc3359 │ 2018vapor_sf2m2_blue │"
      ]
     },
     "execution_count": 34,
     "metadata": {},
     "output_type": "execute_result"
    }
   ],
   "source": [
    "teams = CSV.read(\"../data/matches_teams_2018chs.csv\", header=[\"team1\",\"team2\",\"team3\",\"key\"])"
   ]
  },
  {
   "cell_type": "code",
   "execution_count": 75,
   "metadata": {},
   "outputs": [
    {
     "data": {
      "text/plain": [
       "Dict{String,Int64} with 130 entries:\n",
       "  \"frc888\"  => 129\n",
       "  \"frc1086\" => 2\n",
       "  \"frc2421\" => 35\n",
       "  \"frc3359\" => 53\n",
       "  \"frc3941\" => 66\n",
       "  \"frc5724\" => 95\n",
       "  \"frc5546\" => 92\n",
       "  \"frc4242\" => 71\n",
       "  \"frc4514\" => 80\n",
       "  \"frc1418\" => 12\n",
       "  \"frc6213\" => 112\n",
       "  \"frc1446\" => 13\n",
       "  \"frc3136\" => 49\n",
       "  \"frc3793\" => 63\n",
       "  \"frc4638\" => 82\n",
       "  \"frc6194\" => 110\n",
       "  \"frc611\"  => 104\n",
       "  \"frc6802\" => 122\n",
       "  \"frc3714\" => 61\n",
       "  \"frc1111\" => 3\n",
       "  \"frc6189\" => 108\n",
       "  \"frc5804\" => 96\n",
       "  \"frc2377\" => 34\n",
       "  \"frc339\"  => 57\n",
       "  \"frc6882\" => 125\n",
       "  ⋮         => ⋮"
      ]
     },
     "execution_count": 75,
     "metadata": {},
     "output_type": "execute_result"
    }
   ],
   "source": [
    "teamnums = teams.team1 |> unique |> sort\n",
    "teamindex = Dict(t => i for (i, t) in enumerate(teamnums))"
   ]
  },
  {
   "cell_type": "code",
   "execution_count": 114,
   "metadata": {},
   "outputs": [
    {
     "data": {
      "text/plain": [
       "130-element Array{Float64,1}:\n",
       " 106.95001063325944 \n",
       " 109.09348972924286 \n",
       "  88.86132118482605 \n",
       "  60.42614816628173 \n",
       "  50.996336344719   \n",
       "  92.0959162452201  \n",
       " 109.46364144343848 \n",
       " 151.45970367557752 \n",
       "  77.71857113527898 \n",
       "  95.27806942692519 \n",
       " 100.57041232594152 \n",
       " 127.97831746336024 \n",
       "  60.97085798957    \n",
       "   ⋮                \n",
       "  61.888149478767325\n",
       "  60.4703691184315  \n",
       "  52.557623067480776\n",
       " 113.88007211008537 \n",
       "  80.87476951937076 \n",
       "  44.258815841049106\n",
       "  86.50337332880312 \n",
       "  29.706845753848526\n",
       "  19.601798852399384\n",
       " 137.0790482362054  \n",
       " 132.22121206865322 \n",
       " 117.21955291970097 "
      ]
     },
     "execution_count": 114,
     "metadata": {},
     "output_type": "execute_result"
    }
   ],
   "source": [
    "ß = zeros(size(scores,1), size(teamnums,1))\n",
    "for p in [:team1, :team2, :team3]\n",
    "    for i=1:size(teams,1)\n",
    "        team = teams[i,p]\n",
    "        j = teamindex[team]\n",
    "        ß[i,j] = 1\n",
    "    end\n",
    "end\n",
    "y = coalesce.(scores.totalPoints, -1)\n",
    "x_hat = (ß'*ß) \\ (ß'*y) # Faster solving method is likely available here, this just shows the math"
   ]
  },
  {
   "cell_type": "code",
   "execution_count": 115,
   "metadata": {},
   "outputs": [
    {
     "data": {
      "text/html": [
       "<table class=\"data-frame\"><thead><tr><th></th><th>team</th><th>opr</th></tr><tr><th></th><th>String⍰</th><th>Float64</th></tr></thead><tbody><p>130 rows × 2 columns</p><tr><th>1</th><td>frc1080</td><td>106.95</td></tr><tr><th>2</th><td>frc1086</td><td>109.093</td></tr><tr><th>3</th><td>frc1111</td><td>88.8613</td></tr><tr><th>4</th><td>frc1123</td><td>60.4261</td></tr><tr><th>5</th><td>frc1137</td><td>50.9963</td></tr><tr><th>6</th><td>frc116</td><td>92.0959</td></tr><tr><th>7</th><td>frc122</td><td>109.464</td></tr><tr><th>8</th><td>frc1262</td><td>151.46</td></tr><tr><th>9</th><td>frc1389</td><td>77.7186</td></tr><tr><th>10</th><td>frc141</td><td>95.2781</td></tr><tr><th>11</th><td>frc1413</td><td>100.57</td></tr><tr><th>12</th><td>frc1418</td><td>127.978</td></tr><tr><th>13</th><td>frc1446</td><td>60.9709</td></tr><tr><th>14</th><td>frc1522</td><td>93.7797</td></tr><tr><th>15</th><td>frc1598</td><td>36.6767</td></tr><tr><th>16</th><td>frc1599</td><td>136.895</td></tr><tr><th>17</th><td>frc1610</td><td>111.734</td></tr><tr><th>18</th><td>frc1629</td><td>179.407</td></tr><tr><th>19</th><td>frc1719</td><td>41.8937</td></tr><tr><th>20</th><td>frc1727</td><td>91.4805</td></tr><tr><th>21</th><td>frc1731</td><td>161.824</td></tr><tr><th>22</th><td>frc1793</td><td>76.7522</td></tr><tr><th>23</th><td>frc1885</td><td>132.902</td></tr><tr><th>24</th><td>frc1895</td><td>106.458</td></tr><tr><th>25</th><td>frc1908</td><td>56.2925</td></tr><tr><th>26</th><td>frc1915</td><td>55.8261</td></tr><tr><th>27</th><td>frc2028</td><td>94.2804</td></tr><tr><th>28</th><td>frc2068</td><td>57.3703</td></tr><tr><th>29</th><td>frc2106</td><td>113.541</td></tr><tr><th>30</th><td>frc2186</td><td>77.643</td></tr><tr><th>&vellip;</th><td>&vellip;</td><td>&vellip;</td></tr></tbody></table>"
      ],
      "text/latex": [
       "\\begin{tabular}{r|cc}\n",
       "\t& team & opr\\\\\n",
       "\t\\hline\n",
       "\t& String⍰ & Float64\\\\\n",
       "\t\\hline\n",
       "\t1 & frc1080 & 106.95 \\\\\n",
       "\t2 & frc1086 & 109.093 \\\\\n",
       "\t3 & frc1111 & 88.8613 \\\\\n",
       "\t4 & frc1123 & 60.4261 \\\\\n",
       "\t5 & frc1137 & 50.9963 \\\\\n",
       "\t6 & frc116 & 92.0959 \\\\\n",
       "\t7 & frc122 & 109.464 \\\\\n",
       "\t8 & frc1262 & 151.46 \\\\\n",
       "\t9 & frc1389 & 77.7186 \\\\\n",
       "\t10 & frc141 & 95.2781 \\\\\n",
       "\t11 & frc1413 & 100.57 \\\\\n",
       "\t12 & frc1418 & 127.978 \\\\\n",
       "\t13 & frc1446 & 60.9709 \\\\\n",
       "\t14 & frc1522 & 93.7797 \\\\\n",
       "\t15 & frc1598 & 36.6767 \\\\\n",
       "\t16 & frc1599 & 136.895 \\\\\n",
       "\t17 & frc1610 & 111.734 \\\\\n",
       "\t18 & frc1629 & 179.407 \\\\\n",
       "\t19 & frc1719 & 41.8937 \\\\\n",
       "\t20 & frc1727 & 91.4805 \\\\\n",
       "\t21 & frc1731 & 161.824 \\\\\n",
       "\t22 & frc1793 & 76.7522 \\\\\n",
       "\t23 & frc1885 & 132.902 \\\\\n",
       "\t24 & frc1895 & 106.458 \\\\\n",
       "\t25 & frc1908 & 56.2925 \\\\\n",
       "\t26 & frc1915 & 55.8261 \\\\\n",
       "\t27 & frc2028 & 94.2804 \\\\\n",
       "\t28 & frc2068 & 57.3703 \\\\\n",
       "\t29 & frc2106 & 113.541 \\\\\n",
       "\t30 & frc2186 & 77.643 \\\\\n",
       "\t$\\dots$ & $\\dots$ & $\\dots$ \\\\\n",
       "\\end{tabular}\n"
      ],
      "text/plain": [
       "130×2 DataFrame\n",
       "│ Row │ team    │ opr     │\n",
       "│     │ \u001b[90mString⍰\u001b[39m │ \u001b[90mFloat64\u001b[39m │\n",
       "├─────┼─────────┼─────────┤\n",
       "│ 1   │ frc1080 │ 106.95  │\n",
       "│ 2   │ frc1086 │ 109.093 │\n",
       "│ 3   │ frc1111 │ 88.8613 │\n",
       "│ 4   │ frc1123 │ 60.4261 │\n",
       "│ 5   │ frc1137 │ 50.9963 │\n",
       "│ 6   │ frc116  │ 92.0959 │\n",
       "│ 7   │ frc122  │ 109.464 │\n",
       "│ 8   │ frc1262 │ 151.46  │\n",
       "│ 9   │ frc1389 │ 77.7186 │\n",
       "│ 10  │ frc141  │ 95.2781 │\n",
       "⋮\n",
       "│ 120 │ frc6543 │ 60.4704 │\n",
       "│ 121 │ frc6584 │ 52.5576 │\n",
       "│ 122 │ frc6802 │ 113.88  │\n",
       "│ 123 │ frc686  │ 80.8748 │\n",
       "│ 124 │ frc6863 │ 44.2588 │\n",
       "│ 125 │ frc6882 │ 86.5034 │\n",
       "│ 126 │ frc6893 │ 29.7068 │\n",
       "│ 127 │ frc7330 │ 19.6018 │\n",
       "│ 128 │ frc836  │ 137.079 │\n",
       "│ 129 │ frc888  │ 132.221 │\n",
       "│ 130 │ frc977  │ 117.22  │"
      ]
     },
     "execution_count": 115,
     "metadata": {},
     "output_type": "execute_result"
    }
   ],
   "source": [
    "oprs = DataFrame([teamnums, x_hat], Symbol.([\"team\", \"opr\"]))"
   ]
  },
  {
   "cell_type": "code",
   "execution_count": 108,
   "metadata": {},
   "outputs": [
    {
     "data": {
      "text/html": [
       "<p>DataFrameRow</p><table class=\"data-frame\"><thead><tr><th></th><th>opr</th><th>team</th></tr><tr><th></th><th>Float64</th><th>String⍰</th></tr></thead><tbody><p>1 rows × 2 columns</p><tr><th>64</th><td>144.733</td><td>frc384</td></tr></tbody></table>"
      ],
      "text/latex": [
       "\\begin{tabular}{r|cc}\n",
       "\t& opr & team\\\\\n",
       "\t\\hline\n",
       "\t& Float64 & String⍰\\\\\n",
       "\t\\hline\n",
       "\t64 & 144.733 & frc384 \\\\\n",
       "\\end{tabular}\n"
      ],
      "text/plain": [
       "DataFrameRow\n",
       "│ Row │ opr     │ team    │\n",
       "│     │ \u001b[90mFloat64\u001b[39m │ \u001b[90mString⍰\u001b[39m │\n",
       "├─────┼─────────┼─────────┤\n",
       "│ 64  │ 144.733 │ frc384  │"
      ]
     },
     "execution_count": 108,
     "metadata": {},
     "output_type": "execute_result"
    }
   ],
   "source": [
    "oprs[teamindex[\"frc384\"],:]"
   ]
  },
  {
   "cell_type": "code",
   "execution_count": 112,
   "metadata": {},
   "outputs": [
    {
     "data": {
      "text/html": [
       "<table class=\"data-frame\"><thead><tr><th></th><th>team</th><th>opr</th></tr><tr><th></th><th>String⍰</th><th>Float64</th></tr></thead><tbody><p>130 rows × 2 columns</p><tr><th>1</th><td>frc225</td><td>180.061</td></tr><tr><th>2</th><td>frc1629</td><td>179.407</td></tr><tr><th>3</th><td>frc1731</td><td>161.824</td></tr><tr><th>4</th><td>frc1262</td><td>151.46</td></tr><tr><th>5</th><td>frc623</td><td>145.201</td></tr><tr><th>6</th><td>frc384</td><td>144.733</td></tr><tr><th>7</th><td>frc4472</td><td>143.854</td></tr><tr><th>8</th><td>frc5945</td><td>142.947</td></tr><tr><th>9</th><td>frc5546</td><td>142.848</td></tr><tr><th>10</th><td>frc2377</td><td>142.467</td></tr><tr><th>11</th><td>frc836</td><td>137.079</td></tr><tr><th>12</th><td>frc1599</td><td>136.895</td></tr><tr><th>13</th><td>frc316</td><td>134.629</td></tr><tr><th>14</th><td>frc2363</td><td>133.855</td></tr><tr><th>15</th><td>frc1885</td><td>132.902</td></tr><tr><th>16</th><td>frc888</td><td>132.221</td></tr><tr><th>17</th><td>frc3072</td><td>131.574</td></tr><tr><th>18</th><td>frc4541</td><td>130.439</td></tr><tr><th>19</th><td>frc346</td><td>129.879</td></tr><tr><th>20</th><td>frc1418</td><td>127.978</td></tr><tr><th>21</th><td>frc612</td><td>124.089</td></tr><tr><th>22</th><td>frc2537</td><td>123.782</td></tr><tr><th>23</th><td>frc5587</td><td>122.876</td></tr><tr><th>24</th><td>frc422</td><td>122.596</td></tr><tr><th>25</th><td>frc2534</td><td>119.652</td></tr><tr><th>26</th><td>frc5338</td><td>117.983</td></tr><tr><th>27</th><td>frc4795</td><td>117.647</td></tr><tr><th>28</th><td>frc2199</td><td>117.419</td></tr><tr><th>29</th><td>frc614</td><td>117.367</td></tr><tr><th>30</th><td>frc977</td><td>117.22</td></tr><tr><th>&vellip;</th><td>&vellip;</td><td>&vellip;</td></tr></tbody></table>"
      ],
      "text/latex": [
       "\\begin{tabular}{r|cc}\n",
       "\t& team & opr\\\\\n",
       "\t\\hline\n",
       "\t& String⍰ & Float64\\\\\n",
       "\t\\hline\n",
       "\t1 & frc225 & 180.061 \\\\\n",
       "\t2 & frc1629 & 179.407 \\\\\n",
       "\t3 & frc1731 & 161.824 \\\\\n",
       "\t4 & frc1262 & 151.46 \\\\\n",
       "\t5 & frc623 & 145.201 \\\\\n",
       "\t6 & frc384 & 144.733 \\\\\n",
       "\t7 & frc4472 & 143.854 \\\\\n",
       "\t8 & frc5945 & 142.947 \\\\\n",
       "\t9 & frc5546 & 142.848 \\\\\n",
       "\t10 & frc2377 & 142.467 \\\\\n",
       "\t11 & frc836 & 137.079 \\\\\n",
       "\t12 & frc1599 & 136.895 \\\\\n",
       "\t13 & frc316 & 134.629 \\\\\n",
       "\t14 & frc2363 & 133.855 \\\\\n",
       "\t15 & frc1885 & 132.902 \\\\\n",
       "\t16 & frc888 & 132.221 \\\\\n",
       "\t17 & frc3072 & 131.574 \\\\\n",
       "\t18 & frc4541 & 130.439 \\\\\n",
       "\t19 & frc346 & 129.879 \\\\\n",
       "\t20 & frc1418 & 127.978 \\\\\n",
       "\t21 & frc612 & 124.089 \\\\\n",
       "\t22 & frc2537 & 123.782 \\\\\n",
       "\t23 & frc5587 & 122.876 \\\\\n",
       "\t24 & frc422 & 122.596 \\\\\n",
       "\t25 & frc2534 & 119.652 \\\\\n",
       "\t26 & frc5338 & 117.983 \\\\\n",
       "\t27 & frc4795 & 117.647 \\\\\n",
       "\t28 & frc2199 & 117.419 \\\\\n",
       "\t29 & frc614 & 117.367 \\\\\n",
       "\t30 & frc977 & 117.22 \\\\\n",
       "\t$\\dots$ & $\\dots$ & $\\dots$ \\\\\n",
       "\\end{tabular}\n"
      ],
      "text/plain": [
       "130×2 DataFrame\n",
       "│ Row │ team    │ opr     │\n",
       "│     │ \u001b[90mString⍰\u001b[39m │ \u001b[90mFloat64\u001b[39m │\n",
       "├─────┼─────────┼─────────┤\n",
       "│ 1   │ frc225  │ 180.061 │\n",
       "│ 2   │ frc1629 │ 179.407 │\n",
       "│ 3   │ frc1731 │ 161.824 │\n",
       "│ 4   │ frc1262 │ 151.46  │\n",
       "│ 5   │ frc623  │ 145.201 │\n",
       "│ 6   │ frc384  │ 144.733 │\n",
       "│ 7   │ frc4472 │ 143.854 │\n",
       "│ 8   │ frc5945 │ 142.947 │\n",
       "│ 9   │ frc5546 │ 142.848 │\n",
       "│ 10  │ frc2377 │ 142.467 │\n",
       "⋮\n",
       "│ 120 │ frc6189 │ 43.0326 │\n",
       "│ 121 │ frc1719 │ 41.8937 │\n",
       "│ 122 │ frc4464 │ 40.8737 │\n",
       "│ 123 │ frc1598 │ 36.6767 │\n",
       "│ 124 │ frc5954 │ 34.1709 │\n",
       "│ 125 │ frc4949 │ 30.2648 │\n",
       "│ 126 │ frc6893 │ 29.7068 │\n",
       "│ 127 │ frc4286 │ 24.541  │\n",
       "│ 128 │ frc617  │ 20.4372 │\n",
       "│ 129 │ frc7330 │ 19.6018 │\n",
       "│ 130 │ frc3714 │ 14.5124 │"
      ]
     },
     "execution_count": 112,
     "metadata": {},
     "output_type": "execute_result"
    }
   ],
   "source": [
    "sort(oprs, (:opr), rev = true)"
   ]
  }
 ],
 "metadata": {
  "kernelspec": {
   "display_name": "Julia 1.0.2",
   "language": "julia",
   "name": "julia-1.0"
  },
  "language_info": {
   "file_extension": ".jl",
   "mimetype": "application/julia",
   "name": "julia",
   "version": "1.0.2"
  }
 },
 "nbformat": 4,
 "nbformat_minor": 2
}
