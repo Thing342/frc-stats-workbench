{
 "cells": [
  {
   "cell_type": "code",
   "execution_count": 1,
   "metadata": {},
   "outputs": [
    {
     "data": {
      "text/plain": [
       "Main.DeepSpace"
      ]
     },
     "execution_count": 1,
     "metadata": {},
     "output_type": "execute_result"
    }
   ],
   "source": [
    "include(\"../lib/Lib.jl\")\n",
    "include(\"../lib/DeepSpace.jl\")"
   ]
  },
  {
   "cell_type": "code",
   "execution_count": 2,
   "metadata": {},
   "outputs": [],
   "source": [
    "using DataFrames, DataFramesMeta\n",
    "using CSV\n",
    "using Statistics"
   ]
  },
  {
   "cell_type": "code",
   "execution_count": 3,
   "metadata": {},
   "outputs": [
    {
     "data": {
      "text/plain": [
       ":teleopSwitchOwnershipSec"
      ]
     },
     "execution_count": 3,
     "metadata": {},
     "output_type": "execute_result"
    }
   ],
   "source": [
    "KEY = \"2019chs_wk1\"\n",
    "YEAR = \"2019\"\n",
    "COLUMN = :teleopSwitchOwnershipSec"
   ]
  },
  {
   "cell_type": "code",
   "execution_count": 4,
   "metadata": {},
   "outputs": [
    {
     "data": {
      "text/plain": [
       "360-element Array{String,1}:\n",
       " \"r\"\n",
       " \"b\"\n",
       " \"r\"\n",
       " \"b\"\n",
       " \"r\"\n",
       " \"b\"\n",
       " \"r\"\n",
       " \"b\"\n",
       " \"r\"\n",
       " \"b\"\n",
       " \"r\"\n",
       " \"b\"\n",
       " \"r\"\n",
       " ⋮  \n",
       " \"r\"\n",
       " \"b\"\n",
       " \"r\"\n",
       " \"b\"\n",
       " \"r\"\n",
       " \"b\"\n",
       " \"r\"\n",
       " \"b\"\n",
       " \"r\"\n",
       " \"b\"\n",
       " \"r\"\n",
       " \"b\""
      ]
     },
     "execution_count": 4,
     "metadata": {},
     "output_type": "execute_result"
    }
   ],
   "source": [
    "(headers, scores, teams) = Lib.read_stacked(KEY, YEAR)\n",
    "scores[:color] = repeat([\"r\", \"b\"], size(scores,1) >> 1)\n",
    "teams[:color] = repeat([\"r\", \"b\"], size(teams,1) >> 1)"
   ]
  },
  {
   "cell_type": "code",
   "execution_count": 5,
   "metadata": {},
   "outputs": [
    {
     "data": {
      "text/plain": [
       "360-element Array{Int64,1}:\n",
       "  62\n",
       "  82\n",
       "  72\n",
       "  71\n",
       "  66\n",
       "  65\n",
       "  52\n",
       "  54\n",
       "  62\n",
       "  35\n",
       "  59\n",
       " -25\n",
       "  63\n",
       "   ⋮\n",
       "  20\n",
       "  12\n",
       "  70\n",
       "  45\n",
       "  59\n",
       "  47\n",
       "  57\n",
       "  60\n",
       "  74\n",
       "  66\n",
       "  51\n",
       "  55"
      ]
     },
     "execution_count": 5,
     "metadata": {},
     "output_type": "execute_result"
    }
   ],
   "source": [
    "DeepSpace.calculated_columns!(scores)\n",
    "scores[:ownPoints] = scores.totalPoints .- scores.foulPoints .- (3 .* scores.foulCount) .- (9 * scores.techFoulCount)"
   ]
  },
  {
   "cell_type": "code",
   "execution_count": 30,
   "metadata": {},
   "outputs": [
    {
     "data": {
      "text/html": [
       "<table class=\"data-frame\"><thead><tr><th></th><th>team1</th><th>team2</th><th>team3</th><th>key</th></tr><tr><th></th><th>String⍰</th><th>String⍰</th><th>String⍰</th><th>String⍰</th></tr></thead><tbody><p>144 rows × 4 columns</p><tr><th>1</th><td>frc620</td><td>frc339</td><td>frc5338</td><td>2019vahay_qm1_blue</td></tr><tr><th>2</th><td>frc2028</td><td>frc316</td><td>frc2363</td><td>2019vahay_qm10_blue</td></tr><tr><th>3</th><td>frc3274</td><td>frc339</td><td>frc2534</td><td>2019vahay_qm11_blue</td></tr><tr><th>4</th><td>frc888</td><td>frc2186</td><td>frc5549</td><td>2019vahay_qm12_blue</td></tr><tr><th>5</th><td>frc611</td><td>frc612</td><td>frc6584</td><td>2019vahay_qm13_blue</td></tr><tr><th>6</th><td>frc1123</td><td>frc620</td><td>frc4505</td><td>2019vahay_qm14_blue</td></tr><tr><th>7</th><td>frc614</td><td>frc339</td><td>frc2421</td><td>2019vahay_qm15_blue</td></tr><tr><th>8</th><td>frc1629</td><td>frc6504</td><td>frc6584</td><td>2019vahay_qm16_blue</td></tr><tr><th>9</th><td>frc4464</td><td>frc3941</td><td>frc3274</td><td>2019vahay_qm17_blue</td></tr><tr><th>10</th><td>frc5338</td><td>frc3455</td><td>frc2186</td><td>2019vahay_qm18_blue</td></tr><tr><th>11</th><td>frc4242</td><td>frc6543</td><td>frc6863</td><td>2019vahay_qm19_blue</td></tr><tr><th>12</th><td>frc6504</td><td>frc1418</td><td>frc3373</td><td>2019vahay_qm2_blue</td></tr><tr><th>13</th><td>frc623</td><td>frc888</td><td>frc620</td><td>2019vahay_qm20_blue</td></tr><tr><th>14</th><td>frc4464</td><td>frc1895</td><td>frc2028</td><td>2019vahay_qm21_blue</td></tr><tr><th>15</th><td>frc6504</td><td>frc6543</td><td>frc611</td><td>2019vahay_qm22_blue</td></tr><tr><th>16</th><td>frc3373</td><td>frc5549</td><td>frc3941</td><td>2019vahay_qm23_blue</td></tr><tr><th>17</th><td>frc1123</td><td>frc2186</td><td>frc2819</td><td>2019vahay_qm24_blue</td></tr><tr><th>18</th><td>frc2961</td><td>frc3274</td><td>frc2988</td><td>2019vahay_qm25_blue</td></tr><tr><th>19</th><td>frc4242</td><td>frc623</td><td>frc1629</td><td>2019vahay_qm26_blue</td></tr><tr><th>20</th><td>frc612</td><td>frc1123</td><td>frc5338</td><td>2019vahay_qm27_blue</td></tr><tr><th>21</th><td>frc1418</td><td>frc2363</td><td>frc614</td><td>2019vahay_qm28_blue</td></tr><tr><th>22</th><td>frc1731</td><td>frc2534</td><td>frc2199</td><td>2019vahay_qm29_blue</td></tr><tr><th>23</th><td>frc623</td><td>frc1719</td><td>frc2199</td><td>2019vahay_qm3_blue</td></tr><tr><th>24</th><td>frc339</td><td>frc1895</td><td>frc4505</td><td>2019vahay_qm30_blue</td></tr><tr><th>25</th><td>frc3455</td><td>frc2028</td><td>frc4242</td><td>2019vahay_qm31_blue</td></tr><tr><th>26</th><td>frc888</td><td>frc611</td><td>frc614</td><td>2019vahay_qm32_blue</td></tr><tr><th>27</th><td>frc2186</td><td>frc4464</td><td>frc3373</td><td>2019vahay_qm33_blue</td></tr><tr><th>28</th><td>frc2199</td><td>frc3274</td><td>frc4242</td><td>2019vahay_qm34_blue</td></tr><tr><th>29</th><td>frc2819</td><td>frc116</td><td>frc2028</td><td>2019vahay_qm35_blue</td></tr><tr><th>30</th><td>frc3941</td><td>frc1418</td><td>frc888</td><td>2019vahay_qm36_blue</td></tr><tr><th>&vellip;</th><td>&vellip;</td><td>&vellip;</td><td>&vellip;</td><td>&vellip;</td></tr></tbody></table>"
      ],
      "text/latex": [
       "\\begin{tabular}{r|cccc}\n",
       "\t& team1 & team2 & team3 & key\\\\\n",
       "\t\\hline\n",
       "\t& String⍰ & String⍰ & String⍰ & String⍰\\\\\n",
       "\t\\hline\n",
       "\t1 & frc620 & frc339 & frc5338 & 2019vahay\\_qm1\\_blue \\\\\n",
       "\t2 & frc2028 & frc316 & frc2363 & 2019vahay\\_qm10\\_blue \\\\\n",
       "\t3 & frc3274 & frc339 & frc2534 & 2019vahay\\_qm11\\_blue \\\\\n",
       "\t4 & frc888 & frc2186 & frc5549 & 2019vahay\\_qm12\\_blue \\\\\n",
       "\t5 & frc611 & frc612 & frc6584 & 2019vahay\\_qm13\\_blue \\\\\n",
       "\t6 & frc1123 & frc620 & frc4505 & 2019vahay\\_qm14\\_blue \\\\\n",
       "\t7 & frc614 & frc339 & frc2421 & 2019vahay\\_qm15\\_blue \\\\\n",
       "\t8 & frc1629 & frc6504 & frc6584 & 2019vahay\\_qm16\\_blue \\\\\n",
       "\t9 & frc4464 & frc3941 & frc3274 & 2019vahay\\_qm17\\_blue \\\\\n",
       "\t10 & frc5338 & frc3455 & frc2186 & 2019vahay\\_qm18\\_blue \\\\\n",
       "\t11 & frc4242 & frc6543 & frc6863 & 2019vahay\\_qm19\\_blue \\\\\n",
       "\t12 & frc6504 & frc1418 & frc3373 & 2019vahay\\_qm2\\_blue \\\\\n",
       "\t13 & frc623 & frc888 & frc620 & 2019vahay\\_qm20\\_blue \\\\\n",
       "\t14 & frc4464 & frc1895 & frc2028 & 2019vahay\\_qm21\\_blue \\\\\n",
       "\t15 & frc6504 & frc6543 & frc611 & 2019vahay\\_qm22\\_blue \\\\\n",
       "\t16 & frc3373 & frc5549 & frc3941 & 2019vahay\\_qm23\\_blue \\\\\n",
       "\t17 & frc1123 & frc2186 & frc2819 & 2019vahay\\_qm24\\_blue \\\\\n",
       "\t18 & frc2961 & frc3274 & frc2988 & 2019vahay\\_qm25\\_blue \\\\\n",
       "\t19 & frc4242 & frc623 & frc1629 & 2019vahay\\_qm26\\_blue \\\\\n",
       "\t20 & frc612 & frc1123 & frc5338 & 2019vahay\\_qm27\\_blue \\\\\n",
       "\t21 & frc1418 & frc2363 & frc614 & 2019vahay\\_qm28\\_blue \\\\\n",
       "\t22 & frc1731 & frc2534 & frc2199 & 2019vahay\\_qm29\\_blue \\\\\n",
       "\t23 & frc623 & frc1719 & frc2199 & 2019vahay\\_qm3\\_blue \\\\\n",
       "\t24 & frc339 & frc1895 & frc4505 & 2019vahay\\_qm30\\_blue \\\\\n",
       "\t25 & frc3455 & frc2028 & frc4242 & 2019vahay\\_qm31\\_blue \\\\\n",
       "\t26 & frc888 & frc611 & frc614 & 2019vahay\\_qm32\\_blue \\\\\n",
       "\t27 & frc2186 & frc4464 & frc3373 & 2019vahay\\_qm33\\_blue \\\\\n",
       "\t28 & frc2199 & frc3274 & frc4242 & 2019vahay\\_qm34\\_blue \\\\\n",
       "\t29 & frc2819 & frc116 & frc2028 & 2019vahay\\_qm35\\_blue \\\\\n",
       "\t30 & frc3941 & frc1418 & frc888 & 2019vahay\\_qm36\\_blue \\\\\n",
       "\t$\\dots$ & $\\dots$ & $\\dots$ & $\\dots$ & $\\dots$ \\\\\n",
       "\\end{tabular}\n"
      ],
      "text/plain": [
       "144×4 DataFrame\n",
       "│ Row │ team1   │ team2   │ team3   │ key                 │\n",
       "│     │ \u001b[90mString⍰\u001b[39m │ \u001b[90mString⍰\u001b[39m │ \u001b[90mString⍰\u001b[39m │ \u001b[90mString⍰\u001b[39m             │\n",
       "├─────┼─────────┼─────────┼─────────┼─────────────────────┤\n",
       "│ 1   │ frc620  │ frc339  │ frc5338 │ 2019vahay_qm1_blue  │\n",
       "│ 2   │ frc2028 │ frc316  │ frc2363 │ 2019vahay_qm10_blue │\n",
       "│ 3   │ frc3274 │ frc339  │ frc2534 │ 2019vahay_qm11_blue │\n",
       "│ 4   │ frc888  │ frc2186 │ frc5549 │ 2019vahay_qm12_blue │\n",
       "│ 5   │ frc611  │ frc612  │ frc6584 │ 2019vahay_qm13_blue │\n",
       "│ 6   │ frc1123 │ frc620  │ frc4505 │ 2019vahay_qm14_blue │\n",
       "│ 7   │ frc614  │ frc339  │ frc2421 │ 2019vahay_qm15_blue │\n",
       "│ 8   │ frc1629 │ frc6504 │ frc6584 │ 2019vahay_qm16_blue │\n",
       "│ 9   │ frc4464 │ frc3941 │ frc3274 │ 2019vahay_qm17_blue │\n",
       "│ 10  │ frc5338 │ frc3455 │ frc2186 │ 2019vahay_qm18_blue │\n",
       "⋮\n",
       "│ 134 │ frc6189 │ frc5950 │ frc1080 │ 2019vagle_qm67_blue │\n",
       "│ 135 │ frc1908 │ frc7429 │ frc3359 │ 2019vagle_qm68_blue │\n",
       "│ 136 │ frc4286 │ frc5804 │ frc619  │ 2019vagle_qm69_blue │\n",
       "│ 137 │ frc540  │ frc122  │ frc5950 │ 2019vagle_qm7_blue  │\n",
       "│ 138 │ frc617  │ frc1610 │ frc6189 │ 2019vagle_qm70_blue │\n",
       "│ 139 │ frc1262 │ frc1413 │ frc5546 │ 2019vagle_qm71_blue │\n",
       "│ 140 │ frc122  │ frc7429 │ frc6882 │ 2019vagle_qm72_blue │\n",
       "│ 141 │ frc1599 │ frc3258 │ frc2998 │ 2019vagle_qm73_blue │\n",
       "│ 142 │ frc1598 │ frc346  │ frc1086 │ 2019vagle_qm74_blue │\n",
       "│ 143 │ frc1522 │ frc2998 │ frc422  │ 2019vagle_qm8_blue  │\n",
       "│ 144 │ frc1080 │ frc1598 │ frc539  │ 2019vagle_qm9_blue  │"
      ]
     },
     "execution_count": 30,
     "metadata": {},
     "output_type": "execute_result"
    }
   ],
   "source": [
    "scores_train = @linq scores |> where(:level .== \"qm\")\n",
    "teams_train = @linq teams |> where(:level .== \"qm\")\n",
    "\n",
    "scores_red = @linq scores_train |> where(:color .== \"r\")\n",
    "scores_blue = @linq scores_train |> where(:color .== \"b\")\n",
    "teams_red = @linq teams_train |> where(:color .== \"r\") |> select(:team1, :team2, :team3, :key)\n",
    "teams_blue = @linq teams_train |> where(:color .== \"b\") |> select(:team1, :team2, :team3, :key)"
   ]
  },
  {
   "cell_type": "code",
   "execution_count": 31,
   "metadata": {},
   "outputs": [
    {
     "data": {
      "text/html": [
       "<table class=\"data-frame\"><thead><tr><th></th><th>adjustPoints</th><th>autoPoints</th><th>bay1</th><th>bay2</th><th>bay3</th><th>bay4</th><th>bay5</th><th>bay6</th><th>bay7</th><th>bay8</th><th>cargoPoints</th><th>completeRocketRankingPoint</th><th>completedRocketFar</th><th>completedRocketNear</th><th>endgameRobot1</th><th>endgameRobot2</th><th>endgameRobot3</th><th>foulCount</th><th>foulPoints</th><th>habClimbPoints</th><th>habDockingRankingPoint</th><th>habLineRobot1</th><th>habLineRobot2</th><th>habLineRobot3</th><th>hatchPanelPoints</th><th>lowLeftRocketFar</th><th>lowLeftRocketNear</th><th>lowRightRocketFar</th><th>lowRightRocketNear</th><th>midLeftRocketFar</th><th>midLeftRocketNear</th><th>midRightRocketFar</th><th>midRightRocketNear</th><th>preMatchBay1</th><th>preMatchBay2</th><th>preMatchBay3</th><th>preMatchBay6</th><th>preMatchBay7</th><th>preMatchBay8</th><th>preMatchLevelRobot1</th><th>preMatchLevelRobot2</th><th>preMatchLevelRobot3</th><th>rp</th><th>sandStormBonusPoints</th><th>techFoulCount</th><th>teleopPoints</th><th>topLeftRocketFar</th><th>topLeftRocketNear</th><th>topRightRocketFar</th><th>topRightRocketNear</th><th>totalPoints</th><th>key</th><th>level</th><th>event</th><th>color</th><th>rocketLowPoints</th><th>rocketMidPoints</th><th>rocketTopPoints</th><th>rocketPoints</th><th>ownPoints</th><th>role</th><th>team</th></tr><tr><th></th><th>Int64⍰</th><th>Int64⍰</th><th>String⍰</th><th>String⍰</th><th>String⍰</th><th>String⍰</th><th>String⍰</th><th>String⍰</th><th>String⍰</th><th>String⍰</th><th>Int64⍰</th><th>Bool⍰</th><th>Bool⍰</th><th>Bool⍰</th><th>String⍰</th><th>String⍰</th><th>String⍰</th><th>Int64⍰</th><th>Int64⍰</th><th>Int64⍰</th><th>Bool⍰</th><th>String⍰</th><th>String⍰</th><th>String⍰</th><th>Int64⍰</th><th>String⍰</th><th>String⍰</th><th>String⍰</th><th>String⍰</th><th>String⍰</th><th>String⍰</th><th>String⍰</th><th>String⍰</th><th>String⍰</th><th>String⍰</th><th>String⍰</th><th>String⍰</th><th>String⍰</th><th>String⍰</th><th>String⍰</th><th>String⍰</th><th>String⍰</th><th>Int64⍰</th><th>Int64⍰</th><th>Int64⍰</th><th>Int64⍰</th><th>String⍰</th><th>String⍰</th><th>String⍰</th><th>String⍰</th><th>Int64⍰</th><th>String⍰</th><th>String⍰</th><th>String⍰</th><th>String</th><th>Int64</th><th>Int64</th><th>Int64</th><th>Int64</th><th>Int64</th><th>Symbol</th><th>String⍰</th></tr></thead><tbody><p>432 rows × 62 columns</p><tr><th>1</th><td>0</td><td>9</td><td>Panel</td><td>Panel</td><td>PanelAndCargo</td><td>None</td><td>None</td><td>PanelAndCargo</td><td>PanelAndCargo</td><td>PanelAndCargo</td><td>12</td><td>false</td><td>false</td><td>false</td><td>HabLevel1</td><td>HabLevel1</td><td>HabLevel1</td><td>0</td><td>0</td><td>9</td><td>false</td><td>CrossedHabLineInSandstorm</td><td>CrossedHabLineInTeleop</td><td>CrossedHabLineInSandstorm</td><td>2</td><td>None</td><td>None</td><td>Panel</td><td>None</td><td>None</td><td>None</td><td>None</td><td>None</td><td>Panel</td><td>Panel</td><td>Panel</td><td>Panel</td><td>Panel</td><td>Panel</td><td>HabLevel2</td><td>HabLevel2</td><td>HabLevel1</td><td>2</td><td>9</td><td>0</td><td>23</td><td>None</td><td>None</td><td>None</td><td>None</td><td>32</td><td>2019vahay_qm1_red</td><td>qm</td><td>2019vahay</td><td>r</td><td>2</td><td>0</td><td>0</td><td>2</td><td>32</td><td>team1</td><td>frc4505</td></tr><tr><th>2</th><td>0</td><td>9</td><td>Panel</td><td>Panel</td><td>PanelAndCargo</td><td>None</td><td>None</td><td>PanelAndCargo</td><td>PanelAndCargo</td><td>PanelAndCargo</td><td>12</td><td>false</td><td>false</td><td>false</td><td>HabLevel1</td><td>HabLevel1</td><td>HabLevel1</td><td>0</td><td>0</td><td>9</td><td>false</td><td>CrossedHabLineInSandstorm</td><td>CrossedHabLineInTeleop</td><td>CrossedHabLineInSandstorm</td><td>2</td><td>None</td><td>None</td><td>Panel</td><td>None</td><td>None</td><td>None</td><td>None</td><td>None</td><td>Panel</td><td>Panel</td><td>Panel</td><td>Panel</td><td>Panel</td><td>Panel</td><td>HabLevel2</td><td>HabLevel2</td><td>HabLevel1</td><td>2</td><td>9</td><td>0</td><td>23</td><td>None</td><td>None</td><td>None</td><td>None</td><td>32</td><td>2019vahay_qm1_red</td><td>qm</td><td>2019vahay</td><td>r</td><td>2</td><td>0</td><td>0</td><td>2</td><td>32</td><td>team2</td><td>frc2988</td></tr><tr><th>3</th><td>0</td><td>9</td><td>Panel</td><td>Panel</td><td>PanelAndCargo</td><td>None</td><td>None</td><td>PanelAndCargo</td><td>PanelAndCargo</td><td>PanelAndCargo</td><td>12</td><td>false</td><td>false</td><td>false</td><td>HabLevel1</td><td>HabLevel1</td><td>HabLevel1</td><td>0</td><td>0</td><td>9</td><td>false</td><td>CrossedHabLineInSandstorm</td><td>CrossedHabLineInTeleop</td><td>CrossedHabLineInSandstorm</td><td>2</td><td>None</td><td>None</td><td>Panel</td><td>None</td><td>None</td><td>None</td><td>None</td><td>None</td><td>Panel</td><td>Panel</td><td>Panel</td><td>Panel</td><td>Panel</td><td>Panel</td><td>HabLevel2</td><td>HabLevel2</td><td>HabLevel1</td><td>2</td><td>9</td><td>0</td><td>23</td><td>None</td><td>None</td><td>None</td><td>None</td><td>32</td><td>2019vahay_qm1_red</td><td>qm</td><td>2019vahay</td><td>r</td><td>2</td><td>0</td><td>0</td><td>2</td><td>32</td><td>team3</td><td>frc3941</td></tr><tr><th>4</th><td>0</td><td>6</td><td>None</td><td>Panel</td><td>Panel</td><td>None</td><td>PanelAndCargo</td><td>PanelAndCargo</td><td>PanelAndCargo</td><td>None</td><td>9</td><td>false</td><td>false</td><td>false</td><td>None</td><td>HabLevel1</td><td>HabLevel1</td><td>0</td><td>0</td><td>6</td><td>false</td><td>None</td><td>CrossedHabLineInSandstorm</td><td>CrossedHabLineInSandstorm</td><td>2</td><td>None</td><td>None</td><td>None</td><td>None</td><td>None</td><td>None</td><td>None</td><td>None</td><td>Cargo</td><td>Panel</td><td>Panel</td><td>Panel</td><td>Panel</td><td>Cargo</td><td>None</td><td>HabLevel1</td><td>HabLevel1</td><td>0</td><td>6</td><td>0</td><td>17</td><td>None</td><td>None</td><td>None</td><td>None</td><td>23</td><td>2019vahay_qm10_red</td><td>qm</td><td>2019vahay</td><td>r</td><td>0</td><td>0</td><td>0</td><td>0</td><td>23</td><td>team1</td><td>frc2421</td></tr><tr><th>5</th><td>0</td><td>6</td><td>None</td><td>Panel</td><td>Panel</td><td>None</td><td>PanelAndCargo</td><td>PanelAndCargo</td><td>PanelAndCargo</td><td>None</td><td>9</td><td>false</td><td>false</td><td>false</td><td>None</td><td>HabLevel1</td><td>HabLevel1</td><td>0</td><td>0</td><td>6</td><td>false</td><td>None</td><td>CrossedHabLineInSandstorm</td><td>CrossedHabLineInSandstorm</td><td>2</td><td>None</td><td>None</td><td>None</td><td>None</td><td>None</td><td>None</td><td>None</td><td>None</td><td>Cargo</td><td>Panel</td><td>Panel</td><td>Panel</td><td>Panel</td><td>Cargo</td><td>None</td><td>HabLevel1</td><td>HabLevel1</td><td>0</td><td>6</td><td>0</td><td>17</td><td>None</td><td>None</td><td>None</td><td>None</td><td>23</td><td>2019vahay_qm10_red</td><td>qm</td><td>2019vahay</td><td>r</td><td>0</td><td>0</td><td>0</td><td>0</td><td>23</td><td>team2</td><td>frc3941</td></tr><tr><th>6</th><td>0</td><td>6</td><td>None</td><td>Panel</td><td>Panel</td><td>None</td><td>PanelAndCargo</td><td>PanelAndCargo</td><td>PanelAndCargo</td><td>None</td><td>9</td><td>false</td><td>false</td><td>false</td><td>None</td><td>HabLevel1</td><td>HabLevel1</td><td>0</td><td>0</td><td>6</td><td>false</td><td>None</td><td>CrossedHabLineInSandstorm</td><td>CrossedHabLineInSandstorm</td><td>2</td><td>None</td><td>None</td><td>None</td><td>None</td><td>None</td><td>None</td><td>None</td><td>None</td><td>Cargo</td><td>Panel</td><td>Panel</td><td>Panel</td><td>Panel</td><td>Cargo</td><td>None</td><td>HabLevel1</td><td>HabLevel1</td><td>0</td><td>6</td><td>0</td><td>17</td><td>None</td><td>None</td><td>None</td><td>None</td><td>23</td><td>2019vahay_qm10_red</td><td>qm</td><td>2019vahay</td><td>r</td><td>0</td><td>0</td><td>0</td><td>0</td><td>23</td><td>team3</td><td>frc1719</td></tr><tr><th>7</th><td>0</td><td>3</td><td>None</td><td>None</td><td>None</td><td>None</td><td>None</td><td>None</td><td>None</td><td>None</td><td>9</td><td>false</td><td>false</td><td>false</td><td>HabLevel1</td><td>HabLevel1</td><td>None</td><td>1</td><td>0</td><td>6</td><td>false</td><td>CrossedHabLineInTeleop</td><td>CrossedHabLineInSandstorm</td><td>None</td><td>8</td><td>None</td><td>None</td><td>None</td><td>None</td><td>None</td><td>PanelAndCargo</td><td>None</td><td>Panel</td><td>Cargo</td><td>Cargo</td><td>Cargo</td><td>Cargo</td><td>Cargo</td><td>Cargo</td><td>HabLevel1</td><td>HabLevel1</td><td>None</td><td>0</td><td>3</td><td>0</td><td>23</td><td>None</td><td>PanelAndCargo</td><td>None</td><td>PanelAndCargo</td><td>26</td><td>2019vahay_qm11_red</td><td>qm</td><td>2019vahay</td><td>r</td><td>0</td><td>7</td><td>10</td><td>17</td><td>23</td><td>team1</td><td>frc623</td></tr><tr><th>8</th><td>0</td><td>3</td><td>None</td><td>None</td><td>None</td><td>None</td><td>None</td><td>None</td><td>None</td><td>None</td><td>9</td><td>false</td><td>false</td><td>false</td><td>HabLevel1</td><td>HabLevel1</td><td>None</td><td>1</td><td>0</td><td>6</td><td>false</td><td>CrossedHabLineInTeleop</td><td>CrossedHabLineInSandstorm</td><td>None</td><td>8</td><td>None</td><td>None</td><td>None</td><td>None</td><td>None</td><td>PanelAndCargo</td><td>None</td><td>Panel</td><td>Cargo</td><td>Cargo</td><td>Cargo</td><td>Cargo</td><td>Cargo</td><td>Cargo</td><td>HabLevel1</td><td>HabLevel1</td><td>None</td><td>0</td><td>3</td><td>0</td><td>23</td><td>None</td><td>PanelAndCargo</td><td>None</td><td>PanelAndCargo</td><td>26</td><td>2019vahay_qm11_red</td><td>qm</td><td>2019vahay</td><td>r</td><td>0</td><td>7</td><td>10</td><td>17</td><td>23</td><td>team2</td><td>frc1418</td></tr><tr><th>9</th><td>0</td><td>3</td><td>None</td><td>None</td><td>None</td><td>None</td><td>None</td><td>None</td><td>None</td><td>None</td><td>9</td><td>false</td><td>false</td><td>false</td><td>HabLevel1</td><td>HabLevel1</td><td>None</td><td>1</td><td>0</td><td>6</td><td>false</td><td>CrossedHabLineInTeleop</td><td>CrossedHabLineInSandstorm</td><td>None</td><td>8</td><td>None</td><td>None</td><td>None</td><td>None</td><td>None</td><td>PanelAndCargo</td><td>None</td><td>Panel</td><td>Cargo</td><td>Cargo</td><td>Cargo</td><td>Cargo</td><td>Cargo</td><td>Cargo</td><td>HabLevel1</td><td>HabLevel1</td><td>None</td><td>0</td><td>3</td><td>0</td><td>23</td><td>None</td><td>PanelAndCargo</td><td>None</td><td>PanelAndCargo</td><td>26</td><td>2019vahay_qm11_red</td><td>qm</td><td>2019vahay</td><td>r</td><td>0</td><td>7</td><td>10</td><td>17</td><td>23</td><td>team3</td><td>frc4464</td></tr><tr><th>10</th><td>0</td><td>6</td><td>None</td><td>PanelAndCargo</td><td>PanelAndCargo</td><td>None</td><td>None</td><td>PanelAndCargo</td><td>PanelAndCargo</td><td>None</td><td>12</td><td>false</td><td>false</td><td>false</td><td>None</td><td>HabLevel3</td><td>HabLevel2</td><td>0</td><td>0</td><td>18</td><td>true</td><td>None</td><td>CrossedHabLineInTeleop</td><td>CrossedHabLineInSandstorm</td><td>2</td><td>None</td><td>None</td><td>None</td><td>None</td><td>None</td><td>Panel</td><td>None</td><td>None</td><td>Cargo</td><td>Panel</td><td>Panel</td><td>Panel</td><td>Panel</td><td>Cargo</td><td>None</td><td>HabLevel1</td><td>HabLevel2</td><td>3</td><td>6</td><td>0</td><td>32</td><td>None</td><td>None</td><td>None</td><td>None</td><td>38</td><td>2019vahay_qm12_red</td><td>qm</td><td>2019vahay</td><td>r</td><td>0</td><td>2</td><td>0</td><td>2</td><td>38</td><td>team1</td><td>frc2961</td></tr><tr><th>11</th><td>0</td><td>6</td><td>None</td><td>PanelAndCargo</td><td>PanelAndCargo</td><td>None</td><td>None</td><td>PanelAndCargo</td><td>PanelAndCargo</td><td>None</td><td>12</td><td>false</td><td>false</td><td>false</td><td>None</td><td>HabLevel3</td><td>HabLevel2</td><td>0</td><td>0</td><td>18</td><td>true</td><td>None</td><td>CrossedHabLineInTeleop</td><td>CrossedHabLineInSandstorm</td><td>2</td><td>None</td><td>None</td><td>None</td><td>None</td><td>None</td><td>Panel</td><td>None</td><td>None</td><td>Cargo</td><td>Panel</td><td>Panel</td><td>Panel</td><td>Panel</td><td>Cargo</td><td>None</td><td>HabLevel1</td><td>HabLevel2</td><td>3</td><td>6</td><td>0</td><td>32</td><td>None</td><td>None</td><td>None</td><td>None</td><td>38</td><td>2019vahay_qm12_red</td><td>qm</td><td>2019vahay</td><td>r</td><td>0</td><td>2</td><td>0</td><td>2</td><td>38</td><td>team2</td><td>frc5338</td></tr><tr><th>12</th><td>0</td><td>6</td><td>None</td><td>PanelAndCargo</td><td>PanelAndCargo</td><td>None</td><td>None</td><td>PanelAndCargo</td><td>PanelAndCargo</td><td>None</td><td>12</td><td>false</td><td>false</td><td>false</td><td>None</td><td>HabLevel3</td><td>HabLevel2</td><td>0</td><td>0</td><td>18</td><td>true</td><td>None</td><td>CrossedHabLineInTeleop</td><td>CrossedHabLineInSandstorm</td><td>2</td><td>None</td><td>None</td><td>None</td><td>None</td><td>None</td><td>Panel</td><td>None</td><td>None</td><td>Cargo</td><td>Panel</td><td>Panel</td><td>Panel</td><td>Panel</td><td>Cargo</td><td>None</td><td>HabLevel1</td><td>HabLevel2</td><td>3</td><td>6</td><td>0</td><td>32</td><td>None</td><td>None</td><td>None</td><td>None</td><td>38</td><td>2019vahay_qm12_red</td><td>qm</td><td>2019vahay</td><td>r</td><td>0</td><td>2</td><td>0</td><td>2</td><td>38</td><td>team3</td><td>frc4242</td></tr><tr><th>13</th><td>0</td><td>6</td><td>Panel</td><td>PanelAndCargo</td><td>Panel</td><td>Panel</td><td>Panel</td><td>Panel</td><td>PanelAndCargo</td><td>PanelAndCargo</td><td>9</td><td>false</td><td>false</td><td>false</td><td>HabLevel1</td><td>HabLevel1</td><td>None</td><td>1</td><td>0</td><td>6</td><td>false</td><td>CrossedHabLineInSandstorm</td><td>CrossedHabLineInSandstorm</td><td>None</td><td>4</td><td>None</td><td>None</td><td>None</td><td>None</td><td>None</td><td>None</td><td>None</td><td>None</td><td>Panel</td><td>Panel</td><td>Panel</td><td>Panel</td><td>Panel</td><td>Panel</td><td>HabLevel1</td><td>HabLevel1</td><td>None</td><td>0</td><td>6</td><td>0</td><td>19</td><td>None</td><td>None</td><td>None</td><td>None</td><td>25</td><td>2019vahay_qm13_red</td><td>qm</td><td>2019vahay</td><td>r</td><td>0</td><td>0</td><td>0</td><td>0</td><td>22</td><td>team1</td><td>frc6543</td></tr><tr><th>14</th><td>0</td><td>6</td><td>Panel</td><td>PanelAndCargo</td><td>Panel</td><td>Panel</td><td>Panel</td><td>Panel</td><td>PanelAndCargo</td><td>PanelAndCargo</td><td>9</td><td>false</td><td>false</td><td>false</td><td>HabLevel1</td><td>HabLevel1</td><td>None</td><td>1</td><td>0</td><td>6</td><td>false</td><td>CrossedHabLineInSandstorm</td><td>CrossedHabLineInSandstorm</td><td>None</td><td>4</td><td>None</td><td>None</td><td>None</td><td>None</td><td>None</td><td>None</td><td>None</td><td>None</td><td>Panel</td><td>Panel</td><td>Panel</td><td>Panel</td><td>Panel</td><td>Panel</td><td>HabLevel1</td><td>HabLevel1</td><td>None</td><td>0</td><td>6</td><td>0</td><td>19</td><td>None</td><td>None</td><td>None</td><td>None</td><td>25</td><td>2019vahay_qm13_red</td><td>qm</td><td>2019vahay</td><td>r</td><td>0</td><td>0</td><td>0</td><td>0</td><td>22</td><td>team2</td><td>frc1629</td></tr><tr><th>15</th><td>0</td><td>6</td><td>Panel</td><td>PanelAndCargo</td><td>Panel</td><td>Panel</td><td>Panel</td><td>Panel</td><td>PanelAndCargo</td><td>PanelAndCargo</td><td>9</td><td>false</td><td>false</td><td>false</td><td>HabLevel1</td><td>HabLevel1</td><td>None</td><td>1</td><td>0</td><td>6</td><td>false</td><td>CrossedHabLineInSandstorm</td><td>CrossedHabLineInSandstorm</td><td>None</td><td>4</td><td>None</td><td>None</td><td>None</td><td>None</td><td>None</td><td>None</td><td>None</td><td>None</td><td>Panel</td><td>Panel</td><td>Panel</td><td>Panel</td><td>Panel</td><td>Panel</td><td>HabLevel1</td><td>HabLevel1</td><td>None</td><td>0</td><td>6</td><td>0</td><td>19</td><td>None</td><td>None</td><td>None</td><td>None</td><td>25</td><td>2019vahay_qm13_red</td><td>qm</td><td>2019vahay</td><td>r</td><td>0</td><td>0</td><td>0</td><td>0</td><td>22</td><td>team3</td><td>frc2819</td></tr><tr><th>16</th><td>0</td><td>12</td><td>PanelAndCargo</td><td>PanelAndCargo</td><td>PanelAndCargo</td><td>None</td><td>None</td><td>PanelAndCargo</td><td>PanelAndCargo</td><td>PanelAndCargo</td><td>18</td><td>false</td><td>false</td><td>false</td><td>HabLevel1</td><td>HabLevel3</td><td>None</td><td>0</td><td>6</td><td>15</td><td>true</td><td>CrossedHabLineInSandstorm</td><td>CrossedHabLineInSandstorm</td><td>CrossedHabLineInSandstorm</td><td>0</td><td>None</td><td>None</td><td>None</td><td>None</td><td>None</td><td>None</td><td>None</td><td>None</td><td>Panel</td><td>Panel</td><td>Panel</td><td>Panel</td><td>Panel</td><td>Panel</td><td>HabLevel1</td><td>HabLevel2</td><td>HabLevel1</td><td>3</td><td>12</td><td>0</td><td>33</td><td>None</td><td>None</td><td>None</td><td>None</td><td>51</td><td>2019vahay_qm14_red</td><td>qm</td><td>2019vahay</td><td>r</td><td>0</td><td>0</td><td>0</td><td>0</td><td>45</td><td>team1</td><td>frc116</td></tr><tr><th>17</th><td>0</td><td>12</td><td>PanelAndCargo</td><td>PanelAndCargo</td><td>PanelAndCargo</td><td>None</td><td>None</td><td>PanelAndCargo</td><td>PanelAndCargo</td><td>PanelAndCargo</td><td>18</td><td>false</td><td>false</td><td>false</td><td>HabLevel1</td><td>HabLevel3</td><td>None</td><td>0</td><td>6</td><td>15</td><td>true</td><td>CrossedHabLineInSandstorm</td><td>CrossedHabLineInSandstorm</td><td>CrossedHabLineInSandstorm</td><td>0</td><td>None</td><td>None</td><td>None</td><td>None</td><td>None</td><td>None</td><td>None</td><td>None</td><td>Panel</td><td>Panel</td><td>Panel</td><td>Panel</td><td>Panel</td><td>Panel</td><td>HabLevel1</td><td>HabLevel2</td><td>HabLevel1</td><td>3</td><td>12</td><td>0</td><td>33</td><td>None</td><td>None</td><td>None</td><td>None</td><td>51</td><td>2019vahay_qm14_red</td><td>qm</td><td>2019vahay</td><td>r</td><td>0</td><td>0</td><td>0</td><td>0</td><td>45</td><td>team2</td><td>frc2363</td></tr><tr><th>18</th><td>0</td><td>12</td><td>PanelAndCargo</td><td>PanelAndCargo</td><td>PanelAndCargo</td><td>None</td><td>None</td><td>PanelAndCargo</td><td>PanelAndCargo</td><td>PanelAndCargo</td><td>18</td><td>false</td><td>false</td><td>false</td><td>HabLevel1</td><td>HabLevel3</td><td>None</td><td>0</td><td>6</td><td>15</td><td>true</td><td>CrossedHabLineInSandstorm</td><td>CrossedHabLineInSandstorm</td><td>CrossedHabLineInSandstorm</td><td>0</td><td>None</td><td>None</td><td>None</td><td>None</td><td>None</td><td>None</td><td>None</td><td>None</td><td>Panel</td><td>Panel</td><td>Panel</td><td>Panel</td><td>Panel</td><td>Panel</td><td>HabLevel1</td><td>HabLevel2</td><td>HabLevel1</td><td>3</td><td>12</td><td>0</td><td>33</td><td>None</td><td>None</td><td>None</td><td>None</td><td>51</td><td>2019vahay_qm14_red</td><td>qm</td><td>2019vahay</td><td>r</td><td>0</td><td>0</td><td>0</td><td>0</td><td>45</td><td>team3</td><td>frc623</td></tr><tr><th>19</th><td>0</td><td>12</td><td>Panel</td><td>PanelAndCargo</td><td>PanelAndCargo</td><td>Panel</td><td>PanelAndCargo</td><td>PanelAndCargo</td><td>PanelAndCargo</td><td>PanelAndCargo</td><td>18</td><td>false</td><td>false</td><td>false</td><td>HabLevel1</td><td>HabLevel1</td><td>None</td><td>0</td><td>0</td><td>6</td><td>false</td><td>CrossedHabLineInSandstorm</td><td>CrossedHabLineInSandstorm</td><td>CrossedHabLineInSandstorm</td><td>12</td><td>None</td><td>Panel</td><td>Panel</td><td>None</td><td>None</td><td>Panel</td><td>None</td><td>Panel</td><td>Panel</td><td>Panel</td><td>Panel</td><td>Panel</td><td>Panel</td><td>Panel</td><td>HabLevel1</td><td>HabLevel1</td><td>HabLevel2</td><td>2</td><td>12</td><td>0</td><td>36</td><td>None</td><td>None</td><td>None</td><td>None</td><td>48</td><td>2019vahay_qm15_red</td><td>qm</td><td>2019vahay</td><td>r</td><td>4</td><td>4</td><td>0</td><td>8</td><td>48</td><td>team1</td><td>frc5549</td></tr><tr><th>20</th><td>0</td><td>12</td><td>Panel</td><td>PanelAndCargo</td><td>PanelAndCargo</td><td>Panel</td><td>PanelAndCargo</td><td>PanelAndCargo</td><td>PanelAndCargo</td><td>PanelAndCargo</td><td>18</td><td>false</td><td>false</td><td>false</td><td>HabLevel1</td><td>HabLevel1</td><td>None</td><td>0</td><td>0</td><td>6</td><td>false</td><td>CrossedHabLineInSandstorm</td><td>CrossedHabLineInSandstorm</td><td>CrossedHabLineInSandstorm</td><td>12</td><td>None</td><td>Panel</td><td>Panel</td><td>None</td><td>None</td><td>Panel</td><td>None</td><td>Panel</td><td>Panel</td><td>Panel</td><td>Panel</td><td>Panel</td><td>Panel</td><td>Panel</td><td>HabLevel1</td><td>HabLevel1</td><td>HabLevel2</td><td>2</td><td>12</td><td>0</td><td>36</td><td>None</td><td>None</td><td>None</td><td>None</td><td>48</td><td>2019vahay_qm15_red</td><td>qm</td><td>2019vahay</td><td>r</td><td>4</td><td>4</td><td>0</td><td>8</td><td>48</td><td>team2</td><td>frc2534</td></tr><tr><th>21</th><td>0</td><td>12</td><td>Panel</td><td>PanelAndCargo</td><td>PanelAndCargo</td><td>Panel</td><td>PanelAndCargo</td><td>PanelAndCargo</td><td>PanelAndCargo</td><td>PanelAndCargo</td><td>18</td><td>false</td><td>false</td><td>false</td><td>HabLevel1</td><td>HabLevel1</td><td>None</td><td>0</td><td>0</td><td>6</td><td>false</td><td>CrossedHabLineInSandstorm</td><td>CrossedHabLineInSandstorm</td><td>CrossedHabLineInSandstorm</td><td>12</td><td>None</td><td>Panel</td><td>Panel</td><td>None</td><td>None</td><td>Panel</td><td>None</td><td>Panel</td><td>Panel</td><td>Panel</td><td>Panel</td><td>Panel</td><td>Panel</td><td>Panel</td><td>HabLevel1</td><td>HabLevel1</td><td>HabLevel2</td><td>2</td><td>12</td><td>0</td><td>36</td><td>None</td><td>None</td><td>None</td><td>None</td><td>48</td><td>2019vahay_qm15_red</td><td>qm</td><td>2019vahay</td><td>r</td><td>4</td><td>4</td><td>0</td><td>8</td><td>48</td><td>team3</td><td>frc4099</td></tr><tr><th>22</th><td>0</td><td>15</td><td>Panel</td><td>Panel</td><td>PanelAndCargo</td><td>None</td><td>None</td><td>PanelAndCargo</td><td>Panel</td><td>Panel</td><td>6</td><td>false</td><td>false</td><td>false</td><td>HabLevel1</td><td>None</td><td>None</td><td>2</td><td>0</td><td>3</td><td>false</td><td>CrossedHabLineInSandstorm</td><td>CrossedHabLineInSandstorm</td><td>CrossedHabLineInSandstorm</td><td>4</td><td>Panel</td><td>None</td><td>Panel</td><td>None</td><td>None</td><td>None</td><td>None</td><td>None</td><td>Panel</td><td>Panel</td><td>Panel</td><td>Panel</td><td>Panel</td><td>Panel</td><td>HabLevel2</td><td>HabLevel1</td><td>HabLevel2</td><td>0</td><td>15</td><td>0</td><td>13</td><td>None</td><td>None</td><td>None</td><td>None</td><td>28</td><td>2019vahay_qm16_red</td><td>qm</td><td>2019vahay</td><td>r</td><td>4</td><td>0</td><td>0</td><td>4</td><td>22</td><td>team1</td><td>frc316</td></tr><tr><th>23</th><td>0</td><td>15</td><td>Panel</td><td>Panel</td><td>PanelAndCargo</td><td>None</td><td>None</td><td>PanelAndCargo</td><td>Panel</td><td>Panel</td><td>6</td><td>false</td><td>false</td><td>false</td><td>HabLevel1</td><td>None</td><td>None</td><td>2</td><td>0</td><td>3</td><td>false</td><td>CrossedHabLineInSandstorm</td><td>CrossedHabLineInSandstorm</td><td>CrossedHabLineInSandstorm</td><td>4</td><td>Panel</td><td>None</td><td>Panel</td><td>None</td><td>None</td><td>None</td><td>None</td><td>None</td><td>Panel</td><td>Panel</td><td>Panel</td><td>Panel</td><td>Panel</td><td>Panel</td><td>HabLevel2</td><td>HabLevel1</td><td>HabLevel2</td><td>0</td><td>15</td><td>0</td><td>13</td><td>None</td><td>None</td><td>None</td><td>None</td><td>28</td><td>2019vahay_qm16_red</td><td>qm</td><td>2019vahay</td><td>r</td><td>4</td><td>0</td><td>0</td><td>4</td><td>22</td><td>team2</td><td>frc888</td></tr><tr><th>24</th><td>0</td><td>15</td><td>Panel</td><td>Panel</td><td>PanelAndCargo</td><td>None</td><td>None</td><td>PanelAndCargo</td><td>Panel</td><td>Panel</td><td>6</td><td>false</td><td>false</td><td>false</td><td>HabLevel1</td><td>None</td><td>None</td><td>2</td><td>0</td><td>3</td><td>false</td><td>CrossedHabLineInSandstorm</td><td>CrossedHabLineInSandstorm</td><td>CrossedHabLineInSandstorm</td><td>4</td><td>Panel</td><td>None</td><td>Panel</td><td>None</td><td>None</td><td>None</td><td>None</td><td>None</td><td>Panel</td><td>Panel</td><td>Panel</td><td>Panel</td><td>Panel</td><td>Panel</td><td>HabLevel2</td><td>HabLevel1</td><td>HabLevel2</td><td>0</td><td>15</td><td>0</td><td>13</td><td>None</td><td>None</td><td>None</td><td>None</td><td>28</td><td>2019vahay_qm16_red</td><td>qm</td><td>2019vahay</td><td>r</td><td>4</td><td>0</td><td>0</td><td>4</td><td>22</td><td>team3</td><td>frc1731</td></tr><tr><th>25</th><td>0</td><td>9</td><td>Panel</td><td>Panel</td><td>PanelAndCargo</td><td>Panel</td><td>None</td><td>Panel</td><td>PanelAndCargo</td><td>Panel</td><td>9</td><td>false</td><td>false</td><td>false</td><td>HabLevel1</td><td>HabLevel1</td><td>HabLevel2</td><td>0</td><td>10</td><td>12</td><td>false</td><td>CrossedHabLineInSandstorm</td><td>CrossedHabLineInTeleop</td><td>CrossedHabLineInSandstorm</td><td>8</td><td>Panel</td><td>Panel</td><td>PanelAndCargo</td><td>None</td><td>None</td><td>None</td><td>None</td><td>None</td><td>Panel</td><td>Panel</td><td>Panel</td><td>Panel</td><td>Panel</td><td>Panel</td><td>HabLevel1</td><td>HabLevel1</td><td>HabLevel2</td><td>2</td><td>9</td><td>1</td><td>29</td><td>None</td><td>None</td><td>None</td><td>None</td><td>48</td><td>2019vahay_qm17_red</td><td>qm</td><td>2019vahay</td><td>r</td><td>9</td><td>0</td><td>0</td><td>9</td><td>29</td><td>team1</td><td>frc2028</td></tr><tr><th>26</th><td>0</td><td>9</td><td>Panel</td><td>Panel</td><td>PanelAndCargo</td><td>Panel</td><td>None</td><td>Panel</td><td>PanelAndCargo</td><td>Panel</td><td>9</td><td>false</td><td>false</td><td>false</td><td>HabLevel1</td><td>HabLevel1</td><td>HabLevel2</td><td>0</td><td>10</td><td>12</td><td>false</td><td>CrossedHabLineInSandstorm</td><td>CrossedHabLineInTeleop</td><td>CrossedHabLineInSandstorm</td><td>8</td><td>Panel</td><td>Panel</td><td>PanelAndCargo</td><td>None</td><td>None</td><td>None</td><td>None</td><td>None</td><td>Panel</td><td>Panel</td><td>Panel</td><td>Panel</td><td>Panel</td><td>Panel</td><td>HabLevel1</td><td>HabLevel1</td><td>HabLevel2</td><td>2</td><td>9</td><td>1</td><td>29</td><td>None</td><td>None</td><td>None</td><td>None</td><td>48</td><td>2019vahay_qm17_red</td><td>qm</td><td>2019vahay</td><td>r</td><td>9</td><td>0</td><td>0</td><td>9</td><td>29</td><td>team2</td><td>frc3373</td></tr><tr><th>27</th><td>0</td><td>9</td><td>Panel</td><td>Panel</td><td>PanelAndCargo</td><td>Panel</td><td>None</td><td>Panel</td><td>PanelAndCargo</td><td>Panel</td><td>9</td><td>false</td><td>false</td><td>false</td><td>HabLevel1</td><td>HabLevel1</td><td>HabLevel2</td><td>0</td><td>10</td><td>12</td><td>false</td><td>CrossedHabLineInSandstorm</td><td>CrossedHabLineInTeleop</td><td>CrossedHabLineInSandstorm</td><td>8</td><td>Panel</td><td>Panel</td><td>PanelAndCargo</td><td>None</td><td>None</td><td>None</td><td>None</td><td>None</td><td>Panel</td><td>Panel</td><td>Panel</td><td>Panel</td><td>Panel</td><td>Panel</td><td>HabLevel1</td><td>HabLevel1</td><td>HabLevel2</td><td>2</td><td>9</td><td>1</td><td>29</td><td>None</td><td>None</td><td>None</td><td>None</td><td>48</td><td>2019vahay_qm17_red</td><td>qm</td><td>2019vahay</td><td>r</td><td>9</td><td>0</td><td>0</td><td>9</td><td>29</td><td>team3</td><td>frc2988</td></tr><tr><th>28</th><td>0</td><td>9</td><td>PanelAndCargo</td><td>PanelAndCargo</td><td>Panel</td><td>None</td><td>None</td><td>Panel</td><td>Panel</td><td>Panel</td><td>6</td><td>false</td><td>false</td><td>false</td><td>HabLevel1</td><td>HabLevel1</td><td>HabLevel1</td><td>0</td><td>3</td><td>9</td><td>false</td><td>CrossedHabLineInSandstorm</td><td>CrossedHabLineInSandstorm</td><td>CrossedHabLineInTeleop</td><td>4</td><td>None</td><td>None</td><td>Panel</td><td>None</td><td>None</td><td>None</td><td>None</td><td>None</td><td>Panel</td><td>Panel</td><td>Panel</td><td>Panel</td><td>Panel</td><td>Panel</td><td>HabLevel2</td><td>HabLevel1</td><td>HabLevel1</td><td>0</td><td>9</td><td>0</td><td>19</td><td>None</td><td>None</td><td>Panel</td><td>None</td><td>31</td><td>2019vahay_qm18_red</td><td>qm</td><td>2019vahay</td><td>r</td><td>2</td><td>0</td><td>2</td><td>4</td><td>28</td><td>team1</td><td>frc1895</td></tr><tr><th>29</th><td>0</td><td>9</td><td>PanelAndCargo</td><td>PanelAndCargo</td><td>Panel</td><td>None</td><td>None</td><td>Panel</td><td>Panel</td><td>Panel</td><td>6</td><td>false</td><td>false</td><td>false</td><td>HabLevel1</td><td>HabLevel1</td><td>HabLevel1</td><td>0</td><td>3</td><td>9</td><td>false</td><td>CrossedHabLineInSandstorm</td><td>CrossedHabLineInSandstorm</td><td>CrossedHabLineInTeleop</td><td>4</td><td>None</td><td>None</td><td>Panel</td><td>None</td><td>None</td><td>None</td><td>None</td><td>None</td><td>Panel</td><td>Panel</td><td>Panel</td><td>Panel</td><td>Panel</td><td>Panel</td><td>HabLevel2</td><td>HabLevel1</td><td>HabLevel1</td><td>0</td><td>9</td><td>0</td><td>19</td><td>None</td><td>None</td><td>Panel</td><td>None</td><td>31</td><td>2019vahay_qm18_red</td><td>qm</td><td>2019vahay</td><td>r</td><td>2</td><td>0</td><td>2</td><td>4</td><td>28</td><td>team2</td><td>frc611</td></tr><tr><th>30</th><td>0</td><td>9</td><td>PanelAndCargo</td><td>PanelAndCargo</td><td>Panel</td><td>None</td><td>None</td><td>Panel</td><td>Panel</td><td>Panel</td><td>6</td><td>false</td><td>false</td><td>false</td><td>HabLevel1</td><td>HabLevel1</td><td>HabLevel1</td><td>0</td><td>3</td><td>9</td><td>false</td><td>CrossedHabLineInSandstorm</td><td>CrossedHabLineInSandstorm</td><td>CrossedHabLineInTeleop</td><td>4</td><td>None</td><td>None</td><td>Panel</td><td>None</td><td>None</td><td>None</td><td>None</td><td>None</td><td>Panel</td><td>Panel</td><td>Panel</td><td>Panel</td><td>Panel</td><td>Panel</td><td>HabLevel2</td><td>HabLevel1</td><td>HabLevel1</td><td>0</td><td>9</td><td>0</td><td>19</td><td>None</td><td>None</td><td>Panel</td><td>None</td><td>31</td><td>2019vahay_qm18_red</td><td>qm</td><td>2019vahay</td><td>r</td><td>2</td><td>0</td><td>2</td><td>4</td><td>28</td><td>team3</td><td>frc2199</td></tr><tr><th>&vellip;</th><td>&vellip;</td><td>&vellip;</td><td>&vellip;</td><td>&vellip;</td><td>&vellip;</td><td>&vellip;</td><td>&vellip;</td><td>&vellip;</td><td>&vellip;</td><td>&vellip;</td><td>&vellip;</td><td>&vellip;</td><td>&vellip;</td><td>&vellip;</td><td>&vellip;</td><td>&vellip;</td><td>&vellip;</td><td>&vellip;</td><td>&vellip;</td><td>&vellip;</td><td>&vellip;</td><td>&vellip;</td><td>&vellip;</td><td>&vellip;</td><td>&vellip;</td><td>&vellip;</td><td>&vellip;</td><td>&vellip;</td><td>&vellip;</td><td>&vellip;</td><td>&vellip;</td><td>&vellip;</td><td>&vellip;</td><td>&vellip;</td><td>&vellip;</td><td>&vellip;</td><td>&vellip;</td><td>&vellip;</td><td>&vellip;</td><td>&vellip;</td><td>&vellip;</td><td>&vellip;</td><td>&vellip;</td><td>&vellip;</td><td>&vellip;</td><td>&vellip;</td><td>&vellip;</td><td>&vellip;</td><td>&vellip;</td><td>&vellip;</td><td>&vellip;</td><td>&vellip;</td><td>&vellip;</td><td>&vellip;</td><td>&vellip;</td><td>&vellip;</td><td>&vellip;</td><td>&vellip;</td><td>&vellip;</td><td>&vellip;</td><td>&vellip;</td><td>&vellip;</td></tr></tbody></table>"
      ],
      "text/latex": [
       "\\begin{tabular}{r|cccccccccccccccccccccccccccccccccccccccccccccccccccccccccccccc}\n",
       "\t& adjustPoints & autoPoints & bay1 & bay2 & bay3 & bay4 & bay5 & bay6 & bay7 & bay8 & cargoPoints & completeRocketRankingPoint & completedRocketFar & completedRocketNear & endgameRobot1 & endgameRobot2 & endgameRobot3 & foulCount & foulPoints & habClimbPoints & habDockingRankingPoint & habLineRobot1 & habLineRobot2 & habLineRobot3 & hatchPanelPoints & lowLeftRocketFar & lowLeftRocketNear & lowRightRocketFar & lowRightRocketNear & midLeftRocketFar & midLeftRocketNear & midRightRocketFar & midRightRocketNear & preMatchBay1 & preMatchBay2 & preMatchBay3 & preMatchBay6 & preMatchBay7 & preMatchBay8 & preMatchLevelRobot1 & preMatchLevelRobot2 & preMatchLevelRobot3 & rp & sandStormBonusPoints & techFoulCount & teleopPoints & topLeftRocketFar & topLeftRocketNear & topRightRocketFar & topRightRocketNear & totalPoints & key & level & event & color & rocketLowPoints & rocketMidPoints & rocketTopPoints & rocketPoints & ownPoints & role & team\\\\\n",
       "\t\\hline\n",
       "\t& Int64⍰ & Int64⍰ & String⍰ & String⍰ & String⍰ & String⍰ & String⍰ & String⍰ & String⍰ & String⍰ & Int64⍰ & Bool⍰ & Bool⍰ & Bool⍰ & String⍰ & String⍰ & String⍰ & Int64⍰ & Int64⍰ & Int64⍰ & Bool⍰ & String⍰ & String⍰ & String⍰ & Int64⍰ & String⍰ & String⍰ & String⍰ & String⍰ & String⍰ & String⍰ & String⍰ & String⍰ & String⍰ & String⍰ & String⍰ & String⍰ & String⍰ & String⍰ & String⍰ & String⍰ & String⍰ & Int64⍰ & Int64⍰ & Int64⍰ & Int64⍰ & String⍰ & String⍰ & String⍰ & String⍰ & Int64⍰ & String⍰ & String⍰ & String⍰ & String & Int64 & Int64 & Int64 & Int64 & Int64 & Symbol & String⍰\\\\\n",
       "\t\\hline\n",
       "\t1 & 0 & 9 & Panel & Panel & PanelAndCargo & None & None & PanelAndCargo & PanelAndCargo & PanelAndCargo & 12 & false & false & false & HabLevel1 & HabLevel1 & HabLevel1 & 0 & 0 & 9 & false & CrossedHabLineInSandstorm & CrossedHabLineInTeleop & CrossedHabLineInSandstorm & 2 & None & None & Panel & None & None & None & None & None & Panel & Panel & Panel & Panel & Panel & Panel & HabLevel2 & HabLevel2 & HabLevel1 & 2 & 9 & 0 & 23 & None & None & None & None & 32 & 2019vahay\\_qm1\\_red & qm & 2019vahay & r & 2 & 0 & 0 & 2 & 32 & team1 & frc4505 \\\\\n",
       "\t2 & 0 & 9 & Panel & Panel & PanelAndCargo & None & None & PanelAndCargo & PanelAndCargo & PanelAndCargo & 12 & false & false & false & HabLevel1 & HabLevel1 & HabLevel1 & 0 & 0 & 9 & false & CrossedHabLineInSandstorm & CrossedHabLineInTeleop & CrossedHabLineInSandstorm & 2 & None & None & Panel & None & None & None & None & None & Panel & Panel & Panel & Panel & Panel & Panel & HabLevel2 & HabLevel2 & HabLevel1 & 2 & 9 & 0 & 23 & None & None & None & None & 32 & 2019vahay\\_qm1\\_red & qm & 2019vahay & r & 2 & 0 & 0 & 2 & 32 & team2 & frc2988 \\\\\n",
       "\t3 & 0 & 9 & Panel & Panel & PanelAndCargo & None & None & PanelAndCargo & PanelAndCargo & PanelAndCargo & 12 & false & false & false & HabLevel1 & HabLevel1 & HabLevel1 & 0 & 0 & 9 & false & CrossedHabLineInSandstorm & CrossedHabLineInTeleop & CrossedHabLineInSandstorm & 2 & None & None & Panel & None & None & None & None & None & Panel & Panel & Panel & Panel & Panel & Panel & HabLevel2 & HabLevel2 & HabLevel1 & 2 & 9 & 0 & 23 & None & None & None & None & 32 & 2019vahay\\_qm1\\_red & qm & 2019vahay & r & 2 & 0 & 0 & 2 & 32 & team3 & frc3941 \\\\\n",
       "\t4 & 0 & 6 & None & Panel & Panel & None & PanelAndCargo & PanelAndCargo & PanelAndCargo & None & 9 & false & false & false & None & HabLevel1 & HabLevel1 & 0 & 0 & 6 & false & None & CrossedHabLineInSandstorm & CrossedHabLineInSandstorm & 2 & None & None & None & None & None & None & None & None & Cargo & Panel & Panel & Panel & Panel & Cargo & None & HabLevel1 & HabLevel1 & 0 & 6 & 0 & 17 & None & None & None & None & 23 & 2019vahay\\_qm10\\_red & qm & 2019vahay & r & 0 & 0 & 0 & 0 & 23 & team1 & frc2421 \\\\\n",
       "\t5 & 0 & 6 & None & Panel & Panel & None & PanelAndCargo & PanelAndCargo & PanelAndCargo & None & 9 & false & false & false & None & HabLevel1 & HabLevel1 & 0 & 0 & 6 & false & None & CrossedHabLineInSandstorm & CrossedHabLineInSandstorm & 2 & None & None & None & None & None & None & None & None & Cargo & Panel & Panel & Panel & Panel & Cargo & None & HabLevel1 & HabLevel1 & 0 & 6 & 0 & 17 & None & None & None & None & 23 & 2019vahay\\_qm10\\_red & qm & 2019vahay & r & 0 & 0 & 0 & 0 & 23 & team2 & frc3941 \\\\\n",
       "\t6 & 0 & 6 & None & Panel & Panel & None & PanelAndCargo & PanelAndCargo & PanelAndCargo & None & 9 & false & false & false & None & HabLevel1 & HabLevel1 & 0 & 0 & 6 & false & None & CrossedHabLineInSandstorm & CrossedHabLineInSandstorm & 2 & None & None & None & None & None & None & None & None & Cargo & Panel & Panel & Panel & Panel & Cargo & None & HabLevel1 & HabLevel1 & 0 & 6 & 0 & 17 & None & None & None & None & 23 & 2019vahay\\_qm10\\_red & qm & 2019vahay & r & 0 & 0 & 0 & 0 & 23 & team3 & frc1719 \\\\\n",
       "\t7 & 0 & 3 & None & None & None & None & None & None & None & None & 9 & false & false & false & HabLevel1 & HabLevel1 & None & 1 & 0 & 6 & false & CrossedHabLineInTeleop & CrossedHabLineInSandstorm & None & 8 & None & None & None & None & None & PanelAndCargo & None & Panel & Cargo & Cargo & Cargo & Cargo & Cargo & Cargo & HabLevel1 & HabLevel1 & None & 0 & 3 & 0 & 23 & None & PanelAndCargo & None & PanelAndCargo & 26 & 2019vahay\\_qm11\\_red & qm & 2019vahay & r & 0 & 7 & 10 & 17 & 23 & team1 & frc623 \\\\\n",
       "\t8 & 0 & 3 & None & None & None & None & None & None & None & None & 9 & false & false & false & HabLevel1 & HabLevel1 & None & 1 & 0 & 6 & false & CrossedHabLineInTeleop & CrossedHabLineInSandstorm & None & 8 & None & None & None & None & None & PanelAndCargo & None & Panel & Cargo & Cargo & Cargo & Cargo & Cargo & Cargo & HabLevel1 & HabLevel1 & None & 0 & 3 & 0 & 23 & None & PanelAndCargo & None & PanelAndCargo & 26 & 2019vahay\\_qm11\\_red & qm & 2019vahay & r & 0 & 7 & 10 & 17 & 23 & team2 & frc1418 \\\\\n",
       "\t9 & 0 & 3 & None & None & None & None & None & None & None & None & 9 & false & false & false & HabLevel1 & HabLevel1 & None & 1 & 0 & 6 & false & CrossedHabLineInTeleop & CrossedHabLineInSandstorm & None & 8 & None & None & None & None & None & PanelAndCargo & None & Panel & Cargo & Cargo & Cargo & Cargo & Cargo & Cargo & HabLevel1 & HabLevel1 & None & 0 & 3 & 0 & 23 & None & PanelAndCargo & None & PanelAndCargo & 26 & 2019vahay\\_qm11\\_red & qm & 2019vahay & r & 0 & 7 & 10 & 17 & 23 & team3 & frc4464 \\\\\n",
       "\t10 & 0 & 6 & None & PanelAndCargo & PanelAndCargo & None & None & PanelAndCargo & PanelAndCargo & None & 12 & false & false & false & None & HabLevel3 & HabLevel2 & 0 & 0 & 18 & true & None & CrossedHabLineInTeleop & CrossedHabLineInSandstorm & 2 & None & None & None & None & None & Panel & None & None & Cargo & Panel & Panel & Panel & Panel & Cargo & None & HabLevel1 & HabLevel2 & 3 & 6 & 0 & 32 & None & None & None & None & 38 & 2019vahay\\_qm12\\_red & qm & 2019vahay & r & 0 & 2 & 0 & 2 & 38 & team1 & frc2961 \\\\\n",
       "\t11 & 0 & 6 & None & PanelAndCargo & PanelAndCargo & None & None & PanelAndCargo & PanelAndCargo & None & 12 & false & false & false & None & HabLevel3 & HabLevel2 & 0 & 0 & 18 & true & None & CrossedHabLineInTeleop & CrossedHabLineInSandstorm & 2 & None & None & None & None & None & Panel & None & None & Cargo & Panel & Panel & Panel & Panel & Cargo & None & HabLevel1 & HabLevel2 & 3 & 6 & 0 & 32 & None & None & None & None & 38 & 2019vahay\\_qm12\\_red & qm & 2019vahay & r & 0 & 2 & 0 & 2 & 38 & team2 & frc5338 \\\\\n",
       "\t12 & 0 & 6 & None & PanelAndCargo & PanelAndCargo & None & None & PanelAndCargo & PanelAndCargo & None & 12 & false & false & false & None & HabLevel3 & HabLevel2 & 0 & 0 & 18 & true & None & CrossedHabLineInTeleop & CrossedHabLineInSandstorm & 2 & None & None & None & None & None & Panel & None & None & Cargo & Panel & Panel & Panel & Panel & Cargo & None & HabLevel1 & HabLevel2 & 3 & 6 & 0 & 32 & None & None & None & None & 38 & 2019vahay\\_qm12\\_red & qm & 2019vahay & r & 0 & 2 & 0 & 2 & 38 & team3 & frc4242 \\\\\n",
       "\t13 & 0 & 6 & Panel & PanelAndCargo & Panel & Panel & Panel & Panel & PanelAndCargo & PanelAndCargo & 9 & false & false & false & HabLevel1 & HabLevel1 & None & 1 & 0 & 6 & false & CrossedHabLineInSandstorm & CrossedHabLineInSandstorm & None & 4 & None & None & None & None & None & None & None & None & Panel & Panel & Panel & Panel & Panel & Panel & HabLevel1 & HabLevel1 & None & 0 & 6 & 0 & 19 & None & None & None & None & 25 & 2019vahay\\_qm13\\_red & qm & 2019vahay & r & 0 & 0 & 0 & 0 & 22 & team1 & frc6543 \\\\\n",
       "\t14 & 0 & 6 & Panel & PanelAndCargo & Panel & Panel & Panel & Panel & PanelAndCargo & PanelAndCargo & 9 & false & false & false & HabLevel1 & HabLevel1 & None & 1 & 0 & 6 & false & CrossedHabLineInSandstorm & CrossedHabLineInSandstorm & None & 4 & None & None & None & None & None & None & None & None & Panel & Panel & Panel & Panel & Panel & Panel & HabLevel1 & HabLevel1 & None & 0 & 6 & 0 & 19 & None & None & None & None & 25 & 2019vahay\\_qm13\\_red & qm & 2019vahay & r & 0 & 0 & 0 & 0 & 22 & team2 & frc1629 \\\\\n",
       "\t15 & 0 & 6 & Panel & PanelAndCargo & Panel & Panel & Panel & Panel & PanelAndCargo & PanelAndCargo & 9 & false & false & false & HabLevel1 & HabLevel1 & None & 1 & 0 & 6 & false & CrossedHabLineInSandstorm & CrossedHabLineInSandstorm & None & 4 & None & None & None & None & None & None & None & None & Panel & Panel & Panel & Panel & Panel & Panel & HabLevel1 & HabLevel1 & None & 0 & 6 & 0 & 19 & None & None & None & None & 25 & 2019vahay\\_qm13\\_red & qm & 2019vahay & r & 0 & 0 & 0 & 0 & 22 & team3 & frc2819 \\\\\n",
       "\t16 & 0 & 12 & PanelAndCargo & PanelAndCargo & PanelAndCargo & None & None & PanelAndCargo & PanelAndCargo & PanelAndCargo & 18 & false & false & false & HabLevel1 & HabLevel3 & None & 0 & 6 & 15 & true & CrossedHabLineInSandstorm & CrossedHabLineInSandstorm & CrossedHabLineInSandstorm & 0 & None & None & None & None & None & None & None & None & Panel & Panel & Panel & Panel & Panel & Panel & HabLevel1 & HabLevel2 & HabLevel1 & 3 & 12 & 0 & 33 & None & None & None & None & 51 & 2019vahay\\_qm14\\_red & qm & 2019vahay & r & 0 & 0 & 0 & 0 & 45 & team1 & frc116 \\\\\n",
       "\t17 & 0 & 12 & PanelAndCargo & PanelAndCargo & PanelAndCargo & None & None & PanelAndCargo & PanelAndCargo & PanelAndCargo & 18 & false & false & false & HabLevel1 & HabLevel3 & None & 0 & 6 & 15 & true & CrossedHabLineInSandstorm & CrossedHabLineInSandstorm & CrossedHabLineInSandstorm & 0 & None & None & None & None & None & None & None & None & Panel & Panel & Panel & Panel & Panel & Panel & HabLevel1 & HabLevel2 & HabLevel1 & 3 & 12 & 0 & 33 & None & None & None & None & 51 & 2019vahay\\_qm14\\_red & qm & 2019vahay & r & 0 & 0 & 0 & 0 & 45 & team2 & frc2363 \\\\\n",
       "\t18 & 0 & 12 & PanelAndCargo & PanelAndCargo & PanelAndCargo & None & None & PanelAndCargo & PanelAndCargo & PanelAndCargo & 18 & false & false & false & HabLevel1 & HabLevel3 & None & 0 & 6 & 15 & true & CrossedHabLineInSandstorm & CrossedHabLineInSandstorm & CrossedHabLineInSandstorm & 0 & None & None & None & None & None & None & None & None & Panel & Panel & Panel & Panel & Panel & Panel & HabLevel1 & HabLevel2 & HabLevel1 & 3 & 12 & 0 & 33 & None & None & None & None & 51 & 2019vahay\\_qm14\\_red & qm & 2019vahay & r & 0 & 0 & 0 & 0 & 45 & team3 & frc623 \\\\\n",
       "\t19 & 0 & 12 & Panel & PanelAndCargo & PanelAndCargo & Panel & PanelAndCargo & PanelAndCargo & PanelAndCargo & PanelAndCargo & 18 & false & false & false & HabLevel1 & HabLevel1 & None & 0 & 0 & 6 & false & CrossedHabLineInSandstorm & CrossedHabLineInSandstorm & CrossedHabLineInSandstorm & 12 & None & Panel & Panel & None & None & Panel & None & Panel & Panel & Panel & Panel & Panel & Panel & Panel & HabLevel1 & HabLevel1 & HabLevel2 & 2 & 12 & 0 & 36 & None & None & None & None & 48 & 2019vahay\\_qm15\\_red & qm & 2019vahay & r & 4 & 4 & 0 & 8 & 48 & team1 & frc5549 \\\\\n",
       "\t20 & 0 & 12 & Panel & PanelAndCargo & PanelAndCargo & Panel & PanelAndCargo & PanelAndCargo & PanelAndCargo & PanelAndCargo & 18 & false & false & false & HabLevel1 & HabLevel1 & None & 0 & 0 & 6 & false & CrossedHabLineInSandstorm & CrossedHabLineInSandstorm & CrossedHabLineInSandstorm & 12 & None & Panel & Panel & None & None & Panel & None & Panel & Panel & Panel & Panel & Panel & Panel & Panel & HabLevel1 & HabLevel1 & HabLevel2 & 2 & 12 & 0 & 36 & None & None & None & None & 48 & 2019vahay\\_qm15\\_red & qm & 2019vahay & r & 4 & 4 & 0 & 8 & 48 & team2 & frc2534 \\\\\n",
       "\t21 & 0 & 12 & Panel & PanelAndCargo & PanelAndCargo & Panel & PanelAndCargo & PanelAndCargo & PanelAndCargo & PanelAndCargo & 18 & false & false & false & HabLevel1 & HabLevel1 & None & 0 & 0 & 6 & false & CrossedHabLineInSandstorm & CrossedHabLineInSandstorm & CrossedHabLineInSandstorm & 12 & None & Panel & Panel & None & None & Panel & None & Panel & Panel & Panel & Panel & Panel & Panel & Panel & HabLevel1 & HabLevel1 & HabLevel2 & 2 & 12 & 0 & 36 & None & None & None & None & 48 & 2019vahay\\_qm15\\_red & qm & 2019vahay & r & 4 & 4 & 0 & 8 & 48 & team3 & frc4099 \\\\\n",
       "\t22 & 0 & 15 & Panel & Panel & PanelAndCargo & None & None & PanelAndCargo & Panel & Panel & 6 & false & false & false & HabLevel1 & None & None & 2 & 0 & 3 & false & CrossedHabLineInSandstorm & CrossedHabLineInSandstorm & CrossedHabLineInSandstorm & 4 & Panel & None & Panel & None & None & None & None & None & Panel & Panel & Panel & Panel & Panel & Panel & HabLevel2 & HabLevel1 & HabLevel2 & 0 & 15 & 0 & 13 & None & None & None & None & 28 & 2019vahay\\_qm16\\_red & qm & 2019vahay & r & 4 & 0 & 0 & 4 & 22 & team1 & frc316 \\\\\n",
       "\t23 & 0 & 15 & Panel & Panel & PanelAndCargo & None & None & PanelAndCargo & Panel & Panel & 6 & false & false & false & HabLevel1 & None & None & 2 & 0 & 3 & false & CrossedHabLineInSandstorm & CrossedHabLineInSandstorm & CrossedHabLineInSandstorm & 4 & Panel & None & Panel & None & None & None & None & None & Panel & Panel & Panel & Panel & Panel & Panel & HabLevel2 & HabLevel1 & HabLevel2 & 0 & 15 & 0 & 13 & None & None & None & None & 28 & 2019vahay\\_qm16\\_red & qm & 2019vahay & r & 4 & 0 & 0 & 4 & 22 & team2 & frc888 \\\\\n",
       "\t24 & 0 & 15 & Panel & Panel & PanelAndCargo & None & None & PanelAndCargo & Panel & Panel & 6 & false & false & false & HabLevel1 & None & None & 2 & 0 & 3 & false & CrossedHabLineInSandstorm & CrossedHabLineInSandstorm & CrossedHabLineInSandstorm & 4 & Panel & None & Panel & None & None & None & None & None & Panel & Panel & Panel & Panel & Panel & Panel & HabLevel2 & HabLevel1 & HabLevel2 & 0 & 15 & 0 & 13 & None & None & None & None & 28 & 2019vahay\\_qm16\\_red & qm & 2019vahay & r & 4 & 0 & 0 & 4 & 22 & team3 & frc1731 \\\\\n",
       "\t25 & 0 & 9 & Panel & Panel & PanelAndCargo & Panel & None & Panel & PanelAndCargo & Panel & 9 & false & false & false & HabLevel1 & HabLevel1 & HabLevel2 & 0 & 10 & 12 & false & CrossedHabLineInSandstorm & CrossedHabLineInTeleop & CrossedHabLineInSandstorm & 8 & Panel & Panel & PanelAndCargo & None & None & None & None & None & Panel & Panel & Panel & Panel & Panel & Panel & HabLevel1 & HabLevel1 & HabLevel2 & 2 & 9 & 1 & 29 & None & None & None & None & 48 & 2019vahay\\_qm17\\_red & qm & 2019vahay & r & 9 & 0 & 0 & 9 & 29 & team1 & frc2028 \\\\\n",
       "\t26 & 0 & 9 & Panel & Panel & PanelAndCargo & Panel & None & Panel & PanelAndCargo & Panel & 9 & false & false & false & HabLevel1 & HabLevel1 & HabLevel2 & 0 & 10 & 12 & false & CrossedHabLineInSandstorm & CrossedHabLineInTeleop & CrossedHabLineInSandstorm & 8 & Panel & Panel & PanelAndCargo & None & None & None & None & None & Panel & Panel & Panel & Panel & Panel & Panel & HabLevel1 & HabLevel1 & HabLevel2 & 2 & 9 & 1 & 29 & None & None & None & None & 48 & 2019vahay\\_qm17\\_red & qm & 2019vahay & r & 9 & 0 & 0 & 9 & 29 & team2 & frc3373 \\\\\n",
       "\t27 & 0 & 9 & Panel & Panel & PanelAndCargo & Panel & None & Panel & PanelAndCargo & Panel & 9 & false & false & false & HabLevel1 & HabLevel1 & HabLevel2 & 0 & 10 & 12 & false & CrossedHabLineInSandstorm & CrossedHabLineInTeleop & CrossedHabLineInSandstorm & 8 & Panel & Panel & PanelAndCargo & None & None & None & None & None & Panel & Panel & Panel & Panel & Panel & Panel & HabLevel1 & HabLevel1 & HabLevel2 & 2 & 9 & 1 & 29 & None & None & None & None & 48 & 2019vahay\\_qm17\\_red & qm & 2019vahay & r & 9 & 0 & 0 & 9 & 29 & team3 & frc2988 \\\\\n",
       "\t28 & 0 & 9 & PanelAndCargo & PanelAndCargo & Panel & None & None & Panel & Panel & Panel & 6 & false & false & false & HabLevel1 & HabLevel1 & HabLevel1 & 0 & 3 & 9 & false & CrossedHabLineInSandstorm & CrossedHabLineInSandstorm & CrossedHabLineInTeleop & 4 & None & None & Panel & None & None & None & None & None & Panel & Panel & Panel & Panel & Panel & Panel & HabLevel2 & HabLevel1 & HabLevel1 & 0 & 9 & 0 & 19 & None & None & Panel & None & 31 & 2019vahay\\_qm18\\_red & qm & 2019vahay & r & 2 & 0 & 2 & 4 & 28 & team1 & frc1895 \\\\\n",
       "\t29 & 0 & 9 & PanelAndCargo & PanelAndCargo & Panel & None & None & Panel & Panel & Panel & 6 & false & false & false & HabLevel1 & HabLevel1 & HabLevel1 & 0 & 3 & 9 & false & CrossedHabLineInSandstorm & CrossedHabLineInSandstorm & CrossedHabLineInTeleop & 4 & None & None & Panel & None & None & None & None & None & Panel & Panel & Panel & Panel & Panel & Panel & HabLevel2 & HabLevel1 & HabLevel1 & 0 & 9 & 0 & 19 & None & None & Panel & None & 31 & 2019vahay\\_qm18\\_red & qm & 2019vahay & r & 2 & 0 & 2 & 4 & 28 & team2 & frc611 \\\\\n",
       "\t30 & 0 & 9 & PanelAndCargo & PanelAndCargo & Panel & None & None & Panel & Panel & Panel & 6 & false & false & false & HabLevel1 & HabLevel1 & HabLevel1 & 0 & 3 & 9 & false & CrossedHabLineInSandstorm & CrossedHabLineInSandstorm & CrossedHabLineInTeleop & 4 & None & None & Panel & None & None & None & None & None & Panel & Panel & Panel & Panel & Panel & Panel & HabLevel2 & HabLevel1 & HabLevel1 & 0 & 9 & 0 & 19 & None & None & Panel & None & 31 & 2019vahay\\_qm18\\_red & qm & 2019vahay & r & 2 & 0 & 2 & 4 & 28 & team3 & frc2199 \\\\\n",
       "\t$\\dots$ & $\\dots$ & $\\dots$ & $\\dots$ & $\\dots$ & $\\dots$ & $\\dots$ & $\\dots$ & $\\dots$ & $\\dots$ & $\\dots$ & $\\dots$ & $\\dots$ & $\\dots$ & $\\dots$ & $\\dots$ & $\\dots$ & $\\dots$ & $\\dots$ & $\\dots$ & $\\dots$ & $\\dots$ & $\\dots$ & $\\dots$ & $\\dots$ & $\\dots$ & $\\dots$ & $\\dots$ & $\\dots$ & $\\dots$ & $\\dots$ & $\\dots$ & $\\dots$ & $\\dots$ & $\\dots$ & $\\dots$ & $\\dots$ & $\\dots$ & $\\dots$ & $\\dots$ & $\\dots$ & $\\dots$ & $\\dots$ & $\\dots$ & $\\dots$ & $\\dots$ & $\\dots$ & $\\dots$ & $\\dots$ & $\\dots$ & $\\dots$ & $\\dots$ & $\\dots$ & $\\dots$ & $\\dots$ & $\\dots$ & $\\dots$ & $\\dots$ & $\\dots$ & $\\dots$ & $\\dots$ & $\\dots$ & $\\dots$ \\\\\n",
       "\\end{tabular}\n"
      ],
      "text/plain": [
       "432×62 DataFrame. Omitted printing of 57 columns\n",
       "│ Row │ adjustPoints │ autoPoints │ bay1    │ bay2          │ bay3          │\n",
       "│     │ \u001b[90mInt64⍰\u001b[39m       │ \u001b[90mInt64⍰\u001b[39m     │ \u001b[90mString⍰\u001b[39m │ \u001b[90mString⍰\u001b[39m       │ \u001b[90mString⍰\u001b[39m       │\n",
       "├─────┼──────────────┼────────────┼─────────┼───────────────┼───────────────┤\n",
       "│ 1   │ 0            │ 9          │ Panel   │ Panel         │ PanelAndCargo │\n",
       "│ 2   │ 0            │ 9          │ Panel   │ Panel         │ PanelAndCargo │\n",
       "│ 3   │ 0            │ 9          │ Panel   │ Panel         │ PanelAndCargo │\n",
       "│ 4   │ 0            │ 6          │ None    │ Panel         │ Panel         │\n",
       "│ 5   │ 0            │ 6          │ None    │ Panel         │ Panel         │\n",
       "│ 6   │ 0            │ 6          │ None    │ Panel         │ Panel         │\n",
       "│ 7   │ 0            │ 3          │ None    │ None          │ None          │\n",
       "│ 8   │ 0            │ 3          │ None    │ None          │ None          │\n",
       "│ 9   │ 0            │ 3          │ None    │ None          │ None          │\n",
       "│ 10  │ 0            │ 6          │ None    │ PanelAndCargo │ PanelAndCargo │\n",
       "⋮\n",
       "│ 422 │ 0            │ 12         │ Panel   │ Panel         │ PanelAndCargo │\n",
       "│ 423 │ 0            │ 12         │ Panel   │ Panel         │ PanelAndCargo │\n",
       "│ 424 │ 0            │ 15         │ Panel   │ Panel         │ PanelAndCargo │\n",
       "│ 425 │ 0            │ 15         │ Panel   │ Panel         │ PanelAndCargo │\n",
       "│ 426 │ 0            │ 15         │ Panel   │ Panel         │ PanelAndCargo │\n",
       "│ 427 │ 0            │ 12         │ None    │ None          │ None          │\n",
       "│ 428 │ 0            │ 12         │ None    │ None          │ None          │\n",
       "│ 429 │ 0            │ 12         │ None    │ None          │ None          │\n",
       "│ 430 │ 0            │ 6          │ Panel   │ Panel         │ Panel         │\n",
       "│ 431 │ 0            │ 6          │ Panel   │ Panel         │ Panel         │\n",
       "│ 432 │ 0            │ 6          │ Panel   │ Panel         │ Panel         │"
      ]
     },
     "execution_count": 31,
     "metadata": {},
     "output_type": "execute_result"
    }
   ],
   "source": [
    "scoreline(teams, scores) = let stacked = stack(teams, [:team1, :team2, :team3], variable_name=:role, value_name=:team)\n",
    "    join(scores, stacked, on=:key)\n",
    "end\n",
    "\n",
    "scoreline_blue = scoreline(teams_blue, scores_blue)\n",
    "scoreline_red = scoreline(teams_red, scores_red)"
   ]
  },
  {
   "cell_type": "code",
   "execution_count": 32,
   "metadata": {},
   "outputs": [
    {
     "data": {
      "text/plain": [
       "864-element Array{Union{Missing, String},1}:\n",
       " \"frc4505\"\n",
       " \"frc2988\"\n",
       " \"frc3941\"\n",
       " \"frc2421\"\n",
       " \"frc3941\"\n",
       " \"frc1719\"\n",
       " \"frc623\" \n",
       " \"frc1418\"\n",
       " \"frc4464\"\n",
       " \"frc2961\"\n",
       " \"frc5338\"\n",
       " \"frc4242\"\n",
       " \"frc6543\"\n",
       " ⋮        \n",
       " \"frc1599\"\n",
       " \"frc3258\"\n",
       " \"frc2998\"\n",
       " \"frc1598\"\n",
       " \"frc346\" \n",
       " \"frc1086\"\n",
       " \"frc1522\"\n",
       " \"frc2998\"\n",
       " \"frc422\" \n",
       " \"frc1080\"\n",
       " \"frc1598\"\n",
       " \"frc539\" "
      ]
     },
     "execution_count": 32,
     "metadata": {},
     "output_type": "execute_result"
    }
   ],
   "source": [
    "numericcols = Lib.numeric_col_names(scoreline_red)\n",
    "diff_red = convert(Matrix,scoreline_red[:,numericcols]) .- convert(Matrix, scoreline_blue[:,numericcols])\n",
    "diff_blue = convert(Matrix,scoreline_blue[:,numericcols]) .- convert(Matrix, scoreline_red[:,numericcols])\n",
    "\n",
    "diffdf = DataFrame(vcat(diff_red, diff_blue), numericcols)\n",
    "diffdf[:key] = vcat(scoreline_red.key, scoreline_blue.key)\n",
    "diffdf[:team] = vcat(scoreline_red.team, scoreline_blue.team)"
   ]
  },
  {
   "cell_type": "code",
   "execution_count": 33,
   "metadata": {},
   "outputs": [
    {
     "data": {
      "text/plain": [
       "22-element Array{Symbol,1}:\n",
       " :adjustPoints              \n",
       " :autoPoints                \n",
       " :cargoPoints               \n",
       " :completeRocketRankingPoint\n",
       " :completedRocketFar        \n",
       " :completedRocketNear       \n",
       " :foulCount                 \n",
       " :foulPoints                \n",
       " :habClimbPoints            \n",
       " :habDockingRankingPoint    \n",
       " :hatchPanelPoints          \n",
       " :rp                        \n",
       " :sandStormBonusPoints      \n",
       " :techFoulCount             \n",
       " :teleopPoints              \n",
       " :totalPoints               \n",
       " :rocketLowPoints           \n",
       " :rocketMidPoints           \n",
       " :rocketTopPoints           \n",
       " :rocketPoints              \n",
       " :ownPoints                 \n",
       " :win                       "
      ]
     },
     "execution_count": 33,
     "metadata": {},
     "output_type": "execute_result"
    }
   ],
   "source": [
    "win(pointsMargin) = \n",
    "    if pointsMargin > 0 \n",
    "        1.0\n",
    "    elseif pointsMargin < 0 \n",
    "        0.0\n",
    "    else \n",
    "        0.5\n",
    "    end\n",
    "\n",
    "diffdf[:win] = win.(diffdf.totalPoints)\n",
    "push!(numericcols, :win)"
   ]
  },
  {
   "cell_type": "code",
   "execution_count": 34,
   "metadata": {},
   "outputs": [
    {
     "data": {
      "text/html": [
       "<table class=\"data-frame\"><thead><tr><th></th><th>team</th><th>adjustPoints_mean</th><th>foulPoints_mean</th><th>cargoPoints_mean</th><th>completeRocketRankingPoint_mean</th><th>rocketPoints_mean</th><th>rp_mean</th><th>sandStormBonusPoints_mean</th><th>rocketLowPoints_mean</th><th>rocketMidPoints_mean</th><th>teleopPoints_mean</th><th>win_mean</th><th>autoPoints_mean</th><th>completedRocketNear_mean</th><th>habDockingRankingPoint_mean</th><th>completedRocketFar_mean</th><th>totalPoints_mean</th><th>hatchPanelPoints_mean</th><th>foulCount_mean</th><th>habClimbPoints_mean</th><th>ownPoints_mean</th><th>rocketTopPoints_mean</th><th>techFoulCount_mean</th></tr><tr><th></th><th>String⍰</th><th>Float64</th><th>Float64</th><th>Float64</th><th>Float64</th><th>Float64</th><th>Float64</th><th>Float64</th><th>Float64</th><th>Float64</th><th>Float64</th><th>Float64</th><th>Float64</th><th>Float64</th><th>Float64</th><th>Float64</th><th>Float64</th><th>Float64</th><th>Float64</th><th>Float64</th><th>Float64</th><th>Float64</th><th>Float64</th></tr></thead><tbody><p>75 rows × 23 columns</p><tr><th>1</th><td>frc4505</td><td>0.0</td><td>-3.45455</td><td>0.0</td><td>0.0</td><td>0.818182</td><td>-0.363636</td><td>2.72727</td><td>-1.09091</td><td>1.54545</td><td>0.0</td><td>0.454545</td><td>2.72727</td><td>0.0</td><td>-0.181818</td><td>0.0</td><td>-0.727273</td><td>1.09091</td><td>0.545455</td><td>-1.09091</td><td>-0.545455</td><td>0.363636</td><td>0.181818</td></tr><tr><th>2</th><td>frc2988</td><td>0.0</td><td>-0.818182</td><td>-0.545455</td><td>0.0</td><td>0.727273</td><td>0.636364</td><td>-0.272727</td><td>2.0</td><td>-0.909091</td><td>3.18182</td><td>0.636364</td><td>-0.272727</td><td>0.0</td><td>0.0909091</td><td>0.0</td><td>2.09091</td><td>1.27273</td><td>0.272727</td><td>2.45455</td><td>2.09091</td><td>-0.363636</td><td>0.0</td></tr><tr><th>3</th><td>frc3941</td><td>0.0</td><td>-2.81818</td><td>1.09091</td><td>0.0</td><td>-3.27273</td><td>-1.18182</td><td>-1.90909</td><td>-3.18182</td><td>0.272727</td><td>-8.45455</td><td>0.272727</td><td>-1.90909</td><td>0.0</td><td>-0.272727</td><td>0.0</td><td>-13.1818</td><td>-3.81818</td><td>0.636364</td><td>-5.72727</td><td>-13.0909</td><td>-0.363636</td><td>0.0909091</td></tr><tr><th>4</th><td>frc2421</td><td>0.0</td><td>-0.363636</td><td>-2.72727</td><td>0.0</td><td>0.454545</td><td>-1.81818</td><td>-3.81818</td><td>0.636364</td><td>-0.363636</td><td>-8.72727</td><td>0.136364</td><td>-3.81818</td><td>0.0</td><td>-0.363636</td><td>0.0</td><td>-12.9091</td><td>-1.63636</td><td>-0.181818</td><td>-4.36364</td><td>-12.8182</td><td>0.181818</td><td>0.0909091</td></tr><tr><th>5</th><td>frc1719</td><td>0.0</td><td>2.81818</td><td>-0.545455</td><td>0.0909091</td><td>1.90909</td><td>0.454545</td><td>-0.272727</td><td>0.181818</td><td>1.09091</td><td>5.81818</td><td>0.545455</td><td>-0.272727</td><td>0.0</td><td>0.181818</td><td>0.0</td><td>8.36364</td><td>2.54545</td><td>-0.636364</td><td>3.81818</td><td>8.27273</td><td>0.636364</td><td>-0.0909091</td></tr><tr><th>6</th><td>frc623</td><td>0.0</td><td>-0.272727</td><td>-1.09091</td><td>0.0</td><td>1.0</td><td>-0.181818</td><td>0.545455</td><td>0.0909091</td><td>0.363636</td><td>-1.81818</td><td>0.5</td><td>0.545455</td><td>0.0</td><td>-0.181818</td><td>0.0</td><td>-1.54545</td><td>1.45455</td><td>0.0909091</td><td>-2.18182</td><td>-1.54545</td><td>0.545455</td><td>0.0</td></tr><tr><th>7</th><td>frc1418</td><td>0.0</td><td>-0.909091</td><td>1.63636</td><td>0.0909091</td><td>15.1818</td><td>0.727273</td><td>-1.09091</td><td>5.54545</td><td>4.36364</td><td>11.2727</td><td>0.636364</td><td>-1.09091</td><td>0.0</td><td>0.0909091</td><td>0.0</td><td>9.27273</td><td>8.54545</td><td>0.0</td><td>1.09091</td><td>9.36364</td><td>5.27273</td><td>0.0909091</td></tr><tr><th>8</th><td>frc4464</td><td>0.0</td><td>-1.36364</td><td>-4.90909</td><td>0.0</td><td>-4.18182</td><td>-1.18182</td><td>-4.09091</td><td>-3.27273</td><td>-1.18182</td><td>-16.0909</td><td>0.272727</td><td>-4.09091</td><td>0.0</td><td>-0.272727</td><td>0.0</td><td>-21.5455</td><td>-3.81818</td><td>0.454545</td><td>-7.36364</td><td>-21.5455</td><td>0.272727</td><td>0.0</td></tr><tr><th>9</th><td>frc2961</td><td>0.0</td><td>0.363636</td><td>-3.54545</td><td>0.0909091</td><td>-3.54545</td><td>0.0</td><td>-1.09091</td><td>-3.54545</td><td>0.0</td><td>-5.72727</td><td>0.5</td><td>-1.09091</td><td>0.0</td><td>-0.0909091</td><td>0.0</td><td>-6.45455</td><td>-1.09091</td><td>0.181818</td><td>-1.09091</td><td>-6.54545</td><td>0.0</td><td>-0.0909091</td></tr><tr><th>10</th><td>frc5338</td><td>0.0</td><td>0.818182</td><td>-0.545455</td><td>0.0</td><td>-4.72727</td><td>1.27273</td><td>0.0</td><td>-2.09091</td><td>-2.0</td><td>6.81818</td><td>0.636364</td><td>0.0</td><td>0.0</td><td>0.727273</td><td>0.0</td><td>7.63636</td><td>-0.545455</td><td>-0.272727</td><td>7.90909</td><td>7.63636</td><td>-0.636364</td><td>0.0</td></tr><tr><th>11</th><td>frc4242</td><td>0.0</td><td>1.09091</td><td>4.09091</td><td>-0.0909091</td><td>-1.81818</td><td>0.545455</td><td>3.27273</td><td>-0.818182</td><td>-0.363636</td><td>6.36364</td><td>0.636364</td><td>3.27273</td><td>0.0</td><td>0.0909091</td><td>0.0</td><td>10.7273</td><td>-1.27273</td><td>-0.363636</td><td>3.54545</td><td>10.7273</td><td>-0.636364</td><td>0.0</td></tr><tr><th>12</th><td>frc6543</td><td>0.0</td><td>-1.81818</td><td>0.545455</td><td>-0.0909091</td><td>-3.90909</td><td>-1.36364</td><td>-1.63636</td><td>-1.54545</td><td>-0.909091</td><td>-4.45455</td><td>0.272727</td><td>-1.63636</td><td>0.0</td><td>-0.363636</td><td>0.0</td><td>-7.90909</td><td>-2.54545</td><td>0.909091</td><td>-2.45455</td><td>-8.0</td><td>-1.45455</td><td>-0.0909091</td></tr><tr><th>13</th><td>frc1629</td><td>0.0</td><td>-2.18182</td><td>2.18182</td><td>0.0</td><td>3.27273</td><td>-0.181818</td><td>1.09091</td><td>2.0</td><td>0.727273</td><td>4.72727</td><td>0.5</td><td>1.09091</td><td>0.0</td><td>-0.181818</td><td>0.0</td><td>3.63636</td><td>3.63636</td><td>0.727273</td><td>-1.09091</td><td>3.63636</td><td>0.545455</td><td>0.0</td></tr><tr><th>14</th><td>frc2819</td><td>0.0</td><td>-1.54545</td><td>-3.0</td><td>0.0</td><td>-4.72727</td><td>-1.54545</td><td>-4.63636</td><td>-3.63636</td><td>-0.545455</td><td>-9.63636</td><td>0.136364</td><td>-4.63636</td><td>0.0</td><td>-0.0909091</td><td>0.0</td><td>-15.8182</td><td>-3.09091</td><td>0.818182</td><td>-3.54545</td><td>-15.9091</td><td>-0.545455</td><td>-0.0909091</td></tr><tr><th>15</th><td>frc116</td><td>0.0</td><td>-2.54545</td><td>1.63636</td><td>0.0</td><td>-2.0</td><td>0.545455</td><td>0.0</td><td>-0.272727</td><td>-1.54545</td><td>4.81818</td><td>0.545455</td><td>0.0</td><td>0.0</td><td>0.363636</td><td>0.0</td><td>2.27273</td><td>-2.0</td><td>0.545455</td><td>5.18182</td><td>2.36364</td><td>-0.181818</td><td>0.0909091</td></tr><tr><th>16</th><td>frc2363</td><td>0.0</td><td>0.545455</td><td>2.18182</td><td>0.0</td><td>1.18182</td><td>1.0</td><td>2.72727</td><td>-0.0909091</td><td>1.27273</td><td>7.54545</td><td>0.636364</td><td>2.72727</td><td>0.0</td><td>0.454545</td><td>0.0</td><td>10.8182</td><td>0.727273</td><td>-0.181818</td><td>4.63636</td><td>10.8182</td><td>0.0</td><td>0.0</td></tr><tr><th>17</th><td>frc5549</td><td>0.0</td><td>-2.45455</td><td>-1.36364</td><td>0.0</td><td>1.72727</td><td>-0.818182</td><td>-0.272727</td><td>0.636364</td><td>1.09091</td><td>-2.72727</td><td>0.363636</td><td>-0.272727</td><td>0.0</td><td>-0.272727</td><td>0.0</td><td>-5.45455</td><td>1.09091</td><td>-0.0909091</td><td>-2.45455</td><td>-5.18182</td><td>0.0</td><td>0.272727</td></tr><tr><th>18</th><td>frc2534</td><td>0.0</td><td>0.818182</td><td>2.72727</td><td>0.0</td><td>2.0</td><td>2.0</td><td>0.818182</td><td>3.45455</td><td>-0.363636</td><td>8.81818</td><td>0.909091</td><td>0.818182</td><td>0.0</td><td>0.363636</td><td>0.0</td><td>10.4545</td><td>1.45455</td><td>-0.272727</td><td>4.63636</td><td>10.4545</td><td>-1.09091</td><td>0.0</td></tr><tr><th>19</th><td>frc4099</td><td>0.0</td><td>-0.272727</td><td>3.27273</td><td>0.0</td><td>5.36364</td><td>1.09091</td><td>2.45455</td><td>3.54545</td><td>1.0</td><td>11.1818</td><td>0.727273</td><td>2.45455</td><td>0.0</td><td>0.181818</td><td>0.0</td><td>13.3636</td><td>3.81818</td><td>0.0909091</td><td>4.09091</td><td>13.3636</td><td>0.818182</td><td>0.0</td></tr><tr><th>20</th><td>frc316</td><td>0.0</td><td>-1.54545</td><td>1.90909</td><td>0.0</td><td>2.0</td><td>-0.363636</td><td>1.36364</td><td>0.909091</td><td>0.909091</td><td>2.63636</td><td>0.454545</td><td>1.36364</td><td>0.0</td><td>-0.181818</td><td>0.0</td><td>2.45455</td><td>2.90909</td><td>0.818182</td><td>-2.18182</td><td>2.36364</td><td>0.181818</td><td>-0.0909091</td></tr><tr><th>21</th><td>frc888</td><td>0.0</td><td>1.63636</td><td>-1.63636</td><td>0.0</td><td>0.909091</td><td>-0.181818</td><td>-0.272727</td><td>-0.0909091</td><td>0.636364</td><td>-3.45455</td><td>0.454545</td><td>-0.272727</td><td>0.0</td><td>0.0</td><td>0.0</td><td>-2.09091</td><td>-0.181818</td><td>-0.545455</td><td>-1.63636</td><td>-2.09091</td><td>0.363636</td><td>0.0</td></tr><tr><th>22</th><td>frc1731</td><td>0.0</td><td>0.833333</td><td>2.25</td><td>0.0</td><td>1.91667</td><td>-0.416667</td><td>1.5</td><td>2.91667</td><td>-1.0</td><td>-0.916667</td><td>0.416667</td><td>1.5</td><td>0.0</td><td>-0.0833333</td><td>0.0</td><td>1.41667</td><td>-0.166667</td><td>0.0</td><td>-3.0</td><td>1.33333</td><td>0.0</td><td>-0.0833333</td></tr><tr><th>23</th><td>frc2028</td><td>0.0</td><td>1.63636</td><td>0.272727</td><td>0.0</td><td>0.363636</td><td>0.727273</td><td>0.818182</td><td>0.818182</td><td>-0.454545</td><td>0.272727</td><td>0.681818</td><td>0.818182</td><td>0.0</td><td>0.0</td><td>0.0</td><td>2.72727</td><td>-1.09091</td><td>-0.545455</td><td>1.09091</td><td>2.72727</td><td>0.0</td><td>0.0</td></tr><tr><th>24</th><td>frc3373</td><td>0.0</td><td>0.25</td><td>-1.75</td><td>0.0</td><td>3.83333</td><td>0.0</td><td>-1.75</td><td>1.41667</td><td>1.41667</td><td>-0.333333</td><td>0.5</td><td>-1.75</td><td>0.0</td><td>0.0</td><td>0.0</td><td>-1.83333</td><td>1.66667</td><td>-0.0833333</td><td>-0.25</td><td>-1.83333</td><td>1.0</td><td>0.0</td></tr><tr><th>25</th><td>frc1895</td><td>0.0</td><td>1.36364</td><td>2.18182</td><td>0.0</td><td>-1.54545</td><td>0.0</td><td>0.272727</td><td>0.181818</td><td>-1.54545</td><td>1.18182</td><td>0.5</td><td>0.272727</td><td>0.0</td><td>0.0</td><td>0.0</td><td>2.81818</td><td>-1.27273</td><td>-0.454545</td><td>0.272727</td><td>2.81818</td><td>-0.181818</td><td>0.0</td></tr><tr><th>26</th><td>frc611</td><td>0.0</td><td>2.18182</td><td>1.90909</td><td>0.0</td><td>2.36364</td><td>-1.0</td><td>-0.272727</td><td>1.54545</td><td>0.636364</td><td>-3.45455</td><td>0.318182</td><td>-0.272727</td><td>0.0</td><td>-0.272727</td><td>0.0</td><td>-1.54545</td><td>-1.27273</td><td>-0.727273</td><td>-4.09091</td><td>-1.54545</td><td>0.181818</td><td>0.0</td></tr><tr><th>27</th><td>frc2199</td><td>0.0</td><td>-0.818182</td><td>0.545455</td><td>0.0</td><td>-0.0909091</td><td>-0.272727</td><td>-0.272727</td><td>-0.727273</td><td>0.0</td><td>1.0</td><td>0.454545</td><td>-0.272727</td><td>0.0</td><td>-0.0909091</td><td>0.0</td><td>-0.0909091</td><td>-0.909091</td><td>0.272727</td><td>1.36364</td><td>-0.0909091</td><td>0.636364</td><td>0.0</td></tr><tr><th>28</th><td>frc2186</td><td>0.0</td><td>-0.0909091</td><td>0.0</td><td>0.0</td><td>-0.272727</td><td>0.0909091</td><td>-2.18182</td><td>1.54545</td><td>-1.09091</td><td>-1.0</td><td>0.545455</td><td>-2.18182</td><td>0.0</td><td>-0.0909091</td><td>0.0</td><td>-3.27273</td><td>0.363636</td><td>-0.272727</td><td>-1.36364</td><td>-3.18182</td><td>-0.727273</td><td>0.0909091</td></tr><tr><th>29</th><td>frc614</td><td>0.0</td><td>4.63636</td><td>9.54545</td><td>0.0</td><td>-0.0909091</td><td>2.09091</td><td>3.54545</td><td>0.727273</td><td>-0.181818</td><td>17.5455</td><td>0.909091</td><td>3.54545</td><td>0.0</td><td>0.454545</td><td>0.0</td><td>25.7273</td><td>0.363636</td><td>-1.54545</td><td>7.63636</td><td>25.7273</td><td>-0.636364</td><td>0.0</td></tr><tr><th>30</th><td>frc612</td><td>0.0</td><td>1.18182</td><td>4.09091</td><td>0.0</td><td>-0.454545</td><td>2.72727</td><td>3.0</td><td>1.18182</td><td>-0.727273</td><td>13.0909</td><td>1.0</td><td>3.0</td><td>0.0</td><td>0.727273</td><td>0.0</td><td>17.2727</td><td>1.09091</td><td>-0.0909091</td><td>7.90909</td><td>17.1818</td><td>-0.909091</td><td>-0.0909091</td></tr><tr><th>&vellip;</th><td>&vellip;</td><td>&vellip;</td><td>&vellip;</td><td>&vellip;</td><td>&vellip;</td><td>&vellip;</td><td>&vellip;</td><td>&vellip;</td><td>&vellip;</td><td>&vellip;</td><td>&vellip;</td><td>&vellip;</td><td>&vellip;</td><td>&vellip;</td><td>&vellip;</td><td>&vellip;</td><td>&vellip;</td><td>&vellip;</td><td>&vellip;</td><td>&vellip;</td><td>&vellip;</td><td>&vellip;</td><td>&vellip;</td></tr></tbody></table>"
      ],
      "text/latex": [
       "\\begin{tabular}{r|ccccccccccccccccccccccc}\n",
       "\t& team & adjustPoints\\_mean & foulPoints\\_mean & cargoPoints\\_mean & completeRocketRankingPoint\\_mean & rocketPoints\\_mean & rp\\_mean & sandStormBonusPoints\\_mean & rocketLowPoints\\_mean & rocketMidPoints\\_mean & teleopPoints\\_mean & win\\_mean & autoPoints\\_mean & completedRocketNear\\_mean & habDockingRankingPoint\\_mean & completedRocketFar\\_mean & totalPoints\\_mean & hatchPanelPoints\\_mean & foulCount\\_mean & habClimbPoints\\_mean & ownPoints\\_mean & rocketTopPoints\\_mean & techFoulCount\\_mean\\\\\n",
       "\t\\hline\n",
       "\t& String⍰ & Float64 & Float64 & Float64 & Float64 & Float64 & Float64 & Float64 & Float64 & Float64 & Float64 & Float64 & Float64 & Float64 & Float64 & Float64 & Float64 & Float64 & Float64 & Float64 & Float64 & Float64 & Float64\\\\\n",
       "\t\\hline\n",
       "\t1 & frc4505 & 0.0 & -3.45455 & 0.0 & 0.0 & 0.818182 & -0.363636 & 2.72727 & -1.09091 & 1.54545 & 0.0 & 0.454545 & 2.72727 & 0.0 & -0.181818 & 0.0 & -0.727273 & 1.09091 & 0.545455 & -1.09091 & -0.545455 & 0.363636 & 0.181818 \\\\\n",
       "\t2 & frc2988 & 0.0 & -0.818182 & -0.545455 & 0.0 & 0.727273 & 0.636364 & -0.272727 & 2.0 & -0.909091 & 3.18182 & 0.636364 & -0.272727 & 0.0 & 0.0909091 & 0.0 & 2.09091 & 1.27273 & 0.272727 & 2.45455 & 2.09091 & -0.363636 & 0.0 \\\\\n",
       "\t3 & frc3941 & 0.0 & -2.81818 & 1.09091 & 0.0 & -3.27273 & -1.18182 & -1.90909 & -3.18182 & 0.272727 & -8.45455 & 0.272727 & -1.90909 & 0.0 & -0.272727 & 0.0 & -13.1818 & -3.81818 & 0.636364 & -5.72727 & -13.0909 & -0.363636 & 0.0909091 \\\\\n",
       "\t4 & frc2421 & 0.0 & -0.363636 & -2.72727 & 0.0 & 0.454545 & -1.81818 & -3.81818 & 0.636364 & -0.363636 & -8.72727 & 0.136364 & -3.81818 & 0.0 & -0.363636 & 0.0 & -12.9091 & -1.63636 & -0.181818 & -4.36364 & -12.8182 & 0.181818 & 0.0909091 \\\\\n",
       "\t5 & frc1719 & 0.0 & 2.81818 & -0.545455 & 0.0909091 & 1.90909 & 0.454545 & -0.272727 & 0.181818 & 1.09091 & 5.81818 & 0.545455 & -0.272727 & 0.0 & 0.181818 & 0.0 & 8.36364 & 2.54545 & -0.636364 & 3.81818 & 8.27273 & 0.636364 & -0.0909091 \\\\\n",
       "\t6 & frc623 & 0.0 & -0.272727 & -1.09091 & 0.0 & 1.0 & -0.181818 & 0.545455 & 0.0909091 & 0.363636 & -1.81818 & 0.5 & 0.545455 & 0.0 & -0.181818 & 0.0 & -1.54545 & 1.45455 & 0.0909091 & -2.18182 & -1.54545 & 0.545455 & 0.0 \\\\\n",
       "\t7 & frc1418 & 0.0 & -0.909091 & 1.63636 & 0.0909091 & 15.1818 & 0.727273 & -1.09091 & 5.54545 & 4.36364 & 11.2727 & 0.636364 & -1.09091 & 0.0 & 0.0909091 & 0.0 & 9.27273 & 8.54545 & 0.0 & 1.09091 & 9.36364 & 5.27273 & 0.0909091 \\\\\n",
       "\t8 & frc4464 & 0.0 & -1.36364 & -4.90909 & 0.0 & -4.18182 & -1.18182 & -4.09091 & -3.27273 & -1.18182 & -16.0909 & 0.272727 & -4.09091 & 0.0 & -0.272727 & 0.0 & -21.5455 & -3.81818 & 0.454545 & -7.36364 & -21.5455 & 0.272727 & 0.0 \\\\\n",
       "\t9 & frc2961 & 0.0 & 0.363636 & -3.54545 & 0.0909091 & -3.54545 & 0.0 & -1.09091 & -3.54545 & 0.0 & -5.72727 & 0.5 & -1.09091 & 0.0 & -0.0909091 & 0.0 & -6.45455 & -1.09091 & 0.181818 & -1.09091 & -6.54545 & 0.0 & -0.0909091 \\\\\n",
       "\t10 & frc5338 & 0.0 & 0.818182 & -0.545455 & 0.0 & -4.72727 & 1.27273 & 0.0 & -2.09091 & -2.0 & 6.81818 & 0.636364 & 0.0 & 0.0 & 0.727273 & 0.0 & 7.63636 & -0.545455 & -0.272727 & 7.90909 & 7.63636 & -0.636364 & 0.0 \\\\\n",
       "\t11 & frc4242 & 0.0 & 1.09091 & 4.09091 & -0.0909091 & -1.81818 & 0.545455 & 3.27273 & -0.818182 & -0.363636 & 6.36364 & 0.636364 & 3.27273 & 0.0 & 0.0909091 & 0.0 & 10.7273 & -1.27273 & -0.363636 & 3.54545 & 10.7273 & -0.636364 & 0.0 \\\\\n",
       "\t12 & frc6543 & 0.0 & -1.81818 & 0.545455 & -0.0909091 & -3.90909 & -1.36364 & -1.63636 & -1.54545 & -0.909091 & -4.45455 & 0.272727 & -1.63636 & 0.0 & -0.363636 & 0.0 & -7.90909 & -2.54545 & 0.909091 & -2.45455 & -8.0 & -1.45455 & -0.0909091 \\\\\n",
       "\t13 & frc1629 & 0.0 & -2.18182 & 2.18182 & 0.0 & 3.27273 & -0.181818 & 1.09091 & 2.0 & 0.727273 & 4.72727 & 0.5 & 1.09091 & 0.0 & -0.181818 & 0.0 & 3.63636 & 3.63636 & 0.727273 & -1.09091 & 3.63636 & 0.545455 & 0.0 \\\\\n",
       "\t14 & frc2819 & 0.0 & -1.54545 & -3.0 & 0.0 & -4.72727 & -1.54545 & -4.63636 & -3.63636 & -0.545455 & -9.63636 & 0.136364 & -4.63636 & 0.0 & -0.0909091 & 0.0 & -15.8182 & -3.09091 & 0.818182 & -3.54545 & -15.9091 & -0.545455 & -0.0909091 \\\\\n",
       "\t15 & frc116 & 0.0 & -2.54545 & 1.63636 & 0.0 & -2.0 & 0.545455 & 0.0 & -0.272727 & -1.54545 & 4.81818 & 0.545455 & 0.0 & 0.0 & 0.363636 & 0.0 & 2.27273 & -2.0 & 0.545455 & 5.18182 & 2.36364 & -0.181818 & 0.0909091 \\\\\n",
       "\t16 & frc2363 & 0.0 & 0.545455 & 2.18182 & 0.0 & 1.18182 & 1.0 & 2.72727 & -0.0909091 & 1.27273 & 7.54545 & 0.636364 & 2.72727 & 0.0 & 0.454545 & 0.0 & 10.8182 & 0.727273 & -0.181818 & 4.63636 & 10.8182 & 0.0 & 0.0 \\\\\n",
       "\t17 & frc5549 & 0.0 & -2.45455 & -1.36364 & 0.0 & 1.72727 & -0.818182 & -0.272727 & 0.636364 & 1.09091 & -2.72727 & 0.363636 & -0.272727 & 0.0 & -0.272727 & 0.0 & -5.45455 & 1.09091 & -0.0909091 & -2.45455 & -5.18182 & 0.0 & 0.272727 \\\\\n",
       "\t18 & frc2534 & 0.0 & 0.818182 & 2.72727 & 0.0 & 2.0 & 2.0 & 0.818182 & 3.45455 & -0.363636 & 8.81818 & 0.909091 & 0.818182 & 0.0 & 0.363636 & 0.0 & 10.4545 & 1.45455 & -0.272727 & 4.63636 & 10.4545 & -1.09091 & 0.0 \\\\\n",
       "\t19 & frc4099 & 0.0 & -0.272727 & 3.27273 & 0.0 & 5.36364 & 1.09091 & 2.45455 & 3.54545 & 1.0 & 11.1818 & 0.727273 & 2.45455 & 0.0 & 0.181818 & 0.0 & 13.3636 & 3.81818 & 0.0909091 & 4.09091 & 13.3636 & 0.818182 & 0.0 \\\\\n",
       "\t20 & frc316 & 0.0 & -1.54545 & 1.90909 & 0.0 & 2.0 & -0.363636 & 1.36364 & 0.909091 & 0.909091 & 2.63636 & 0.454545 & 1.36364 & 0.0 & -0.181818 & 0.0 & 2.45455 & 2.90909 & 0.818182 & -2.18182 & 2.36364 & 0.181818 & -0.0909091 \\\\\n",
       "\t21 & frc888 & 0.0 & 1.63636 & -1.63636 & 0.0 & 0.909091 & -0.181818 & -0.272727 & -0.0909091 & 0.636364 & -3.45455 & 0.454545 & -0.272727 & 0.0 & 0.0 & 0.0 & -2.09091 & -0.181818 & -0.545455 & -1.63636 & -2.09091 & 0.363636 & 0.0 \\\\\n",
       "\t22 & frc1731 & 0.0 & 0.833333 & 2.25 & 0.0 & 1.91667 & -0.416667 & 1.5 & 2.91667 & -1.0 & -0.916667 & 0.416667 & 1.5 & 0.0 & -0.0833333 & 0.0 & 1.41667 & -0.166667 & 0.0 & -3.0 & 1.33333 & 0.0 & -0.0833333 \\\\\n",
       "\t23 & frc2028 & 0.0 & 1.63636 & 0.272727 & 0.0 & 0.363636 & 0.727273 & 0.818182 & 0.818182 & -0.454545 & 0.272727 & 0.681818 & 0.818182 & 0.0 & 0.0 & 0.0 & 2.72727 & -1.09091 & -0.545455 & 1.09091 & 2.72727 & 0.0 & 0.0 \\\\\n",
       "\t24 & frc3373 & 0.0 & 0.25 & -1.75 & 0.0 & 3.83333 & 0.0 & -1.75 & 1.41667 & 1.41667 & -0.333333 & 0.5 & -1.75 & 0.0 & 0.0 & 0.0 & -1.83333 & 1.66667 & -0.0833333 & -0.25 & -1.83333 & 1.0 & 0.0 \\\\\n",
       "\t25 & frc1895 & 0.0 & 1.36364 & 2.18182 & 0.0 & -1.54545 & 0.0 & 0.272727 & 0.181818 & -1.54545 & 1.18182 & 0.5 & 0.272727 & 0.0 & 0.0 & 0.0 & 2.81818 & -1.27273 & -0.454545 & 0.272727 & 2.81818 & -0.181818 & 0.0 \\\\\n",
       "\t26 & frc611 & 0.0 & 2.18182 & 1.90909 & 0.0 & 2.36364 & -1.0 & -0.272727 & 1.54545 & 0.636364 & -3.45455 & 0.318182 & -0.272727 & 0.0 & -0.272727 & 0.0 & -1.54545 & -1.27273 & -0.727273 & -4.09091 & -1.54545 & 0.181818 & 0.0 \\\\\n",
       "\t27 & frc2199 & 0.0 & -0.818182 & 0.545455 & 0.0 & -0.0909091 & -0.272727 & -0.272727 & -0.727273 & 0.0 & 1.0 & 0.454545 & -0.272727 & 0.0 & -0.0909091 & 0.0 & -0.0909091 & -0.909091 & 0.272727 & 1.36364 & -0.0909091 & 0.636364 & 0.0 \\\\\n",
       "\t28 & frc2186 & 0.0 & -0.0909091 & 0.0 & 0.0 & -0.272727 & 0.0909091 & -2.18182 & 1.54545 & -1.09091 & -1.0 & 0.545455 & -2.18182 & 0.0 & -0.0909091 & 0.0 & -3.27273 & 0.363636 & -0.272727 & -1.36364 & -3.18182 & -0.727273 & 0.0909091 \\\\\n",
       "\t29 & frc614 & 0.0 & 4.63636 & 9.54545 & 0.0 & -0.0909091 & 2.09091 & 3.54545 & 0.727273 & -0.181818 & 17.5455 & 0.909091 & 3.54545 & 0.0 & 0.454545 & 0.0 & 25.7273 & 0.363636 & -1.54545 & 7.63636 & 25.7273 & -0.636364 & 0.0 \\\\\n",
       "\t30 & frc612 & 0.0 & 1.18182 & 4.09091 & 0.0 & -0.454545 & 2.72727 & 3.0 & 1.18182 & -0.727273 & 13.0909 & 1.0 & 3.0 & 0.0 & 0.727273 & 0.0 & 17.2727 & 1.09091 & -0.0909091 & 7.90909 & 17.1818 & -0.909091 & -0.0909091 \\\\\n",
       "\t$\\dots$ & $\\dots$ & $\\dots$ & $\\dots$ & $\\dots$ & $\\dots$ & $\\dots$ & $\\dots$ & $\\dots$ & $\\dots$ & $\\dots$ & $\\dots$ & $\\dots$ & $\\dots$ & $\\dots$ & $\\dots$ & $\\dots$ & $\\dots$ & $\\dots$ & $\\dots$ & $\\dots$ & $\\dots$ & $\\dots$ & $\\dots$ \\\\\n",
       "\\end{tabular}\n"
      ],
      "text/plain": [
       "75×23 DataFrame. Omitted printing of 19 columns\n",
       "│ Row │ team    │ adjustPoints_mean │ foulPoints_mean │ cargoPoints_mean │\n",
       "│     │ \u001b[90mString⍰\u001b[39m │ \u001b[90mFloat64\u001b[39m           │ \u001b[90mFloat64\u001b[39m         │ \u001b[90mFloat64\u001b[39m          │\n",
       "├─────┼─────────┼───────────────────┼─────────────────┼──────────────────┤\n",
       "│ 1   │ frc4505 │ 0.0               │ -3.45455        │ 0.0              │\n",
       "│ 2   │ frc2988 │ 0.0               │ -0.818182       │ -0.545455        │\n",
       "│ 3   │ frc3941 │ 0.0               │ -2.81818        │ 1.09091          │\n",
       "│ 4   │ frc2421 │ 0.0               │ -0.363636       │ -2.72727         │\n",
       "│ 5   │ frc1719 │ 0.0               │ 2.81818         │ -0.545455        │\n",
       "│ 6   │ frc623  │ 0.0               │ -0.272727       │ -1.09091         │\n",
       "│ 7   │ frc1418 │ 0.0               │ -0.909091       │ 1.63636          │\n",
       "│ 8   │ frc4464 │ 0.0               │ -1.36364        │ -4.90909         │\n",
       "│ 9   │ frc2961 │ 0.0               │ 0.363636        │ -3.54545         │\n",
       "│ 10  │ frc5338 │ 0.0               │ 0.818182        │ -0.545455        │\n",
       "⋮\n",
       "│ 65  │ frc2106 │ 0.0               │ 1.08333         │ -6.0             │\n",
       "│ 66  │ frc1599 │ 0.0               │ -1.25           │ -0.75            │\n",
       "│ 67  │ frc1793 │ 0.0               │ 2.0             │ -2.25            │\n",
       "│ 68  │ frc1080 │ 0.0               │ 0.5             │ 3.5              │\n",
       "│ 69  │ frc6882 │ 0.0               │ -1.08333        │ 0.75             │\n",
       "│ 70  │ frc5957 │ 0.0               │ -1.08333        │ -6.0             │\n",
       "│ 71  │ frc619  │ 0.0               │ 2.16667         │ -3.5             │\n",
       "│ 72  │ frc6334 │ 0.0               │ 1.91667         │ -3.25            │\n",
       "│ 73  │ frc422  │ 0.0               │ -0.5            │ 6.5              │\n",
       "│ 74  │ frc3361 │ 0.0               │ 1.08333         │ -1.5             │\n",
       "│ 75  │ frc539  │ 0.0               │ 1.41667         │ -3.75            │"
      ]
     },
     "execution_count": 34,
     "metadata": {},
     "output_type": "execute_result"
    }
   ],
   "source": [
    "plusminus = by(diffdf, :team, Dict(n => mean for n in numericcols)...)"
   ]
  },
  {
   "cell_type": "code",
   "execution_count": 35,
   "metadata": {},
   "outputs": [
    {
     "data": {
      "text/html": [
       "<table class=\"data-frame\"><thead><tr><th></th><th>team</th><th>win_mean</th></tr><tr><th></th><th>String⍰</th><th>Float64</th></tr></thead><tbody><p>75 rows × 2 columns</p><tr><th>1</th><td>frc612</td><td>1.0</td></tr><tr><th>2</th><td>frc2534</td><td>0.909091</td></tr><tr><th>3</th><td>frc614</td><td>0.909091</td></tr><tr><th>4</th><td>frc346</td><td>0.875</td></tr><tr><th>5</th><td>frc1610</td><td>0.833333</td></tr><tr><th>6</th><td>frc977</td><td>0.833333</td></tr><tr><th>7</th><td>frc339</td><td>0.818182</td></tr><tr><th>8</th><td>frc1262</td><td>0.75</td></tr><tr><th>9</th><td>frc4099</td><td>0.727273</td></tr><tr><th>10</th><td>frc2998</td><td>0.708333</td></tr><tr><th>11</th><td>frc2028</td><td>0.681818</td></tr><tr><th>12</th><td>frc1599</td><td>0.666667</td></tr><tr><th>13</th><td>frc1793</td><td>0.666667</td></tr><tr><th>14</th><td>frc422</td><td>0.666667</td></tr><tr><th>15</th><td>frc2988</td><td>0.636364</td></tr><tr><th>16</th><td>frc1418</td><td>0.636364</td></tr><tr><th>17</th><td>frc5338</td><td>0.636364</td></tr><tr><th>18</th><td>frc4242</td><td>0.636364</td></tr><tr><th>19</th><td>frc2363</td><td>0.636364</td></tr><tr><th>20</th><td>frc3455</td><td>0.636364</td></tr><tr><th>21</th><td>frc384</td><td>0.625</td></tr><tr><th>22</th><td>frc6802</td><td>0.625</td></tr><tr><th>23</th><td>frc1908</td><td>0.625</td></tr><tr><th>24</th><td>frc619</td><td>0.625</td></tr><tr><th>25</th><td>frc1413</td><td>0.583333</td></tr><tr><th>26</th><td>frc5546</td><td>0.583333</td></tr><tr><th>27</th><td>frc2106</td><td>0.583333</td></tr><tr><th>28</th><td>frc1719</td><td>0.545455</td></tr><tr><th>29</th><td>frc116</td><td>0.545455</td></tr><tr><th>30</th><td>frc2186</td><td>0.545455</td></tr><tr><th>&vellip;</th><td>&vellip;</td><td>&vellip;</td></tr></tbody></table>"
      ],
      "text/latex": [
       "\\begin{tabular}{r|cc}\n",
       "\t& team & win\\_mean\\\\\n",
       "\t\\hline\n",
       "\t& String⍰ & Float64\\\\\n",
       "\t\\hline\n",
       "\t1 & frc612 & 1.0 \\\\\n",
       "\t2 & frc2534 & 0.909091 \\\\\n",
       "\t3 & frc614 & 0.909091 \\\\\n",
       "\t4 & frc346 & 0.875 \\\\\n",
       "\t5 & frc1610 & 0.833333 \\\\\n",
       "\t6 & frc977 & 0.833333 \\\\\n",
       "\t7 & frc339 & 0.818182 \\\\\n",
       "\t8 & frc1262 & 0.75 \\\\\n",
       "\t9 & frc4099 & 0.727273 \\\\\n",
       "\t10 & frc2998 & 0.708333 \\\\\n",
       "\t11 & frc2028 & 0.681818 \\\\\n",
       "\t12 & frc1599 & 0.666667 \\\\\n",
       "\t13 & frc1793 & 0.666667 \\\\\n",
       "\t14 & frc422 & 0.666667 \\\\\n",
       "\t15 & frc2988 & 0.636364 \\\\\n",
       "\t16 & frc1418 & 0.636364 \\\\\n",
       "\t17 & frc5338 & 0.636364 \\\\\n",
       "\t18 & frc4242 & 0.636364 \\\\\n",
       "\t19 & frc2363 & 0.636364 \\\\\n",
       "\t20 & frc3455 & 0.636364 \\\\\n",
       "\t21 & frc384 & 0.625 \\\\\n",
       "\t22 & frc6802 & 0.625 \\\\\n",
       "\t23 & frc1908 & 0.625 \\\\\n",
       "\t24 & frc619 & 0.625 \\\\\n",
       "\t25 & frc1413 & 0.583333 \\\\\n",
       "\t26 & frc5546 & 0.583333 \\\\\n",
       "\t27 & frc2106 & 0.583333 \\\\\n",
       "\t28 & frc1719 & 0.545455 \\\\\n",
       "\t29 & frc116 & 0.545455 \\\\\n",
       "\t30 & frc2186 & 0.545455 \\\\\n",
       "\t$\\dots$ & $\\dots$ & $\\dots$ \\\\\n",
       "\\end{tabular}\n"
      ],
      "text/plain": [
       "75×2 DataFrame\n",
       "│ Row │ team    │ win_mean │\n",
       "│     │ \u001b[90mString⍰\u001b[39m │ \u001b[90mFloat64\u001b[39m  │\n",
       "├─────┼─────────┼──────────┤\n",
       "│ 1   │ frc612  │ 1.0      │\n",
       "│ 2   │ frc2534 │ 0.909091 │\n",
       "│ 3   │ frc614  │ 0.909091 │\n",
       "│ 4   │ frc346  │ 0.875    │\n",
       "│ 5   │ frc1610 │ 0.833333 │\n",
       "│ 6   │ frc977  │ 0.833333 │\n",
       "│ 7   │ frc339  │ 0.818182 │\n",
       "│ 8   │ frc1262 │ 0.75     │\n",
       "│ 9   │ frc4099 │ 0.727273 │\n",
       "│ 10  │ frc2998 │ 0.708333 │\n",
       "⋮\n",
       "│ 65  │ frc4464 │ 0.272727 │\n",
       "│ 66  │ frc6543 │ 0.272727 │\n",
       "│ 67  │ frc5950 │ 0.25     │\n",
       "│ 68  │ frc7330 │ 0.25     │\n",
       "│ 69  │ frc3359 │ 0.25     │\n",
       "│ 70  │ frc5957 │ 0.25     │\n",
       "│ 71  │ frc3274 │ 0.227273 │\n",
       "│ 72  │ frc6021 │ 0.208333 │\n",
       "│ 73  │ frc620  │ 0.181818 │\n",
       "│ 74  │ frc2421 │ 0.136364 │\n",
       "│ 75  │ frc2819 │ 0.136364 │"
      ]
     },
     "execution_count": 35,
     "metadata": {},
     "output_type": "execute_result"
    }
   ],
   "source": [
    "showbest(col) = sort(plusminus, col, rev=true)[:,[:team, col]]\n",
    "showworst(col) = sort(plusminus, col)[:,[:team, col]]\n",
    "\n",
    "showbest(:win_mean)"
   ]
  },
  {
   "cell_type": "code",
   "execution_count": 36,
   "metadata": {},
   "outputs": [
    {
     "data": {
      "text/plain": [
       "\"../output/2019chs_wk1_plusminus.csv\""
      ]
     },
     "execution_count": 36,
     "metadata": {},
     "output_type": "execute_result"
    }
   ],
   "source": [
    "using CSV\n",
    "CSV.write(\"../output/$(KEY)_plusminus.csv\", plusminus)"
   ]
  }
 ],
 "metadata": {
  "kernelspec": {
   "display_name": "Julia 1.0.2",
   "language": "julia",
   "name": "julia-1.0"
  },
  "language_info": {
   "file_extension": ".jl",
   "mimetype": "application/julia",
   "name": "julia",
   "version": "1.0.2"
  }
 },
 "nbformat": 4,
 "nbformat_minor": 2
}
