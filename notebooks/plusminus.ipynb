{
 "cells": [
  {
   "cell_type": "code",
   "execution_count": 2,
   "metadata": {},
   "outputs": [],
   "source": [
    "using DataFrames, DataFramesMeta\n",
    "using CSV\n",
    "using Statistics"
   ]
  },
  {
   "cell_type": "code",
   "execution_count": 3,
   "metadata": {},
   "outputs": [
    {
     "name": "stdout",
     "output_type": "stream",
     "text": [
      "[\"adjustPoints\", \"autoOwnershipPoints\", \"autoPoints\", \"autoQuestRankingPoint\", \"autoRobot1\", \"autoRobot2\", \"autoRobot3\", \"autoRunPoints\", \"autoScaleOwnershipSec\", \"autoSwitchAtZero\", \"autoSwitchOwnershipSec\", \"endgamePoints\", \"endgameRobot1\", \"endgameRobot2\", \"endgameRobot3\", \"faceTheBossRankingPoint\", \"foulCount\", \"foulPoints\", \"rp\", \"tba_gameData\", \"techFoulCount\", \"teleopOwnershipPoints\", \"teleopPoints\", \"teleopScaleBoostSec\", \"teleopScaleForceSec\", \"teleopScaleOwnershipSec\", \"teleopSwitchBoostSec\", \"teleopSwitchForceSec\", \"teleopSwitchOwnershipSec\", \"totalPoints\", \"vaultBoostPlayed\", \"vaultBoostTotal\", \"vaultForcePlayed\", \"vaultForceTotal\", \"vaultLevitatePlayed\", \"vaultLevitateTotal\", \"vaultPoints\", \"key\", \"level\", \"event\"]"
     ]
    }
   ],
   "source": [
    "headers = CSV.read(\"../data/2018_headers.csv\") |> (h -> String.(names(h)))\n",
    "push!(headers, \"key\")\n",
    "push!(headers, \"level\")\n",
    "push!(headers, \"event\")\n",
    "print(headers)"
   ]
  },
  {
   "cell_type": "code",
   "execution_count": 4,
   "metadata": {},
   "outputs": [
    {
     "data": {
      "text/plain": [
       ":teleopSwitchOwnershipSec"
      ]
     },
     "execution_count": 4,
     "metadata": {},
     "output_type": "execute_result"
    }
   ],
   "source": [
    "KEY = \"2018chs\"\n",
    "COLUMN = :teleopSwitchOwnershipSec"
   ]
  },
  {
   "cell_type": "code",
   "execution_count": 5,
   "metadata": {},
   "outputs": [
    {
     "data": {
      "text/html": [
       "<table class=\"data-frame\"><thead><tr><th></th><th>team1</th><th>team2</th><th>team3</th><th>key</th><th>level</th><th>event</th><th>color</th></tr><tr><th></th><th>String⍰</th><th>String⍰</th><th>String⍰</th><th>String⍰</th><th>String⍰</th><th>String⍰</th><th>String</th></tr></thead><tbody><p>1,260 rows × 7 columns</p><tr><th>1</th><td>frc4541</td><td>frc384</td><td>frc5804</td><td>2018chcmp_qm1_red</td><td>qm</td><td>2018chcmp</td><td>r</td></tr><tr><th>2</th><td>frc614</td><td>frc2363</td><td>frc5115</td><td>2018chcmp_qm1_blue</td><td>qm</td><td>2018chcmp</td><td>b</td></tr><tr><th>3</th><td>frc5724</td><td>frc4472</td><td>frc5279</td><td>2018chcmp_qm10_red</td><td>qm</td><td>2018chcmp</td><td>r</td></tr><tr><th>4</th><td>frc5945</td><td>frc2890</td><td>frc5338</td><td>2018chcmp_qm10_blue</td><td>qm</td><td>2018chcmp</td><td>b</td></tr><tr><th>5</th><td>frc1610</td><td>frc5279</td><td>frc1599</td><td>2018chcmp_qm100_red</td><td>qm</td><td>2018chcmp</td><td>r</td></tr><tr><th>6</th><td>frc888</td><td>frc339</td><td>frc2534</td><td>2018chcmp_qm100_blue</td><td>qm</td><td>2018chcmp</td><td>b</td></tr><tr><th>7</th><td>frc4541</td><td>frc2914</td><td>frc5243</td><td>2018chcmp_qm101_red</td><td>qm</td><td>2018chcmp</td><td>r</td></tr><tr><th>8</th><td>frc1731</td><td>frc6334</td><td>frc384</td><td>2018chcmp_qm101_blue</td><td>qm</td><td>2018chcmp</td><td>b</td></tr><tr><th>9</th><td>frc1727</td><td>frc5587</td><td>frc4456</td><td>2018chcmp_qm102_red</td><td>qm</td><td>2018chcmp</td><td>r</td></tr><tr><th>10</th><td>frc346</td><td>frc620</td><td>frc3793</td><td>2018chcmp_qm102_blue</td><td>qm</td><td>2018chcmp</td><td>b</td></tr><tr><th>11</th><td>frc6194</td><td>frc540</td><td>frc836</td><td>2018chcmp_qm103_red</td><td>qm</td><td>2018chcmp</td><td>r</td></tr><tr><th>12</th><td>frc977</td><td>frc6882</td><td>frc116</td><td>2018chcmp_qm103_blue</td><td>qm</td><td>2018chcmp</td><td>b</td></tr><tr><th>13</th><td>frc2537</td><td>frc5546</td><td>frc5338</td><td>2018chcmp_qm104_red</td><td>qm</td><td>2018chcmp</td><td>r</td></tr><tr><th>14</th><td>frc1418</td><td>frc6504</td><td>frc1885</td><td>2018chcmp_qm104_blue</td><td>qm</td><td>2018chcmp</td><td>b</td></tr><tr><th>15</th><td>frc5957</td><td>frc3136</td><td>frc1111</td><td>2018chcmp_qm105_red</td><td>qm</td><td>2018chcmp</td><td>r</td></tr><tr><th>16</th><td>frc122</td><td>frc614</td><td>frc5724</td><td>2018chcmp_qm105_blue</td><td>qm</td><td>2018chcmp</td><td>b</td></tr><tr><th>17</th><td>frc888</td><td>frc2028</td><td>frc5945</td><td>2018chcmp_qm106_red</td><td>qm</td><td>2018chcmp</td><td>r</td></tr><tr><th>18</th><td>frc6802</td><td>frc5115</td><td>frc1522</td><td>2018chcmp_qm106_blue</td><td>qm</td><td>2018chcmp</td><td>b</td></tr><tr><th>19</th><td>frc623</td><td>frc5279</td><td>frc611</td><td>2018chcmp_qm107_red</td><td>qm</td><td>2018chcmp</td><td>r</td></tr><tr><th>20</th><td>frc2890</td><td>frc2106</td><td>frc1086</td><td>2018chcmp_qm107_blue</td><td>qm</td><td>2018chcmp</td><td>b</td></tr><tr><th>21</th><td>frc1599</td><td>frc5804</td><td>frc1629</td><td>2018chcmp_qm108_red</td><td>qm</td><td>2018chcmp</td><td>r</td></tr><tr><th>22</th><td>frc2199</td><td>frc1262</td><td>frc4242</td><td>2018chcmp_qm108_blue</td><td>qm</td><td>2018chcmp</td><td>b</td></tr><tr><th>23</th><td>frc3274</td><td>frc5950</td><td>frc4472</td><td>2018chcmp_qm109_red</td><td>qm</td><td>2018chcmp</td><td>r</td></tr><tr><th>24</th><td>frc2377</td><td>frc6326</td><td>frc422</td><td>2018chcmp_qm109_blue</td><td>qm</td><td>2018chcmp</td><td>b</td></tr><tr><th>25</th><td>frc384</td><td>frc3274</td><td>frc339</td><td>2018chcmp_qm11_red</td><td>qm</td><td>2018chcmp</td><td>r</td></tr><tr><th>26</th><td>frc888</td><td>frc1086</td><td>frc623</td><td>2018chcmp_qm11_blue</td><td>qm</td><td>2018chcmp</td><td>b</td></tr><tr><th>27</th><td>frc2363</td><td>frc2534</td><td>frc612</td><td>2018chcmp_qm110_red</td><td>qm</td><td>2018chcmp</td><td>r</td></tr><tr><th>28</th><td>frc401</td><td>frc339</td><td>frc1610</td><td>2018chcmp_qm110_blue</td><td>qm</td><td>2018chcmp</td><td>b</td></tr><tr><th>29</th><td>frc3793</td><td>frc122</td><td>frc888</td><td>2018chcmp_qm111_red</td><td>qm</td><td>2018chcmp</td><td>r</td></tr><tr><th>30</th><td>frc5945</td><td>frc5243</td><td>frc5587</td><td>2018chcmp_qm111_blue</td><td>qm</td><td>2018chcmp</td><td>b</td></tr><tr><th>&vellip;</th><td>&vellip;</td><td>&vellip;</td><td>&vellip;</td><td>&vellip;</td><td>&vellip;</td><td>&vellip;</td><td>&vellip;</td></tr></tbody></table>"
      ],
      "text/latex": [
       "\\begin{tabular}{r|ccccccc}\n",
       "\t& team1 & team2 & team3 & key & level & event & color\\\\\n",
       "\t\\hline\n",
       "\t& String⍰ & String⍰ & String⍰ & String⍰ & String⍰ & String⍰ & String\\\\\n",
       "\t\\hline\n",
       "\t1 & frc4541 & frc384 & frc5804 & 2018chcmp\\_qm1\\_red & qm & 2018chcmp & r \\\\\n",
       "\t2 & frc614 & frc2363 & frc5115 & 2018chcmp\\_qm1\\_blue & qm & 2018chcmp & b \\\\\n",
       "\t3 & frc5724 & frc4472 & frc5279 & 2018chcmp\\_qm10\\_red & qm & 2018chcmp & r \\\\\n",
       "\t4 & frc5945 & frc2890 & frc5338 & 2018chcmp\\_qm10\\_blue & qm & 2018chcmp & b \\\\\n",
       "\t5 & frc1610 & frc5279 & frc1599 & 2018chcmp\\_qm100\\_red & qm & 2018chcmp & r \\\\\n",
       "\t6 & frc888 & frc339 & frc2534 & 2018chcmp\\_qm100\\_blue & qm & 2018chcmp & b \\\\\n",
       "\t7 & frc4541 & frc2914 & frc5243 & 2018chcmp\\_qm101\\_red & qm & 2018chcmp & r \\\\\n",
       "\t8 & frc1731 & frc6334 & frc384 & 2018chcmp\\_qm101\\_blue & qm & 2018chcmp & b \\\\\n",
       "\t9 & frc1727 & frc5587 & frc4456 & 2018chcmp\\_qm102\\_red & qm & 2018chcmp & r \\\\\n",
       "\t10 & frc346 & frc620 & frc3793 & 2018chcmp\\_qm102\\_blue & qm & 2018chcmp & b \\\\\n",
       "\t11 & frc6194 & frc540 & frc836 & 2018chcmp\\_qm103\\_red & qm & 2018chcmp & r \\\\\n",
       "\t12 & frc977 & frc6882 & frc116 & 2018chcmp\\_qm103\\_blue & qm & 2018chcmp & b \\\\\n",
       "\t13 & frc2537 & frc5546 & frc5338 & 2018chcmp\\_qm104\\_red & qm & 2018chcmp & r \\\\\n",
       "\t14 & frc1418 & frc6504 & frc1885 & 2018chcmp\\_qm104\\_blue & qm & 2018chcmp & b \\\\\n",
       "\t15 & frc5957 & frc3136 & frc1111 & 2018chcmp\\_qm105\\_red & qm & 2018chcmp & r \\\\\n",
       "\t16 & frc122 & frc614 & frc5724 & 2018chcmp\\_qm105\\_blue & qm & 2018chcmp & b \\\\\n",
       "\t17 & frc888 & frc2028 & frc5945 & 2018chcmp\\_qm106\\_red & qm & 2018chcmp & r \\\\\n",
       "\t18 & frc6802 & frc5115 & frc1522 & 2018chcmp\\_qm106\\_blue & qm & 2018chcmp & b \\\\\n",
       "\t19 & frc623 & frc5279 & frc611 & 2018chcmp\\_qm107\\_red & qm & 2018chcmp & r \\\\\n",
       "\t20 & frc2890 & frc2106 & frc1086 & 2018chcmp\\_qm107\\_blue & qm & 2018chcmp & b \\\\\n",
       "\t21 & frc1599 & frc5804 & frc1629 & 2018chcmp\\_qm108\\_red & qm & 2018chcmp & r \\\\\n",
       "\t22 & frc2199 & frc1262 & frc4242 & 2018chcmp\\_qm108\\_blue & qm & 2018chcmp & b \\\\\n",
       "\t23 & frc3274 & frc5950 & frc4472 & 2018chcmp\\_qm109\\_red & qm & 2018chcmp & r \\\\\n",
       "\t24 & frc2377 & frc6326 & frc422 & 2018chcmp\\_qm109\\_blue & qm & 2018chcmp & b \\\\\n",
       "\t25 & frc384 & frc3274 & frc339 & 2018chcmp\\_qm11\\_red & qm & 2018chcmp & r \\\\\n",
       "\t26 & frc888 & frc1086 & frc623 & 2018chcmp\\_qm11\\_blue & qm & 2018chcmp & b \\\\\n",
       "\t27 & frc2363 & frc2534 & frc612 & 2018chcmp\\_qm110\\_red & qm & 2018chcmp & r \\\\\n",
       "\t28 & frc401 & frc339 & frc1610 & 2018chcmp\\_qm110\\_blue & qm & 2018chcmp & b \\\\\n",
       "\t29 & frc3793 & frc122 & frc888 & 2018chcmp\\_qm111\\_red & qm & 2018chcmp & r \\\\\n",
       "\t30 & frc5945 & frc5243 & frc5587 & 2018chcmp\\_qm111\\_blue & qm & 2018chcmp & b \\\\\n",
       "\t$\\dots$ & $\\dots$ & $\\dots$ & $\\dots$ & $\\dots$ & $\\dots$ & $\\dots$ & $\\dots$ \\\\\n",
       "\\end{tabular}\n"
      ],
      "text/plain": [
       "1260×7 DataFrame. Omitted printing of 2 columns\n",
       "│ Row  │ team1   │ team2   │ team3   │ key                  │ level   │\n",
       "│      │ \u001b[90mString⍰\u001b[39m │ \u001b[90mString⍰\u001b[39m │ \u001b[90mString⍰\u001b[39m │ \u001b[90mString⍰\u001b[39m              │ \u001b[90mString⍰\u001b[39m │\n",
       "├──────┼─────────┼─────────┼─────────┼──────────────────────┼─────────┤\n",
       "│ 1    │ frc4541 │ frc384  │ frc5804 │ 2018chcmp_qm1_red    │ qm      │\n",
       "│ 2    │ frc614  │ frc2363 │ frc5115 │ 2018chcmp_qm1_blue   │ qm      │\n",
       "│ 3    │ frc5724 │ frc4472 │ frc5279 │ 2018chcmp_qm10_red   │ qm      │\n",
       "│ 4    │ frc5945 │ frc2890 │ frc5338 │ 2018chcmp_qm10_blue  │ qm      │\n",
       "│ 5    │ frc1610 │ frc5279 │ frc1599 │ 2018chcmp_qm100_red  │ qm      │\n",
       "│ 6    │ frc888  │ frc339  │ frc2534 │ 2018chcmp_qm100_blue │ qm      │\n",
       "│ 7    │ frc4541 │ frc2914 │ frc5243 │ 2018chcmp_qm101_red  │ qm      │\n",
       "│ 8    │ frc1731 │ frc6334 │ frc384  │ 2018chcmp_qm101_blue │ qm      │\n",
       "│ 9    │ frc1727 │ frc5587 │ frc4456 │ 2018chcmp_qm102_red  │ qm      │\n",
       "│ 10   │ frc346  │ frc620  │ frc3793 │ 2018chcmp_qm102_blue │ qm      │\n",
       "⋮\n",
       "│ 1250 │ frc122  │ frc1137 │ frc2028 │ 2018vapor_qm71_blue  │ qm      │\n",
       "│ 1251 │ frc5957 │ frc3136 │ frc435  │ 2018vapor_qm72_red   │ qm      │\n",
       "│ 1252 │ frc5950 │ frc539  │ frc5546 │ 2018vapor_qm72_blue  │ qm      │\n",
       "│ 1253 │ frc2890 │ frc4286 │ frc2363 │ 2018vapor_qm73_red   │ qm      │\n",
       "│ 1254 │ frc422  │ frc6312 │ frc5954 │ 2018vapor_qm73_blue  │ qm      │\n",
       "│ 1255 │ frc6189 │ frc2068 │ frc1446 │ 2018vapor_qm74_red   │ qm      │\n",
       "│ 1256 │ frc2998 │ frc6194 │ frc4638 │ 2018vapor_qm74_blue  │ qm      │\n",
       "│ 1257 │ frc5950 │ frc435  │ frc1610 │ 2018vapor_qm8_red    │ qm      │\n",
       "│ 1258 │ frc2068 │ frc6194 │ frc6334 │ 2018vapor_qm8_blue   │ qm      │\n",
       "│ 1259 │ frc3136 │ frc539  │ frc2998 │ 2018vapor_qm9_red    │ qm      │\n",
       "│ 1260 │ frc5804 │ frc7330 │ frc2890 │ 2018vapor_qm9_blue   │ qm      │"
      ]
     },
     "execution_count": 5,
     "metadata": {},
     "output_type": "execute_result"
    }
   ],
   "source": [
    "scores = CSV.read(\"../data/matches_$KEY.csv\", header=headers)\n",
    "scores[:color] = repeat([\"r\", \"b\"], size(scores,1) >> 1)\n",
    "\n",
    "teams = CSV.read(\"../data/matches_teams_$KEY.csv\", header=[\"team1\",\"team2\",\"team3\",\"key\",\"level\",\"event\"])\n",
    "teams[:color] = repeat([\"r\", \"b\"], size(teams,1) >> 1)\n",
    "\n",
    "scores = @linq scores |> where(:level .== \"qm\")\n",
    "teams = @linq teams |> where(:level .== \"qm\")"
   ]
  },
  {
   "cell_type": "code",
   "execution_count": 6,
   "metadata": {},
   "outputs": [
    {
     "data": {
      "text/html": [
       "<table class=\"data-frame\"><thead><tr><th></th><th>team1</th><th>team2</th><th>team3</th><th>key</th></tr><tr><th></th><th>String⍰</th><th>String⍰</th><th>String⍰</th><th>String⍰</th></tr></thead><tbody><p>630 rows × 4 columns</p><tr><th>1</th><td>frc614</td><td>frc2363</td><td>frc5115</td><td>2018chcmp_qm1_blue</td></tr><tr><th>2</th><td>frc5945</td><td>frc2890</td><td>frc5338</td><td>2018chcmp_qm10_blue</td></tr><tr><th>3</th><td>frc888</td><td>frc339</td><td>frc2534</td><td>2018chcmp_qm100_blue</td></tr><tr><th>4</th><td>frc1731</td><td>frc6334</td><td>frc384</td><td>2018chcmp_qm101_blue</td></tr><tr><th>5</th><td>frc346</td><td>frc620</td><td>frc3793</td><td>2018chcmp_qm102_blue</td></tr><tr><th>6</th><td>frc977</td><td>frc6882</td><td>frc116</td><td>2018chcmp_qm103_blue</td></tr><tr><th>7</th><td>frc1418</td><td>frc6504</td><td>frc1885</td><td>2018chcmp_qm104_blue</td></tr><tr><th>8</th><td>frc122</td><td>frc614</td><td>frc5724</td><td>2018chcmp_qm105_blue</td></tr><tr><th>9</th><td>frc6802</td><td>frc5115</td><td>frc1522</td><td>2018chcmp_qm106_blue</td></tr><tr><th>10</th><td>frc2890</td><td>frc2106</td><td>frc1086</td><td>2018chcmp_qm107_blue</td></tr><tr><th>11</th><td>frc2199</td><td>frc1262</td><td>frc4242</td><td>2018chcmp_qm108_blue</td></tr><tr><th>12</th><td>frc2377</td><td>frc6326</td><td>frc422</td><td>2018chcmp_qm109_blue</td></tr><tr><th>13</th><td>frc888</td><td>frc1086</td><td>frc623</td><td>2018chcmp_qm11_blue</td></tr><tr><th>14</th><td>frc401</td><td>frc339</td><td>frc1610</td><td>2018chcmp_qm110_blue</td></tr><tr><th>15</th><td>frc5945</td><td>frc5243</td><td>frc5587</td><td>2018chcmp_qm111_blue</td></tr><tr><th>16</th><td>frc2106</td><td>frc1418</td><td>frc2028</td><td>2018chcmp_qm112_blue</td></tr><tr><th>17</th><td>frc6504</td><td>frc6802</td><td>frc6194</td><td>2018chcmp_qm113_blue</td></tr><tr><th>18</th><td>frc836</td><td>frc5804</td><td>frc1522</td><td>2018chcmp_qm114_blue</td></tr><tr><th>19</th><td>frc1111</td><td>frc5279</td><td>frc346</td><td>2018chcmp_qm115_blue</td></tr><tr><th>20</th><td>frc6326</td><td>frc2537</td><td>frc1629</td><td>2018chcmp_qm116_blue</td></tr><tr><th>21</th><td>frc611</td><td>frc977</td><td>frc5950</td><td>2018chcmp_qm117_blue</td></tr><tr><th>22</th><td>frc620</td><td>frc6334</td><td>frc2534</td><td>2018chcmp_qm118_blue</td></tr><tr><th>23</th><td>frc1599</td><td>frc4541</td><td>frc1727</td><td>2018chcmp_qm119_blue</td></tr><tr><th>24</th><td>frc2914</td><td>frc611</td><td>frc6326</td><td>2018chcmp_qm12_blue</td></tr><tr><th>25</th><td>frc116</td><td>frc5115</td><td>frc2199</td><td>2018chcmp_qm120_blue</td></tr><tr><th>26</th><td>frc422</td><td>frc1610</td><td>frc1262</td><td>2018chcmp_qm13_blue</td></tr><tr><th>27</th><td>frc977</td><td>frc1111</td><td>frc1731</td><td>2018chcmp_qm14_blue</td></tr><tr><th>28</th><td>frc5279</td><td>frc5950</td><td>frc2106</td><td>2018chcmp_qm15_blue</td></tr><tr><th>29</th><td>frc2028</td><td>frc1522</td><td>frc5724</td><td>2018chcmp_qm16_blue</td></tr><tr><th>30</th><td>frc6194</td><td>frc2377</td><td>frc4242</td><td>2018chcmp_qm17_blue</td></tr><tr><th>&vellip;</th><td>&vellip;</td><td>&vellip;</td><td>&vellip;</td><td>&vellip;</td></tr></tbody></table>"
      ],
      "text/latex": [
       "\\begin{tabular}{r|cccc}\n",
       "\t& team1 & team2 & team3 & key\\\\\n",
       "\t\\hline\n",
       "\t& String⍰ & String⍰ & String⍰ & String⍰\\\\\n",
       "\t\\hline\n",
       "\t1 & frc614 & frc2363 & frc5115 & 2018chcmp\\_qm1\\_blue \\\\\n",
       "\t2 & frc5945 & frc2890 & frc5338 & 2018chcmp\\_qm10\\_blue \\\\\n",
       "\t3 & frc888 & frc339 & frc2534 & 2018chcmp\\_qm100\\_blue \\\\\n",
       "\t4 & frc1731 & frc6334 & frc384 & 2018chcmp\\_qm101\\_blue \\\\\n",
       "\t5 & frc346 & frc620 & frc3793 & 2018chcmp\\_qm102\\_blue \\\\\n",
       "\t6 & frc977 & frc6882 & frc116 & 2018chcmp\\_qm103\\_blue \\\\\n",
       "\t7 & frc1418 & frc6504 & frc1885 & 2018chcmp\\_qm104\\_blue \\\\\n",
       "\t8 & frc122 & frc614 & frc5724 & 2018chcmp\\_qm105\\_blue \\\\\n",
       "\t9 & frc6802 & frc5115 & frc1522 & 2018chcmp\\_qm106\\_blue \\\\\n",
       "\t10 & frc2890 & frc2106 & frc1086 & 2018chcmp\\_qm107\\_blue \\\\\n",
       "\t11 & frc2199 & frc1262 & frc4242 & 2018chcmp\\_qm108\\_blue \\\\\n",
       "\t12 & frc2377 & frc6326 & frc422 & 2018chcmp\\_qm109\\_blue \\\\\n",
       "\t13 & frc888 & frc1086 & frc623 & 2018chcmp\\_qm11\\_blue \\\\\n",
       "\t14 & frc401 & frc339 & frc1610 & 2018chcmp\\_qm110\\_blue \\\\\n",
       "\t15 & frc5945 & frc5243 & frc5587 & 2018chcmp\\_qm111\\_blue \\\\\n",
       "\t16 & frc2106 & frc1418 & frc2028 & 2018chcmp\\_qm112\\_blue \\\\\n",
       "\t17 & frc6504 & frc6802 & frc6194 & 2018chcmp\\_qm113\\_blue \\\\\n",
       "\t18 & frc836 & frc5804 & frc1522 & 2018chcmp\\_qm114\\_blue \\\\\n",
       "\t19 & frc1111 & frc5279 & frc346 & 2018chcmp\\_qm115\\_blue \\\\\n",
       "\t20 & frc6326 & frc2537 & frc1629 & 2018chcmp\\_qm116\\_blue \\\\\n",
       "\t21 & frc611 & frc977 & frc5950 & 2018chcmp\\_qm117\\_blue \\\\\n",
       "\t22 & frc620 & frc6334 & frc2534 & 2018chcmp\\_qm118\\_blue \\\\\n",
       "\t23 & frc1599 & frc4541 & frc1727 & 2018chcmp\\_qm119\\_blue \\\\\n",
       "\t24 & frc2914 & frc611 & frc6326 & 2018chcmp\\_qm12\\_blue \\\\\n",
       "\t25 & frc116 & frc5115 & frc2199 & 2018chcmp\\_qm120\\_blue \\\\\n",
       "\t26 & frc422 & frc1610 & frc1262 & 2018chcmp\\_qm13\\_blue \\\\\n",
       "\t27 & frc977 & frc1111 & frc1731 & 2018chcmp\\_qm14\\_blue \\\\\n",
       "\t28 & frc5279 & frc5950 & frc2106 & 2018chcmp\\_qm15\\_blue \\\\\n",
       "\t29 & frc2028 & frc1522 & frc5724 & 2018chcmp\\_qm16\\_blue \\\\\n",
       "\t30 & frc6194 & frc2377 & frc4242 & 2018chcmp\\_qm17\\_blue \\\\\n",
       "\t$\\dots$ & $\\dots$ & $\\dots$ & $\\dots$ & $\\dots$ \\\\\n",
       "\\end{tabular}\n"
      ],
      "text/plain": [
       "630×4 DataFrame\n",
       "│ Row │ team1   │ team2   │ team3   │ key                  │\n",
       "│     │ \u001b[90mString⍰\u001b[39m │ \u001b[90mString⍰\u001b[39m │ \u001b[90mString⍰\u001b[39m │ \u001b[90mString⍰\u001b[39m              │\n",
       "├─────┼─────────┼─────────┼─────────┼──────────────────────┤\n",
       "│ 1   │ frc614  │ frc2363 │ frc5115 │ 2018chcmp_qm1_blue   │\n",
       "│ 2   │ frc5945 │ frc2890 │ frc5338 │ 2018chcmp_qm10_blue  │\n",
       "│ 3   │ frc888  │ frc339  │ frc2534 │ 2018chcmp_qm100_blue │\n",
       "│ 4   │ frc1731 │ frc6334 │ frc384  │ 2018chcmp_qm101_blue │\n",
       "│ 5   │ frc346  │ frc620  │ frc3793 │ 2018chcmp_qm102_blue │\n",
       "│ 6   │ frc977  │ frc6882 │ frc116  │ 2018chcmp_qm103_blue │\n",
       "│ 7   │ frc1418 │ frc6504 │ frc1885 │ 2018chcmp_qm104_blue │\n",
       "│ 8   │ frc122  │ frc614  │ frc5724 │ 2018chcmp_qm105_blue │\n",
       "│ 9   │ frc6802 │ frc5115 │ frc1522 │ 2018chcmp_qm106_blue │\n",
       "│ 10  │ frc2890 │ frc2106 │ frc1086 │ 2018chcmp_qm107_blue │\n",
       "⋮\n",
       "│ 620 │ frc6194 │ frc977  │ frc539  │ 2018vapor_qm67_blue  │\n",
       "│ 621 │ frc4286 │ frc5954 │ frc1080 │ 2018vapor_qm68_blue  │\n",
       "│ 622 │ frc5724 │ frc3072 │ frc1522 │ 2018vapor_qm69_blue  │\n",
       "│ 623 │ frc1908 │ frc2363 │ frc5957 │ 2018vapor_qm7_blue   │\n",
       "│ 624 │ frc977  │ frc1908 │ frc3389 │ 2018vapor_qm70_blue  │\n",
       "│ 625 │ frc122  │ frc1137 │ frc2028 │ 2018vapor_qm71_blue  │\n",
       "│ 626 │ frc5950 │ frc539  │ frc5546 │ 2018vapor_qm72_blue  │\n",
       "│ 627 │ frc422  │ frc6312 │ frc5954 │ 2018vapor_qm73_blue  │\n",
       "│ 628 │ frc2998 │ frc6194 │ frc4638 │ 2018vapor_qm74_blue  │\n",
       "│ 629 │ frc2068 │ frc6194 │ frc6334 │ 2018vapor_qm8_blue   │\n",
       "│ 630 │ frc5804 │ frc7330 │ frc2890 │ 2018vapor_qm9_blue   │"
      ]
     },
     "execution_count": 6,
     "metadata": {},
     "output_type": "execute_result"
    }
   ],
   "source": [
    "scores_red = @linq scores |> where(:color .== \"r\")\n",
    "scores_blue = @linq scores |> where(:color .== \"b\")\n",
    "teams_red = @linq teams |> where(:color .== \"r\") |> select(:team1, :team2, :team3, :key)\n",
    "teams_blue = @linq teams |> where(:color .== \"b\") |> select(:team1, :team2, :team3, :key)"
   ]
  },
  {
   "cell_type": "code",
   "execution_count": 7,
   "metadata": {},
   "outputs": [
    {
     "data": {
      "text/html": [
       "<table class=\"data-frame\"><thead><tr><th></th><th>adjustPoints</th><th>autoOwnershipPoints</th><th>autoPoints</th><th>autoQuestRankingPoint</th><th>autoRobot1</th><th>autoRobot2</th><th>autoRobot3</th><th>autoRunPoints</th><th>autoScaleOwnershipSec</th><th>autoSwitchAtZero</th><th>autoSwitchOwnershipSec</th><th>endgamePoints</th><th>endgameRobot1</th><th>endgameRobot2</th><th>endgameRobot3</th><th>faceTheBossRankingPoint</th><th>foulCount</th><th>foulPoints</th><th>rp</th><th>tba_gameData</th><th>techFoulCount</th><th>teleopOwnershipPoints</th><th>teleopPoints</th><th>teleopScaleBoostSec</th><th>teleopScaleForceSec</th><th>teleopScaleOwnershipSec</th><th>teleopSwitchBoostSec</th><th>teleopSwitchForceSec</th><th>teleopSwitchOwnershipSec</th><th>totalPoints</th><th>vaultBoostPlayed</th><th>vaultBoostTotal</th><th>vaultForcePlayed</th><th>vaultForceTotal</th><th>vaultLevitatePlayed</th><th>vaultLevitateTotal</th><th>vaultPoints</th><th>key</th><th>level</th><th>event</th><th>color</th><th>role</th><th>team</th></tr><tr><th></th><th>Int64⍰</th><th>Int64⍰</th><th>Int64⍰</th><th>Bool⍰</th><th>String⍰</th><th>String⍰</th><th>String⍰</th><th>Int64⍰</th><th>Int64⍰</th><th>Bool⍰</th><th>Int64⍰</th><th>Int64⍰</th><th>String⍰</th><th>String⍰</th><th>String⍰</th><th>Bool⍰</th><th>Int64⍰</th><th>Int64⍰</th><th>Int64⍰</th><th>String⍰</th><th>Int64⍰</th><th>Int64⍰</th><th>Int64⍰</th><th>Int64⍰</th><th>Int64⍰</th><th>Int64⍰</th><th>Int64⍰</th><th>Int64⍰</th><th>Int64⍰</th><th>Int64⍰</th><th>Int64⍰</th><th>Int64⍰</th><th>Int64⍰</th><th>Int64⍰</th><th>Int64⍰</th><th>Int64⍰</th><th>Int64⍰</th><th>String⍰</th><th>String⍰</th><th>String⍰</th><th>String</th><th>Symbol</th><th>String⍰</th></tr></thead><tbody><p>1,890 rows × 43 columns</p><tr><th>1</th><td>0</td><td>24</td><td>39</td><td>true</td><td>AutoRun</td><td>AutoRun</td><td>AutoRun</td><td>15</td><td>3</td><td>true</td><td>9</td><td>65</td><td>Levitate</td><td>Climbing</td><td>Parking</td><td>false</td><td>0</td><td>0</td><td>3</td><td>RLR</td><td>0</td><td>288</td><td>388</td><td>10</td><td>0</td><td>132</td><td>10</td><td>0</td><td>136</td><td>427</td><td>3</td><td>3</td><td>0</td><td>1</td><td>3</td><td>3</td><td>35</td><td>2018chcmp_qm1_red</td><td>qm</td><td>2018chcmp</td><td>r</td><td>team1</td><td>frc4541</td></tr><tr><th>2</th><td>0</td><td>24</td><td>39</td><td>true</td><td>AutoRun</td><td>AutoRun</td><td>AutoRun</td><td>15</td><td>3</td><td>true</td><td>9</td><td>65</td><td>Levitate</td><td>Climbing</td><td>Parking</td><td>false</td><td>0</td><td>0</td><td>3</td><td>RLR</td><td>0</td><td>288</td><td>388</td><td>10</td><td>0</td><td>132</td><td>10</td><td>0</td><td>136</td><td>427</td><td>3</td><td>3</td><td>0</td><td>1</td><td>3</td><td>3</td><td>35</td><td>2018chcmp_qm1_red</td><td>qm</td><td>2018chcmp</td><td>r</td><td>team2</td><td>frc384</td></tr><tr><th>3</th><td>0</td><td>24</td><td>39</td><td>true</td><td>AutoRun</td><td>AutoRun</td><td>AutoRun</td><td>15</td><td>3</td><td>true</td><td>9</td><td>65</td><td>Levitate</td><td>Climbing</td><td>Parking</td><td>false</td><td>0</td><td>0</td><td>3</td><td>RLR</td><td>0</td><td>288</td><td>388</td><td>10</td><td>0</td><td>132</td><td>10</td><td>0</td><td>136</td><td>427</td><td>3</td><td>3</td><td>0</td><td>1</td><td>3</td><td>3</td><td>35</td><td>2018chcmp_qm1_red</td><td>qm</td><td>2018chcmp</td><td>r</td><td>team3</td><td>frc5804</td></tr><tr><th>4</th><td>0</td><td>2</td><td>12</td><td>false</td><td>None</td><td>AutoRun</td><td>AutoRun</td><td>10</td><td>0</td><td>false</td><td>1</td><td>35</td><td>Parking</td><td>None</td><td>Climbing</td><td>false</td><td>1</td><td>5</td><td>0</td><td>RRR</td><td>0</td><td>38</td><td>78</td><td>0</td><td>0</td><td>0</td><td>0</td><td>10</td><td>38</td><td>95</td><td>0</td><td>0</td><td>1</td><td>1</td><td>0</td><td>0</td><td>5</td><td>2018chcmp_qm10_red</td><td>qm</td><td>2018chcmp</td><td>r</td><td>team1</td><td>frc5724</td></tr><tr><th>5</th><td>0</td><td>2</td><td>12</td><td>false</td><td>None</td><td>AutoRun</td><td>AutoRun</td><td>10</td><td>0</td><td>false</td><td>1</td><td>35</td><td>Parking</td><td>None</td><td>Climbing</td><td>false</td><td>1</td><td>5</td><td>0</td><td>RRR</td><td>0</td><td>38</td><td>78</td><td>0</td><td>0</td><td>0</td><td>0</td><td>10</td><td>38</td><td>95</td><td>0</td><td>0</td><td>1</td><td>1</td><td>0</td><td>0</td><td>5</td><td>2018chcmp_qm10_red</td><td>qm</td><td>2018chcmp</td><td>r</td><td>team2</td><td>frc4472</td></tr><tr><th>6</th><td>0</td><td>2</td><td>12</td><td>false</td><td>None</td><td>AutoRun</td><td>AutoRun</td><td>10</td><td>0</td><td>false</td><td>1</td><td>35</td><td>Parking</td><td>None</td><td>Climbing</td><td>false</td><td>1</td><td>5</td><td>0</td><td>RRR</td><td>0</td><td>38</td><td>78</td><td>0</td><td>0</td><td>0</td><td>0</td><td>10</td><td>38</td><td>95</td><td>0</td><td>0</td><td>1</td><td>1</td><td>0</td><td>0</td><td>5</td><td>2018chcmp_qm10_red</td><td>qm</td><td>2018chcmp</td><td>r</td><td>team3</td><td>frc5279</td></tr><tr><th>7</th><td>0</td><td>24</td><td>39</td><td>true</td><td>AutoRun</td><td>AutoRun</td><td>AutoRun</td><td>15</td><td>2</td><td>true</td><td>10</td><td>60</td><td>Levitate</td><td>None</td><td>Climbing</td><td>false</td><td>1</td><td>5</td><td>1</td><td>RLR</td><td>0</td><td>96</td><td>171</td><td>0</td><td>0</td><td>62</td><td>0</td><td>0</td><td>34</td><td>215</td><td>0</td><td>0</td><td>0</td><td>0</td><td>3</td><td>3</td><td>15</td><td>2018chcmp_qm100_red</td><td>qm</td><td>2018chcmp</td><td>r</td><td>team1</td><td>frc1610</td></tr><tr><th>8</th><td>0</td><td>24</td><td>39</td><td>true</td><td>AutoRun</td><td>AutoRun</td><td>AutoRun</td><td>15</td><td>2</td><td>true</td><td>10</td><td>60</td><td>Levitate</td><td>None</td><td>Climbing</td><td>false</td><td>1</td><td>5</td><td>1</td><td>RLR</td><td>0</td><td>96</td><td>171</td><td>0</td><td>0</td><td>62</td><td>0</td><td>0</td><td>34</td><td>215</td><td>0</td><td>0</td><td>0</td><td>0</td><td>3</td><td>3</td><td>15</td><td>2018chcmp_qm100_red</td><td>qm</td><td>2018chcmp</td><td>r</td><td>team2</td><td>frc5279</td></tr><tr><th>9</th><td>0</td><td>24</td><td>39</td><td>true</td><td>AutoRun</td><td>AutoRun</td><td>AutoRun</td><td>15</td><td>2</td><td>true</td><td>10</td><td>60</td><td>Levitate</td><td>None</td><td>Climbing</td><td>false</td><td>1</td><td>5</td><td>1</td><td>RLR</td><td>0</td><td>96</td><td>171</td><td>0</td><td>0</td><td>62</td><td>0</td><td>0</td><td>34</td><td>215</td><td>0</td><td>0</td><td>0</td><td>0</td><td>3</td><td>3</td><td>15</td><td>2018chcmp_qm100_red</td><td>qm</td><td>2018chcmp</td><td>r</td><td>team3</td><td>frc1599</td></tr><tr><th>10</th><td>0</td><td>16</td><td>31</td><td>true</td><td>AutoRun</td><td>AutoRun</td><td>AutoRun</td><td>15</td><td>0</td><td>true</td><td>8</td><td>10</td><td>None</td><td>Parking</td><td>Parking</td><td>false</td><td>2</td><td>80</td><td>1</td><td>LRL</td><td>0</td><td>46</td><td>56</td><td>0</td><td>0</td><td>13</td><td>0</td><td>0</td><td>33</td><td>167</td><td>0</td><td>0</td><td>0</td><td>0</td><td>0</td><td>0</td><td>0</td><td>2018chcmp_qm101_red</td><td>qm</td><td>2018chcmp</td><td>r</td><td>team1</td><td>frc4541</td></tr><tr><th>11</th><td>0</td><td>16</td><td>31</td><td>true</td><td>AutoRun</td><td>AutoRun</td><td>AutoRun</td><td>15</td><td>0</td><td>true</td><td>8</td><td>10</td><td>None</td><td>Parking</td><td>Parking</td><td>false</td><td>2</td><td>80</td><td>1</td><td>LRL</td><td>0</td><td>46</td><td>56</td><td>0</td><td>0</td><td>13</td><td>0</td><td>0</td><td>33</td><td>167</td><td>0</td><td>0</td><td>0</td><td>0</td><td>0</td><td>0</td><td>0</td><td>2018chcmp_qm101_red</td><td>qm</td><td>2018chcmp</td><td>r</td><td>team2</td><td>frc2914</td></tr><tr><th>12</th><td>0</td><td>16</td><td>31</td><td>true</td><td>AutoRun</td><td>AutoRun</td><td>AutoRun</td><td>15</td><td>0</td><td>true</td><td>8</td><td>10</td><td>None</td><td>Parking</td><td>Parking</td><td>false</td><td>2</td><td>80</td><td>1</td><td>LRL</td><td>0</td><td>46</td><td>56</td><td>0</td><td>0</td><td>13</td><td>0</td><td>0</td><td>33</td><td>167</td><td>0</td><td>0</td><td>0</td><td>0</td><td>0</td><td>0</td><td>0</td><td>2018chcmp_qm101_red</td><td>qm</td><td>2018chcmp</td><td>r</td><td>team3</td><td>frc5243</td></tr><tr><th>13</th><td>0</td><td>4</td><td>19</td><td>true</td><td>AutoRun</td><td>AutoRun</td><td>AutoRun</td><td>15</td><td>0</td><td>true</td><td>2</td><td>35</td><td>Parking</td><td>None</td><td>Levitate</td><td>false</td><td>0</td><td>25</td><td>1</td><td>RLR</td><td>1</td><td>46</td><td>96</td><td>0</td><td>0</td><td>0</td><td>0</td><td>0</td><td>46</td><td>140</td><td>0</td><td>0</td><td>0</td><td>0</td><td>3</td><td>3</td><td>15</td><td>2018chcmp_qm102_red</td><td>qm</td><td>2018chcmp</td><td>r</td><td>team1</td><td>frc1727</td></tr><tr><th>14</th><td>0</td><td>4</td><td>19</td><td>true</td><td>AutoRun</td><td>AutoRun</td><td>AutoRun</td><td>15</td><td>0</td><td>true</td><td>2</td><td>35</td><td>Parking</td><td>None</td><td>Levitate</td><td>false</td><td>0</td><td>25</td><td>1</td><td>RLR</td><td>1</td><td>46</td><td>96</td><td>0</td><td>0</td><td>0</td><td>0</td><td>0</td><td>46</td><td>140</td><td>0</td><td>0</td><td>0</td><td>0</td><td>3</td><td>3</td><td>15</td><td>2018chcmp_qm102_red</td><td>qm</td><td>2018chcmp</td><td>r</td><td>team2</td><td>frc5587</td></tr><tr><th>15</th><td>0</td><td>4</td><td>19</td><td>true</td><td>AutoRun</td><td>AutoRun</td><td>AutoRun</td><td>15</td><td>0</td><td>true</td><td>2</td><td>35</td><td>Parking</td><td>None</td><td>Levitate</td><td>false</td><td>0</td><td>25</td><td>1</td><td>RLR</td><td>1</td><td>46</td><td>96</td><td>0</td><td>0</td><td>0</td><td>0</td><td>0</td><td>46</td><td>140</td><td>0</td><td>0</td><td>0</td><td>0</td><td>3</td><td>3</td><td>15</td><td>2018chcmp_qm102_red</td><td>qm</td><td>2018chcmp</td><td>r</td><td>team3</td><td>frc4456</td></tr><tr><th>16</th><td>0</td><td>16</td><td>31</td><td>true</td><td>AutoRun</td><td>AutoRun</td><td>AutoRun</td><td>15</td><td>0</td><td>true</td><td>8</td><td>65</td><td>Levitate</td><td>Climbing</td><td>Parking</td><td>false</td><td>0</td><td>35</td><td>3</td><td>RLR</td><td>0</td><td>151</td><td>261</td><td>0</td><td>10</td><td>15</td><td>0</td><td>0</td><td>136</td><td>327</td><td>2</td><td>3</td><td>2</td><td>3</td><td>3</td><td>3</td><td>45</td><td>2018chcmp_qm103_red</td><td>qm</td><td>2018chcmp</td><td>r</td><td>team1</td><td>frc6194</td></tr><tr><th>17</th><td>0</td><td>16</td><td>31</td><td>true</td><td>AutoRun</td><td>AutoRun</td><td>AutoRun</td><td>15</td><td>0</td><td>true</td><td>8</td><td>65</td><td>Levitate</td><td>Climbing</td><td>Parking</td><td>false</td><td>0</td><td>35</td><td>3</td><td>RLR</td><td>0</td><td>151</td><td>261</td><td>0</td><td>10</td><td>15</td><td>0</td><td>0</td><td>136</td><td>327</td><td>2</td><td>3</td><td>2</td><td>3</td><td>3</td><td>3</td><td>45</td><td>2018chcmp_qm103_red</td><td>qm</td><td>2018chcmp</td><td>r</td><td>team2</td><td>frc540</td></tr><tr><th>18</th><td>0</td><td>16</td><td>31</td><td>true</td><td>AutoRun</td><td>AutoRun</td><td>AutoRun</td><td>15</td><td>0</td><td>true</td><td>8</td><td>65</td><td>Levitate</td><td>Climbing</td><td>Parking</td><td>false</td><td>0</td><td>35</td><td>3</td><td>RLR</td><td>0</td><td>151</td><td>261</td><td>0</td><td>10</td><td>15</td><td>0</td><td>0</td><td>136</td><td>327</td><td>2</td><td>3</td><td>2</td><td>3</td><td>3</td><td>3</td><td>45</td><td>2018chcmp_qm103_red</td><td>qm</td><td>2018chcmp</td><td>r</td><td>team3</td><td>frc836</td></tr><tr><th>19</th><td>0</td><td>10</td><td>25</td><td>true</td><td>AutoRun</td><td>AutoRun</td><td>AutoRun</td><td>15</td><td>1</td><td>true</td><td>4</td><td>65</td><td>Levitate</td><td>Climbing</td><td>Parking</td><td>false</td><td>0</td><td>55</td><td>2</td><td>RLR</td><td>0</td><td>204</td><td>299</td><td>0</td><td>10</td><td>68</td><td>0</td><td>10</td><td>136</td><td>379</td><td>0</td><td>0</td><td>3</td><td>3</td><td>3</td><td>3</td><td>30</td><td>2018chcmp_qm104_red</td><td>qm</td><td>2018chcmp</td><td>r</td><td>team1</td><td>frc2537</td></tr><tr><th>20</th><td>0</td><td>10</td><td>25</td><td>true</td><td>AutoRun</td><td>AutoRun</td><td>AutoRun</td><td>15</td><td>1</td><td>true</td><td>4</td><td>65</td><td>Levitate</td><td>Climbing</td><td>Parking</td><td>false</td><td>0</td><td>55</td><td>2</td><td>RLR</td><td>0</td><td>204</td><td>299</td><td>0</td><td>10</td><td>68</td><td>0</td><td>10</td><td>136</td><td>379</td><td>0</td><td>0</td><td>3</td><td>3</td><td>3</td><td>3</td><td>30</td><td>2018chcmp_qm104_red</td><td>qm</td><td>2018chcmp</td><td>r</td><td>team2</td><td>frc5546</td></tr><tr><th>21</th><td>0</td><td>10</td><td>25</td><td>true</td><td>AutoRun</td><td>AutoRun</td><td>AutoRun</td><td>15</td><td>1</td><td>true</td><td>4</td><td>65</td><td>Levitate</td><td>Climbing</td><td>Parking</td><td>false</td><td>0</td><td>55</td><td>2</td><td>RLR</td><td>0</td><td>204</td><td>299</td><td>0</td><td>10</td><td>68</td><td>0</td><td>10</td><td>136</td><td>379</td><td>0</td><td>0</td><td>3</td><td>3</td><td>3</td><td>3</td><td>30</td><td>2018chcmp_qm104_red</td><td>qm</td><td>2018chcmp</td><td>r</td><td>team3</td><td>frc5338</td></tr><tr><th>22</th><td>0</td><td>16</td><td>31</td><td>true</td><td>AutoRun</td><td>AutoRun</td><td>AutoRun</td><td>15</td><td>0</td><td>true</td><td>8</td><td>30</td><td>None</td><td>None</td><td>Levitate</td><td>false</td><td>0</td><td>25</td><td>1</td><td>RLR</td><td>0</td><td>94</td><td>164</td><td>0</td><td>10</td><td>49</td><td>0</td><td>10</td><td>45</td><td>220</td><td>0</td><td>2</td><td>3</td><td>3</td><td>3</td><td>3</td><td>40</td><td>2018chcmp_qm105_red</td><td>qm</td><td>2018chcmp</td><td>r</td><td>team1</td><td>frc5957</td></tr><tr><th>23</th><td>0</td><td>16</td><td>31</td><td>true</td><td>AutoRun</td><td>AutoRun</td><td>AutoRun</td><td>15</td><td>0</td><td>true</td><td>8</td><td>30</td><td>None</td><td>None</td><td>Levitate</td><td>false</td><td>0</td><td>25</td><td>1</td><td>RLR</td><td>0</td><td>94</td><td>164</td><td>0</td><td>10</td><td>49</td><td>0</td><td>10</td><td>45</td><td>220</td><td>0</td><td>2</td><td>3</td><td>3</td><td>3</td><td>3</td><td>40</td><td>2018chcmp_qm105_red</td><td>qm</td><td>2018chcmp</td><td>r</td><td>team2</td><td>frc3136</td></tr><tr><th>24</th><td>0</td><td>16</td><td>31</td><td>true</td><td>AutoRun</td><td>AutoRun</td><td>AutoRun</td><td>15</td><td>0</td><td>true</td><td>8</td><td>30</td><td>None</td><td>None</td><td>Levitate</td><td>false</td><td>0</td><td>25</td><td>1</td><td>RLR</td><td>0</td><td>94</td><td>164</td><td>0</td><td>10</td><td>49</td><td>0</td><td>10</td><td>45</td><td>220</td><td>0</td><td>2</td><td>3</td><td>3</td><td>3</td><td>3</td><td>40</td><td>2018chcmp_qm105_red</td><td>qm</td><td>2018chcmp</td><td>r</td><td>team3</td><td>frc1111</td></tr><tr><th>25</th><td>0</td><td>18</td><td>33</td><td>true</td><td>AutoRun</td><td>AutoRun</td><td>AutoRun</td><td>15</td><td>0</td><td>true</td><td>9</td><td>90</td><td>Climbing</td><td>Levitate</td><td>Climbing</td><td>true</td><td>0</td><td>0</td><td>2</td><td>RRR</td><td>1</td><td>148</td><td>283</td><td>0</td><td>10</td><td>11</td><td>10</td><td>10</td><td>127</td><td>316</td><td>1</td><td>3</td><td>3</td><td>3</td><td>3</td><td>3</td><td>45</td><td>2018chcmp_qm106_red</td><td>qm</td><td>2018chcmp</td><td>r</td><td>team1</td><td>frc888</td></tr><tr><th>26</th><td>0</td><td>18</td><td>33</td><td>true</td><td>AutoRun</td><td>AutoRun</td><td>AutoRun</td><td>15</td><td>0</td><td>true</td><td>9</td><td>90</td><td>Climbing</td><td>Levitate</td><td>Climbing</td><td>true</td><td>0</td><td>0</td><td>2</td><td>RRR</td><td>1</td><td>148</td><td>283</td><td>0</td><td>10</td><td>11</td><td>10</td><td>10</td><td>127</td><td>316</td><td>1</td><td>3</td><td>3</td><td>3</td><td>3</td><td>3</td><td>45</td><td>2018chcmp_qm106_red</td><td>qm</td><td>2018chcmp</td><td>r</td><td>team2</td><td>frc2028</td></tr><tr><th>27</th><td>0</td><td>18</td><td>33</td><td>true</td><td>AutoRun</td><td>AutoRun</td><td>AutoRun</td><td>15</td><td>0</td><td>true</td><td>9</td><td>90</td><td>Climbing</td><td>Levitate</td><td>Climbing</td><td>true</td><td>0</td><td>0</td><td>2</td><td>RRR</td><td>1</td><td>148</td><td>283</td><td>0</td><td>10</td><td>11</td><td>10</td><td>10</td><td>127</td><td>316</td><td>1</td><td>3</td><td>3</td><td>3</td><td>3</td><td>3</td><td>45</td><td>2018chcmp_qm106_red</td><td>qm</td><td>2018chcmp</td><td>r</td><td>team3</td><td>frc5945</td></tr><tr><th>28</th><td>0</td><td>16</td><td>31</td><td>true</td><td>AutoRun</td><td>AutoRun</td><td>AutoRun</td><td>15</td><td>0</td><td>true</td><td>8</td><td>65</td><td>Climbing</td><td>Parking</td><td>Levitate</td><td>false</td><td>0</td><td>0</td><td>1</td><td>LRL</td><td>0</td><td>157</td><td>252</td><td>0</td><td>10</td><td>11</td><td>10</td><td>0</td><td>136</td><td>283</td><td>1</td><td>1</td><td>2</td><td>2</td><td>3</td><td>3</td><td>30</td><td>2018chcmp_qm107_red</td><td>qm</td><td>2018chcmp</td><td>r</td><td>team1</td><td>frc623</td></tr><tr><th>29</th><td>0</td><td>16</td><td>31</td><td>true</td><td>AutoRun</td><td>AutoRun</td><td>AutoRun</td><td>15</td><td>0</td><td>true</td><td>8</td><td>65</td><td>Climbing</td><td>Parking</td><td>Levitate</td><td>false</td><td>0</td><td>0</td><td>1</td><td>LRL</td><td>0</td><td>157</td><td>252</td><td>0</td><td>10</td><td>11</td><td>10</td><td>0</td><td>136</td><td>283</td><td>1</td><td>1</td><td>2</td><td>2</td><td>3</td><td>3</td><td>30</td><td>2018chcmp_qm107_red</td><td>qm</td><td>2018chcmp</td><td>r</td><td>team2</td><td>frc5279</td></tr><tr><th>30</th><td>0</td><td>16</td><td>31</td><td>true</td><td>AutoRun</td><td>AutoRun</td><td>AutoRun</td><td>15</td><td>0</td><td>true</td><td>8</td><td>65</td><td>Climbing</td><td>Parking</td><td>Levitate</td><td>false</td><td>0</td><td>0</td><td>1</td><td>LRL</td><td>0</td><td>157</td><td>252</td><td>0</td><td>10</td><td>11</td><td>10</td><td>0</td><td>136</td><td>283</td><td>1</td><td>1</td><td>2</td><td>2</td><td>3</td><td>3</td><td>30</td><td>2018chcmp_qm107_red</td><td>qm</td><td>2018chcmp</td><td>r</td><td>team3</td><td>frc611</td></tr><tr><th>&vellip;</th><td>&vellip;</td><td>&vellip;</td><td>&vellip;</td><td>&vellip;</td><td>&vellip;</td><td>&vellip;</td><td>&vellip;</td><td>&vellip;</td><td>&vellip;</td><td>&vellip;</td><td>&vellip;</td><td>&vellip;</td><td>&vellip;</td><td>&vellip;</td><td>&vellip;</td><td>&vellip;</td><td>&vellip;</td><td>&vellip;</td><td>&vellip;</td><td>&vellip;</td><td>&vellip;</td><td>&vellip;</td><td>&vellip;</td><td>&vellip;</td><td>&vellip;</td><td>&vellip;</td><td>&vellip;</td><td>&vellip;</td><td>&vellip;</td><td>&vellip;</td><td>&vellip;</td><td>&vellip;</td><td>&vellip;</td><td>&vellip;</td><td>&vellip;</td><td>&vellip;</td><td>&vellip;</td><td>&vellip;</td><td>&vellip;</td><td>&vellip;</td><td>&vellip;</td><td>&vellip;</td><td>&vellip;</td></tr></tbody></table>"
      ],
      "text/latex": [
       "\\begin{tabular}{r|ccccccccccccccccccccccccccccccccccccccccccc}\n",
       "\t& adjustPoints & autoOwnershipPoints & autoPoints & autoQuestRankingPoint & autoRobot1 & autoRobot2 & autoRobot3 & autoRunPoints & autoScaleOwnershipSec & autoSwitchAtZero & autoSwitchOwnershipSec & endgamePoints & endgameRobot1 & endgameRobot2 & endgameRobot3 & faceTheBossRankingPoint & foulCount & foulPoints & rp & tba\\_gameData & techFoulCount & teleopOwnershipPoints & teleopPoints & teleopScaleBoostSec & teleopScaleForceSec & teleopScaleOwnershipSec & teleopSwitchBoostSec & teleopSwitchForceSec & teleopSwitchOwnershipSec & totalPoints & vaultBoostPlayed & vaultBoostTotal & vaultForcePlayed & vaultForceTotal & vaultLevitatePlayed & vaultLevitateTotal & vaultPoints & key & level & event & color & role & team\\\\\n",
       "\t\\hline\n",
       "\t& Int64⍰ & Int64⍰ & Int64⍰ & Bool⍰ & String⍰ & String⍰ & String⍰ & Int64⍰ & Int64⍰ & Bool⍰ & Int64⍰ & Int64⍰ & String⍰ & String⍰ & String⍰ & Bool⍰ & Int64⍰ & Int64⍰ & Int64⍰ & String⍰ & Int64⍰ & Int64⍰ & Int64⍰ & Int64⍰ & Int64⍰ & Int64⍰ & Int64⍰ & Int64⍰ & Int64⍰ & Int64⍰ & Int64⍰ & Int64⍰ & Int64⍰ & Int64⍰ & Int64⍰ & Int64⍰ & Int64⍰ & String⍰ & String⍰ & String⍰ & String & Symbol & String⍰\\\\\n",
       "\t\\hline\n",
       "\t1 & 0 & 24 & 39 & true & AutoRun & AutoRun & AutoRun & 15 & 3 & true & 9 & 65 & Levitate & Climbing & Parking & false & 0 & 0 & 3 & RLR & 0 & 288 & 388 & 10 & 0 & 132 & 10 & 0 & 136 & 427 & 3 & 3 & 0 & 1 & 3 & 3 & 35 & 2018chcmp\\_qm1\\_red & qm & 2018chcmp & r & team1 & frc4541 \\\\\n",
       "\t2 & 0 & 24 & 39 & true & AutoRun & AutoRun & AutoRun & 15 & 3 & true & 9 & 65 & Levitate & Climbing & Parking & false & 0 & 0 & 3 & RLR & 0 & 288 & 388 & 10 & 0 & 132 & 10 & 0 & 136 & 427 & 3 & 3 & 0 & 1 & 3 & 3 & 35 & 2018chcmp\\_qm1\\_red & qm & 2018chcmp & r & team2 & frc384 \\\\\n",
       "\t3 & 0 & 24 & 39 & true & AutoRun & AutoRun & AutoRun & 15 & 3 & true & 9 & 65 & Levitate & Climbing & Parking & false & 0 & 0 & 3 & RLR & 0 & 288 & 388 & 10 & 0 & 132 & 10 & 0 & 136 & 427 & 3 & 3 & 0 & 1 & 3 & 3 & 35 & 2018chcmp\\_qm1\\_red & qm & 2018chcmp & r & team3 & frc5804 \\\\\n",
       "\t4 & 0 & 2 & 12 & false & None & AutoRun & AutoRun & 10 & 0 & false & 1 & 35 & Parking & None & Climbing & false & 1 & 5 & 0 & RRR & 0 & 38 & 78 & 0 & 0 & 0 & 0 & 10 & 38 & 95 & 0 & 0 & 1 & 1 & 0 & 0 & 5 & 2018chcmp\\_qm10\\_red & qm & 2018chcmp & r & team1 & frc5724 \\\\\n",
       "\t5 & 0 & 2 & 12 & false & None & AutoRun & AutoRun & 10 & 0 & false & 1 & 35 & Parking & None & Climbing & false & 1 & 5 & 0 & RRR & 0 & 38 & 78 & 0 & 0 & 0 & 0 & 10 & 38 & 95 & 0 & 0 & 1 & 1 & 0 & 0 & 5 & 2018chcmp\\_qm10\\_red & qm & 2018chcmp & r & team2 & frc4472 \\\\\n",
       "\t6 & 0 & 2 & 12 & false & None & AutoRun & AutoRun & 10 & 0 & false & 1 & 35 & Parking & None & Climbing & false & 1 & 5 & 0 & RRR & 0 & 38 & 78 & 0 & 0 & 0 & 0 & 10 & 38 & 95 & 0 & 0 & 1 & 1 & 0 & 0 & 5 & 2018chcmp\\_qm10\\_red & qm & 2018chcmp & r & team3 & frc5279 \\\\\n",
       "\t7 & 0 & 24 & 39 & true & AutoRun & AutoRun & AutoRun & 15 & 2 & true & 10 & 60 & Levitate & None & Climbing & false & 1 & 5 & 1 & RLR & 0 & 96 & 171 & 0 & 0 & 62 & 0 & 0 & 34 & 215 & 0 & 0 & 0 & 0 & 3 & 3 & 15 & 2018chcmp\\_qm100\\_red & qm & 2018chcmp & r & team1 & frc1610 \\\\\n",
       "\t8 & 0 & 24 & 39 & true & AutoRun & AutoRun & AutoRun & 15 & 2 & true & 10 & 60 & Levitate & None & Climbing & false & 1 & 5 & 1 & RLR & 0 & 96 & 171 & 0 & 0 & 62 & 0 & 0 & 34 & 215 & 0 & 0 & 0 & 0 & 3 & 3 & 15 & 2018chcmp\\_qm100\\_red & qm & 2018chcmp & r & team2 & frc5279 \\\\\n",
       "\t9 & 0 & 24 & 39 & true & AutoRun & AutoRun & AutoRun & 15 & 2 & true & 10 & 60 & Levitate & None & Climbing & false & 1 & 5 & 1 & RLR & 0 & 96 & 171 & 0 & 0 & 62 & 0 & 0 & 34 & 215 & 0 & 0 & 0 & 0 & 3 & 3 & 15 & 2018chcmp\\_qm100\\_red & qm & 2018chcmp & r & team3 & frc1599 \\\\\n",
       "\t10 & 0 & 16 & 31 & true & AutoRun & AutoRun & AutoRun & 15 & 0 & true & 8 & 10 & None & Parking & Parking & false & 2 & 80 & 1 & LRL & 0 & 46 & 56 & 0 & 0 & 13 & 0 & 0 & 33 & 167 & 0 & 0 & 0 & 0 & 0 & 0 & 0 & 2018chcmp\\_qm101\\_red & qm & 2018chcmp & r & team1 & frc4541 \\\\\n",
       "\t11 & 0 & 16 & 31 & true & AutoRun & AutoRun & AutoRun & 15 & 0 & true & 8 & 10 & None & Parking & Parking & false & 2 & 80 & 1 & LRL & 0 & 46 & 56 & 0 & 0 & 13 & 0 & 0 & 33 & 167 & 0 & 0 & 0 & 0 & 0 & 0 & 0 & 2018chcmp\\_qm101\\_red & qm & 2018chcmp & r & team2 & frc2914 \\\\\n",
       "\t12 & 0 & 16 & 31 & true & AutoRun & AutoRun & AutoRun & 15 & 0 & true & 8 & 10 & None & Parking & Parking & false & 2 & 80 & 1 & LRL & 0 & 46 & 56 & 0 & 0 & 13 & 0 & 0 & 33 & 167 & 0 & 0 & 0 & 0 & 0 & 0 & 0 & 2018chcmp\\_qm101\\_red & qm & 2018chcmp & r & team3 & frc5243 \\\\\n",
       "\t13 & 0 & 4 & 19 & true & AutoRun & AutoRun & AutoRun & 15 & 0 & true & 2 & 35 & Parking & None & Levitate & false & 0 & 25 & 1 & RLR & 1 & 46 & 96 & 0 & 0 & 0 & 0 & 0 & 46 & 140 & 0 & 0 & 0 & 0 & 3 & 3 & 15 & 2018chcmp\\_qm102\\_red & qm & 2018chcmp & r & team1 & frc1727 \\\\\n",
       "\t14 & 0 & 4 & 19 & true & AutoRun & AutoRun & AutoRun & 15 & 0 & true & 2 & 35 & Parking & None & Levitate & false & 0 & 25 & 1 & RLR & 1 & 46 & 96 & 0 & 0 & 0 & 0 & 0 & 46 & 140 & 0 & 0 & 0 & 0 & 3 & 3 & 15 & 2018chcmp\\_qm102\\_red & qm & 2018chcmp & r & team2 & frc5587 \\\\\n",
       "\t15 & 0 & 4 & 19 & true & AutoRun & AutoRun & AutoRun & 15 & 0 & true & 2 & 35 & Parking & None & Levitate & false & 0 & 25 & 1 & RLR & 1 & 46 & 96 & 0 & 0 & 0 & 0 & 0 & 46 & 140 & 0 & 0 & 0 & 0 & 3 & 3 & 15 & 2018chcmp\\_qm102\\_red & qm & 2018chcmp & r & team3 & frc4456 \\\\\n",
       "\t16 & 0 & 16 & 31 & true & AutoRun & AutoRun & AutoRun & 15 & 0 & true & 8 & 65 & Levitate & Climbing & Parking & false & 0 & 35 & 3 & RLR & 0 & 151 & 261 & 0 & 10 & 15 & 0 & 0 & 136 & 327 & 2 & 3 & 2 & 3 & 3 & 3 & 45 & 2018chcmp\\_qm103\\_red & qm & 2018chcmp & r & team1 & frc6194 \\\\\n",
       "\t17 & 0 & 16 & 31 & true & AutoRun & AutoRun & AutoRun & 15 & 0 & true & 8 & 65 & Levitate & Climbing & Parking & false & 0 & 35 & 3 & RLR & 0 & 151 & 261 & 0 & 10 & 15 & 0 & 0 & 136 & 327 & 2 & 3 & 2 & 3 & 3 & 3 & 45 & 2018chcmp\\_qm103\\_red & qm & 2018chcmp & r & team2 & frc540 \\\\\n",
       "\t18 & 0 & 16 & 31 & true & AutoRun & AutoRun & AutoRun & 15 & 0 & true & 8 & 65 & Levitate & Climbing & Parking & false & 0 & 35 & 3 & RLR & 0 & 151 & 261 & 0 & 10 & 15 & 0 & 0 & 136 & 327 & 2 & 3 & 2 & 3 & 3 & 3 & 45 & 2018chcmp\\_qm103\\_red & qm & 2018chcmp & r & team3 & frc836 \\\\\n",
       "\t19 & 0 & 10 & 25 & true & AutoRun & AutoRun & AutoRun & 15 & 1 & true & 4 & 65 & Levitate & Climbing & Parking & false & 0 & 55 & 2 & RLR & 0 & 204 & 299 & 0 & 10 & 68 & 0 & 10 & 136 & 379 & 0 & 0 & 3 & 3 & 3 & 3 & 30 & 2018chcmp\\_qm104\\_red & qm & 2018chcmp & r & team1 & frc2537 \\\\\n",
       "\t20 & 0 & 10 & 25 & true & AutoRun & AutoRun & AutoRun & 15 & 1 & true & 4 & 65 & Levitate & Climbing & Parking & false & 0 & 55 & 2 & RLR & 0 & 204 & 299 & 0 & 10 & 68 & 0 & 10 & 136 & 379 & 0 & 0 & 3 & 3 & 3 & 3 & 30 & 2018chcmp\\_qm104\\_red & qm & 2018chcmp & r & team2 & frc5546 \\\\\n",
       "\t21 & 0 & 10 & 25 & true & AutoRun & AutoRun & AutoRun & 15 & 1 & true & 4 & 65 & Levitate & Climbing & Parking & false & 0 & 55 & 2 & RLR & 0 & 204 & 299 & 0 & 10 & 68 & 0 & 10 & 136 & 379 & 0 & 0 & 3 & 3 & 3 & 3 & 30 & 2018chcmp\\_qm104\\_red & qm & 2018chcmp & r & team3 & frc5338 \\\\\n",
       "\t22 & 0 & 16 & 31 & true & AutoRun & AutoRun & AutoRun & 15 & 0 & true & 8 & 30 & None & None & Levitate & false & 0 & 25 & 1 & RLR & 0 & 94 & 164 & 0 & 10 & 49 & 0 & 10 & 45 & 220 & 0 & 2 & 3 & 3 & 3 & 3 & 40 & 2018chcmp\\_qm105\\_red & qm & 2018chcmp & r & team1 & frc5957 \\\\\n",
       "\t23 & 0 & 16 & 31 & true & AutoRun & AutoRun & AutoRun & 15 & 0 & true & 8 & 30 & None & None & Levitate & false & 0 & 25 & 1 & RLR & 0 & 94 & 164 & 0 & 10 & 49 & 0 & 10 & 45 & 220 & 0 & 2 & 3 & 3 & 3 & 3 & 40 & 2018chcmp\\_qm105\\_red & qm & 2018chcmp & r & team2 & frc3136 \\\\\n",
       "\t24 & 0 & 16 & 31 & true & AutoRun & AutoRun & AutoRun & 15 & 0 & true & 8 & 30 & None & None & Levitate & false & 0 & 25 & 1 & RLR & 0 & 94 & 164 & 0 & 10 & 49 & 0 & 10 & 45 & 220 & 0 & 2 & 3 & 3 & 3 & 3 & 40 & 2018chcmp\\_qm105\\_red & qm & 2018chcmp & r & team3 & frc1111 \\\\\n",
       "\t25 & 0 & 18 & 33 & true & AutoRun & AutoRun & AutoRun & 15 & 0 & true & 9 & 90 & Climbing & Levitate & Climbing & true & 0 & 0 & 2 & RRR & 1 & 148 & 283 & 0 & 10 & 11 & 10 & 10 & 127 & 316 & 1 & 3 & 3 & 3 & 3 & 3 & 45 & 2018chcmp\\_qm106\\_red & qm & 2018chcmp & r & team1 & frc888 \\\\\n",
       "\t26 & 0 & 18 & 33 & true & AutoRun & AutoRun & AutoRun & 15 & 0 & true & 9 & 90 & Climbing & Levitate & Climbing & true & 0 & 0 & 2 & RRR & 1 & 148 & 283 & 0 & 10 & 11 & 10 & 10 & 127 & 316 & 1 & 3 & 3 & 3 & 3 & 3 & 45 & 2018chcmp\\_qm106\\_red & qm & 2018chcmp & r & team2 & frc2028 \\\\\n",
       "\t27 & 0 & 18 & 33 & true & AutoRun & AutoRun & AutoRun & 15 & 0 & true & 9 & 90 & Climbing & Levitate & Climbing & true & 0 & 0 & 2 & RRR & 1 & 148 & 283 & 0 & 10 & 11 & 10 & 10 & 127 & 316 & 1 & 3 & 3 & 3 & 3 & 3 & 45 & 2018chcmp\\_qm106\\_red & qm & 2018chcmp & r & team3 & frc5945 \\\\\n",
       "\t28 & 0 & 16 & 31 & true & AutoRun & AutoRun & AutoRun & 15 & 0 & true & 8 & 65 & Climbing & Parking & Levitate & false & 0 & 0 & 1 & LRL & 0 & 157 & 252 & 0 & 10 & 11 & 10 & 0 & 136 & 283 & 1 & 1 & 2 & 2 & 3 & 3 & 30 & 2018chcmp\\_qm107\\_red & qm & 2018chcmp & r & team1 & frc623 \\\\\n",
       "\t29 & 0 & 16 & 31 & true & AutoRun & AutoRun & AutoRun & 15 & 0 & true & 8 & 65 & Climbing & Parking & Levitate & false & 0 & 0 & 1 & LRL & 0 & 157 & 252 & 0 & 10 & 11 & 10 & 0 & 136 & 283 & 1 & 1 & 2 & 2 & 3 & 3 & 30 & 2018chcmp\\_qm107\\_red & qm & 2018chcmp & r & team2 & frc5279 \\\\\n",
       "\t30 & 0 & 16 & 31 & true & AutoRun & AutoRun & AutoRun & 15 & 0 & true & 8 & 65 & Climbing & Parking & Levitate & false & 0 & 0 & 1 & LRL & 0 & 157 & 252 & 0 & 10 & 11 & 10 & 0 & 136 & 283 & 1 & 1 & 2 & 2 & 3 & 3 & 30 & 2018chcmp\\_qm107\\_red & qm & 2018chcmp & r & team3 & frc611 \\\\\n",
       "\t$\\dots$ & $\\dots$ & $\\dots$ & $\\dots$ & $\\dots$ & $\\dots$ & $\\dots$ & $\\dots$ & $\\dots$ & $\\dots$ & $\\dots$ & $\\dots$ & $\\dots$ & $\\dots$ & $\\dots$ & $\\dots$ & $\\dots$ & $\\dots$ & $\\dots$ & $\\dots$ & $\\dots$ & $\\dots$ & $\\dots$ & $\\dots$ & $\\dots$ & $\\dots$ & $\\dots$ & $\\dots$ & $\\dots$ & $\\dots$ & $\\dots$ & $\\dots$ & $\\dots$ & $\\dots$ & $\\dots$ & $\\dots$ & $\\dots$ & $\\dots$ & $\\dots$ & $\\dots$ & $\\dots$ & $\\dots$ & $\\dots$ & $\\dots$ \\\\\n",
       "\\end{tabular}\n"
      ],
      "text/plain": [
       "1890×43 DataFrame. Omitted printing of 40 columns\n",
       "│ Row  │ adjustPoints │ autoOwnershipPoints │ autoPoints │\n",
       "│      │ \u001b[90mInt64⍰\u001b[39m       │ \u001b[90mInt64⍰\u001b[39m              │ \u001b[90mInt64⍰\u001b[39m     │\n",
       "├──────┼──────────────┼─────────────────────┼────────────┤\n",
       "│ 1    │ 0            │ 24                  │ 39         │\n",
       "│ 2    │ 0            │ 24                  │ 39         │\n",
       "│ 3    │ 0            │ 24                  │ 39         │\n",
       "│ 4    │ 0            │ 2                   │ 12         │\n",
       "│ 5    │ 0            │ 2                   │ 12         │\n",
       "│ 6    │ 0            │ 2                   │ 12         │\n",
       "│ 7    │ 0            │ 24                  │ 39         │\n",
       "│ 8    │ 0            │ 24                  │ 39         │\n",
       "│ 9    │ 0            │ 24                  │ 39         │\n",
       "│ 10   │ 0            │ 16                  │ 31         │\n",
       "⋮\n",
       "│ 1880 │ 0            │ 10                  │ 25         │\n",
       "│ 1881 │ 0            │ 10                  │ 25         │\n",
       "│ 1882 │ 0            │ 10                  │ 25         │\n",
       "│ 1883 │ 0            │ 10                  │ 25         │\n",
       "│ 1884 │ 0            │ 10                  │ 25         │\n",
       "│ 1885 │ 0            │ 0                   │ 10         │\n",
       "│ 1886 │ 0            │ 0                   │ 10         │\n",
       "│ 1887 │ 0            │ 0                   │ 10         │\n",
       "│ 1888 │ 0            │ 0                   │ 10         │\n",
       "│ 1889 │ 0            │ 0                   │ 10         │\n",
       "│ 1890 │ 0            │ 0                   │ 10         │"
      ]
     },
     "execution_count": 7,
     "metadata": {},
     "output_type": "execute_result"
    }
   ],
   "source": [
    "scoreline(teams, scores) = let stacked = stack(teams, [:team1, :team2, :team3], variable_name=:role, value_name=:team)\n",
    "    join(scores, stacked, on=:key)\n",
    "end\n",
    "\n",
    "scoreline_blue = scoreline(teams_blue, scores_blue)\n",
    "scoreline_red = scoreline(teams_red, scores_red)"
   ]
  },
  {
   "cell_type": "code",
   "execution_count": 48,
   "metadata": {},
   "outputs": [
    {
     "data": {
      "text/html": [
       "<table class=\"data-frame\"><thead><tr><th></th><th>adjustPoints</th><th>autoOwnershipPoints</th><th>autoPoints</th><th>autoQuestRankingPoint</th><th>autoRunPoints</th><th>autoScaleOwnershipSec</th><th>autoSwitchAtZero</th><th>autoSwitchOwnershipSec</th><th>endgamePoints</th><th>faceTheBossRankingPoint</th><th>foulCount</th><th>foulPoints</th><th>rp</th><th>techFoulCount</th><th>teleopOwnershipPoints</th><th>teleopPoints</th><th>teleopScaleBoostSec</th><th>teleopScaleForceSec</th><th>teleopScaleOwnershipSec</th><th>teleopSwitchBoostSec</th><th>teleopSwitchForceSec</th><th>teleopSwitchOwnershipSec</th><th>totalPoints</th><th>vaultBoostPlayed</th><th>vaultBoostTotal</th><th>vaultForcePlayed</th><th>vaultForceTotal</th><th>vaultLevitatePlayed</th><th>vaultLevitateTotal</th><th>vaultPoints</th><th>key</th><th>team</th></tr><tr><th></th><th>Int64</th><th>Int64</th><th>Int64</th><th>Int64</th><th>Int64</th><th>Int64</th><th>Int64</th><th>Int64</th><th>Int64</th><th>Int64</th><th>Int64</th><th>Int64</th><th>Int64</th><th>Int64</th><th>Int64</th><th>Int64</th><th>Int64</th><th>Int64</th><th>Int64</th><th>Int64</th><th>Int64</th><th>Int64</th><th>Int64</th><th>Int64</th><th>Int64</th><th>Int64</th><th>Int64</th><th>Int64</th><th>Int64</th><th>Int64</th><th>String⍰</th><th>String⍰</th></tr></thead><tbody><p>3,780 rows × 32 columns</p><tr><th>1</th><td>0</td><td>16</td><td>16</td><td>0</td><td>0</td><td>2</td><td>0</td><td>6</td><td>0</td><td>0</td><td>0</td><td>0</td><td>2</td><td>0</td><td>167</td><td>177</td><td>10</td><td>0</td><td>130</td><td>10</td><td>-10</td><td>17</td><td>193</td><td>3</td><td>2</td><td>-1</td><td>0</td><td>0</td><td>0</td><td>10</td><td>2018chcmp_qm1_red</td><td>frc4541</td></tr><tr><th>2</th><td>0</td><td>16</td><td>16</td><td>0</td><td>0</td><td>2</td><td>0</td><td>6</td><td>0</td><td>0</td><td>0</td><td>0</td><td>2</td><td>0</td><td>167</td><td>177</td><td>10</td><td>0</td><td>130</td><td>10</td><td>-10</td><td>17</td><td>193</td><td>3</td><td>2</td><td>-1</td><td>0</td><td>0</td><td>0</td><td>10</td><td>2018chcmp_qm1_red</td><td>frc384</td></tr><tr><th>3</th><td>0</td><td>16</td><td>16</td><td>0</td><td>0</td><td>2</td><td>0</td><td>6</td><td>0</td><td>0</td><td>0</td><td>0</td><td>2</td><td>0</td><td>167</td><td>177</td><td>10</td><td>0</td><td>130</td><td>10</td><td>-10</td><td>17</td><td>193</td><td>3</td><td>2</td><td>-1</td><td>0</td><td>0</td><td>0</td><td>10</td><td>2018chcmp_qm1_red</td><td>frc5804</td></tr><tr><th>4</th><td>0</td><td>-12</td><td>-17</td><td>-1</td><td>-5</td><td>0</td><td>-1</td><td>-6</td><td>-5</td><td>0</td><td>0</td><td>0</td><td>-3</td><td>0</td><td>-229</td><td>-274</td><td>-10</td><td>-10</td><td>-111</td><td>-10</td><td>0</td><td>-98</td><td>-291</td><td>-3</td><td>-3</td><td>-2</td><td>-2</td><td>-3</td><td>-3</td><td>-40</td><td>2018chcmp_qm10_red</td><td>frc5724</td></tr><tr><th>5</th><td>0</td><td>-12</td><td>-17</td><td>-1</td><td>-5</td><td>0</td><td>-1</td><td>-6</td><td>-5</td><td>0</td><td>0</td><td>0</td><td>-3</td><td>0</td><td>-229</td><td>-274</td><td>-10</td><td>-10</td><td>-111</td><td>-10</td><td>0</td><td>-98</td><td>-291</td><td>-3</td><td>-3</td><td>-2</td><td>-2</td><td>-3</td><td>-3</td><td>-40</td><td>2018chcmp_qm10_red</td><td>frc4472</td></tr><tr><th>6</th><td>0</td><td>-12</td><td>-17</td><td>-1</td><td>-5</td><td>0</td><td>-1</td><td>-6</td><td>-5</td><td>0</td><td>0</td><td>0</td><td>-3</td><td>0</td><td>-229</td><td>-274</td><td>-10</td><td>-10</td><td>-111</td><td>-10</td><td>0</td><td>-98</td><td>-291</td><td>-3</td><td>-3</td><td>-2</td><td>-2</td><td>-3</td><td>-3</td><td>-40</td><td>2018chcmp_qm10_red</td><td>frc5279</td></tr><tr><th>7</th><td>0</td><td>10</td><td>10</td><td>0</td><td>0</td><td>-1</td><td>0</td><td>6</td><td>-5</td><td>0</td><td>0</td><td>0</td><td>-2</td><td>0</td><td>-82</td><td>-117</td><td>-5</td><td>-10</td><td>34</td><td>-9</td><td>0</td><td>-102</td><td>-107</td><td>-3</td><td>-3</td><td>-2</td><td>-3</td><td>0</td><td>0</td><td>-30</td><td>2018chcmp_qm100_red</td><td>frc1610</td></tr><tr><th>8</th><td>0</td><td>10</td><td>10</td><td>0</td><td>0</td><td>-1</td><td>0</td><td>6</td><td>-5</td><td>0</td><td>0</td><td>0</td><td>-2</td><td>0</td><td>-82</td><td>-117</td><td>-5</td><td>-10</td><td>34</td><td>-9</td><td>0</td><td>-102</td><td>-107</td><td>-3</td><td>-3</td><td>-2</td><td>-3</td><td>0</td><td>0</td><td>-30</td><td>2018chcmp_qm100_red</td><td>frc5279</td></tr><tr><th>9</th><td>0</td><td>10</td><td>10</td><td>0</td><td>0</td><td>-1</td><td>0</td><td>6</td><td>-5</td><td>0</td><td>0</td><td>0</td><td>-2</td><td>0</td><td>-82</td><td>-117</td><td>-5</td><td>-10</td><td>34</td><td>-9</td><td>0</td><td>-102</td><td>-107</td><td>-3</td><td>-3</td><td>-2</td><td>-3</td><td>0</td><td>0</td><td>-30</td><td>2018chcmp_qm100_red</td><td>frc1599</td></tr><tr><th>10</th><td>0</td><td>-20</td><td>-20</td><td>0</td><td>0</td><td>-10</td><td>0</td><td>0</td><td>-80</td><td>-1</td><td>1</td><td>70</td><td>-3</td><td>-3</td><td>-203</td><td>-328</td><td>-10</td><td>-10</td><td>-80</td><td>-10</td><td>-10</td><td>-103</td><td>-278</td><td>-3</td><td>-3</td><td>-3</td><td>-3</td><td>-3</td><td>-3</td><td>-45</td><td>2018chcmp_qm101_red</td><td>frc4541</td></tr><tr><th>11</th><td>0</td><td>-20</td><td>-20</td><td>0</td><td>0</td><td>-10</td><td>0</td><td>0</td><td>-80</td><td>-1</td><td>1</td><td>70</td><td>-3</td><td>-3</td><td>-203</td><td>-328</td><td>-10</td><td>-10</td><td>-80</td><td>-10</td><td>-10</td><td>-103</td><td>-278</td><td>-3</td><td>-3</td><td>-3</td><td>-3</td><td>-3</td><td>-3</td><td>-45</td><td>2018chcmp_qm101_red</td><td>frc2914</td></tr><tr><th>12</th><td>0</td><td>-20</td><td>-20</td><td>0</td><td>0</td><td>-10</td><td>0</td><td>0</td><td>-80</td><td>-1</td><td>1</td><td>70</td><td>-3</td><td>-3</td><td>-203</td><td>-328</td><td>-10</td><td>-10</td><td>-80</td><td>-10</td><td>-10</td><td>-103</td><td>-278</td><td>-3</td><td>-3</td><td>-3</td><td>-3</td><td>-3</td><td>-3</td><td>-45</td><td>2018chcmp_qm101_red</td><td>frc5243</td></tr><tr><th>13</th><td>0</td><td>-10</td><td>-10</td><td>0</td><td>0</td><td>-3</td><td>0</td><td>-2</td><td>-30</td><td>0</td><td>0</td><td>0</td><td>-2</td><td>0</td><td>-135</td><td>-190</td><td>-10</td><td>-5</td><td>-136</td><td>0</td><td>0</td><td>11</td><td>-200</td><td>-3</td><td>-3</td><td>-2</td><td>-2</td><td>0</td><td>0</td><td>-25</td><td>2018chcmp_qm102_red</td><td>frc1727</td></tr><tr><th>14</th><td>0</td><td>-10</td><td>-10</td><td>0</td><td>0</td><td>-3</td><td>0</td><td>-2</td><td>-30</td><td>0</td><td>0</td><td>0</td><td>-2</td><td>0</td><td>-135</td><td>-190</td><td>-10</td><td>-5</td><td>-136</td><td>0</td><td>0</td><td>11</td><td>-200</td><td>-3</td><td>-3</td><td>-2</td><td>-2</td><td>0</td><td>0</td><td>-25</td><td>2018chcmp_qm102_red</td><td>frc5587</td></tr><tr><th>15</th><td>0</td><td>-10</td><td>-10</td><td>0</td><td>0</td><td>-3</td><td>0</td><td>-2</td><td>-30</td><td>0</td><td>0</td><td>0</td><td>-2</td><td>0</td><td>-135</td><td>-190</td><td>-10</td><td>-5</td><td>-136</td><td>0</td><td>0</td><td>11</td><td>-200</td><td>-3</td><td>-3</td><td>-2</td><td>-2</td><td>0</td><td>0</td><td>-25</td><td>2018chcmp_qm102_red</td><td>frc4456</td></tr><tr><th>16</th><td>0</td><td>16</td><td>21</td><td>1</td><td>5</td><td>0</td><td>1</td><td>8</td><td>30</td><td>0</td><td>-2</td><td>35</td><td>3</td><td>-1</td><td>46</td><td>116</td><td>0</td><td>10</td><td>-79</td><td>0</td><td>-10</td><td>125</td><td>172</td><td>2</td><td>3</td><td>1</td><td>2</td><td>3</td><td>3</td><td>40</td><td>2018chcmp_qm103_red</td><td>frc6194</td></tr><tr><th>17</th><td>0</td><td>16</td><td>21</td><td>1</td><td>5</td><td>0</td><td>1</td><td>8</td><td>30</td><td>0</td><td>-2</td><td>35</td><td>3</td><td>-1</td><td>46</td><td>116</td><td>0</td><td>10</td><td>-79</td><td>0</td><td>-10</td><td>125</td><td>172</td><td>2</td><td>3</td><td>1</td><td>2</td><td>3</td><td>3</td><td>40</td><td>2018chcmp_qm103_red</td><td>frc540</td></tr><tr><th>18</th><td>0</td><td>16</td><td>21</td><td>1</td><td>5</td><td>0</td><td>1</td><td>8</td><td>30</td><td>0</td><td>-2</td><td>35</td><td>3</td><td>-1</td><td>46</td><td>116</td><td>0</td><td>10</td><td>-79</td><td>0</td><td>-10</td><td>125</td><td>172</td><td>2</td><td>3</td><td>1</td><td>2</td><td>3</td><td>3</td><td>40</td><td>2018chcmp_qm103_red</td><td>frc836</td></tr><tr><th>19</th><td>0</td><td>-22</td><td>-22</td><td>0</td><td>0</td><td>-4</td><td>0</td><td>-7</td><td>-25</td><td>-1</td><td>-1</td><td>55</td><td>-1</td><td>-2</td><td>-3</td><td>-33</td><td>0</td><td>0</td><td>6</td><td>-10</td><td>10</td><td>1</td><td>0</td><td>-1</td><td>-2</td><td>1</td><td>1</td><td>0</td><td>0</td><td>-5</td><td>2018chcmp_qm104_red</td><td>frc2537</td></tr><tr><th>20</th><td>0</td><td>-22</td><td>-22</td><td>0</td><td>0</td><td>-4</td><td>0</td><td>-7</td><td>-25</td><td>-1</td><td>-1</td><td>55</td><td>-1</td><td>-2</td><td>-3</td><td>-33</td><td>0</td><td>0</td><td>6</td><td>-10</td><td>10</td><td>1</td><td>0</td><td>-1</td><td>-2</td><td>1</td><td>1</td><td>0</td><td>0</td><td>-5</td><td>2018chcmp_qm104_red</td><td>frc5546</td></tr><tr><th>21</th><td>0</td><td>-22</td><td>-22</td><td>0</td><td>0</td><td>-4</td><td>0</td><td>-7</td><td>-25</td><td>-1</td><td>-1</td><td>55</td><td>-1</td><td>-2</td><td>-3</td><td>-33</td><td>0</td><td>0</td><td>6</td><td>-10</td><td>10</td><td>1</td><td>0</td><td>-1</td><td>-2</td><td>1</td><td>1</td><td>0</td><td>0</td><td>-5</td><td>2018chcmp_qm104_red</td><td>frc5338</td></tr><tr><th>22</th><td>0</td><td>4</td><td>4</td><td>0</td><td>0</td><td>0</td><td>0</td><td>2</td><td>-5</td><td>0</td><td>0</td><td>25</td><td>-2</td><td>-1</td><td>-132</td><td>-122</td><td>0</td><td>10</td><td>-32</td><td>-9</td><td>10</td><td>-91</td><td>-93</td><td>-1</td><td>0</td><td>3</td><td>3</td><td>0</td><td>0</td><td>15</td><td>2018chcmp_qm105_red</td><td>frc5957</td></tr><tr><th>23</th><td>0</td><td>4</td><td>4</td><td>0</td><td>0</td><td>0</td><td>0</td><td>2</td><td>-5</td><td>0</td><td>0</td><td>25</td><td>-2</td><td>-1</td><td>-132</td><td>-122</td><td>0</td><td>10</td><td>-32</td><td>-9</td><td>10</td><td>-91</td><td>-93</td><td>-1</td><td>0</td><td>3</td><td>3</td><td>0</td><td>0</td><td>15</td><td>2018chcmp_qm105_red</td><td>frc3136</td></tr><tr><th>24</th><td>0</td><td>4</td><td>4</td><td>0</td><td>0</td><td>0</td><td>0</td><td>2</td><td>-5</td><td>0</td><td>0</td><td>25</td><td>-2</td><td>-1</td><td>-132</td><td>-122</td><td>0</td><td>10</td><td>-32</td><td>-9</td><td>10</td><td>-91</td><td>-93</td><td>-1</td><td>0</td><td>3</td><td>3</td><td>0</td><td>0</td><td>15</td><td>2018chcmp_qm105_red</td><td>frc1111</td></tr><tr><th>25</th><td>0</td><td>-16</td><td>-16</td><td>0</td><td>0</td><td>-6</td><td>0</td><td>-2</td><td>30</td><td>1</td><td>0</td><td>-25</td><td>-1</td><td>1</td><td>-59</td><td>-19</td><td>-10</td><td>10</td><td>-116</td><td>10</td><td>0</td><td>57</td><td>-60</td><td>-1</td><td>1</td><td>2</td><td>1</td><td>0</td><td>0</td><td>10</td><td>2018chcmp_qm106_red</td><td>frc888</td></tr><tr><th>26</th><td>0</td><td>-16</td><td>-16</td><td>0</td><td>0</td><td>-6</td><td>0</td><td>-2</td><td>30</td><td>1</td><td>0</td><td>-25</td><td>-1</td><td>1</td><td>-59</td><td>-19</td><td>-10</td><td>10</td><td>-116</td><td>10</td><td>0</td><td>57</td><td>-60</td><td>-1</td><td>1</td><td>2</td><td>1</td><td>0</td><td>0</td><td>10</td><td>2018chcmp_qm106_red</td><td>frc2028</td></tr><tr><th>27</th><td>0</td><td>-16</td><td>-16</td><td>0</td><td>0</td><td>-6</td><td>0</td><td>-2</td><td>30</td><td>1</td><td>0</td><td>-25</td><td>-1</td><td>1</td><td>-59</td><td>-19</td><td>-10</td><td>10</td><td>-116</td><td>10</td><td>0</td><td>57</td><td>-60</td><td>-1</td><td>1</td><td>2</td><td>1</td><td>0</td><td>0</td><td>10</td><td>2018chcmp_qm106_red</td><td>frc5945</td></tr><tr><th>28</th><td>0</td><td>0</td><td>0</td><td>0</td><td>0</td><td>0</td><td>0</td><td>0</td><td>55</td><td>0</td><td>0</td><td>0</td><td>-2</td><td>0</td><td>-119</td><td>-59</td><td>-10</td><td>10</td><td>-109</td><td>0</td><td>0</td><td>0</td><td>-59</td><td>-2</td><td>-2</td><td>2</td><td>2</td><td>3</td><td>1</td><td>5</td><td>2018chcmp_qm107_red</td><td>frc623</td></tr><tr><th>29</th><td>0</td><td>0</td><td>0</td><td>0</td><td>0</td><td>0</td><td>0</td><td>0</td><td>55</td><td>0</td><td>0</td><td>0</td><td>-2</td><td>0</td><td>-119</td><td>-59</td><td>-10</td><td>10</td><td>-109</td><td>0</td><td>0</td><td>0</td><td>-59</td><td>-2</td><td>-2</td><td>2</td><td>2</td><td>3</td><td>1</td><td>5</td><td>2018chcmp_qm107_red</td><td>frc5279</td></tr><tr><th>30</th><td>0</td><td>0</td><td>0</td><td>0</td><td>0</td><td>0</td><td>0</td><td>0</td><td>55</td><td>0</td><td>0</td><td>0</td><td>-2</td><td>0</td><td>-119</td><td>-59</td><td>-10</td><td>10</td><td>-109</td><td>0</td><td>0</td><td>0</td><td>-59</td><td>-2</td><td>-2</td><td>2</td><td>2</td><td>3</td><td>1</td><td>5</td><td>2018chcmp_qm107_red</td><td>frc611</td></tr><tr><th>&vellip;</th><td>&vellip;</td><td>&vellip;</td><td>&vellip;</td><td>&vellip;</td><td>&vellip;</td><td>&vellip;</td><td>&vellip;</td><td>&vellip;</td><td>&vellip;</td><td>&vellip;</td><td>&vellip;</td><td>&vellip;</td><td>&vellip;</td><td>&vellip;</td><td>&vellip;</td><td>&vellip;</td><td>&vellip;</td><td>&vellip;</td><td>&vellip;</td><td>&vellip;</td><td>&vellip;</td><td>&vellip;</td><td>&vellip;</td><td>&vellip;</td><td>&vellip;</td><td>&vellip;</td><td>&vellip;</td><td>&vellip;</td><td>&vellip;</td><td>&vellip;</td><td>&vellip;</td><td>&vellip;</td></tr></tbody></table>"
      ],
      "text/latex": [
       "\\begin{tabular}{r|cccccccccccccccccccccccccccccccc}\n",
       "\t& adjustPoints & autoOwnershipPoints & autoPoints & autoQuestRankingPoint & autoRunPoints & autoScaleOwnershipSec & autoSwitchAtZero & autoSwitchOwnershipSec & endgamePoints & faceTheBossRankingPoint & foulCount & foulPoints & rp & techFoulCount & teleopOwnershipPoints & teleopPoints & teleopScaleBoostSec & teleopScaleForceSec & teleopScaleOwnershipSec & teleopSwitchBoostSec & teleopSwitchForceSec & teleopSwitchOwnershipSec & totalPoints & vaultBoostPlayed & vaultBoostTotal & vaultForcePlayed & vaultForceTotal & vaultLevitatePlayed & vaultLevitateTotal & vaultPoints & key & team\\\\\n",
       "\t\\hline\n",
       "\t& Int64 & Int64 & Int64 & Int64 & Int64 & Int64 & Int64 & Int64 & Int64 & Int64 & Int64 & Int64 & Int64 & Int64 & Int64 & Int64 & Int64 & Int64 & Int64 & Int64 & Int64 & Int64 & Int64 & Int64 & Int64 & Int64 & Int64 & Int64 & Int64 & Int64 & String⍰ & String⍰\\\\\n",
       "\t\\hline\n",
       "\t1 & 0 & 16 & 16 & 0 & 0 & 2 & 0 & 6 & 0 & 0 & 0 & 0 & 2 & 0 & 167 & 177 & 10 & 0 & 130 & 10 & -10 & 17 & 193 & 3 & 2 & -1 & 0 & 0 & 0 & 10 & 2018chcmp\\_qm1\\_red & frc4541 \\\\\n",
       "\t2 & 0 & 16 & 16 & 0 & 0 & 2 & 0 & 6 & 0 & 0 & 0 & 0 & 2 & 0 & 167 & 177 & 10 & 0 & 130 & 10 & -10 & 17 & 193 & 3 & 2 & -1 & 0 & 0 & 0 & 10 & 2018chcmp\\_qm1\\_red & frc384 \\\\\n",
       "\t3 & 0 & 16 & 16 & 0 & 0 & 2 & 0 & 6 & 0 & 0 & 0 & 0 & 2 & 0 & 167 & 177 & 10 & 0 & 130 & 10 & -10 & 17 & 193 & 3 & 2 & -1 & 0 & 0 & 0 & 10 & 2018chcmp\\_qm1\\_red & frc5804 \\\\\n",
       "\t4 & 0 & -12 & -17 & -1 & -5 & 0 & -1 & -6 & -5 & 0 & 0 & 0 & -3 & 0 & -229 & -274 & -10 & -10 & -111 & -10 & 0 & -98 & -291 & -3 & -3 & -2 & -2 & -3 & -3 & -40 & 2018chcmp\\_qm10\\_red & frc5724 \\\\\n",
       "\t5 & 0 & -12 & -17 & -1 & -5 & 0 & -1 & -6 & -5 & 0 & 0 & 0 & -3 & 0 & -229 & -274 & -10 & -10 & -111 & -10 & 0 & -98 & -291 & -3 & -3 & -2 & -2 & -3 & -3 & -40 & 2018chcmp\\_qm10\\_red & frc4472 \\\\\n",
       "\t6 & 0 & -12 & -17 & -1 & -5 & 0 & -1 & -6 & -5 & 0 & 0 & 0 & -3 & 0 & -229 & -274 & -10 & -10 & -111 & -10 & 0 & -98 & -291 & -3 & -3 & -2 & -2 & -3 & -3 & -40 & 2018chcmp\\_qm10\\_red & frc5279 \\\\\n",
       "\t7 & 0 & 10 & 10 & 0 & 0 & -1 & 0 & 6 & -5 & 0 & 0 & 0 & -2 & 0 & -82 & -117 & -5 & -10 & 34 & -9 & 0 & -102 & -107 & -3 & -3 & -2 & -3 & 0 & 0 & -30 & 2018chcmp\\_qm100\\_red & frc1610 \\\\\n",
       "\t8 & 0 & 10 & 10 & 0 & 0 & -1 & 0 & 6 & -5 & 0 & 0 & 0 & -2 & 0 & -82 & -117 & -5 & -10 & 34 & -9 & 0 & -102 & -107 & -3 & -3 & -2 & -3 & 0 & 0 & -30 & 2018chcmp\\_qm100\\_red & frc5279 \\\\\n",
       "\t9 & 0 & 10 & 10 & 0 & 0 & -1 & 0 & 6 & -5 & 0 & 0 & 0 & -2 & 0 & -82 & -117 & -5 & -10 & 34 & -9 & 0 & -102 & -107 & -3 & -3 & -2 & -3 & 0 & 0 & -30 & 2018chcmp\\_qm100\\_red & frc1599 \\\\\n",
       "\t10 & 0 & -20 & -20 & 0 & 0 & -10 & 0 & 0 & -80 & -1 & 1 & 70 & -3 & -3 & -203 & -328 & -10 & -10 & -80 & -10 & -10 & -103 & -278 & -3 & -3 & -3 & -3 & -3 & -3 & -45 & 2018chcmp\\_qm101\\_red & frc4541 \\\\\n",
       "\t11 & 0 & -20 & -20 & 0 & 0 & -10 & 0 & 0 & -80 & -1 & 1 & 70 & -3 & -3 & -203 & -328 & -10 & -10 & -80 & -10 & -10 & -103 & -278 & -3 & -3 & -3 & -3 & -3 & -3 & -45 & 2018chcmp\\_qm101\\_red & frc2914 \\\\\n",
       "\t12 & 0 & -20 & -20 & 0 & 0 & -10 & 0 & 0 & -80 & -1 & 1 & 70 & -3 & -3 & -203 & -328 & -10 & -10 & -80 & -10 & -10 & -103 & -278 & -3 & -3 & -3 & -3 & -3 & -3 & -45 & 2018chcmp\\_qm101\\_red & frc5243 \\\\\n",
       "\t13 & 0 & -10 & -10 & 0 & 0 & -3 & 0 & -2 & -30 & 0 & 0 & 0 & -2 & 0 & -135 & -190 & -10 & -5 & -136 & 0 & 0 & 11 & -200 & -3 & -3 & -2 & -2 & 0 & 0 & -25 & 2018chcmp\\_qm102\\_red & frc1727 \\\\\n",
       "\t14 & 0 & -10 & -10 & 0 & 0 & -3 & 0 & -2 & -30 & 0 & 0 & 0 & -2 & 0 & -135 & -190 & -10 & -5 & -136 & 0 & 0 & 11 & -200 & -3 & -3 & -2 & -2 & 0 & 0 & -25 & 2018chcmp\\_qm102\\_red & frc5587 \\\\\n",
       "\t15 & 0 & -10 & -10 & 0 & 0 & -3 & 0 & -2 & -30 & 0 & 0 & 0 & -2 & 0 & -135 & -190 & -10 & -5 & -136 & 0 & 0 & 11 & -200 & -3 & -3 & -2 & -2 & 0 & 0 & -25 & 2018chcmp\\_qm102\\_red & frc4456 \\\\\n",
       "\t16 & 0 & 16 & 21 & 1 & 5 & 0 & 1 & 8 & 30 & 0 & -2 & 35 & 3 & -1 & 46 & 116 & 0 & 10 & -79 & 0 & -10 & 125 & 172 & 2 & 3 & 1 & 2 & 3 & 3 & 40 & 2018chcmp\\_qm103\\_red & frc6194 \\\\\n",
       "\t17 & 0 & 16 & 21 & 1 & 5 & 0 & 1 & 8 & 30 & 0 & -2 & 35 & 3 & -1 & 46 & 116 & 0 & 10 & -79 & 0 & -10 & 125 & 172 & 2 & 3 & 1 & 2 & 3 & 3 & 40 & 2018chcmp\\_qm103\\_red & frc540 \\\\\n",
       "\t18 & 0 & 16 & 21 & 1 & 5 & 0 & 1 & 8 & 30 & 0 & -2 & 35 & 3 & -1 & 46 & 116 & 0 & 10 & -79 & 0 & -10 & 125 & 172 & 2 & 3 & 1 & 2 & 3 & 3 & 40 & 2018chcmp\\_qm103\\_red & frc836 \\\\\n",
       "\t19 & 0 & -22 & -22 & 0 & 0 & -4 & 0 & -7 & -25 & -1 & -1 & 55 & -1 & -2 & -3 & -33 & 0 & 0 & 6 & -10 & 10 & 1 & 0 & -1 & -2 & 1 & 1 & 0 & 0 & -5 & 2018chcmp\\_qm104\\_red & frc2537 \\\\\n",
       "\t20 & 0 & -22 & -22 & 0 & 0 & -4 & 0 & -7 & -25 & -1 & -1 & 55 & -1 & -2 & -3 & -33 & 0 & 0 & 6 & -10 & 10 & 1 & 0 & -1 & -2 & 1 & 1 & 0 & 0 & -5 & 2018chcmp\\_qm104\\_red & frc5546 \\\\\n",
       "\t21 & 0 & -22 & -22 & 0 & 0 & -4 & 0 & -7 & -25 & -1 & -1 & 55 & -1 & -2 & -3 & -33 & 0 & 0 & 6 & -10 & 10 & 1 & 0 & -1 & -2 & 1 & 1 & 0 & 0 & -5 & 2018chcmp\\_qm104\\_red & frc5338 \\\\\n",
       "\t22 & 0 & 4 & 4 & 0 & 0 & 0 & 0 & 2 & -5 & 0 & 0 & 25 & -2 & -1 & -132 & -122 & 0 & 10 & -32 & -9 & 10 & -91 & -93 & -1 & 0 & 3 & 3 & 0 & 0 & 15 & 2018chcmp\\_qm105\\_red & frc5957 \\\\\n",
       "\t23 & 0 & 4 & 4 & 0 & 0 & 0 & 0 & 2 & -5 & 0 & 0 & 25 & -2 & -1 & -132 & -122 & 0 & 10 & -32 & -9 & 10 & -91 & -93 & -1 & 0 & 3 & 3 & 0 & 0 & 15 & 2018chcmp\\_qm105\\_red & frc3136 \\\\\n",
       "\t24 & 0 & 4 & 4 & 0 & 0 & 0 & 0 & 2 & -5 & 0 & 0 & 25 & -2 & -1 & -132 & -122 & 0 & 10 & -32 & -9 & 10 & -91 & -93 & -1 & 0 & 3 & 3 & 0 & 0 & 15 & 2018chcmp\\_qm105\\_red & frc1111 \\\\\n",
       "\t25 & 0 & -16 & -16 & 0 & 0 & -6 & 0 & -2 & 30 & 1 & 0 & -25 & -1 & 1 & -59 & -19 & -10 & 10 & -116 & 10 & 0 & 57 & -60 & -1 & 1 & 2 & 1 & 0 & 0 & 10 & 2018chcmp\\_qm106\\_red & frc888 \\\\\n",
       "\t26 & 0 & -16 & -16 & 0 & 0 & -6 & 0 & -2 & 30 & 1 & 0 & -25 & -1 & 1 & -59 & -19 & -10 & 10 & -116 & 10 & 0 & 57 & -60 & -1 & 1 & 2 & 1 & 0 & 0 & 10 & 2018chcmp\\_qm106\\_red & frc2028 \\\\\n",
       "\t27 & 0 & -16 & -16 & 0 & 0 & -6 & 0 & -2 & 30 & 1 & 0 & -25 & -1 & 1 & -59 & -19 & -10 & 10 & -116 & 10 & 0 & 57 & -60 & -1 & 1 & 2 & 1 & 0 & 0 & 10 & 2018chcmp\\_qm106\\_red & frc5945 \\\\\n",
       "\t28 & 0 & 0 & 0 & 0 & 0 & 0 & 0 & 0 & 55 & 0 & 0 & 0 & -2 & 0 & -119 & -59 & -10 & 10 & -109 & 0 & 0 & 0 & -59 & -2 & -2 & 2 & 2 & 3 & 1 & 5 & 2018chcmp\\_qm107\\_red & frc623 \\\\\n",
       "\t29 & 0 & 0 & 0 & 0 & 0 & 0 & 0 & 0 & 55 & 0 & 0 & 0 & -2 & 0 & -119 & -59 & -10 & 10 & -109 & 0 & 0 & 0 & -59 & -2 & -2 & 2 & 2 & 3 & 1 & 5 & 2018chcmp\\_qm107\\_red & frc5279 \\\\\n",
       "\t30 & 0 & 0 & 0 & 0 & 0 & 0 & 0 & 0 & 55 & 0 & 0 & 0 & -2 & 0 & -119 & -59 & -10 & 10 & -109 & 0 & 0 & 0 & -59 & -2 & -2 & 2 & 2 & 3 & 1 & 5 & 2018chcmp\\_qm107\\_red & frc611 \\\\\n",
       "\t$\\dots$ & $\\dots$ & $\\dots$ & $\\dots$ & $\\dots$ & $\\dots$ & $\\dots$ & $\\dots$ & $\\dots$ & $\\dots$ & $\\dots$ & $\\dots$ & $\\dots$ & $\\dots$ & $\\dots$ & $\\dots$ & $\\dots$ & $\\dots$ & $\\dots$ & $\\dots$ & $\\dots$ & $\\dots$ & $\\dots$ & $\\dots$ & $\\dots$ & $\\dots$ & $\\dots$ & $\\dots$ & $\\dots$ & $\\dots$ & $\\dots$ & $\\dots$ & $\\dots$ \\\\\n",
       "\\end{tabular}\n"
      ],
      "text/plain": [
       "3780×32 DataFrame. Omitted printing of 29 columns\n",
       "│ Row  │ adjustPoints │ autoOwnershipPoints │ autoPoints │\n",
       "│      │ \u001b[90mInt64\u001b[39m        │ \u001b[90mInt64\u001b[39m               │ \u001b[90mInt64\u001b[39m      │\n",
       "├──────┼──────────────┼─────────────────────┼────────────┤\n",
       "│ 1    │ 0            │ 16                  │ 16         │\n",
       "│ 2    │ 0            │ 16                  │ 16         │\n",
       "│ 3    │ 0            │ 16                  │ 16         │\n",
       "│ 4    │ 0            │ -12                 │ -17        │\n",
       "│ 5    │ 0            │ -12                 │ -17        │\n",
       "│ 6    │ 0            │ -12                 │ -17        │\n",
       "│ 7    │ 0            │ 10                  │ 10         │\n",
       "│ 8    │ 0            │ 10                  │ 10         │\n",
       "│ 9    │ 0            │ 10                  │ 10         │\n",
       "│ 10   │ 0            │ -20                 │ -20        │\n",
       "⋮\n",
       "│ 3770 │ 0            │ 2                   │ 2          │\n",
       "│ 3771 │ 0            │ 2                   │ 2          │\n",
       "│ 3772 │ 0            │ -4                  │ -4         │\n",
       "│ 3773 │ 0            │ -4                  │ -4         │\n",
       "│ 3774 │ 0            │ -4                  │ -4         │\n",
       "│ 3775 │ 0            │ 30                  │ 30         │\n",
       "│ 3776 │ 0            │ 30                  │ 30         │\n",
       "│ 3777 │ 0            │ 30                  │ 30         │\n",
       "│ 3778 │ 0            │ 16                  │ 11         │\n",
       "│ 3779 │ 0            │ 16                  │ 11         │\n",
       "│ 3780 │ 0            │ 16                  │ 11         │"
      ]
     },
     "execution_count": 48,
     "metadata": {},
     "output_type": "execute_result"
    }
   ],
   "source": [
    "numericcols = [n for (n, c) in eachcol(scoreline_red, true) if eltype(c) <: Union{Number, Missing}]\n",
    "diff_red = convert(Matrix,scoreline_red[:,numericcols]) .- convert(Matrix, scoreline_blue[:,numericcols])\n",
    "diff_blue = convert(Matrix,scoreline_blue[:,numericcols]) .- convert(Matrix, scoreline_red[:,numericcols])\n",
    "\n",
    "diffdf = DataFrame(vcat(diff_red, diff_blue), numericcols)\n",
    "diffdf[:key] = vcat(scoreline_red.key, scoreline_blue.key)\n",
    "diffdf[:team] = vcat(scoreline_red.team, scoreline_blue.team)\n",
    "\n",
    "diffdf"
   ]
  },
  {
   "cell_type": "code",
   "execution_count": 49,
   "metadata": {},
   "outputs": [
    {
     "data": {
      "text/html": [
       "<table class=\"data-frame\"><thead><tr><th></th><th>team</th><th>vaultForceTotal_mean</th><th>teleopScaleForceSec_mean</th><th>teleopOwnershipPoints_mean</th><th>adjustPoints_mean</th><th>foulPoints_mean</th><th>vaultLevitatePlayed_mean</th><th>vaultPoints_mean</th><th>autoSwitchOwnershipSec_mean</th><th>rp_mean</th><th>vaultBoostPlayed_mean</th><th>teleopPoints_mean</th><th>teleopSwitchBoostSec_mean</th><th>autoPoints_mean</th><th>autoScaleOwnershipSec_mean</th><th>vaultBoostTotal_mean</th><th>teleopSwitchForceSec_mean</th><th>vaultLevitateTotal_mean</th><th>vaultForcePlayed_mean</th><th>autoOwnershipPoints_mean</th><th>teleopScaleOwnershipSec_mean</th><th>teleopSwitchOwnershipSec_mean</th><th>foulCount_mean</th><th>autoQuestRankingPoint_mean</th><th>endgamePoints_mean</th><th>totalPoints_mean</th><th>autoRunPoints_mean</th><th>teleopScaleBoostSec_mean</th><th>techFoulCount_mean</th><th>faceTheBossRankingPoint_mean</th><th>autoSwitchAtZero_mean</th></tr><tr><th></th><th>String⍰</th><th>Float64</th><th>Float64</th><th>Float64</th><th>Float64</th><th>Float64</th><th>Float64</th><th>Float64</th><th>Float64</th><th>Float64</th><th>Float64</th><th>Float64</th><th>Float64</th><th>Float64</th><th>Float64</th><th>Float64</th><th>Float64</th><th>Float64</th><th>Float64</th><th>Float64</th><th>Float64</th><th>Float64</th><th>Float64</th><th>Float64</th><th>Float64</th><th>Float64</th><th>Float64</th><th>Float64</th><th>Float64</th><th>Float64</th><th>Float64</th></tr></thead><tbody><p>130 rows × 31 columns</p><tr><th>1</th><td>frc4541</td><td>-0.472222</td><td>-1.25</td><td>66.6389</td><td>0.0</td><td>-1.25</td><td>0.0</td><td>-0.416667</td><td>1.36111</td><td>0.694444</td><td>0.5</td><td>66.6389</td><td>1.05556</td><td>1.69444</td><td>-0.166667</td><td>0.416667</td><td>-0.555556</td><td>-0.0277778</td><td>-0.444444</td><td>2.38889</td><td>55.0</td><td>7.19444</td><td>0.527778</td><td>0.0555556</td><td>0.416667</td><td>67.0833</td><td>-0.694444</td><td>3.38889</td><td>-0.0555556</td><td>-0.0277778</td><td>0.194444</td></tr><tr><th>2</th><td>frc384</td><td>0.0</td><td>-0.611111</td><td>79.4444</td><td>0.0</td><td>-3.61111</td><td>0.666667</td><td>5.0</td><td>-0.138889</td><td>1.08333</td><td>0.472222</td><td>98.75</td><td>1.88889</td><td>1.36111</td><td>0.472222</td><td>0.388889</td><td>-0.222222</td><td>0.611111</td><td>-0.0833333</td><td>0.666667</td><td>60.3056</td><td>14.1944</td><td>-0.666667</td><td>0.0555556</td><td>14.3056</td><td>96.5278</td><td>0.694444</td><td>3.05556</td><td>0.277778</td><td>0.0277778</td><td>0.0555556</td></tr><tr><th>3</th><td>frc5804</td><td>-0.166667</td><td>-0.611111</td><td>32.8333</td><td>0.0</td><td>0.0</td><td>0.166667</td><td>1.66667</td><td>1.72222</td><td>0.861111</td><td>0.472222</td><td>38.1111</td><td>0.916667</td><td>3.80556</td><td>0.111111</td><td>0.25</td><td>-0.944444</td><td>0.25</td><td>-0.194444</td><td>3.66667</td><td>36.3056</td><td>-6.63889</td><td>0.138889</td><td>0.138889</td><td>3.61111</td><td>41.8611</td><td>0.138889</td><td>2.25</td><td>-0.0277778</td><td>0.0555556</td><td>0.111111</td></tr><tr><th>4</th><td>frc5724</td><td>-0.138889</td><td>-0.25</td><td>16.0278</td><td>0.0</td><td>2.5</td><td>-0.166667</td><td>-1.25</td><td>-0.916667</td><td>0.305556</td><td>0.111111</td><td>17.6944</td><td>-1.33333</td><td>-4.25</td><td>-0.722222</td><td>0.0833333</td><td>-0.194444</td><td>-0.194444</td><td>0.0</td><td>-3.27778</td><td>15.1667</td><td>1.36111</td><td>0.194444</td><td>-0.0277778</td><td>2.91667</td><td>15.9722</td><td>-0.972222</td><td>0.833333</td><td>-0.138889</td><td>0.0</td><td>0.0555556</td></tr><tr><th>5</th><td>frc4472</td><td>-0.0833333</td><td>-0.75</td><td>60.2222</td><td>0.0</td><td>-0.416667</td><td>0.0</td><td>1.80556</td><td>1.69444</td><td>0.888889</td><td>0.333333</td><td>67.8611</td><td>1.36111</td><td>6.27778</td><td>0.888889</td><td>0.472222</td><td>0.388889</td><td>-0.0277778</td><td>-0.277778</td><td>5.16667</td><td>37.1389</td><td>19.6111</td><td>0.222222</td><td>0.138889</td><td>5.83333</td><td>73.6944</td><td>1.11111</td><td>2.11111</td><td>-0.0277778</td><td>-0.0277778</td><td>0.25</td></tr><tr><th>6</th><td>frc5279</td><td>-0.277778</td><td>-0.944444</td><td>-60.3611</td><td>0.0</td><td>-1.52778</td><td>-0.166667</td><td>-4.02778</td><td>-0.805556</td><td>-0.972222</td><td>-0.555556</td><td>-68.1389</td><td>-3.08333</td><td>-2.36111</td><td>-0.444444</td><td>-0.611111</td><td>0.777778</td><td>0.0833333</td><td>-0.166667</td><td>-2.5</td><td>-35.5833</td><td>-20.1111</td><td>-0.111111</td><td>-0.0833333</td><td>-3.75</td><td>-72.0</td><td>0.138889</td><td>-1.58333</td><td>0.0833333</td><td>-0.111111</td><td>-0.138889</td></tr><tr><th>7</th><td>frc1610</td><td>-0.166667</td><td>-1.08333</td><td>29.4444</td><td>0.0</td><td>4.30556</td><td>-0.0833333</td><td>0.0</td><td>0.555556</td><td>0.305556</td><td>0.0277778</td><td>25.1389</td><td>1.41667</td><td>1.33333</td><td>-0.583333</td><td>0.166667</td><td>-1.63889</td><td>0.0</td><td>-0.444444</td><td>-0.0555556</td><td>24.3333</td><td>2.41667</td><td>-0.0277778</td><td>0.166667</td><td>-4.30556</td><td>30.8333</td><td>1.38889</td><td>1.27778</td><td>-0.166667</td><td>-0.0833333</td><td>0.0555556</td></tr><tr><th>8</th><td>frc1599</td><td>-0.222222</td><td>-0.333333</td><td>31.3333</td><td>0.0</td><td>2.91667</td><td>-0.0833333</td><td>-0.277778</td><td>1.30556</td><td>0.888889</td><td>0.444444</td><td>34.9444</td><td>1.22222</td><td>4.80556</td><td>1.02778</td><td>0.25</td><td>-1.36111</td><td>-0.0833333</td><td>-0.194444</td><td>4.66667</td><td>19.4167</td><td>8.58333</td><td>0.25</td><td>0.138889</td><td>3.88889</td><td>42.5833</td><td>0.138889</td><td>2.11111</td><td>-0.166667</td><td>0.0833333</td><td>0.194444</td></tr><tr><th>9</th><td>frc2914</td><td>-0.0277778</td><td>1.19444</td><td>8.27778</td><td>0.0</td><td>5.41667</td><td>0.0833333</td><td>0.416667</td><td>-0.416667</td><td>-0.0833333</td><td>-0.138889</td><td>4.66667</td><td>0.222222</td><td>-1.0</td><td>-0.222222</td><td>0.0</td><td>-1.05556</td><td>0.111111</td><td>0.138889</td><td>-1.27778</td><td>-3.83333</td><td>12.1111</td><td>-0.111111</td><td>-0.0277778</td><td>-4.02778</td><td>9.08333</td><td>0.277778</td><td>-0.222222</td><td>-0.194444</td><td>-0.0555556</td><td>-0.0277778</td></tr><tr><th>10</th><td>frc5243</td><td>-0.229167</td><td>-0.208333</td><td>-2.97917</td><td>0.0</td><td>11.0417</td><td>-0.25</td><td>-1.875</td><td>0.125</td><td>-0.125</td><td>-0.1875</td><td>-11.2083</td><td>-0.395833</td><td>0.729167</td><td>0.395833</td><td>-0.0833333</td><td>-0.8125</td><td>-0.0625</td><td>-0.166667</td><td>1.04167</td><td>0.666667</td><td>-3.27083</td><td>-0.0208333</td><td>-0.0416667</td><td>-6.35417</td><td>0.5625</td><td>-0.3125</td><td>0.0208333</td><td>-0.4375</td><td>-0.0416667</td><td>-0.0208333</td></tr><tr><th>11</th><td>frc1727</td><td>0.305556</td><td>1.44444</td><td>-48.1667</td><td>0.0</td><td>1.11111</td><td>0.5</td><td>0.555556</td><td>-1.22222</td><td>-0.611111</td><td>-0.305556</td><td>-41.2222</td><td>-1.0</td><td>-1.97222</td><td>0.444444</td><td>-0.638889</td><td>0.5</td><td>0.444444</td><td>0.361111</td><td>-1.55556</td><td>-31.5833</td><td>-14.1667</td><td>-0.0833333</td><td>-0.111111</td><td>6.38889</td><td>-42.0833</td><td>-0.416667</td><td>-1.41667</td><td>-0.0277778</td><td>-0.0555556</td><td>-0.138889</td></tr><tr><th>12</th><td>frc5587</td><td>-0.111111</td><td>-0.527778</td><td>40.0833</td><td>0.0</td><td>-5.55556</td><td>1.08333</td><td>5.55556</td><td>3.11111</td><td>0.861111</td><td>0.722222</td><td>48.9722</td><td>3.22222</td><td>6.61111</td><td>0.0555556</td><td>0.638889</td><td>-1.77778</td><td>0.583333</td><td>-0.222222</td><td>6.33333</td><td>18.75</td><td>17.0278</td><td>0.138889</td><td>0.222222</td><td>3.33333</td><td>50.0</td><td>0.277778</td><td>1.08333</td><td>0.194444</td><td>-0.0833333</td><td>0.194444</td></tr><tr><th>13</th><td>frc4456</td><td>0.0</td><td>0.583333</td><td>-32.6389</td><td>0.0</td><td>11.5278</td><td>-0.333333</td><td>-1.11111</td><td>-2.11111</td><td>-0.583333</td><td>-0.277778</td><td>-39.8611</td><td>1.05556</td><td>-5.66667</td><td>-0.444444</td><td>-0.111111</td><td>-0.333333</td><td>-0.111111</td><td>0.0</td><td>-5.11111</td><td>-33.1667</td><td>0.472222</td><td>-0.361111</td><td>-0.166667</td><td>-6.11111</td><td>-33.9722</td><td>-0.555556</td><td>-1.0</td><td>-0.388889</td><td>-0.0833333</td><td>-0.194444</td></tr><tr><th>14</th><td>frc6194</td><td>0.611111</td><td>0.666667</td><td>-26.0556</td><td>0.0</td><td>-3.19444</td><td>0.666667</td><td>6.80556</td><td>0.25</td><td>-0.222222</td><td>0.166667</td><td>-15.9167</td><td>-1.02778</td><td>0.166667</td><td>-0.305556</td><td>0.277778</td><td>2.0</td><td>0.472222</td><td>0.25</td><td>-0.111111</td><td>-20.2222</td><td>-4.11111</td><td>-0.472222</td><td>0.0</td><td>3.33333</td><td>-18.9722</td><td>0.277778</td><td>-0.694444</td><td>0.222222</td><td>-0.0555556</td><td>0.0277778</td></tr><tr><th>15</th><td>frc540</td><td>0.416667</td><td>2.38889</td><td>-5.25</td><td>0.0</td><td>-8.05556</td><td>0.333333</td><td>5.41667</td><td>-0.305556</td><td>0.0555556</td><td>0.166667</td><td>4.47222</td><td>1.58333</td><td>-1.5</td><td>-0.444444</td><td>0.472222</td><td>-0.166667</td><td>0.194444</td><td>0.5</td><td>-1.5</td><td>-15.0833</td><td>8.5</td><td>0.777778</td><td>-0.0833333</td><td>4.30556</td><td>-5.05556</td><td>0.0</td><td>-0.25</td><td>0.166667</td><td>0.0277778</td><td>-0.0277778</td></tr><tr><th>16</th><td>frc836</td><td>-0.333333</td><td>-0.916667</td><td>57.1667</td><td>0.0</td><td>12.5</td><td>0.166667</td><td>1.11111</td><td>1.02778</td><td>0.916667</td><td>0.277778</td><td>64.25</td><td>0.472222</td><td>5.44444</td><td>1.13889</td><td>0.388889</td><td>-0.611111</td><td>0.166667</td><td>-0.277778</td><td>4.33333</td><td>36.8333</td><td>17.5833</td><td>-0.416667</td><td>0.0833333</td><td>5.97222</td><td>82.2222</td><td>1.11111</td><td>2.27778</td><td>-0.416667</td><td>-0.0555556</td><td>0.0555556</td></tr><tr><th>17</th><td>frc2537</td><td>0.305556</td><td>1.11111</td><td>56.4444</td><td>0.0</td><td>-0.833333</td><td>-0.166667</td><td>3.19444</td><td>1.25</td><td>0.472222</td><td>0.416667</td><td>57.1389</td><td>1.25</td><td>7.0</td><td>2.25</td><td>0.583333</td><td>-0.305556</td><td>-0.25</td><td>0.194444</td><td>7.0</td><td>36.25</td><td>17.3889</td><td>-0.527778</td><td>-0.0277778</td><td>-2.5</td><td>63.3333</td><td>0.0</td><td>1.55556</td><td>0.138889</td><td>-0.0555556</td><td>0.0833333</td></tr><tr><th>18</th><td>frc5546</td><td>0.138889</td><td>0.583333</td><td>57.8056</td><td>0.0</td><td>-1.11111</td><td>0.166667</td><td>1.80556</td><td>0.222222</td><td>1.02778</td><td>-0.0277778</td><td>70.5833</td><td>-0.194444</td><td>2.08333</td><td>0.333333</td><td>0.0</td><td>-0.222222</td><td>0.222222</td><td>0.138889</td><td>1.11111</td><td>36.8056</td><td>19.5556</td><td>0.0833333</td><td>0.305556</td><td>10.9722</td><td>71.5556</td><td>0.972222</td><td>1.63889</td><td>0.0277778</td><td>0.111111</td><td>0.333333</td></tr><tr><th>19</th><td>frc5338</td><td>0.388889</td><td>1.11111</td><td>32.6667</td><td>0.0</td><td>6.80556</td><td>0.583333</td><td>5.41667</td><td>0.972222</td><td>0.722222</td><td>0.388889</td><td>48.6389</td><td>1.13889</td><td>0.916667</td><td>-0.583333</td><td>0.333333</td><td>0.416667</td><td>0.361111</td><td>0.361111</td><td>0.777778</td><td>17.75</td><td>12.4722</td><td>-0.111111</td><td>0.138889</td><td>10.5556</td><td>56.3611</td><td>0.138889</td><td>1.30556</td><td>-0.25</td><td>-0.0277778</td><td>0.305556</td></tr><tr><th>20</th><td>frc5957</td><td>0.833333</td><td>3.55556</td><td>-57.1667</td><td>0.0</td><td>2.5</td><td>0.25</td><td>6.66667</td><td>-0.722222</td><td>-0.583333</td><td>-0.111111</td><td>-57.0278</td><td>-0.583333</td><td>-3.05556</td><td>-0.527778</td><td>0.277778</td><td>0.805556</td><td>0.222222</td><td>0.75</td><td>-2.5</td><td>-34.4722</td><td>-20.75</td><td>0.611111</td><td>-0.0555556</td><td>-6.52778</td><td>-57.5833</td><td>-0.555556</td><td>-1.36111</td><td>-0.222222</td><td>-0.0833333</td><td>-0.111111</td></tr><tr><th>21</th><td>frc3136</td><td>-0.541667</td><td>-1.625</td><td>-22.125</td><td>0.0</td><td>-0.104167</td><td>-0.3125</td><td>-7.39583</td><td>-1.6875</td><td>-0.729167</td><td>-0.458333</td><td>-23.4792</td><td>-1.5</td><td>-5.89583</td><td>-0.6875</td><td>-0.645833</td><td>-0.25</td><td>-0.291667</td><td>-0.416667</td><td>-4.75</td><td>-11.0625</td><td>-8.70833</td><td>0.0208333</td><td>-0.0833333</td><td>6.04167</td><td>-29.4792</td><td>-1.14583</td><td>-0.854167</td><td>0.0</td><td>0.0208333</td><td>-0.208333</td></tr><tr><th>22</th><td>frc1111</td><td>0.111111</td><td>0.138889</td><td>-13.1111</td><td>0.0</td><td>11.8056</td><td>0.166667</td><td>1.11111</td><td>-0.888889</td><td>0.111111</td><td>-0.111111</td><td>-2.55556</td><td>-0.805556</td><td>-1.30556</td><td>-0.388889</td><td>-0.0277778</td><td>-0.0277778</td><td>0.138889</td><td>0.0277778</td><td>-2.55556</td><td>-1.77778</td><td>-10.0833</td><td>-0.277778</td><td>-0.0555556</td><td>9.44444</td><td>7.94444</td><td>1.25</td><td>-0.444444</td><td>-0.416667</td><td>0.0555556</td><td>-0.0833333</td></tr><tr><th>23</th><td>frc888</td><td>0.472222</td><td>1.58333</td><td>29.8056</td><td>0.0</td><td>-0.972222</td><td>0.333333</td><td>7.5</td><td>0.583333</td><td>0.555556</td><td>0.666667</td><td>52.5833</td><td>0.583333</td><td>0.75</td><td>-0.277778</td><td>0.805556</td><td>0.5</td><td>0.222222</td><td>0.333333</td><td>0.611111</td><td>-14.8056</td><td>43.2222</td><td>-0.361111</td><td>0.0277778</td><td>15.2778</td><td>52.3056</td><td>0.138889</td><td>0.805556</td><td>0.111111</td><td>0.0833333</td><td>0.0555556</td></tr><tr><th>24</th><td>frc2028</td><td>0.583333</td><td>2.27778</td><td>-2.30556</td><td>0.0</td><td>-1.80556</td><td>0.5</td><td>6.38889</td><td>-0.777778</td><td>-0.388889</td><td>0.305556</td><td>11.5833</td><td>0.472222</td><td>-2.72222</td><td>-0.0277778</td><td>0.444444</td><td>2.08333</td><td>0.25</td><td>0.638889</td><td>-1.61111</td><td>-0.166667</td><td>-2.30556</td><td>-0.333333</td><td>-0.166667</td><td>7.5</td><td>7.11111</td><td>-1.11111</td><td>-0.305556</td><td>0.138889</td><td>0.0</td><td>-0.111111</td></tr><tr><th>25</th><td>frc5945</td><td>1.11111</td><td>5.0</td><td>17.8611</td><td>0.0</td><td>10.2778</td><td>0.5</td><td>11.9444</td><td>0.111111</td><td>0.305556</td><td>0.972222</td><td>48.2778</td><td>2.86111</td><td>-1.19444</td><td>-0.5</td><td>0.833333</td><td>2.75</td><td>0.444444</td><td>1.16667</td><td>-0.777778</td><td>-5.22222</td><td>19.5833</td><td>0.0277778</td><td>-0.0555556</td><td>18.4722</td><td>57.3611</td><td>-0.416667</td><td>0.638889</td><td>-0.416667</td><td>0.194444</td><td>0.0277778</td></tr><tr><th>26</th><td>frc623</td><td>0.361111</td><td>1.5</td><td>44.5833</td><td>0.0</td><td>13.1944</td><td>0.5</td><td>8.61111</td><td>0.0555556</td><td>0.777778</td><td>0.861111</td><td>61.6667</td><td>2.16667</td><td>-1.02778</td><td>-0.777778</td><td>0.916667</td><td>-0.138889</td><td>0.444444</td><td>0.277778</td><td>-1.44444</td><td>27.0278</td><td>13.1944</td><td>0.138889</td><td>0.0833333</td><td>8.47222</td><td>73.8333</td><td>0.416667</td><td>2.19444</td><td>-0.555556</td><td>0.0277778</td><td>0.111111</td></tr><tr><th>27</th><td>frc611</td><td>0.0</td><td>-0.194444</td><td>-4.55556</td><td>0.0</td><td>-16.8056</td><td>0.0</td><td>-1.52778</td><td>0.138889</td><td>-0.277778</td><td>-0.305556</td><td>-5.94444</td><td>-0.833333</td><td>-1.97222</td><td>-0.638889</td><td>-0.277778</td><td>-2.25</td><td>-0.0277778</td><td>-0.305556</td><td>-1.0</td><td>4.63889</td><td>-7.11111</td><td>0.444444</td><td>-0.166667</td><td>0.138889</td><td>-24.7222</td><td>-0.972222</td><td>-1.25</td><td>0.583333</td><td>0.0</td><td>-0.0833333</td></tr><tr><th>28</th><td>frc1629</td><td>0.722222</td><td>1.69444</td><td>125.889</td><td>0.0</td><td>0.416667</td><td>0.25</td><td>11.5278</td><td>3.22222</td><td>1.66667</td><td>1.08333</td><td>152.0</td><td>4.05556</td><td>10.8333</td><td>1.91667</td><td>1.22222</td><td>-0.805556</td><td>0.361111</td><td>0.166667</td><td>10.2778</td><td>76.8056</td><td>40.0278</td><td>-0.0833333</td><td>0.277778</td><td>14.5833</td><td>163.278</td><td>0.555556</td><td>5.0</td><td>0.0</td><td>0.0</td><td>0.305556</td></tr><tr><th>29</th><td>frc3274</td><td>-0.138889</td><td>-1.80556</td><td>19.0</td><td>0.0</td><td>10.9722</td><td>-0.166667</td><td>-2.5</td><td>-0.777778</td><td>0.25</td><td>-0.138889</td><td>12.3333</td><td>-1.22222</td><td>-4.97222</td><td>-0.944444</td><td>-0.0833333</td><td>2.05556</td><td>-0.277778</td><td>-0.0555556</td><td>-3.44444</td><td>29.5556</td><td>-10.9722</td><td>-0.805556</td><td>-0.111111</td><td>-4.16667</td><td>18.3611</td><td>-1.52778</td><td>1.63889</td><td>-0.277778</td><td>0.0277778</td><td>-0.0833333</td></tr><tr><th>30</th><td>frc5950</td><td>-0.444444</td><td>-0.861111</td><td>-0.0277778</td><td>0.0</td><td>-0.277778</td><td>0.25</td><td>-4.86111</td><td>-0.638889</td><td>0.166667</td><td>-0.75</td><td>3.16667</td><td>-1.16667</td><td>-1.47222</td><td>-0.0277778</td><td>-0.722222</td><td>-1.97222</td><td>0.194444</td><td>-0.416667</td><td>-1.33333</td><td>1.02778</td><td>2.11111</td><td>0.611111</td><td>0.0277778</td><td>8.05556</td><td>1.41667</td><td>-0.138889</td><td>-2.0</td><td>-0.111111</td><td>0.0277778</td><td>0.0</td></tr><tr><th>&vellip;</th><td>&vellip;</td><td>&vellip;</td><td>&vellip;</td><td>&vellip;</td><td>&vellip;</td><td>&vellip;</td><td>&vellip;</td><td>&vellip;</td><td>&vellip;</td><td>&vellip;</td><td>&vellip;</td><td>&vellip;</td><td>&vellip;</td><td>&vellip;</td><td>&vellip;</td><td>&vellip;</td><td>&vellip;</td><td>&vellip;</td><td>&vellip;</td><td>&vellip;</td><td>&vellip;</td><td>&vellip;</td><td>&vellip;</td><td>&vellip;</td><td>&vellip;</td><td>&vellip;</td><td>&vellip;</td><td>&vellip;</td><td>&vellip;</td><td>&vellip;</td><td>&vellip;</td></tr></tbody></table>"
      ],
      "text/latex": [
       "\\begin{tabular}{r|ccccccccccccccccccccccccccccccc}\n",
       "\t& team & vaultForceTotal\\_mean & teleopScaleForceSec\\_mean & teleopOwnershipPoints\\_mean & adjustPoints\\_mean & foulPoints\\_mean & vaultLevitatePlayed\\_mean & vaultPoints\\_mean & autoSwitchOwnershipSec\\_mean & rp\\_mean & vaultBoostPlayed\\_mean & teleopPoints\\_mean & teleopSwitchBoostSec\\_mean & autoPoints\\_mean & autoScaleOwnershipSec\\_mean & vaultBoostTotal\\_mean & teleopSwitchForceSec\\_mean & vaultLevitateTotal\\_mean & vaultForcePlayed\\_mean & autoOwnershipPoints\\_mean & teleopScaleOwnershipSec\\_mean & teleopSwitchOwnershipSec\\_mean & foulCount\\_mean & autoQuestRankingPoint\\_mean & endgamePoints\\_mean & totalPoints\\_mean & autoRunPoints\\_mean & teleopScaleBoostSec\\_mean & techFoulCount\\_mean & faceTheBossRankingPoint\\_mean & autoSwitchAtZero\\_mean\\\\\n",
       "\t\\hline\n",
       "\t& String⍰ & Float64 & Float64 & Float64 & Float64 & Float64 & Float64 & Float64 & Float64 & Float64 & Float64 & Float64 & Float64 & Float64 & Float64 & Float64 & Float64 & Float64 & Float64 & Float64 & Float64 & Float64 & Float64 & Float64 & Float64 & Float64 & Float64 & Float64 & Float64 & Float64 & Float64\\\\\n",
       "\t\\hline\n",
       "\t1 & frc4541 & -0.472222 & -1.25 & 66.6389 & 0.0 & -1.25 & 0.0 & -0.416667 & 1.36111 & 0.694444 & 0.5 & 66.6389 & 1.05556 & 1.69444 & -0.166667 & 0.416667 & -0.555556 & -0.0277778 & -0.444444 & 2.38889 & 55.0 & 7.19444 & 0.527778 & 0.0555556 & 0.416667 & 67.0833 & -0.694444 & 3.38889 & -0.0555556 & -0.0277778 & 0.194444 \\\\\n",
       "\t2 & frc384 & 0.0 & -0.611111 & 79.4444 & 0.0 & -3.61111 & 0.666667 & 5.0 & -0.138889 & 1.08333 & 0.472222 & 98.75 & 1.88889 & 1.36111 & 0.472222 & 0.388889 & -0.222222 & 0.611111 & -0.0833333 & 0.666667 & 60.3056 & 14.1944 & -0.666667 & 0.0555556 & 14.3056 & 96.5278 & 0.694444 & 3.05556 & 0.277778 & 0.0277778 & 0.0555556 \\\\\n",
       "\t3 & frc5804 & -0.166667 & -0.611111 & 32.8333 & 0.0 & 0.0 & 0.166667 & 1.66667 & 1.72222 & 0.861111 & 0.472222 & 38.1111 & 0.916667 & 3.80556 & 0.111111 & 0.25 & -0.944444 & 0.25 & -0.194444 & 3.66667 & 36.3056 & -6.63889 & 0.138889 & 0.138889 & 3.61111 & 41.8611 & 0.138889 & 2.25 & -0.0277778 & 0.0555556 & 0.111111 \\\\\n",
       "\t4 & frc5724 & -0.138889 & -0.25 & 16.0278 & 0.0 & 2.5 & -0.166667 & -1.25 & -0.916667 & 0.305556 & 0.111111 & 17.6944 & -1.33333 & -4.25 & -0.722222 & 0.0833333 & -0.194444 & -0.194444 & 0.0 & -3.27778 & 15.1667 & 1.36111 & 0.194444 & -0.0277778 & 2.91667 & 15.9722 & -0.972222 & 0.833333 & -0.138889 & 0.0 & 0.0555556 \\\\\n",
       "\t5 & frc4472 & -0.0833333 & -0.75 & 60.2222 & 0.0 & -0.416667 & 0.0 & 1.80556 & 1.69444 & 0.888889 & 0.333333 & 67.8611 & 1.36111 & 6.27778 & 0.888889 & 0.472222 & 0.388889 & -0.0277778 & -0.277778 & 5.16667 & 37.1389 & 19.6111 & 0.222222 & 0.138889 & 5.83333 & 73.6944 & 1.11111 & 2.11111 & -0.0277778 & -0.0277778 & 0.25 \\\\\n",
       "\t6 & frc5279 & -0.277778 & -0.944444 & -60.3611 & 0.0 & -1.52778 & -0.166667 & -4.02778 & -0.805556 & -0.972222 & -0.555556 & -68.1389 & -3.08333 & -2.36111 & -0.444444 & -0.611111 & 0.777778 & 0.0833333 & -0.166667 & -2.5 & -35.5833 & -20.1111 & -0.111111 & -0.0833333 & -3.75 & -72.0 & 0.138889 & -1.58333 & 0.0833333 & -0.111111 & -0.138889 \\\\\n",
       "\t7 & frc1610 & -0.166667 & -1.08333 & 29.4444 & 0.0 & 4.30556 & -0.0833333 & 0.0 & 0.555556 & 0.305556 & 0.0277778 & 25.1389 & 1.41667 & 1.33333 & -0.583333 & 0.166667 & -1.63889 & 0.0 & -0.444444 & -0.0555556 & 24.3333 & 2.41667 & -0.0277778 & 0.166667 & -4.30556 & 30.8333 & 1.38889 & 1.27778 & -0.166667 & -0.0833333 & 0.0555556 \\\\\n",
       "\t8 & frc1599 & -0.222222 & -0.333333 & 31.3333 & 0.0 & 2.91667 & -0.0833333 & -0.277778 & 1.30556 & 0.888889 & 0.444444 & 34.9444 & 1.22222 & 4.80556 & 1.02778 & 0.25 & -1.36111 & -0.0833333 & -0.194444 & 4.66667 & 19.4167 & 8.58333 & 0.25 & 0.138889 & 3.88889 & 42.5833 & 0.138889 & 2.11111 & -0.166667 & 0.0833333 & 0.194444 \\\\\n",
       "\t9 & frc2914 & -0.0277778 & 1.19444 & 8.27778 & 0.0 & 5.41667 & 0.0833333 & 0.416667 & -0.416667 & -0.0833333 & -0.138889 & 4.66667 & 0.222222 & -1.0 & -0.222222 & 0.0 & -1.05556 & 0.111111 & 0.138889 & -1.27778 & -3.83333 & 12.1111 & -0.111111 & -0.0277778 & -4.02778 & 9.08333 & 0.277778 & -0.222222 & -0.194444 & -0.0555556 & -0.0277778 \\\\\n",
       "\t10 & frc5243 & -0.229167 & -0.208333 & -2.97917 & 0.0 & 11.0417 & -0.25 & -1.875 & 0.125 & -0.125 & -0.1875 & -11.2083 & -0.395833 & 0.729167 & 0.395833 & -0.0833333 & -0.8125 & -0.0625 & -0.166667 & 1.04167 & 0.666667 & -3.27083 & -0.0208333 & -0.0416667 & -6.35417 & 0.5625 & -0.3125 & 0.0208333 & -0.4375 & -0.0416667 & -0.0208333 \\\\\n",
       "\t11 & frc1727 & 0.305556 & 1.44444 & -48.1667 & 0.0 & 1.11111 & 0.5 & 0.555556 & -1.22222 & -0.611111 & -0.305556 & -41.2222 & -1.0 & -1.97222 & 0.444444 & -0.638889 & 0.5 & 0.444444 & 0.361111 & -1.55556 & -31.5833 & -14.1667 & -0.0833333 & -0.111111 & 6.38889 & -42.0833 & -0.416667 & -1.41667 & -0.0277778 & -0.0555556 & -0.138889 \\\\\n",
       "\t12 & frc5587 & -0.111111 & -0.527778 & 40.0833 & 0.0 & -5.55556 & 1.08333 & 5.55556 & 3.11111 & 0.861111 & 0.722222 & 48.9722 & 3.22222 & 6.61111 & 0.0555556 & 0.638889 & -1.77778 & 0.583333 & -0.222222 & 6.33333 & 18.75 & 17.0278 & 0.138889 & 0.222222 & 3.33333 & 50.0 & 0.277778 & 1.08333 & 0.194444 & -0.0833333 & 0.194444 \\\\\n",
       "\t13 & frc4456 & 0.0 & 0.583333 & -32.6389 & 0.0 & 11.5278 & -0.333333 & -1.11111 & -2.11111 & -0.583333 & -0.277778 & -39.8611 & 1.05556 & -5.66667 & -0.444444 & -0.111111 & -0.333333 & -0.111111 & 0.0 & -5.11111 & -33.1667 & 0.472222 & -0.361111 & -0.166667 & -6.11111 & -33.9722 & -0.555556 & -1.0 & -0.388889 & -0.0833333 & -0.194444 \\\\\n",
       "\t14 & frc6194 & 0.611111 & 0.666667 & -26.0556 & 0.0 & -3.19444 & 0.666667 & 6.80556 & 0.25 & -0.222222 & 0.166667 & -15.9167 & -1.02778 & 0.166667 & -0.305556 & 0.277778 & 2.0 & 0.472222 & 0.25 & -0.111111 & -20.2222 & -4.11111 & -0.472222 & 0.0 & 3.33333 & -18.9722 & 0.277778 & -0.694444 & 0.222222 & -0.0555556 & 0.0277778 \\\\\n",
       "\t15 & frc540 & 0.416667 & 2.38889 & -5.25 & 0.0 & -8.05556 & 0.333333 & 5.41667 & -0.305556 & 0.0555556 & 0.166667 & 4.47222 & 1.58333 & -1.5 & -0.444444 & 0.472222 & -0.166667 & 0.194444 & 0.5 & -1.5 & -15.0833 & 8.5 & 0.777778 & -0.0833333 & 4.30556 & -5.05556 & 0.0 & -0.25 & 0.166667 & 0.0277778 & -0.0277778 \\\\\n",
       "\t16 & frc836 & -0.333333 & -0.916667 & 57.1667 & 0.0 & 12.5 & 0.166667 & 1.11111 & 1.02778 & 0.916667 & 0.277778 & 64.25 & 0.472222 & 5.44444 & 1.13889 & 0.388889 & -0.611111 & 0.166667 & -0.277778 & 4.33333 & 36.8333 & 17.5833 & -0.416667 & 0.0833333 & 5.97222 & 82.2222 & 1.11111 & 2.27778 & -0.416667 & -0.0555556 & 0.0555556 \\\\\n",
       "\t17 & frc2537 & 0.305556 & 1.11111 & 56.4444 & 0.0 & -0.833333 & -0.166667 & 3.19444 & 1.25 & 0.472222 & 0.416667 & 57.1389 & 1.25 & 7.0 & 2.25 & 0.583333 & -0.305556 & -0.25 & 0.194444 & 7.0 & 36.25 & 17.3889 & -0.527778 & -0.0277778 & -2.5 & 63.3333 & 0.0 & 1.55556 & 0.138889 & -0.0555556 & 0.0833333 \\\\\n",
       "\t18 & frc5546 & 0.138889 & 0.583333 & 57.8056 & 0.0 & -1.11111 & 0.166667 & 1.80556 & 0.222222 & 1.02778 & -0.0277778 & 70.5833 & -0.194444 & 2.08333 & 0.333333 & 0.0 & -0.222222 & 0.222222 & 0.138889 & 1.11111 & 36.8056 & 19.5556 & 0.0833333 & 0.305556 & 10.9722 & 71.5556 & 0.972222 & 1.63889 & 0.0277778 & 0.111111 & 0.333333 \\\\\n",
       "\t19 & frc5338 & 0.388889 & 1.11111 & 32.6667 & 0.0 & 6.80556 & 0.583333 & 5.41667 & 0.972222 & 0.722222 & 0.388889 & 48.6389 & 1.13889 & 0.916667 & -0.583333 & 0.333333 & 0.416667 & 0.361111 & 0.361111 & 0.777778 & 17.75 & 12.4722 & -0.111111 & 0.138889 & 10.5556 & 56.3611 & 0.138889 & 1.30556 & -0.25 & -0.0277778 & 0.305556 \\\\\n",
       "\t20 & frc5957 & 0.833333 & 3.55556 & -57.1667 & 0.0 & 2.5 & 0.25 & 6.66667 & -0.722222 & -0.583333 & -0.111111 & -57.0278 & -0.583333 & -3.05556 & -0.527778 & 0.277778 & 0.805556 & 0.222222 & 0.75 & -2.5 & -34.4722 & -20.75 & 0.611111 & -0.0555556 & -6.52778 & -57.5833 & -0.555556 & -1.36111 & -0.222222 & -0.0833333 & -0.111111 \\\\\n",
       "\t21 & frc3136 & -0.541667 & -1.625 & -22.125 & 0.0 & -0.104167 & -0.3125 & -7.39583 & -1.6875 & -0.729167 & -0.458333 & -23.4792 & -1.5 & -5.89583 & -0.6875 & -0.645833 & -0.25 & -0.291667 & -0.416667 & -4.75 & -11.0625 & -8.70833 & 0.0208333 & -0.0833333 & 6.04167 & -29.4792 & -1.14583 & -0.854167 & 0.0 & 0.0208333 & -0.208333 \\\\\n",
       "\t22 & frc1111 & 0.111111 & 0.138889 & -13.1111 & 0.0 & 11.8056 & 0.166667 & 1.11111 & -0.888889 & 0.111111 & -0.111111 & -2.55556 & -0.805556 & -1.30556 & -0.388889 & -0.0277778 & -0.0277778 & 0.138889 & 0.0277778 & -2.55556 & -1.77778 & -10.0833 & -0.277778 & -0.0555556 & 9.44444 & 7.94444 & 1.25 & -0.444444 & -0.416667 & 0.0555556 & -0.0833333 \\\\\n",
       "\t23 & frc888 & 0.472222 & 1.58333 & 29.8056 & 0.0 & -0.972222 & 0.333333 & 7.5 & 0.583333 & 0.555556 & 0.666667 & 52.5833 & 0.583333 & 0.75 & -0.277778 & 0.805556 & 0.5 & 0.222222 & 0.333333 & 0.611111 & -14.8056 & 43.2222 & -0.361111 & 0.0277778 & 15.2778 & 52.3056 & 0.138889 & 0.805556 & 0.111111 & 0.0833333 & 0.0555556 \\\\\n",
       "\t24 & frc2028 & 0.583333 & 2.27778 & -2.30556 & 0.0 & -1.80556 & 0.5 & 6.38889 & -0.777778 & -0.388889 & 0.305556 & 11.5833 & 0.472222 & -2.72222 & -0.0277778 & 0.444444 & 2.08333 & 0.25 & 0.638889 & -1.61111 & -0.166667 & -2.30556 & -0.333333 & -0.166667 & 7.5 & 7.11111 & -1.11111 & -0.305556 & 0.138889 & 0.0 & -0.111111 \\\\\n",
       "\t25 & frc5945 & 1.11111 & 5.0 & 17.8611 & 0.0 & 10.2778 & 0.5 & 11.9444 & 0.111111 & 0.305556 & 0.972222 & 48.2778 & 2.86111 & -1.19444 & -0.5 & 0.833333 & 2.75 & 0.444444 & 1.16667 & -0.777778 & -5.22222 & 19.5833 & 0.0277778 & -0.0555556 & 18.4722 & 57.3611 & -0.416667 & 0.638889 & -0.416667 & 0.194444 & 0.0277778 \\\\\n",
       "\t26 & frc623 & 0.361111 & 1.5 & 44.5833 & 0.0 & 13.1944 & 0.5 & 8.61111 & 0.0555556 & 0.777778 & 0.861111 & 61.6667 & 2.16667 & -1.02778 & -0.777778 & 0.916667 & -0.138889 & 0.444444 & 0.277778 & -1.44444 & 27.0278 & 13.1944 & 0.138889 & 0.0833333 & 8.47222 & 73.8333 & 0.416667 & 2.19444 & -0.555556 & 0.0277778 & 0.111111 \\\\\n",
       "\t27 & frc611 & 0.0 & -0.194444 & -4.55556 & 0.0 & -16.8056 & 0.0 & -1.52778 & 0.138889 & -0.277778 & -0.305556 & -5.94444 & -0.833333 & -1.97222 & -0.638889 & -0.277778 & -2.25 & -0.0277778 & -0.305556 & -1.0 & 4.63889 & -7.11111 & 0.444444 & -0.166667 & 0.138889 & -24.7222 & -0.972222 & -1.25 & 0.583333 & 0.0 & -0.0833333 \\\\\n",
       "\t28 & frc1629 & 0.722222 & 1.69444 & 125.889 & 0.0 & 0.416667 & 0.25 & 11.5278 & 3.22222 & 1.66667 & 1.08333 & 152.0 & 4.05556 & 10.8333 & 1.91667 & 1.22222 & -0.805556 & 0.361111 & 0.166667 & 10.2778 & 76.8056 & 40.0278 & -0.0833333 & 0.277778 & 14.5833 & 163.278 & 0.555556 & 5.0 & 0.0 & 0.0 & 0.305556 \\\\\n",
       "\t29 & frc3274 & -0.138889 & -1.80556 & 19.0 & 0.0 & 10.9722 & -0.166667 & -2.5 & -0.777778 & 0.25 & -0.138889 & 12.3333 & -1.22222 & -4.97222 & -0.944444 & -0.0833333 & 2.05556 & -0.277778 & -0.0555556 & -3.44444 & 29.5556 & -10.9722 & -0.805556 & -0.111111 & -4.16667 & 18.3611 & -1.52778 & 1.63889 & -0.277778 & 0.0277778 & -0.0833333 \\\\\n",
       "\t30 & frc5950 & -0.444444 & -0.861111 & -0.0277778 & 0.0 & -0.277778 & 0.25 & -4.86111 & -0.638889 & 0.166667 & -0.75 & 3.16667 & -1.16667 & -1.47222 & -0.0277778 & -0.722222 & -1.97222 & 0.194444 & -0.416667 & -1.33333 & 1.02778 & 2.11111 & 0.611111 & 0.0277778 & 8.05556 & 1.41667 & -0.138889 & -2.0 & -0.111111 & 0.0277778 & 0.0 \\\\\n",
       "\t$\\dots$ & $\\dots$ & $\\dots$ & $\\dots$ & $\\dots$ & $\\dots$ & $\\dots$ & $\\dots$ & $\\dots$ & $\\dots$ & $\\dots$ & $\\dots$ & $\\dots$ & $\\dots$ & $\\dots$ & $\\dots$ & $\\dots$ & $\\dots$ & $\\dots$ & $\\dots$ & $\\dots$ & $\\dots$ & $\\dots$ & $\\dots$ & $\\dots$ & $\\dots$ & $\\dots$ & $\\dots$ & $\\dots$ & $\\dots$ & $\\dots$ & $\\dots$ \\\\\n",
       "\\end{tabular}\n"
      ],
      "text/plain": [
       "130×31 DataFrame. Omitted printing of 28 columns\n",
       "│ Row │ team    │ vaultForceTotal_mean │ teleopScaleForceSec_mean │\n",
       "│     │ \u001b[90mString⍰\u001b[39m │ \u001b[90mFloat64\u001b[39m              │ \u001b[90mFloat64\u001b[39m                  │\n",
       "├─────┼─────────┼──────────────────────┼──────────────────────────┤\n",
       "│ 1   │ frc4541 │ -0.472222            │ -1.25                    │\n",
       "│ 2   │ frc384  │ 0.0                  │ -0.611111                │\n",
       "│ 3   │ frc5804 │ -0.166667            │ -0.611111                │\n",
       "│ 4   │ frc5724 │ -0.138889            │ -0.25                    │\n",
       "│ 5   │ frc4472 │ -0.0833333           │ -0.75                    │\n",
       "│ 6   │ frc5279 │ -0.277778            │ -0.944444                │\n",
       "│ 7   │ frc1610 │ -0.166667            │ -1.08333                 │\n",
       "│ 8   │ frc1599 │ -0.222222            │ -0.333333                │\n",
       "│ 9   │ frc2914 │ -0.0277778           │ 1.19444                  │\n",
       "│ 10  │ frc5243 │ -0.229167            │ -0.208333                │\n",
       "⋮\n",
       "│ 120 │ frc1908 │ -0.291667            │ -0.708333                │\n",
       "│ 121 │ frc617  │ -0.125               │ 0.0                      │\n",
       "│ 122 │ frc4286 │ -0.375               │ -1.54167                 │\n",
       "│ 123 │ frc1793 │ 0.0416667            │ 0.5                      │\n",
       "│ 124 │ frc141  │ -0.5                 │ 0.833333                 │\n",
       "│ 125 │ frc316  │ 0.0                  │ 1.66667                  │\n",
       "│ 126 │ frc1137 │ -0.375               │ -0.5                     │\n",
       "│ 127 │ frc3072 │ -0.583333            │ -2.0                     │\n",
       "│ 128 │ frc6312 │ -0.833333            │ -2.5                     │\n",
       "│ 129 │ frc435  │ -0.833333            │ -1.91667                 │\n",
       "│ 130 │ frc7330 │ -0.583333            │ -1.66667                 │"
      ]
     },
     "execution_count": 49,
     "metadata": {},
     "output_type": "execute_result"
    }
   ],
   "source": [
    "plusminus = by(diffdf, :team, Dict(n => mean for n in numericcols)...)"
   ]
  },
  {
   "cell_type": "code",
   "execution_count": 53,
   "metadata": {},
   "outputs": [
    {
     "data": {
      "text/html": [
       "<table class=\"data-frame\"><thead><tr><th></th><th>team</th><th>teleopSwitchOwnershipSec_mean</th></tr><tr><th></th><th>String⍰</th><th>Float64</th></tr></thead><tbody><p>130 rows × 2 columns</p><tr><th>1</th><td>frc888</td><td>43.2222</td></tr><tr><th>2</th><td>frc225</td><td>42.25</td></tr><tr><th>3</th><td>frc1629</td><td>40.0278</td></tr><tr><th>4</th><td>frc4795</td><td>38.6667</td></tr><tr><th>5</th><td>frc6334</td><td>35.0556</td></tr><tr><th>6</th><td>frc316</td><td>32.3333</td></tr><tr><th>7</th><td>frc4242</td><td>28.0278</td></tr><tr><th>8</th><td>frc1262</td><td>26.3889</td></tr><tr><th>9</th><td>frc1731</td><td>23.8889</td></tr><tr><th>10</th><td>frc1418</td><td>23.25</td></tr><tr><th>11</th><td>frc3072</td><td>22.0</td></tr><tr><th>12</th><td>frc4472</td><td>19.6111</td></tr><tr><th>13</th><td>frc5945</td><td>19.5833</td></tr><tr><th>14</th><td>frc5546</td><td>19.5556</td></tr><tr><th>15</th><td>frc422</td><td>18.5278</td></tr><tr><th>16</th><td>frc2534</td><td>18.1389</td></tr><tr><th>17</th><td>frc2199</td><td>17.9444</td></tr><tr><th>18</th><td>frc2363</td><td>17.7222</td></tr><tr><th>19</th><td>frc836</td><td>17.5833</td></tr><tr><th>20</th><td>frc2537</td><td>17.3889</td></tr><tr><th>21</th><td>frc5587</td><td>17.0278</td></tr><tr><th>22</th><td>frc614</td><td>16.9444</td></tr><tr><th>23</th><td>frc2421</td><td>16.875</td></tr><tr><th>24</th><td>frc1086</td><td>15.2778</td></tr><tr><th>25</th><td>frc6312</td><td>14.75</td></tr><tr><th>26</th><td>frc977</td><td>14.4722</td></tr><tr><th>27</th><td>frc384</td><td>14.1944</td></tr><tr><th>28</th><td>frc623</td><td>13.1944</td></tr><tr><th>29</th><td>frc5338</td><td>12.4722</td></tr><tr><th>30</th><td>frc339</td><td>12.2778</td></tr><tr><th>&vellip;</th><td>&vellip;</td><td>&vellip;</td></tr></tbody></table>"
      ],
      "text/latex": [
       "\\begin{tabular}{r|cc}\n",
       "\t& team & teleopSwitchOwnershipSec\\_mean\\\\\n",
       "\t\\hline\n",
       "\t& String⍰ & Float64\\\\\n",
       "\t\\hline\n",
       "\t1 & frc888 & 43.2222 \\\\\n",
       "\t2 & frc225 & 42.25 \\\\\n",
       "\t3 & frc1629 & 40.0278 \\\\\n",
       "\t4 & frc4795 & 38.6667 \\\\\n",
       "\t5 & frc6334 & 35.0556 \\\\\n",
       "\t6 & frc316 & 32.3333 \\\\\n",
       "\t7 & frc4242 & 28.0278 \\\\\n",
       "\t8 & frc1262 & 26.3889 \\\\\n",
       "\t9 & frc1731 & 23.8889 \\\\\n",
       "\t10 & frc1418 & 23.25 \\\\\n",
       "\t11 & frc3072 & 22.0 \\\\\n",
       "\t12 & frc4472 & 19.6111 \\\\\n",
       "\t13 & frc5945 & 19.5833 \\\\\n",
       "\t14 & frc5546 & 19.5556 \\\\\n",
       "\t15 & frc422 & 18.5278 \\\\\n",
       "\t16 & frc2534 & 18.1389 \\\\\n",
       "\t17 & frc2199 & 17.9444 \\\\\n",
       "\t18 & frc2363 & 17.7222 \\\\\n",
       "\t19 & frc836 & 17.5833 \\\\\n",
       "\t20 & frc2537 & 17.3889 \\\\\n",
       "\t21 & frc5587 & 17.0278 \\\\\n",
       "\t22 & frc614 & 16.9444 \\\\\n",
       "\t23 & frc2421 & 16.875 \\\\\n",
       "\t24 & frc1086 & 15.2778 \\\\\n",
       "\t25 & frc6312 & 14.75 \\\\\n",
       "\t26 & frc977 & 14.4722 \\\\\n",
       "\t27 & frc384 & 14.1944 \\\\\n",
       "\t28 & frc623 & 13.1944 \\\\\n",
       "\t29 & frc5338 & 12.4722 \\\\\n",
       "\t30 & frc339 & 12.2778 \\\\\n",
       "\t$\\dots$ & $\\dots$ & $\\dots$ \\\\\n",
       "\\end{tabular}\n"
      ],
      "text/plain": [
       "130×2 DataFrame\n",
       "│ Row │ team    │ teleopSwitchOwnershipSec_mean │\n",
       "│     │ \u001b[90mString⍰\u001b[39m │ \u001b[90mFloat64\u001b[39m                       │\n",
       "├─────┼─────────┼───────────────────────────────┤\n",
       "│ 1   │ frc888  │ 43.2222                       │\n",
       "│ 2   │ frc225  │ 42.25                         │\n",
       "│ 3   │ frc1629 │ 40.0278                       │\n",
       "│ 4   │ frc4795 │ 38.6667                       │\n",
       "│ 5   │ frc6334 │ 35.0556                       │\n",
       "│ 6   │ frc316  │ 32.3333                       │\n",
       "│ 7   │ frc4242 │ 28.0278                       │\n",
       "│ 8   │ frc1262 │ 26.3889                       │\n",
       "│ 9   │ frc1731 │ 23.8889                       │\n",
       "│ 10  │ frc1418 │ 23.25                         │\n",
       "⋮\n",
       "│ 120 │ frc6893 │ -24.5833                      │\n",
       "│ 121 │ frc3748 │ -24.6667                      │\n",
       "│ 122 │ frc6584 │ -24.8333                      │\n",
       "│ 123 │ frc1598 │ -25.5833                      │\n",
       "│ 124 │ frc2900 │ -26.2917                      │\n",
       "│ 125 │ frc539  │ -28.125                       │\n",
       "│ 126 │ frc435  │ -28.4167                      │\n",
       "│ 127 │ frc3650 │ -31.5                         │\n",
       "│ 128 │ frc617  │ -35.7917                      │\n",
       "│ 129 │ frc4949 │ -36.9583                      │\n",
       "│ 130 │ frc7330 │ -48.8333                      │"
      ]
     },
     "execution_count": 53,
     "metadata": {},
     "output_type": "execute_result"
    }
   ],
   "source": [
    "showbest(col) = sort(plusminus, col, rev=true)[:,[:team, col]]\n",
    "showworst(col) = sort(plusminus, col)[:,[:team, col]]\n",
    "\n",
    "showbest(:teleopSwitchOwnershipSec_mean)"
   ]
  },
  {
   "cell_type": "code",
   "execution_count": null,
   "metadata": {},
   "outputs": [],
   "source": []
  }
 ],
 "metadata": {
  "kernelspec": {
   "display_name": "Julia 1.0.2",
   "language": "julia",
   "name": "julia-1.0"
  },
  "language_info": {
   "file_extension": ".jl",
   "mimetype": "application/julia",
   "name": "julia",
   "version": "1.0.2"
  }
 },
 "nbformat": 4,
 "nbformat_minor": 2
}
