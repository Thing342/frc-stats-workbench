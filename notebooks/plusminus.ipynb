{
 "cells": [
  {
   "cell_type": "code",
   "execution_count": 1,
   "metadata": {},
   "outputs": [
    {
     "data": {
      "text/plain": [
       "Main.DeepSpace"
      ]
     },
     "execution_count": 1,
     "metadata": {},
     "output_type": "execute_result"
    }
   ],
   "source": [
    "include(\"../lib/Lib.jl\")\n",
    "include(\"../lib/DeepSpace.jl\")"
   ]
  },
  {
   "cell_type": "code",
   "execution_count": 2,
   "metadata": {},
   "outputs": [],
   "source": [
    "using DataFrames, DataFramesMeta\n",
    "using CSV\n",
    "using Statistics"
   ]
  },
  {
   "cell_type": "code",
   "execution_count": 3,
   "metadata": {},
   "outputs": [
    {
     "data": {
      "text/plain": [
       ":teleopSwitchOwnershipSec"
      ]
     },
     "execution_count": 3,
     "metadata": {},
     "output_type": "execute_result"
    }
   ],
   "source": [
    "KEY = \"2019chs_wk1\"\n",
    "YEAR = \"2019\"\n",
    "COLUMN = :teleopSwitchOwnershipSec"
   ]
  },
  {
   "cell_type": "code",
   "execution_count": 4,
   "metadata": {},
   "outputs": [
    {
     "data": {
      "text/plain": [
       "360-element Array{String,1}:\n",
       " \"r\"\n",
       " \"b\"\n",
       " \"r\"\n",
       " \"b\"\n",
       " \"r\"\n",
       " \"b\"\n",
       " \"r\"\n",
       " \"b\"\n",
       " \"r\"\n",
       " \"b\"\n",
       " \"r\"\n",
       " \"b\"\n",
       " \"r\"\n",
       " ⋮  \n",
       " \"r\"\n",
       " \"b\"\n",
       " \"r\"\n",
       " \"b\"\n",
       " \"r\"\n",
       " \"b\"\n",
       " \"r\"\n",
       " \"b\"\n",
       " \"r\"\n",
       " \"b\"\n",
       " \"r\"\n",
       " \"b\""
      ]
     },
     "execution_count": 4,
     "metadata": {},
     "output_type": "execute_result"
    }
   ],
   "source": [
    "(headers, scores, teams) = Lib.read_stacked(KEY, YEAR)\n",
    "scores[:color] = repeat([\"r\", \"b\"], size(scores,1) >> 1)\n",
    "teams[:color] = repeat([\"r\", \"b\"], size(teams,1) >> 1)"
   ]
  },
  {
   "cell_type": "code",
   "execution_count": 5,
   "metadata": {},
   "outputs": [
    {
     "data": {
      "text/plain": [
       "360-element Array{Int64,1}:\n",
       "  62\n",
       "  82\n",
       "  72\n",
       "  71\n",
       "  66\n",
       "  65\n",
       "  52\n",
       "  54\n",
       "  62\n",
       "  35\n",
       "  59\n",
       " -25\n",
       "  63\n",
       "   ⋮\n",
       "  20\n",
       "  12\n",
       "  70\n",
       "  45\n",
       "  59\n",
       "  47\n",
       "  57\n",
       "  60\n",
       "  74\n",
       "  66\n",
       "  51\n",
       "  55"
      ]
     },
     "execution_count": 5,
     "metadata": {},
     "output_type": "execute_result"
    }
   ],
   "source": [
    "DeepSpace.calculated_columns!(scores)\n",
    "scores[:ownPoints] = scores.totalPoints .- scores.foulPoints .- (3 .* scores.foulCount) .- (9 * scores.techFoulCount)"
   ]
  },
  {
   "cell_type": "code",
   "execution_count": 6,
   "metadata": {},
   "outputs": [
    {
     "data": {
      "text/html": [
       "<table class=\"data-frame\"><thead><tr><th></th><th>team1</th><th>team2</th><th>team3</th><th>key</th></tr><tr><th></th><th>String⍰</th><th>String⍰</th><th>String⍰</th><th>String⍰</th></tr></thead><tbody><p>180 rows × 4 columns</p><tr><th>1</th><td>frc1418</td><td>frc614</td><td>frc6543</td><td>2019vahay_f1m1_blue</td></tr><tr><th>2</th><td>frc1418</td><td>frc614</td><td>frc6543</td><td>2019vahay_f1m2_blue</td></tr><tr><th>3</th><td>frc1418</td><td>frc614</td><td>frc6543</td><td>2019vahay_f1m3_blue</td></tr><tr><th>4</th><td>frc2988</td><td>frc116</td><td>frc611</td><td>2019vahay_qf1m1_blue</td></tr><tr><th>5</th><td>frc2988</td><td>frc116</td><td>frc611</td><td>2019vahay_qf1m2_blue</td></tr><tr><th>6</th><td>frc2988</td><td>frc116</td><td>frc611</td><td>2019vahay_qf1m3_blue</td></tr><tr><th>7</th><td>frc4242</td><td>frc339</td><td>frc2186</td><td>2019vahay_qf2m1_blue</td></tr><tr><th>8</th><td>frc4242</td><td>frc339</td><td>frc2186</td><td>2019vahay_qf2m2_blue</td></tr><tr><th>9</th><td>frc888</td><td>frc2028</td><td>frc3455</td><td>2019vahay_qf3m1_blue</td></tr><tr><th>10</th><td>frc888</td><td>frc2028</td><td>frc3455</td><td>2019vahay_qf3m2_blue</td></tr><tr><th>11</th><td>frc888</td><td>frc2028</td><td>frc3455</td><td>2019vahay_qf3m3_blue</td></tr><tr><th>12</th><td>frc1629</td><td>frc1719</td><td>frc1895</td><td>2019vahay_qf4m1_blue</td></tr><tr><th>13</th><td>frc1629</td><td>frc1719</td><td>frc1895</td><td>2019vahay_qf4m2_blue</td></tr><tr><th>14</th><td>frc1629</td><td>frc1719</td><td>frc1895</td><td>2019vahay_qf4m3_blue</td></tr><tr><th>15</th><td>frc620</td><td>frc339</td><td>frc5338</td><td>2019vahay_qm1_blue</td></tr><tr><th>16</th><td>frc2028</td><td>frc316</td><td>frc2363</td><td>2019vahay_qm10_blue</td></tr><tr><th>17</th><td>frc3274</td><td>frc339</td><td>frc2534</td><td>2019vahay_qm11_blue</td></tr><tr><th>18</th><td>frc888</td><td>frc2186</td><td>frc5549</td><td>2019vahay_qm12_blue</td></tr><tr><th>19</th><td>frc611</td><td>frc612</td><td>frc6584</td><td>2019vahay_qm13_blue</td></tr><tr><th>20</th><td>frc1123</td><td>frc620</td><td>frc4505</td><td>2019vahay_qm14_blue</td></tr><tr><th>21</th><td>frc614</td><td>frc339</td><td>frc2421</td><td>2019vahay_qm15_blue</td></tr><tr><th>22</th><td>frc1629</td><td>frc6504</td><td>frc6584</td><td>2019vahay_qm16_blue</td></tr><tr><th>23</th><td>frc4464</td><td>frc3941</td><td>frc3274</td><td>2019vahay_qm17_blue</td></tr><tr><th>24</th><td>frc5338</td><td>frc3455</td><td>frc2186</td><td>2019vahay_qm18_blue</td></tr><tr><th>25</th><td>frc4242</td><td>frc6543</td><td>frc6863</td><td>2019vahay_qm19_blue</td></tr><tr><th>26</th><td>frc6504</td><td>frc1418</td><td>frc3373</td><td>2019vahay_qm2_blue</td></tr><tr><th>27</th><td>frc623</td><td>frc888</td><td>frc620</td><td>2019vahay_qm20_blue</td></tr><tr><th>28</th><td>frc4464</td><td>frc1895</td><td>frc2028</td><td>2019vahay_qm21_blue</td></tr><tr><th>29</th><td>frc6504</td><td>frc6543</td><td>frc611</td><td>2019vahay_qm22_blue</td></tr><tr><th>30</th><td>frc3373</td><td>frc5549</td><td>frc3941</td><td>2019vahay_qm23_blue</td></tr><tr><th>&vellip;</th><td>&vellip;</td><td>&vellip;</td><td>&vellip;</td><td>&vellip;</td></tr></tbody></table>"
      ],
      "text/latex": [
       "\\begin{tabular}{r|cccc}\n",
       "\t& team1 & team2 & team3 & key\\\\\n",
       "\t\\hline\n",
       "\t& String⍰ & String⍰ & String⍰ & String⍰\\\\\n",
       "\t\\hline\n",
       "\t1 & frc1418 & frc614 & frc6543 & 2019vahay\\_f1m1\\_blue \\\\\n",
       "\t2 & frc1418 & frc614 & frc6543 & 2019vahay\\_f1m2\\_blue \\\\\n",
       "\t3 & frc1418 & frc614 & frc6543 & 2019vahay\\_f1m3\\_blue \\\\\n",
       "\t4 & frc2988 & frc116 & frc611 & 2019vahay\\_qf1m1\\_blue \\\\\n",
       "\t5 & frc2988 & frc116 & frc611 & 2019vahay\\_qf1m2\\_blue \\\\\n",
       "\t6 & frc2988 & frc116 & frc611 & 2019vahay\\_qf1m3\\_blue \\\\\n",
       "\t7 & frc4242 & frc339 & frc2186 & 2019vahay\\_qf2m1\\_blue \\\\\n",
       "\t8 & frc4242 & frc339 & frc2186 & 2019vahay\\_qf2m2\\_blue \\\\\n",
       "\t9 & frc888 & frc2028 & frc3455 & 2019vahay\\_qf3m1\\_blue \\\\\n",
       "\t10 & frc888 & frc2028 & frc3455 & 2019vahay\\_qf3m2\\_blue \\\\\n",
       "\t11 & frc888 & frc2028 & frc3455 & 2019vahay\\_qf3m3\\_blue \\\\\n",
       "\t12 & frc1629 & frc1719 & frc1895 & 2019vahay\\_qf4m1\\_blue \\\\\n",
       "\t13 & frc1629 & frc1719 & frc1895 & 2019vahay\\_qf4m2\\_blue \\\\\n",
       "\t14 & frc1629 & frc1719 & frc1895 & 2019vahay\\_qf4m3\\_blue \\\\\n",
       "\t15 & frc620 & frc339 & frc5338 & 2019vahay\\_qm1\\_blue \\\\\n",
       "\t16 & frc2028 & frc316 & frc2363 & 2019vahay\\_qm10\\_blue \\\\\n",
       "\t17 & frc3274 & frc339 & frc2534 & 2019vahay\\_qm11\\_blue \\\\\n",
       "\t18 & frc888 & frc2186 & frc5549 & 2019vahay\\_qm12\\_blue \\\\\n",
       "\t19 & frc611 & frc612 & frc6584 & 2019vahay\\_qm13\\_blue \\\\\n",
       "\t20 & frc1123 & frc620 & frc4505 & 2019vahay\\_qm14\\_blue \\\\\n",
       "\t21 & frc614 & frc339 & frc2421 & 2019vahay\\_qm15\\_blue \\\\\n",
       "\t22 & frc1629 & frc6504 & frc6584 & 2019vahay\\_qm16\\_blue \\\\\n",
       "\t23 & frc4464 & frc3941 & frc3274 & 2019vahay\\_qm17\\_blue \\\\\n",
       "\t24 & frc5338 & frc3455 & frc2186 & 2019vahay\\_qm18\\_blue \\\\\n",
       "\t25 & frc4242 & frc6543 & frc6863 & 2019vahay\\_qm19\\_blue \\\\\n",
       "\t26 & frc6504 & frc1418 & frc3373 & 2019vahay\\_qm2\\_blue \\\\\n",
       "\t27 & frc623 & frc888 & frc620 & 2019vahay\\_qm20\\_blue \\\\\n",
       "\t28 & frc4464 & frc1895 & frc2028 & 2019vahay\\_qm21\\_blue \\\\\n",
       "\t29 & frc6504 & frc6543 & frc611 & 2019vahay\\_qm22\\_blue \\\\\n",
       "\t30 & frc3373 & frc5549 & frc3941 & 2019vahay\\_qm23\\_blue \\\\\n",
       "\t$\\dots$ & $\\dots$ & $\\dots$ & $\\dots$ & $\\dots$ \\\\\n",
       "\\end{tabular}\n"
      ],
      "text/plain": [
       "180×4 DataFrame\n",
       "│ Row │ team1   │ team2   │ team3   │ key                  │\n",
       "│     │ \u001b[90mString⍰\u001b[39m │ \u001b[90mString⍰\u001b[39m │ \u001b[90mString⍰\u001b[39m │ \u001b[90mString⍰\u001b[39m              │\n",
       "├─────┼─────────┼─────────┼─────────┼──────────────────────┤\n",
       "│ 1   │ frc1418 │ frc614  │ frc6543 │ 2019vahay_f1m1_blue  │\n",
       "│ 2   │ frc1418 │ frc614  │ frc6543 │ 2019vahay_f1m2_blue  │\n",
       "│ 3   │ frc1418 │ frc614  │ frc6543 │ 2019vahay_f1m3_blue  │\n",
       "│ 4   │ frc2988 │ frc116  │ frc611  │ 2019vahay_qf1m1_blue │\n",
       "│ 5   │ frc2988 │ frc116  │ frc611  │ 2019vahay_qf1m2_blue │\n",
       "│ 6   │ frc2988 │ frc116  │ frc611  │ 2019vahay_qf1m3_blue │\n",
       "│ 7   │ frc4242 │ frc339  │ frc2186 │ 2019vahay_qf2m1_blue │\n",
       "│ 8   │ frc4242 │ frc339  │ frc2186 │ 2019vahay_qf2m2_blue │\n",
       "│ 9   │ frc888  │ frc2028 │ frc3455 │ 2019vahay_qf3m1_blue │\n",
       "│ 10  │ frc888  │ frc2028 │ frc3455 │ 2019vahay_qf3m2_blue │\n",
       "⋮\n",
       "│ 170 │ frc1262 │ frc1413 │ frc5546 │ 2019vagle_qm71_blue  │\n",
       "│ 171 │ frc122  │ frc7429 │ frc6882 │ 2019vagle_qm72_blue  │\n",
       "│ 172 │ frc1599 │ frc3258 │ frc2998 │ 2019vagle_qm73_blue  │\n",
       "│ 173 │ frc1598 │ frc346  │ frc1086 │ 2019vagle_qm74_blue  │\n",
       "│ 174 │ frc1522 │ frc2998 │ frc422  │ 2019vagle_qm8_blue   │\n",
       "│ 175 │ frc1080 │ frc1598 │ frc539  │ 2019vagle_qm9_blue   │\n",
       "│ 176 │ frc2106 │ frc1599 │ frc5804 │ 2019vagle_sf1m1_blue │\n",
       "│ 177 │ frc2106 │ frc1599 │ frc5804 │ 2019vagle_sf1m2_blue │\n",
       "│ 178 │ frc1610 │ frc384  │ frc3359 │ 2019vagle_sf2m1_blue │\n",
       "│ 179 │ frc1610 │ frc384  │ frc3359 │ 2019vagle_sf2m2_blue │\n",
       "│ 180 │ frc1610 │ frc384  │ frc3359 │ 2019vagle_sf2m3_blue │"
      ]
     },
     "execution_count": 6,
     "metadata": {},
     "output_type": "execute_result"
    }
   ],
   "source": [
    "scores_red = @linq scores |> where(:color .== \"r\")\n",
    "scores_blue = @linq scores |> where(:color .== \"b\")\n",
    "teams_red = @linq teams |> where(:color .== \"r\") |> select(:team1, :team2, :team3, :key)\n",
    "teams_blue = @linq teams |> where(:color .== \"b\") |> select(:team1, :team2, :team3, :key)"
   ]
  },
  {
   "cell_type": "code",
   "execution_count": 7,
   "metadata": {},
   "outputs": [
    {
     "data": {
      "text/html": [
       "<table class=\"data-frame\"><thead><tr><th></th><th>adjustPoints</th><th>autoPoints</th><th>bay1</th><th>bay2</th><th>bay3</th><th>bay4</th><th>bay5</th><th>bay6</th><th>bay7</th><th>bay8</th><th>cargoPoints</th><th>completeRocketRankingPoint</th><th>completedRocketFar</th><th>completedRocketNear</th><th>endgameRobot1</th><th>endgameRobot2</th><th>endgameRobot3</th><th>foulCount</th><th>foulPoints</th><th>habClimbPoints</th><th>habDockingRankingPoint</th><th>habLineRobot1</th><th>habLineRobot2</th><th>habLineRobot3</th><th>hatchPanelPoints</th><th>lowLeftRocketFar</th><th>lowLeftRocketNear</th><th>lowRightRocketFar</th><th>lowRightRocketNear</th><th>midLeftRocketFar</th><th>midLeftRocketNear</th><th>midRightRocketFar</th><th>midRightRocketNear</th><th>preMatchBay1</th><th>preMatchBay2</th><th>preMatchBay3</th><th>preMatchBay6</th><th>preMatchBay7</th><th>preMatchBay8</th><th>preMatchLevelRobot1</th><th>preMatchLevelRobot2</th><th>preMatchLevelRobot3</th><th>rp</th><th>sandStormBonusPoints</th><th>techFoulCount</th><th>teleopPoints</th><th>topLeftRocketFar</th><th>topLeftRocketNear</th><th>topRightRocketFar</th><th>topRightRocketNear</th><th>totalPoints</th><th>key</th><th>level</th><th>event</th><th>color</th><th>rocketLowPoints</th><th>rocketMidPoints</th><th>rocketTopPoints</th><th>rocketPoints</th><th>ownPoints</th><th>role</th><th>team</th></tr><tr><th></th><th>Int64⍰</th><th>Int64⍰</th><th>String⍰</th><th>String⍰</th><th>String⍰</th><th>String⍰</th><th>String⍰</th><th>String⍰</th><th>String⍰</th><th>String⍰</th><th>Int64⍰</th><th>Bool⍰</th><th>Bool⍰</th><th>Bool⍰</th><th>String⍰</th><th>String⍰</th><th>String⍰</th><th>Int64⍰</th><th>Int64⍰</th><th>Int64⍰</th><th>Bool⍰</th><th>String⍰</th><th>String⍰</th><th>String⍰</th><th>Int64⍰</th><th>String⍰</th><th>String⍰</th><th>String⍰</th><th>String⍰</th><th>String⍰</th><th>String⍰</th><th>String⍰</th><th>String⍰</th><th>String⍰</th><th>String⍰</th><th>String⍰</th><th>String⍰</th><th>String⍰</th><th>String⍰</th><th>String⍰</th><th>String⍰</th><th>String⍰</th><th>Int64⍰</th><th>Int64⍰</th><th>Int64⍰</th><th>Int64⍰</th><th>String⍰</th><th>String⍰</th><th>String⍰</th><th>String⍰</th><th>Int64⍰</th><th>String⍰</th><th>String⍰</th><th>String⍰</th><th>String</th><th>Int64</th><th>Int64</th><th>Int64</th><th>Int64</th><th>Int64</th><th>Symbol</th><th>String⍰</th></tr></thead><tbody><p>540 rows × 62 columns</p><tr><th>1</th><td>0</td><td>15</td><td>PanelAndCargo</td><td>PanelAndCargo</td><td>PanelAndCargo</td><td>PanelAndCargo</td><td>PanelAndCargo</td><td>PanelAndCargo</td><td>PanelAndCargo</td><td>Panel</td><td>33</td><td>false</td><td>false</td><td>false</td><td>HabLevel1</td><td>HabLevel2</td><td>None</td><td>0</td><td>3</td><td>9</td><td>false</td><td>CrossedHabLineInSandstorm</td><td>CrossedHabLineInSandstorm</td><td>CrossedHabLineInSandstorm</td><td>14</td><td>PanelAndCargo</td><td>Panel</td><td>PanelAndCargo</td><td>None</td><td>None</td><td>PanelAndCargo</td><td>None</td><td>PanelAndCargo</td><td>Panel</td><td>Panel</td><td>Panel</td><td>Panel</td><td>Panel</td><td>Panel</td><td>HabLevel2</td><td>HabLevel2</td><td>HabLevel1</td><td>0</td><td>15</td><td>1</td><td>56</td><td>None</td><td>None</td><td>None</td><td>None</td><td>74</td><td>2019vahay_f1m1_red</td><td>f</td><td>2019vahay</td><td>r</td><td>12</td><td>10</td><td>0</td><td>22</td><td>62</td><td>team1</td><td>frc2363</td></tr><tr><th>2</th><td>0</td><td>15</td><td>PanelAndCargo</td><td>PanelAndCargo</td><td>PanelAndCargo</td><td>PanelAndCargo</td><td>PanelAndCargo</td><td>PanelAndCargo</td><td>PanelAndCargo</td><td>Panel</td><td>33</td><td>false</td><td>false</td><td>false</td><td>HabLevel1</td><td>HabLevel2</td><td>None</td><td>0</td><td>3</td><td>9</td><td>false</td><td>CrossedHabLineInSandstorm</td><td>CrossedHabLineInSandstorm</td><td>CrossedHabLineInSandstorm</td><td>14</td><td>PanelAndCargo</td><td>Panel</td><td>PanelAndCargo</td><td>None</td><td>None</td><td>PanelAndCargo</td><td>None</td><td>PanelAndCargo</td><td>Panel</td><td>Panel</td><td>Panel</td><td>Panel</td><td>Panel</td><td>Panel</td><td>HabLevel2</td><td>HabLevel2</td><td>HabLevel1</td><td>0</td><td>15</td><td>1</td><td>56</td><td>None</td><td>None</td><td>None</td><td>None</td><td>74</td><td>2019vahay_f1m1_red</td><td>f</td><td>2019vahay</td><td>r</td><td>12</td><td>10</td><td>0</td><td>22</td><td>62</td><td>team2</td><td>frc612</td></tr><tr><th>3</th><td>0</td><td>15</td><td>PanelAndCargo</td><td>PanelAndCargo</td><td>PanelAndCargo</td><td>PanelAndCargo</td><td>PanelAndCargo</td><td>PanelAndCargo</td><td>PanelAndCargo</td><td>Panel</td><td>33</td><td>false</td><td>false</td><td>false</td><td>HabLevel1</td><td>HabLevel2</td><td>None</td><td>0</td><td>3</td><td>9</td><td>false</td><td>CrossedHabLineInSandstorm</td><td>CrossedHabLineInSandstorm</td><td>CrossedHabLineInSandstorm</td><td>14</td><td>PanelAndCargo</td><td>Panel</td><td>PanelAndCargo</td><td>None</td><td>None</td><td>PanelAndCargo</td><td>None</td><td>PanelAndCargo</td><td>Panel</td><td>Panel</td><td>Panel</td><td>Panel</td><td>Panel</td><td>Panel</td><td>HabLevel2</td><td>HabLevel2</td><td>HabLevel1</td><td>0</td><td>15</td><td>1</td><td>56</td><td>None</td><td>None</td><td>None</td><td>None</td><td>74</td><td>2019vahay_f1m1_red</td><td>f</td><td>2019vahay</td><td>r</td><td>12</td><td>10</td><td>0</td><td>22</td><td>62</td><td>team3</td><td>frc1731</td></tr><tr><th>4</th><td>0</td><td>15</td><td>PanelAndCargo</td><td>PanelAndCargo</td><td>PanelAndCargo</td><td>PanelAndCargo</td><td>PanelAndCargo</td><td>PanelAndCargo</td><td>PanelAndCargo</td><td>Panel</td><td>30</td><td>false</td><td>false</td><td>false</td><td>HabLevel1</td><td>HabLevel1</td><td>HabLevel1</td><td>0</td><td>0</td><td>9</td><td>false</td><td>CrossedHabLineInSandstorm</td><td>CrossedHabLineInSandstorm</td><td>CrossedHabLineInSandstorm</td><td>18</td><td>Panel</td><td>Panel</td><td>PanelAndCargo</td><td>Panel</td><td>None</td><td>PanelAndCargo</td><td>Panel</td><td>PanelAndCargo</td><td>Panel</td><td>Panel</td><td>Panel</td><td>Panel</td><td>Panel</td><td>Panel</td><td>HabLevel2</td><td>HabLevel2</td><td>HabLevel1</td><td>0</td><td>15</td><td>0</td><td>57</td><td>None</td><td>None</td><td>None</td><td>None</td><td>72</td><td>2019vahay_f1m2_red</td><td>f</td><td>2019vahay</td><td>r</td><td>11</td><td>12</td><td>0</td><td>23</td><td>72</td><td>team1</td><td>frc2363</td></tr><tr><th>5</th><td>0</td><td>15</td><td>PanelAndCargo</td><td>PanelAndCargo</td><td>PanelAndCargo</td><td>PanelAndCargo</td><td>PanelAndCargo</td><td>PanelAndCargo</td><td>PanelAndCargo</td><td>Panel</td><td>30</td><td>false</td><td>false</td><td>false</td><td>HabLevel1</td><td>HabLevel1</td><td>HabLevel1</td><td>0</td><td>0</td><td>9</td><td>false</td><td>CrossedHabLineInSandstorm</td><td>CrossedHabLineInSandstorm</td><td>CrossedHabLineInSandstorm</td><td>18</td><td>Panel</td><td>Panel</td><td>PanelAndCargo</td><td>Panel</td><td>None</td><td>PanelAndCargo</td><td>Panel</td><td>PanelAndCargo</td><td>Panel</td><td>Panel</td><td>Panel</td><td>Panel</td><td>Panel</td><td>Panel</td><td>HabLevel2</td><td>HabLevel2</td><td>HabLevel1</td><td>0</td><td>15</td><td>0</td><td>57</td><td>None</td><td>None</td><td>None</td><td>None</td><td>72</td><td>2019vahay_f1m2_red</td><td>f</td><td>2019vahay</td><td>r</td><td>11</td><td>12</td><td>0</td><td>23</td><td>72</td><td>team2</td><td>frc612</td></tr><tr><th>6</th><td>0</td><td>15</td><td>PanelAndCargo</td><td>PanelAndCargo</td><td>PanelAndCargo</td><td>PanelAndCargo</td><td>PanelAndCargo</td><td>PanelAndCargo</td><td>PanelAndCargo</td><td>Panel</td><td>30</td><td>false</td><td>false</td><td>false</td><td>HabLevel1</td><td>HabLevel1</td><td>HabLevel1</td><td>0</td><td>0</td><td>9</td><td>false</td><td>CrossedHabLineInSandstorm</td><td>CrossedHabLineInSandstorm</td><td>CrossedHabLineInSandstorm</td><td>18</td><td>Panel</td><td>Panel</td><td>PanelAndCargo</td><td>Panel</td><td>None</td><td>PanelAndCargo</td><td>Panel</td><td>PanelAndCargo</td><td>Panel</td><td>Panel</td><td>Panel</td><td>Panel</td><td>Panel</td><td>Panel</td><td>HabLevel2</td><td>HabLevel2</td><td>HabLevel1</td><td>0</td><td>15</td><td>0</td><td>57</td><td>None</td><td>None</td><td>None</td><td>None</td><td>72</td><td>2019vahay_f1m2_red</td><td>f</td><td>2019vahay</td><td>r</td><td>11</td><td>12</td><td>0</td><td>23</td><td>72</td><td>team3</td><td>frc1731</td></tr><tr><th>7</th><td>0</td><td>15</td><td>Panel</td><td>PanelAndCargo</td><td>PanelAndCargo</td><td>PanelAndCargo</td><td>PanelAndCargo</td><td>PanelAndCargo</td><td>Panel</td><td>Panel</td><td>27</td><td>false</td><td>false</td><td>false</td><td>HabLevel1</td><td>HabLevel2</td><td>HabLevel1</td><td>0</td><td>0</td><td>12</td><td>false</td><td>CrossedHabLineInSandstorm</td><td>CrossedHabLineInSandstorm</td><td>CrossedHabLineInSandstorm</td><td>12</td><td>PanelAndCargo</td><td>None</td><td>PanelAndCargo</td><td>None</td><td>None</td><td>PanelAndCargo</td><td>None</td><td>PanelAndCargo</td><td>Panel</td><td>Panel</td><td>Panel</td><td>Panel</td><td>Panel</td><td>Panel</td><td>HabLevel2</td><td>HabLevel2</td><td>HabLevel1</td><td>0</td><td>15</td><td>0</td><td>51</td><td>None</td><td>None</td><td>None</td><td>None</td><td>66</td><td>2019vahay_f1m3_red</td><td>f</td><td>2019vahay</td><td>r</td><td>10</td><td>10</td><td>0</td><td>20</td><td>66</td><td>team1</td><td>frc2363</td></tr><tr><th>8</th><td>0</td><td>15</td><td>Panel</td><td>PanelAndCargo</td><td>PanelAndCargo</td><td>PanelAndCargo</td><td>PanelAndCargo</td><td>PanelAndCargo</td><td>Panel</td><td>Panel</td><td>27</td><td>false</td><td>false</td><td>false</td><td>HabLevel1</td><td>HabLevel2</td><td>HabLevel1</td><td>0</td><td>0</td><td>12</td><td>false</td><td>CrossedHabLineInSandstorm</td><td>CrossedHabLineInSandstorm</td><td>CrossedHabLineInSandstorm</td><td>12</td><td>PanelAndCargo</td><td>None</td><td>PanelAndCargo</td><td>None</td><td>None</td><td>PanelAndCargo</td><td>None</td><td>PanelAndCargo</td><td>Panel</td><td>Panel</td><td>Panel</td><td>Panel</td><td>Panel</td><td>Panel</td><td>HabLevel2</td><td>HabLevel2</td><td>HabLevel1</td><td>0</td><td>15</td><td>0</td><td>51</td><td>None</td><td>None</td><td>None</td><td>None</td><td>66</td><td>2019vahay_f1m3_red</td><td>f</td><td>2019vahay</td><td>r</td><td>10</td><td>10</td><td>0</td><td>20</td><td>66</td><td>team2</td><td>frc612</td></tr><tr><th>9</th><td>0</td><td>15</td><td>Panel</td><td>PanelAndCargo</td><td>PanelAndCargo</td><td>PanelAndCargo</td><td>PanelAndCargo</td><td>PanelAndCargo</td><td>Panel</td><td>Panel</td><td>27</td><td>false</td><td>false</td><td>false</td><td>HabLevel1</td><td>HabLevel2</td><td>HabLevel1</td><td>0</td><td>0</td><td>12</td><td>false</td><td>CrossedHabLineInSandstorm</td><td>CrossedHabLineInSandstorm</td><td>CrossedHabLineInSandstorm</td><td>12</td><td>PanelAndCargo</td><td>None</td><td>PanelAndCargo</td><td>None</td><td>None</td><td>PanelAndCargo</td><td>None</td><td>PanelAndCargo</td><td>Panel</td><td>Panel</td><td>Panel</td><td>Panel</td><td>Panel</td><td>Panel</td><td>HabLevel2</td><td>HabLevel2</td><td>HabLevel1</td><td>0</td><td>15</td><td>0</td><td>51</td><td>None</td><td>None</td><td>None</td><td>None</td><td>66</td><td>2019vahay_f1m3_red</td><td>f</td><td>2019vahay</td><td>r</td><td>10</td><td>10</td><td>0</td><td>20</td><td>66</td><td>team3</td><td>frc1731</td></tr><tr><th>10</th><td>0</td><td>15</td><td>PanelAndCargo</td><td>PanelAndCargo</td><td>PanelAndCargo</td><td>None</td><td>None</td><td>PanelAndCargo</td><td>Panel</td><td>Panel</td><td>15</td><td>false</td><td>false</td><td>false</td><td>HabLevel1</td><td>HabLevel1</td><td>HabLevel1</td><td>1</td><td>0</td><td>9</td><td>false</td><td>CrossedHabLineInSandstorm</td><td>CrossedHabLineInSandstorm</td><td>CrossedHabLineInSandstorm</td><td>16</td><td>Panel</td><td>Panel</td><td>None</td><td>Panel</td><td>Panel</td><td>Panel</td><td>PanelAndCargo</td><td>Panel</td><td>Panel</td><td>Panel</td><td>Panel</td><td>Panel</td><td>Panel</td><td>Panel</td><td>HabLevel2</td><td>HabLevel2</td><td>HabLevel1</td><td>0</td><td>15</td><td>0</td><td>40</td><td>None</td><td>None</td><td>Panel</td><td>None</td><td>55</td><td>2019vahay_qf1m1_red</td><td>qf</td><td>2019vahay</td><td>r</td><td>6</td><td>11</td><td>2</td><td>19</td><td>52</td><td>team1</td><td>frc2363</td></tr><tr><th>11</th><td>0</td><td>15</td><td>PanelAndCargo</td><td>PanelAndCargo</td><td>PanelAndCargo</td><td>None</td><td>None</td><td>PanelAndCargo</td><td>Panel</td><td>Panel</td><td>15</td><td>false</td><td>false</td><td>false</td><td>HabLevel1</td><td>HabLevel1</td><td>HabLevel1</td><td>1</td><td>0</td><td>9</td><td>false</td><td>CrossedHabLineInSandstorm</td><td>CrossedHabLineInSandstorm</td><td>CrossedHabLineInSandstorm</td><td>16</td><td>Panel</td><td>Panel</td><td>None</td><td>Panel</td><td>Panel</td><td>Panel</td><td>PanelAndCargo</td><td>Panel</td><td>Panel</td><td>Panel</td><td>Panel</td><td>Panel</td><td>Panel</td><td>Panel</td><td>HabLevel2</td><td>HabLevel2</td><td>HabLevel1</td><td>0</td><td>15</td><td>0</td><td>40</td><td>None</td><td>None</td><td>Panel</td><td>None</td><td>55</td><td>2019vahay_qf1m1_red</td><td>qf</td><td>2019vahay</td><td>r</td><td>6</td><td>11</td><td>2</td><td>19</td><td>52</td><td>team2</td><td>frc612</td></tr><tr><th>12</th><td>0</td><td>15</td><td>PanelAndCargo</td><td>PanelAndCargo</td><td>PanelAndCargo</td><td>None</td><td>None</td><td>PanelAndCargo</td><td>Panel</td><td>Panel</td><td>15</td><td>false</td><td>false</td><td>false</td><td>HabLevel1</td><td>HabLevel1</td><td>HabLevel1</td><td>1</td><td>0</td><td>9</td><td>false</td><td>CrossedHabLineInSandstorm</td><td>CrossedHabLineInSandstorm</td><td>CrossedHabLineInSandstorm</td><td>16</td><td>Panel</td><td>Panel</td><td>None</td><td>Panel</td><td>Panel</td><td>Panel</td><td>PanelAndCargo</td><td>Panel</td><td>Panel</td><td>Panel</td><td>Panel</td><td>Panel</td><td>Panel</td><td>Panel</td><td>HabLevel2</td><td>HabLevel2</td><td>HabLevel1</td><td>0</td><td>15</td><td>0</td><td>40</td><td>None</td><td>None</td><td>Panel</td><td>None</td><td>55</td><td>2019vahay_qf1m1_red</td><td>qf</td><td>2019vahay</td><td>r</td><td>6</td><td>11</td><td>2</td><td>19</td><td>52</td><td>team3</td><td>frc1731</td></tr><tr><th>13</th><td>0</td><td>15</td><td>Panel</td><td>PanelAndCargo</td><td>PanelAndCargo</td><td>None</td><td>PanelAndCargo</td><td>Panel</td><td>PanelAndCargo</td><td>PanelAndCargo</td><td>21</td><td>false</td><td>false</td><td>false</td><td>HabLevel1</td><td>HabLevel3</td><td>HabLevel1</td><td>0</td><td>6</td><td>18</td><td>false</td><td>CrossedHabLineInSandstorm</td><td>CrossedHabLineInSandstorm</td><td>CrossedHabLineInSandstorm</td><td>8</td><td>None</td><td>None</td><td>Panel</td><td>None</td><td>None</td><td>PanelAndCargo</td><td>None</td><td>PanelAndCargo</td><td>Panel</td><td>Panel</td><td>Panel</td><td>Panel</td><td>Panel</td><td>Panel</td><td>HabLevel2</td><td>HabLevel2</td><td>HabLevel1</td><td>0</td><td>15</td><td>0</td><td>47</td><td>None</td><td>None</td><td>None</td><td>None</td><td>68</td><td>2019vahay_qf1m2_red</td><td>qf</td><td>2019vahay</td><td>r</td><td>2</td><td>10</td><td>0</td><td>12</td><td>62</td><td>team1</td><td>frc2363</td></tr><tr><th>14</th><td>0</td><td>15</td><td>Panel</td><td>PanelAndCargo</td><td>PanelAndCargo</td><td>None</td><td>PanelAndCargo</td><td>Panel</td><td>PanelAndCargo</td><td>PanelAndCargo</td><td>21</td><td>false</td><td>false</td><td>false</td><td>HabLevel1</td><td>HabLevel3</td><td>HabLevel1</td><td>0</td><td>6</td><td>18</td><td>false</td><td>CrossedHabLineInSandstorm</td><td>CrossedHabLineInSandstorm</td><td>CrossedHabLineInSandstorm</td><td>8</td><td>None</td><td>None</td><td>Panel</td><td>None</td><td>None</td><td>PanelAndCargo</td><td>None</td><td>PanelAndCargo</td><td>Panel</td><td>Panel</td><td>Panel</td><td>Panel</td><td>Panel</td><td>Panel</td><td>HabLevel2</td><td>HabLevel2</td><td>HabLevel1</td><td>0</td><td>15</td><td>0</td><td>47</td><td>None</td><td>None</td><td>None</td><td>None</td><td>68</td><td>2019vahay_qf1m2_red</td><td>qf</td><td>2019vahay</td><td>r</td><td>2</td><td>10</td><td>0</td><td>12</td><td>62</td><td>team2</td><td>frc612</td></tr><tr><th>15</th><td>0</td><td>15</td><td>Panel</td><td>PanelAndCargo</td><td>PanelAndCargo</td><td>None</td><td>PanelAndCargo</td><td>Panel</td><td>PanelAndCargo</td><td>PanelAndCargo</td><td>21</td><td>false</td><td>false</td><td>false</td><td>HabLevel1</td><td>HabLevel3</td><td>HabLevel1</td><td>0</td><td>6</td><td>18</td><td>false</td><td>CrossedHabLineInSandstorm</td><td>CrossedHabLineInSandstorm</td><td>CrossedHabLineInSandstorm</td><td>8</td><td>None</td><td>None</td><td>Panel</td><td>None</td><td>None</td><td>PanelAndCargo</td><td>None</td><td>PanelAndCargo</td><td>Panel</td><td>Panel</td><td>Panel</td><td>Panel</td><td>Panel</td><td>Panel</td><td>HabLevel2</td><td>HabLevel2</td><td>HabLevel1</td><td>0</td><td>15</td><td>0</td><td>47</td><td>None</td><td>None</td><td>None</td><td>None</td><td>68</td><td>2019vahay_qf1m2_red</td><td>qf</td><td>2019vahay</td><td>r</td><td>2</td><td>10</td><td>0</td><td>12</td><td>62</td><td>team3</td><td>frc1731</td></tr><tr><th>16</th><td>0</td><td>15</td><td>PanelAndCargo</td><td>Panel</td><td>PanelAndCargo</td><td>None</td><td>None</td><td>PanelAndCargo</td><td>PanelAndCargo</td><td>PanelAndCargo</td><td>27</td><td>false</td><td>false</td><td>false</td><td>HabLevel1</td><td>HabLevel3</td><td>HabLevel1</td><td>0</td><td>16</td><td>18</td><td>false</td><td>CrossedHabLineInSandstorm</td><td>CrossedHabLineInSandstorm</td><td>CrossedHabLineInSandstorm</td><td>8</td><td>PanelAndCargo</td><td>None</td><td>PanelAndCargo</td><td>None</td><td>None</td><td>PanelAndCargo</td><td>None</td><td>PanelAndCargo</td><td>Panel</td><td>Panel</td><td>Panel</td><td>Panel</td><td>Panel</td><td>Panel</td><td>HabLevel2</td><td>HabLevel2</td><td>HabLevel1</td><td>0</td><td>15</td><td>1</td><td>53</td><td>None</td><td>None</td><td>None</td><td>None</td><td>84</td><td>2019vahay_qf1m3_red</td><td>qf</td><td>2019vahay</td><td>r</td><td>10</td><td>10</td><td>0</td><td>20</td><td>59</td><td>team1</td><td>frc2363</td></tr><tr><th>17</th><td>0</td><td>15</td><td>PanelAndCargo</td><td>Panel</td><td>PanelAndCargo</td><td>None</td><td>None</td><td>PanelAndCargo</td><td>PanelAndCargo</td><td>PanelAndCargo</td><td>27</td><td>false</td><td>false</td><td>false</td><td>HabLevel1</td><td>HabLevel3</td><td>HabLevel1</td><td>0</td><td>16</td><td>18</td><td>false</td><td>CrossedHabLineInSandstorm</td><td>CrossedHabLineInSandstorm</td><td>CrossedHabLineInSandstorm</td><td>8</td><td>PanelAndCargo</td><td>None</td><td>PanelAndCargo</td><td>None</td><td>None</td><td>PanelAndCargo</td><td>None</td><td>PanelAndCargo</td><td>Panel</td><td>Panel</td><td>Panel</td><td>Panel</td><td>Panel</td><td>Panel</td><td>HabLevel2</td><td>HabLevel2</td><td>HabLevel1</td><td>0</td><td>15</td><td>1</td><td>53</td><td>None</td><td>None</td><td>None</td><td>None</td><td>84</td><td>2019vahay_qf1m3_red</td><td>qf</td><td>2019vahay</td><td>r</td><td>10</td><td>10</td><td>0</td><td>20</td><td>59</td><td>team2</td><td>frc612</td></tr><tr><th>18</th><td>0</td><td>15</td><td>PanelAndCargo</td><td>Panel</td><td>PanelAndCargo</td><td>None</td><td>None</td><td>PanelAndCargo</td><td>PanelAndCargo</td><td>PanelAndCargo</td><td>27</td><td>false</td><td>false</td><td>false</td><td>HabLevel1</td><td>HabLevel3</td><td>HabLevel1</td><td>0</td><td>16</td><td>18</td><td>false</td><td>CrossedHabLineInSandstorm</td><td>CrossedHabLineInSandstorm</td><td>CrossedHabLineInSandstorm</td><td>8</td><td>PanelAndCargo</td><td>None</td><td>PanelAndCargo</td><td>None</td><td>None</td><td>PanelAndCargo</td><td>None</td><td>PanelAndCargo</td><td>Panel</td><td>Panel</td><td>Panel</td><td>Panel</td><td>Panel</td><td>Panel</td><td>HabLevel2</td><td>HabLevel2</td><td>HabLevel1</td><td>0</td><td>15</td><td>1</td><td>53</td><td>None</td><td>None</td><td>None</td><td>None</td><td>84</td><td>2019vahay_qf1m3_red</td><td>qf</td><td>2019vahay</td><td>r</td><td>10</td><td>10</td><td>0</td><td>20</td><td>59</td><td>team3</td><td>frc1731</td></tr><tr><th>19</th><td>0</td><td>15</td><td>PanelAndCargo</td><td>PanelAndCargo</td><td>PanelAndCargo</td><td>None</td><td>PanelAndCargo</td><td>PanelAndCargo</td><td>PanelAndCargo</td><td>Panel</td><td>24</td><td>false</td><td>false</td><td>false</td><td>HabLevel1</td><td>HabLevel3</td><td>HabLevel1</td><td>0</td><td>28</td><td>18</td><td>false</td><td>CrossedHabLineInSandstorm</td><td>CrossedHabLineInSandstorm</td><td>CrossedHabLineInSandstorm</td><td>6</td><td>None</td><td>PanelAndCargo</td><td>None</td><td>PanelAndCargo</td><td>None</td><td>None</td><td>None</td><td>None</td><td>Panel</td><td>Panel</td><td>Panel</td><td>Panel</td><td>Panel</td><td>Panel</td><td>HabLevel2</td><td>HabLevel1</td><td>HabLevel2</td><td>0</td><td>15</td><td>0</td><td>48</td><td>None</td><td>None</td><td>None</td><td>None</td><td>91</td><td>2019vahay_qf2m1_red</td><td>qf</td><td>2019vahay</td><td>r</td><td>10</td><td>0</td><td>0</td><td>10</td><td>63</td><td>team1</td><td>frc4099</td></tr><tr><th>20</th><td>0</td><td>15</td><td>PanelAndCargo</td><td>PanelAndCargo</td><td>PanelAndCargo</td><td>None</td><td>PanelAndCargo</td><td>PanelAndCargo</td><td>PanelAndCargo</td><td>Panel</td><td>24</td><td>false</td><td>false</td><td>false</td><td>HabLevel1</td><td>HabLevel3</td><td>HabLevel1</td><td>0</td><td>28</td><td>18</td><td>false</td><td>CrossedHabLineInSandstorm</td><td>CrossedHabLineInSandstorm</td><td>CrossedHabLineInSandstorm</td><td>6</td><td>None</td><td>PanelAndCargo</td><td>None</td><td>PanelAndCargo</td><td>None</td><td>None</td><td>None</td><td>None</td><td>Panel</td><td>Panel</td><td>Panel</td><td>Panel</td><td>Panel</td><td>Panel</td><td>HabLevel2</td><td>HabLevel1</td><td>HabLevel2</td><td>0</td><td>15</td><td>0</td><td>48</td><td>None</td><td>None</td><td>None</td><td>None</td><td>91</td><td>2019vahay_qf2m1_red</td><td>qf</td><td>2019vahay</td><td>r</td><td>10</td><td>0</td><td>0</td><td>10</td><td>63</td><td>team2</td><td>frc5338</td></tr><tr><th>21</th><td>0</td><td>15</td><td>PanelAndCargo</td><td>PanelAndCargo</td><td>PanelAndCargo</td><td>None</td><td>PanelAndCargo</td><td>PanelAndCargo</td><td>PanelAndCargo</td><td>Panel</td><td>24</td><td>false</td><td>false</td><td>false</td><td>HabLevel1</td><td>HabLevel3</td><td>HabLevel1</td><td>0</td><td>28</td><td>18</td><td>false</td><td>CrossedHabLineInSandstorm</td><td>CrossedHabLineInSandstorm</td><td>CrossedHabLineInSandstorm</td><td>6</td><td>None</td><td>PanelAndCargo</td><td>None</td><td>PanelAndCargo</td><td>None</td><td>None</td><td>None</td><td>None</td><td>Panel</td><td>Panel</td><td>Panel</td><td>Panel</td><td>Panel</td><td>Panel</td><td>HabLevel2</td><td>HabLevel1</td><td>HabLevel2</td><td>0</td><td>15</td><td>0</td><td>48</td><td>None</td><td>None</td><td>None</td><td>None</td><td>91</td><td>2019vahay_qf2m1_red</td><td>qf</td><td>2019vahay</td><td>r</td><td>10</td><td>0</td><td>0</td><td>10</td><td>63</td><td>team3</td><td>frc4505</td></tr><tr><th>22</th><td>0</td><td>15</td><td>PanelAndCargo</td><td>PanelAndCargo</td><td>PanelAndCargo</td><td>None</td><td>PanelAndCargo</td><td>PanelAndCargo</td><td>Panel</td><td>Panel</td><td>15</td><td>false</td><td>false</td><td>false</td><td>HabLevel1</td><td>HabLevel1</td><td>None</td><td>0</td><td>0</td><td>6</td><td>false</td><td>CrossedHabLineInSandstorm</td><td>CrossedHabLineInSandstorm</td><td>CrossedHabLineInSandstorm</td><td>4</td><td>None</td><td>None</td><td>None</td><td>Panel</td><td>None</td><td>None</td><td>None</td><td>None</td><td>Panel</td><td>Panel</td><td>Panel</td><td>Panel</td><td>Panel</td><td>Panel</td><td>HabLevel2</td><td>HabLevel1</td><td>HabLevel2</td><td>0</td><td>15</td><td>0</td><td>25</td><td>None</td><td>None</td><td>None</td><td>None</td><td>40</td><td>2019vahay_qf2m2_red</td><td>qf</td><td>2019vahay</td><td>r</td><td>2</td><td>0</td><td>0</td><td>2</td><td>40</td><td>team1</td><td>frc4099</td></tr><tr><th>23</th><td>0</td><td>15</td><td>PanelAndCargo</td><td>PanelAndCargo</td><td>PanelAndCargo</td><td>None</td><td>PanelAndCargo</td><td>PanelAndCargo</td><td>Panel</td><td>Panel</td><td>15</td><td>false</td><td>false</td><td>false</td><td>HabLevel1</td><td>HabLevel1</td><td>None</td><td>0</td><td>0</td><td>6</td><td>false</td><td>CrossedHabLineInSandstorm</td><td>CrossedHabLineInSandstorm</td><td>CrossedHabLineInSandstorm</td><td>4</td><td>None</td><td>None</td><td>None</td><td>Panel</td><td>None</td><td>None</td><td>None</td><td>None</td><td>Panel</td><td>Panel</td><td>Panel</td><td>Panel</td><td>Panel</td><td>Panel</td><td>HabLevel2</td><td>HabLevel1</td><td>HabLevel2</td><td>0</td><td>15</td><td>0</td><td>25</td><td>None</td><td>None</td><td>None</td><td>None</td><td>40</td><td>2019vahay_qf2m2_red</td><td>qf</td><td>2019vahay</td><td>r</td><td>2</td><td>0</td><td>0</td><td>2</td><td>40</td><td>team2</td><td>frc5338</td></tr><tr><th>24</th><td>0</td><td>15</td><td>PanelAndCargo</td><td>PanelAndCargo</td><td>PanelAndCargo</td><td>None</td><td>PanelAndCargo</td><td>PanelAndCargo</td><td>Panel</td><td>Panel</td><td>15</td><td>false</td><td>false</td><td>false</td><td>HabLevel1</td><td>HabLevel1</td><td>None</td><td>0</td><td>0</td><td>6</td><td>false</td><td>CrossedHabLineInSandstorm</td><td>CrossedHabLineInSandstorm</td><td>CrossedHabLineInSandstorm</td><td>4</td><td>None</td><td>None</td><td>None</td><td>Panel</td><td>None</td><td>None</td><td>None</td><td>None</td><td>Panel</td><td>Panel</td><td>Panel</td><td>Panel</td><td>Panel</td><td>Panel</td><td>HabLevel2</td><td>HabLevel1</td><td>HabLevel2</td><td>0</td><td>15</td><td>0</td><td>25</td><td>None</td><td>None</td><td>None</td><td>None</td><td>40</td><td>2019vahay_qf2m2_red</td><td>qf</td><td>2019vahay</td><td>r</td><td>2</td><td>0</td><td>0</td><td>2</td><td>40</td><td>team3</td><td>frc4505</td></tr><tr><th>25</th><td>0</td><td>12</td><td>Panel</td><td>PanelAndCargo</td><td>PanelAndCargo</td><td>None</td><td>PanelAndCargo</td><td>PanelAndCargo</td><td>PanelAndCargo</td><td>PanelAndCargo</td><td>21</td><td>false</td><td>false</td><td>false</td><td>HabLevel2</td><td>HabLevel1</td><td>HabLevel1</td><td>0</td><td>0</td><td>12</td><td>false</td><td>CrossedHabLineInSandstorm</td><td>CrossedHabLineInSandstorm</td><td>CrossedHabLineInSandstorm</td><td>8</td><td>None</td><td>PanelAndCargo</td><td>None</td><td>None</td><td>None</td><td>None</td><td>None</td><td>None</td><td>Cargo</td><td>Cargo</td><td>Panel</td><td>Panel</td><td>Panel</td><td>Panel</td><td>HabLevel1</td><td>HabLevel2</td><td>HabLevel1</td><td>0</td><td>12</td><td>0</td><td>41</td><td>None</td><td>None</td><td>None</td><td>None</td><td>53</td><td>2019vahay_qf3m1_red</td><td>qf</td><td>2019vahay</td><td>r</td><td>5</td><td>0</td><td>0</td><td>5</td><td>53</td><td>team1</td><td>frc1418</td></tr><tr><th>26</th><td>0</td><td>12</td><td>Panel</td><td>PanelAndCargo</td><td>PanelAndCargo</td><td>None</td><td>PanelAndCargo</td><td>PanelAndCargo</td><td>PanelAndCargo</td><td>PanelAndCargo</td><td>21</td><td>false</td><td>false</td><td>false</td><td>HabLevel2</td><td>HabLevel1</td><td>HabLevel1</td><td>0</td><td>0</td><td>12</td><td>false</td><td>CrossedHabLineInSandstorm</td><td>CrossedHabLineInSandstorm</td><td>CrossedHabLineInSandstorm</td><td>8</td><td>None</td><td>PanelAndCargo</td><td>None</td><td>None</td><td>None</td><td>None</td><td>None</td><td>None</td><td>Cargo</td><td>Cargo</td><td>Panel</td><td>Panel</td><td>Panel</td><td>Panel</td><td>HabLevel1</td><td>HabLevel2</td><td>HabLevel1</td><td>0</td><td>12</td><td>0</td><td>41</td><td>None</td><td>None</td><td>None</td><td>None</td><td>53</td><td>2019vahay_qf3m1_red</td><td>qf</td><td>2019vahay</td><td>r</td><td>5</td><td>0</td><td>0</td><td>5</td><td>53</td><td>team2</td><td>frc614</td></tr><tr><th>27</th><td>0</td><td>12</td><td>Panel</td><td>PanelAndCargo</td><td>PanelAndCargo</td><td>None</td><td>PanelAndCargo</td><td>PanelAndCargo</td><td>PanelAndCargo</td><td>PanelAndCargo</td><td>21</td><td>false</td><td>false</td><td>false</td><td>HabLevel2</td><td>HabLevel1</td><td>HabLevel1</td><td>0</td><td>0</td><td>12</td><td>false</td><td>CrossedHabLineInSandstorm</td><td>CrossedHabLineInSandstorm</td><td>CrossedHabLineInSandstorm</td><td>8</td><td>None</td><td>PanelAndCargo</td><td>None</td><td>None</td><td>None</td><td>None</td><td>None</td><td>None</td><td>Cargo</td><td>Cargo</td><td>Panel</td><td>Panel</td><td>Panel</td><td>Panel</td><td>HabLevel1</td><td>HabLevel2</td><td>HabLevel1</td><td>0</td><td>12</td><td>0</td><td>41</td><td>None</td><td>None</td><td>None</td><td>None</td><td>53</td><td>2019vahay_qf3m1_red</td><td>qf</td><td>2019vahay</td><td>r</td><td>5</td><td>0</td><td>0</td><td>5</td><td>53</td><td>team3</td><td>frc6543</td></tr><tr><th>28</th><td>0</td><td>12</td><td>PanelAndCargo</td><td>PanelAndCargo</td><td>PanelAndCargo</td><td>None</td><td>None</td><td>PanelAndCargo</td><td>PanelAndCargo</td><td>None</td><td>24</td><td>false</td><td>false</td><td>false</td><td>HabLevel2</td><td>HabLevel2</td><td>HabLevel1</td><td>0</td><td>0</td><td>15</td><td>false</td><td>CrossedHabLineInSandstorm</td><td>CrossedHabLineInSandstorm</td><td>CrossedHabLineInSandstorm</td><td>10</td><td>None</td><td>PanelAndCargo</td><td>None</td><td>PanelAndCargo</td><td>None</td><td>PanelAndCargo</td><td>None</td><td>Panel</td><td>Panel</td><td>Panel</td><td>Panel</td><td>Panel</td><td>Cargo</td><td>Cargo</td><td>HabLevel1</td><td>HabLevel2</td><td>HabLevel1</td><td>0</td><td>12</td><td>0</td><td>49</td><td>None</td><td>None</td><td>None</td><td>None</td><td>61</td><td>2019vahay_qf3m2_red</td><td>qf</td><td>2019vahay</td><td>r</td><td>10</td><td>7</td><td>0</td><td>17</td><td>61</td><td>team1</td><td>frc1418</td></tr><tr><th>29</th><td>0</td><td>12</td><td>PanelAndCargo</td><td>PanelAndCargo</td><td>PanelAndCargo</td><td>None</td><td>None</td><td>PanelAndCargo</td><td>PanelAndCargo</td><td>None</td><td>24</td><td>false</td><td>false</td><td>false</td><td>HabLevel2</td><td>HabLevel2</td><td>HabLevel1</td><td>0</td><td>0</td><td>15</td><td>false</td><td>CrossedHabLineInSandstorm</td><td>CrossedHabLineInSandstorm</td><td>CrossedHabLineInSandstorm</td><td>10</td><td>None</td><td>PanelAndCargo</td><td>None</td><td>PanelAndCargo</td><td>None</td><td>PanelAndCargo</td><td>None</td><td>Panel</td><td>Panel</td><td>Panel</td><td>Panel</td><td>Panel</td><td>Cargo</td><td>Cargo</td><td>HabLevel1</td><td>HabLevel2</td><td>HabLevel1</td><td>0</td><td>12</td><td>0</td><td>49</td><td>None</td><td>None</td><td>None</td><td>None</td><td>61</td><td>2019vahay_qf3m2_red</td><td>qf</td><td>2019vahay</td><td>r</td><td>10</td><td>7</td><td>0</td><td>17</td><td>61</td><td>team2</td><td>frc614</td></tr><tr><th>30</th><td>0</td><td>12</td><td>PanelAndCargo</td><td>PanelAndCargo</td><td>PanelAndCargo</td><td>None</td><td>None</td><td>PanelAndCargo</td><td>PanelAndCargo</td><td>None</td><td>24</td><td>false</td><td>false</td><td>false</td><td>HabLevel2</td><td>HabLevel2</td><td>HabLevel1</td><td>0</td><td>0</td><td>15</td><td>false</td><td>CrossedHabLineInSandstorm</td><td>CrossedHabLineInSandstorm</td><td>CrossedHabLineInSandstorm</td><td>10</td><td>None</td><td>PanelAndCargo</td><td>None</td><td>PanelAndCargo</td><td>None</td><td>PanelAndCargo</td><td>None</td><td>Panel</td><td>Panel</td><td>Panel</td><td>Panel</td><td>Panel</td><td>Cargo</td><td>Cargo</td><td>HabLevel1</td><td>HabLevel2</td><td>HabLevel1</td><td>0</td><td>12</td><td>0</td><td>49</td><td>None</td><td>None</td><td>None</td><td>None</td><td>61</td><td>2019vahay_qf3m2_red</td><td>qf</td><td>2019vahay</td><td>r</td><td>10</td><td>7</td><td>0</td><td>17</td><td>61</td><td>team3</td><td>frc6543</td></tr><tr><th>&vellip;</th><td>&vellip;</td><td>&vellip;</td><td>&vellip;</td><td>&vellip;</td><td>&vellip;</td><td>&vellip;</td><td>&vellip;</td><td>&vellip;</td><td>&vellip;</td><td>&vellip;</td><td>&vellip;</td><td>&vellip;</td><td>&vellip;</td><td>&vellip;</td><td>&vellip;</td><td>&vellip;</td><td>&vellip;</td><td>&vellip;</td><td>&vellip;</td><td>&vellip;</td><td>&vellip;</td><td>&vellip;</td><td>&vellip;</td><td>&vellip;</td><td>&vellip;</td><td>&vellip;</td><td>&vellip;</td><td>&vellip;</td><td>&vellip;</td><td>&vellip;</td><td>&vellip;</td><td>&vellip;</td><td>&vellip;</td><td>&vellip;</td><td>&vellip;</td><td>&vellip;</td><td>&vellip;</td><td>&vellip;</td><td>&vellip;</td><td>&vellip;</td><td>&vellip;</td><td>&vellip;</td><td>&vellip;</td><td>&vellip;</td><td>&vellip;</td><td>&vellip;</td><td>&vellip;</td><td>&vellip;</td><td>&vellip;</td><td>&vellip;</td><td>&vellip;</td><td>&vellip;</td><td>&vellip;</td><td>&vellip;</td><td>&vellip;</td><td>&vellip;</td><td>&vellip;</td><td>&vellip;</td><td>&vellip;</td><td>&vellip;</td><td>&vellip;</td><td>&vellip;</td></tr></tbody></table>"
      ],
      "text/latex": [
       "\\begin{tabular}{r|cccccccccccccccccccccccccccccccccccccccccccccccccccccccccccccc}\n",
       "\t& adjustPoints & autoPoints & bay1 & bay2 & bay3 & bay4 & bay5 & bay6 & bay7 & bay8 & cargoPoints & completeRocketRankingPoint & completedRocketFar & completedRocketNear & endgameRobot1 & endgameRobot2 & endgameRobot3 & foulCount & foulPoints & habClimbPoints & habDockingRankingPoint & habLineRobot1 & habLineRobot2 & habLineRobot3 & hatchPanelPoints & lowLeftRocketFar & lowLeftRocketNear & lowRightRocketFar & lowRightRocketNear & midLeftRocketFar & midLeftRocketNear & midRightRocketFar & midRightRocketNear & preMatchBay1 & preMatchBay2 & preMatchBay3 & preMatchBay6 & preMatchBay7 & preMatchBay8 & preMatchLevelRobot1 & preMatchLevelRobot2 & preMatchLevelRobot3 & rp & sandStormBonusPoints & techFoulCount & teleopPoints & topLeftRocketFar & topLeftRocketNear & topRightRocketFar & topRightRocketNear & totalPoints & key & level & event & color & rocketLowPoints & rocketMidPoints & rocketTopPoints & rocketPoints & ownPoints & role & team\\\\\n",
       "\t\\hline\n",
       "\t& Int64⍰ & Int64⍰ & String⍰ & String⍰ & String⍰ & String⍰ & String⍰ & String⍰ & String⍰ & String⍰ & Int64⍰ & Bool⍰ & Bool⍰ & Bool⍰ & String⍰ & String⍰ & String⍰ & Int64⍰ & Int64⍰ & Int64⍰ & Bool⍰ & String⍰ & String⍰ & String⍰ & Int64⍰ & String⍰ & String⍰ & String⍰ & String⍰ & String⍰ & String⍰ & String⍰ & String⍰ & String⍰ & String⍰ & String⍰ & String⍰ & String⍰ & String⍰ & String⍰ & String⍰ & String⍰ & Int64⍰ & Int64⍰ & Int64⍰ & Int64⍰ & String⍰ & String⍰ & String⍰ & String⍰ & Int64⍰ & String⍰ & String⍰ & String⍰ & String & Int64 & Int64 & Int64 & Int64 & Int64 & Symbol & String⍰\\\\\n",
       "\t\\hline\n",
       "\t1 & 0 & 15 & PanelAndCargo & PanelAndCargo & PanelAndCargo & PanelAndCargo & PanelAndCargo & PanelAndCargo & PanelAndCargo & Panel & 33 & false & false & false & HabLevel1 & HabLevel2 & None & 0 & 3 & 9 & false & CrossedHabLineInSandstorm & CrossedHabLineInSandstorm & CrossedHabLineInSandstorm & 14 & PanelAndCargo & Panel & PanelAndCargo & None & None & PanelAndCargo & None & PanelAndCargo & Panel & Panel & Panel & Panel & Panel & Panel & HabLevel2 & HabLevel2 & HabLevel1 & 0 & 15 & 1 & 56 & None & None & None & None & 74 & 2019vahay\\_f1m1\\_red & f & 2019vahay & r & 12 & 10 & 0 & 22 & 62 & team1 & frc2363 \\\\\n",
       "\t2 & 0 & 15 & PanelAndCargo & PanelAndCargo & PanelAndCargo & PanelAndCargo & PanelAndCargo & PanelAndCargo & PanelAndCargo & Panel & 33 & false & false & false & HabLevel1 & HabLevel2 & None & 0 & 3 & 9 & false & CrossedHabLineInSandstorm & CrossedHabLineInSandstorm & CrossedHabLineInSandstorm & 14 & PanelAndCargo & Panel & PanelAndCargo & None & None & PanelAndCargo & None & PanelAndCargo & Panel & Panel & Panel & Panel & Panel & Panel & HabLevel2 & HabLevel2 & HabLevel1 & 0 & 15 & 1 & 56 & None & None & None & None & 74 & 2019vahay\\_f1m1\\_red & f & 2019vahay & r & 12 & 10 & 0 & 22 & 62 & team2 & frc612 \\\\\n",
       "\t3 & 0 & 15 & PanelAndCargo & PanelAndCargo & PanelAndCargo & PanelAndCargo & PanelAndCargo & PanelAndCargo & PanelAndCargo & Panel & 33 & false & false & false & HabLevel1 & HabLevel2 & None & 0 & 3 & 9 & false & CrossedHabLineInSandstorm & CrossedHabLineInSandstorm & CrossedHabLineInSandstorm & 14 & PanelAndCargo & Panel & PanelAndCargo & None & None & PanelAndCargo & None & PanelAndCargo & Panel & Panel & Panel & Panel & Panel & Panel & HabLevel2 & HabLevel2 & HabLevel1 & 0 & 15 & 1 & 56 & None & None & None & None & 74 & 2019vahay\\_f1m1\\_red & f & 2019vahay & r & 12 & 10 & 0 & 22 & 62 & team3 & frc1731 \\\\\n",
       "\t4 & 0 & 15 & PanelAndCargo & PanelAndCargo & PanelAndCargo & PanelAndCargo & PanelAndCargo & PanelAndCargo & PanelAndCargo & Panel & 30 & false & false & false & HabLevel1 & HabLevel1 & HabLevel1 & 0 & 0 & 9 & false & CrossedHabLineInSandstorm & CrossedHabLineInSandstorm & CrossedHabLineInSandstorm & 18 & Panel & Panel & PanelAndCargo & Panel & None & PanelAndCargo & Panel & PanelAndCargo & Panel & Panel & Panel & Panel & Panel & Panel & HabLevel2 & HabLevel2 & HabLevel1 & 0 & 15 & 0 & 57 & None & None & None & None & 72 & 2019vahay\\_f1m2\\_red & f & 2019vahay & r & 11 & 12 & 0 & 23 & 72 & team1 & frc2363 \\\\\n",
       "\t5 & 0 & 15 & PanelAndCargo & PanelAndCargo & PanelAndCargo & PanelAndCargo & PanelAndCargo & PanelAndCargo & PanelAndCargo & Panel & 30 & false & false & false & HabLevel1 & HabLevel1 & HabLevel1 & 0 & 0 & 9 & false & CrossedHabLineInSandstorm & CrossedHabLineInSandstorm & CrossedHabLineInSandstorm & 18 & Panel & Panel & PanelAndCargo & Panel & None & PanelAndCargo & Panel & PanelAndCargo & Panel & Panel & Panel & Panel & Panel & Panel & HabLevel2 & HabLevel2 & HabLevel1 & 0 & 15 & 0 & 57 & None & None & None & None & 72 & 2019vahay\\_f1m2\\_red & f & 2019vahay & r & 11 & 12 & 0 & 23 & 72 & team2 & frc612 \\\\\n",
       "\t6 & 0 & 15 & PanelAndCargo & PanelAndCargo & PanelAndCargo & PanelAndCargo & PanelAndCargo & PanelAndCargo & PanelAndCargo & Panel & 30 & false & false & false & HabLevel1 & HabLevel1 & HabLevel1 & 0 & 0 & 9 & false & CrossedHabLineInSandstorm & CrossedHabLineInSandstorm & CrossedHabLineInSandstorm & 18 & Panel & Panel & PanelAndCargo & Panel & None & PanelAndCargo & Panel & PanelAndCargo & Panel & Panel & Panel & Panel & Panel & Panel & HabLevel2 & HabLevel2 & HabLevel1 & 0 & 15 & 0 & 57 & None & None & None & None & 72 & 2019vahay\\_f1m2\\_red & f & 2019vahay & r & 11 & 12 & 0 & 23 & 72 & team3 & frc1731 \\\\\n",
       "\t7 & 0 & 15 & Panel & PanelAndCargo & PanelAndCargo & PanelAndCargo & PanelAndCargo & PanelAndCargo & Panel & Panel & 27 & false & false & false & HabLevel1 & HabLevel2 & HabLevel1 & 0 & 0 & 12 & false & CrossedHabLineInSandstorm & CrossedHabLineInSandstorm & CrossedHabLineInSandstorm & 12 & PanelAndCargo & None & PanelAndCargo & None & None & PanelAndCargo & None & PanelAndCargo & Panel & Panel & Panel & Panel & Panel & Panel & HabLevel2 & HabLevel2 & HabLevel1 & 0 & 15 & 0 & 51 & None & None & None & None & 66 & 2019vahay\\_f1m3\\_red & f & 2019vahay & r & 10 & 10 & 0 & 20 & 66 & team1 & frc2363 \\\\\n",
       "\t8 & 0 & 15 & Panel & PanelAndCargo & PanelAndCargo & PanelAndCargo & PanelAndCargo & PanelAndCargo & Panel & Panel & 27 & false & false & false & HabLevel1 & HabLevel2 & HabLevel1 & 0 & 0 & 12 & false & CrossedHabLineInSandstorm & CrossedHabLineInSandstorm & CrossedHabLineInSandstorm & 12 & PanelAndCargo & None & PanelAndCargo & None & None & PanelAndCargo & None & PanelAndCargo & Panel & Panel & Panel & Panel & Panel & Panel & HabLevel2 & HabLevel2 & HabLevel1 & 0 & 15 & 0 & 51 & None & None & None & None & 66 & 2019vahay\\_f1m3\\_red & f & 2019vahay & r & 10 & 10 & 0 & 20 & 66 & team2 & frc612 \\\\\n",
       "\t9 & 0 & 15 & Panel & PanelAndCargo & PanelAndCargo & PanelAndCargo & PanelAndCargo & PanelAndCargo & Panel & Panel & 27 & false & false & false & HabLevel1 & HabLevel2 & HabLevel1 & 0 & 0 & 12 & false & CrossedHabLineInSandstorm & CrossedHabLineInSandstorm & CrossedHabLineInSandstorm & 12 & PanelAndCargo & None & PanelAndCargo & None & None & PanelAndCargo & None & PanelAndCargo & Panel & Panel & Panel & Panel & Panel & Panel & HabLevel2 & HabLevel2 & HabLevel1 & 0 & 15 & 0 & 51 & None & None & None & None & 66 & 2019vahay\\_f1m3\\_red & f & 2019vahay & r & 10 & 10 & 0 & 20 & 66 & team3 & frc1731 \\\\\n",
       "\t10 & 0 & 15 & PanelAndCargo & PanelAndCargo & PanelAndCargo & None & None & PanelAndCargo & Panel & Panel & 15 & false & false & false & HabLevel1 & HabLevel1 & HabLevel1 & 1 & 0 & 9 & false & CrossedHabLineInSandstorm & CrossedHabLineInSandstorm & CrossedHabLineInSandstorm & 16 & Panel & Panel & None & Panel & Panel & Panel & PanelAndCargo & Panel & Panel & Panel & Panel & Panel & Panel & Panel & HabLevel2 & HabLevel2 & HabLevel1 & 0 & 15 & 0 & 40 & None & None & Panel & None & 55 & 2019vahay\\_qf1m1\\_red & qf & 2019vahay & r & 6 & 11 & 2 & 19 & 52 & team1 & frc2363 \\\\\n",
       "\t11 & 0 & 15 & PanelAndCargo & PanelAndCargo & PanelAndCargo & None & None & PanelAndCargo & Panel & Panel & 15 & false & false & false & HabLevel1 & HabLevel1 & HabLevel1 & 1 & 0 & 9 & false & CrossedHabLineInSandstorm & CrossedHabLineInSandstorm & CrossedHabLineInSandstorm & 16 & Panel & Panel & None & Panel & Panel & Panel & PanelAndCargo & Panel & Panel & Panel & Panel & Panel & Panel & Panel & HabLevel2 & HabLevel2 & HabLevel1 & 0 & 15 & 0 & 40 & None & None & Panel & None & 55 & 2019vahay\\_qf1m1\\_red & qf & 2019vahay & r & 6 & 11 & 2 & 19 & 52 & team2 & frc612 \\\\\n",
       "\t12 & 0 & 15 & PanelAndCargo & PanelAndCargo & PanelAndCargo & None & None & PanelAndCargo & Panel & Panel & 15 & false & false & false & HabLevel1 & HabLevel1 & HabLevel1 & 1 & 0 & 9 & false & CrossedHabLineInSandstorm & CrossedHabLineInSandstorm & CrossedHabLineInSandstorm & 16 & Panel & Panel & None & Panel & Panel & Panel & PanelAndCargo & Panel & Panel & Panel & Panel & Panel & Panel & Panel & HabLevel2 & HabLevel2 & HabLevel1 & 0 & 15 & 0 & 40 & None & None & Panel & None & 55 & 2019vahay\\_qf1m1\\_red & qf & 2019vahay & r & 6 & 11 & 2 & 19 & 52 & team3 & frc1731 \\\\\n",
       "\t13 & 0 & 15 & Panel & PanelAndCargo & PanelAndCargo & None & PanelAndCargo & Panel & PanelAndCargo & PanelAndCargo & 21 & false & false & false & HabLevel1 & HabLevel3 & HabLevel1 & 0 & 6 & 18 & false & CrossedHabLineInSandstorm & CrossedHabLineInSandstorm & CrossedHabLineInSandstorm & 8 & None & None & Panel & None & None & PanelAndCargo & None & PanelAndCargo & Panel & Panel & Panel & Panel & Panel & Panel & HabLevel2 & HabLevel2 & HabLevel1 & 0 & 15 & 0 & 47 & None & None & None & None & 68 & 2019vahay\\_qf1m2\\_red & qf & 2019vahay & r & 2 & 10 & 0 & 12 & 62 & team1 & frc2363 \\\\\n",
       "\t14 & 0 & 15 & Panel & PanelAndCargo & PanelAndCargo & None & PanelAndCargo & Panel & PanelAndCargo & PanelAndCargo & 21 & false & false & false & HabLevel1 & HabLevel3 & HabLevel1 & 0 & 6 & 18 & false & CrossedHabLineInSandstorm & CrossedHabLineInSandstorm & CrossedHabLineInSandstorm & 8 & None & None & Panel & None & None & PanelAndCargo & None & PanelAndCargo & Panel & Panel & Panel & Panel & Panel & Panel & HabLevel2 & HabLevel2 & HabLevel1 & 0 & 15 & 0 & 47 & None & None & None & None & 68 & 2019vahay\\_qf1m2\\_red & qf & 2019vahay & r & 2 & 10 & 0 & 12 & 62 & team2 & frc612 \\\\\n",
       "\t15 & 0 & 15 & Panel & PanelAndCargo & PanelAndCargo & None & PanelAndCargo & Panel & PanelAndCargo & PanelAndCargo & 21 & false & false & false & HabLevel1 & HabLevel3 & HabLevel1 & 0 & 6 & 18 & false & CrossedHabLineInSandstorm & CrossedHabLineInSandstorm & CrossedHabLineInSandstorm & 8 & None & None & Panel & None & None & PanelAndCargo & None & PanelAndCargo & Panel & Panel & Panel & Panel & Panel & Panel & HabLevel2 & HabLevel2 & HabLevel1 & 0 & 15 & 0 & 47 & None & None & None & None & 68 & 2019vahay\\_qf1m2\\_red & qf & 2019vahay & r & 2 & 10 & 0 & 12 & 62 & team3 & frc1731 \\\\\n",
       "\t16 & 0 & 15 & PanelAndCargo & Panel & PanelAndCargo & None & None & PanelAndCargo & PanelAndCargo & PanelAndCargo & 27 & false & false & false & HabLevel1 & HabLevel3 & HabLevel1 & 0 & 16 & 18 & false & CrossedHabLineInSandstorm & CrossedHabLineInSandstorm & CrossedHabLineInSandstorm & 8 & PanelAndCargo & None & PanelAndCargo & None & None & PanelAndCargo & None & PanelAndCargo & Panel & Panel & Panel & Panel & Panel & Panel & HabLevel2 & HabLevel2 & HabLevel1 & 0 & 15 & 1 & 53 & None & None & None & None & 84 & 2019vahay\\_qf1m3\\_red & qf & 2019vahay & r & 10 & 10 & 0 & 20 & 59 & team1 & frc2363 \\\\\n",
       "\t17 & 0 & 15 & PanelAndCargo & Panel & PanelAndCargo & None & None & PanelAndCargo & PanelAndCargo & PanelAndCargo & 27 & false & false & false & HabLevel1 & HabLevel3 & HabLevel1 & 0 & 16 & 18 & false & CrossedHabLineInSandstorm & CrossedHabLineInSandstorm & CrossedHabLineInSandstorm & 8 & PanelAndCargo & None & PanelAndCargo & None & None & PanelAndCargo & None & PanelAndCargo & Panel & Panel & Panel & Panel & Panel & Panel & HabLevel2 & HabLevel2 & HabLevel1 & 0 & 15 & 1 & 53 & None & None & None & None & 84 & 2019vahay\\_qf1m3\\_red & qf & 2019vahay & r & 10 & 10 & 0 & 20 & 59 & team2 & frc612 \\\\\n",
       "\t18 & 0 & 15 & PanelAndCargo & Panel & PanelAndCargo & None & None & PanelAndCargo & PanelAndCargo & PanelAndCargo & 27 & false & false & false & HabLevel1 & HabLevel3 & HabLevel1 & 0 & 16 & 18 & false & CrossedHabLineInSandstorm & CrossedHabLineInSandstorm & CrossedHabLineInSandstorm & 8 & PanelAndCargo & None & PanelAndCargo & None & None & PanelAndCargo & None & PanelAndCargo & Panel & Panel & Panel & Panel & Panel & Panel & HabLevel2 & HabLevel2 & HabLevel1 & 0 & 15 & 1 & 53 & None & None & None & None & 84 & 2019vahay\\_qf1m3\\_red & qf & 2019vahay & r & 10 & 10 & 0 & 20 & 59 & team3 & frc1731 \\\\\n",
       "\t19 & 0 & 15 & PanelAndCargo & PanelAndCargo & PanelAndCargo & None & PanelAndCargo & PanelAndCargo & PanelAndCargo & Panel & 24 & false & false & false & HabLevel1 & HabLevel3 & HabLevel1 & 0 & 28 & 18 & false & CrossedHabLineInSandstorm & CrossedHabLineInSandstorm & CrossedHabLineInSandstorm & 6 & None & PanelAndCargo & None & PanelAndCargo & None & None & None & None & Panel & Panel & Panel & Panel & Panel & Panel & HabLevel2 & HabLevel1 & HabLevel2 & 0 & 15 & 0 & 48 & None & None & None & None & 91 & 2019vahay\\_qf2m1\\_red & qf & 2019vahay & r & 10 & 0 & 0 & 10 & 63 & team1 & frc4099 \\\\\n",
       "\t20 & 0 & 15 & PanelAndCargo & PanelAndCargo & PanelAndCargo & None & PanelAndCargo & PanelAndCargo & PanelAndCargo & Panel & 24 & false & false & false & HabLevel1 & HabLevel3 & HabLevel1 & 0 & 28 & 18 & false & CrossedHabLineInSandstorm & CrossedHabLineInSandstorm & CrossedHabLineInSandstorm & 6 & None & PanelAndCargo & None & PanelAndCargo & None & None & None & None & Panel & Panel & Panel & Panel & Panel & Panel & HabLevel2 & HabLevel1 & HabLevel2 & 0 & 15 & 0 & 48 & None & None & None & None & 91 & 2019vahay\\_qf2m1\\_red & qf & 2019vahay & r & 10 & 0 & 0 & 10 & 63 & team2 & frc5338 \\\\\n",
       "\t21 & 0 & 15 & PanelAndCargo & PanelAndCargo & PanelAndCargo & None & PanelAndCargo & PanelAndCargo & PanelAndCargo & Panel & 24 & false & false & false & HabLevel1 & HabLevel3 & HabLevel1 & 0 & 28 & 18 & false & CrossedHabLineInSandstorm & CrossedHabLineInSandstorm & CrossedHabLineInSandstorm & 6 & None & PanelAndCargo & None & PanelAndCargo & None & None & None & None & Panel & Panel & Panel & Panel & Panel & Panel & HabLevel2 & HabLevel1 & HabLevel2 & 0 & 15 & 0 & 48 & None & None & None & None & 91 & 2019vahay\\_qf2m1\\_red & qf & 2019vahay & r & 10 & 0 & 0 & 10 & 63 & team3 & frc4505 \\\\\n",
       "\t22 & 0 & 15 & PanelAndCargo & PanelAndCargo & PanelAndCargo & None & PanelAndCargo & PanelAndCargo & Panel & Panel & 15 & false & false & false & HabLevel1 & HabLevel1 & None & 0 & 0 & 6 & false & CrossedHabLineInSandstorm & CrossedHabLineInSandstorm & CrossedHabLineInSandstorm & 4 & None & None & None & Panel & None & None & None & None & Panel & Panel & Panel & Panel & Panel & Panel & HabLevel2 & HabLevel1 & HabLevel2 & 0 & 15 & 0 & 25 & None & None & None & None & 40 & 2019vahay\\_qf2m2\\_red & qf & 2019vahay & r & 2 & 0 & 0 & 2 & 40 & team1 & frc4099 \\\\\n",
       "\t23 & 0 & 15 & PanelAndCargo & PanelAndCargo & PanelAndCargo & None & PanelAndCargo & PanelAndCargo & Panel & Panel & 15 & false & false & false & HabLevel1 & HabLevel1 & None & 0 & 0 & 6 & false & CrossedHabLineInSandstorm & CrossedHabLineInSandstorm & CrossedHabLineInSandstorm & 4 & None & None & None & Panel & None & None & None & None & Panel & Panel & Panel & Panel & Panel & Panel & HabLevel2 & HabLevel1 & HabLevel2 & 0 & 15 & 0 & 25 & None & None & None & None & 40 & 2019vahay\\_qf2m2\\_red & qf & 2019vahay & r & 2 & 0 & 0 & 2 & 40 & team2 & frc5338 \\\\\n",
       "\t24 & 0 & 15 & PanelAndCargo & PanelAndCargo & PanelAndCargo & None & PanelAndCargo & PanelAndCargo & Panel & Panel & 15 & false & false & false & HabLevel1 & HabLevel1 & None & 0 & 0 & 6 & false & CrossedHabLineInSandstorm & CrossedHabLineInSandstorm & CrossedHabLineInSandstorm & 4 & None & None & None & Panel & None & None & None & None & Panel & Panel & Panel & Panel & Panel & Panel & HabLevel2 & HabLevel1 & HabLevel2 & 0 & 15 & 0 & 25 & None & None & None & None & 40 & 2019vahay\\_qf2m2\\_red & qf & 2019vahay & r & 2 & 0 & 0 & 2 & 40 & team3 & frc4505 \\\\\n",
       "\t25 & 0 & 12 & Panel & PanelAndCargo & PanelAndCargo & None & PanelAndCargo & PanelAndCargo & PanelAndCargo & PanelAndCargo & 21 & false & false & false & HabLevel2 & HabLevel1 & HabLevel1 & 0 & 0 & 12 & false & CrossedHabLineInSandstorm & CrossedHabLineInSandstorm & CrossedHabLineInSandstorm & 8 & None & PanelAndCargo & None & None & None & None & None & None & Cargo & Cargo & Panel & Panel & Panel & Panel & HabLevel1 & HabLevel2 & HabLevel1 & 0 & 12 & 0 & 41 & None & None & None & None & 53 & 2019vahay\\_qf3m1\\_red & qf & 2019vahay & r & 5 & 0 & 0 & 5 & 53 & team1 & frc1418 \\\\\n",
       "\t26 & 0 & 12 & Panel & PanelAndCargo & PanelAndCargo & None & PanelAndCargo & PanelAndCargo & PanelAndCargo & PanelAndCargo & 21 & false & false & false & HabLevel2 & HabLevel1 & HabLevel1 & 0 & 0 & 12 & false & CrossedHabLineInSandstorm & CrossedHabLineInSandstorm & CrossedHabLineInSandstorm & 8 & None & PanelAndCargo & None & None & None & None & None & None & Cargo & Cargo & Panel & Panel & Panel & Panel & HabLevel1 & HabLevel2 & HabLevel1 & 0 & 12 & 0 & 41 & None & None & None & None & 53 & 2019vahay\\_qf3m1\\_red & qf & 2019vahay & r & 5 & 0 & 0 & 5 & 53 & team2 & frc614 \\\\\n",
       "\t27 & 0 & 12 & Panel & PanelAndCargo & PanelAndCargo & None & PanelAndCargo & PanelAndCargo & PanelAndCargo & PanelAndCargo & 21 & false & false & false & HabLevel2 & HabLevel1 & HabLevel1 & 0 & 0 & 12 & false & CrossedHabLineInSandstorm & CrossedHabLineInSandstorm & CrossedHabLineInSandstorm & 8 & None & PanelAndCargo & None & None & None & None & None & None & Cargo & Cargo & Panel & Panel & Panel & Panel & HabLevel1 & HabLevel2 & HabLevel1 & 0 & 12 & 0 & 41 & None & None & None & None & 53 & 2019vahay\\_qf3m1\\_red & qf & 2019vahay & r & 5 & 0 & 0 & 5 & 53 & team3 & frc6543 \\\\\n",
       "\t28 & 0 & 12 & PanelAndCargo & PanelAndCargo & PanelAndCargo & None & None & PanelAndCargo & PanelAndCargo & None & 24 & false & false & false & HabLevel2 & HabLevel2 & HabLevel1 & 0 & 0 & 15 & false & CrossedHabLineInSandstorm & CrossedHabLineInSandstorm & CrossedHabLineInSandstorm & 10 & None & PanelAndCargo & None & PanelAndCargo & None & PanelAndCargo & None & Panel & Panel & Panel & Panel & Panel & Cargo & Cargo & HabLevel1 & HabLevel2 & HabLevel1 & 0 & 12 & 0 & 49 & None & None & None & None & 61 & 2019vahay\\_qf3m2\\_red & qf & 2019vahay & r & 10 & 7 & 0 & 17 & 61 & team1 & frc1418 \\\\\n",
       "\t29 & 0 & 12 & PanelAndCargo & PanelAndCargo & PanelAndCargo & None & None & PanelAndCargo & PanelAndCargo & None & 24 & false & false & false & HabLevel2 & HabLevel2 & HabLevel1 & 0 & 0 & 15 & false & CrossedHabLineInSandstorm & CrossedHabLineInSandstorm & CrossedHabLineInSandstorm & 10 & None & PanelAndCargo & None & PanelAndCargo & None & PanelAndCargo & None & Panel & Panel & Panel & Panel & Panel & Cargo & Cargo & HabLevel1 & HabLevel2 & HabLevel1 & 0 & 12 & 0 & 49 & None & None & None & None & 61 & 2019vahay\\_qf3m2\\_red & qf & 2019vahay & r & 10 & 7 & 0 & 17 & 61 & team2 & frc614 \\\\\n",
       "\t30 & 0 & 12 & PanelAndCargo & PanelAndCargo & PanelAndCargo & None & None & PanelAndCargo & PanelAndCargo & None & 24 & false & false & false & HabLevel2 & HabLevel2 & HabLevel1 & 0 & 0 & 15 & false & CrossedHabLineInSandstorm & CrossedHabLineInSandstorm & CrossedHabLineInSandstorm & 10 & None & PanelAndCargo & None & PanelAndCargo & None & PanelAndCargo & None & Panel & Panel & Panel & Panel & Panel & Cargo & Cargo & HabLevel1 & HabLevel2 & HabLevel1 & 0 & 12 & 0 & 49 & None & None & None & None & 61 & 2019vahay\\_qf3m2\\_red & qf & 2019vahay & r & 10 & 7 & 0 & 17 & 61 & team3 & frc6543 \\\\\n",
       "\t$\\dots$ & $\\dots$ & $\\dots$ & $\\dots$ & $\\dots$ & $\\dots$ & $\\dots$ & $\\dots$ & $\\dots$ & $\\dots$ & $\\dots$ & $\\dots$ & $\\dots$ & $\\dots$ & $\\dots$ & $\\dots$ & $\\dots$ & $\\dots$ & $\\dots$ & $\\dots$ & $\\dots$ & $\\dots$ & $\\dots$ & $\\dots$ & $\\dots$ & $\\dots$ & $\\dots$ & $\\dots$ & $\\dots$ & $\\dots$ & $\\dots$ & $\\dots$ & $\\dots$ & $\\dots$ & $\\dots$ & $\\dots$ & $\\dots$ & $\\dots$ & $\\dots$ & $\\dots$ & $\\dots$ & $\\dots$ & $\\dots$ & $\\dots$ & $\\dots$ & $\\dots$ & $\\dots$ & $\\dots$ & $\\dots$ & $\\dots$ & $\\dots$ & $\\dots$ & $\\dots$ & $\\dots$ & $\\dots$ & $\\dots$ & $\\dots$ & $\\dots$ & $\\dots$ & $\\dots$ & $\\dots$ & $\\dots$ & $\\dots$ \\\\\n",
       "\\end{tabular}\n"
      ],
      "text/plain": [
       "540×62 DataFrame. Omitted printing of 58 columns\n",
       "│ Row │ adjustPoints │ autoPoints │ bay1          │ bay2          │\n",
       "│     │ \u001b[90mInt64⍰\u001b[39m       │ \u001b[90mInt64⍰\u001b[39m     │ \u001b[90mString⍰\u001b[39m       │ \u001b[90mString⍰\u001b[39m       │\n",
       "├─────┼──────────────┼────────────┼───────────────┼───────────────┤\n",
       "│ 1   │ 0            │ 15         │ PanelAndCargo │ PanelAndCargo │\n",
       "│ 2   │ 0            │ 15         │ PanelAndCargo │ PanelAndCargo │\n",
       "│ 3   │ 0            │ 15         │ PanelAndCargo │ PanelAndCargo │\n",
       "│ 4   │ 0            │ 15         │ PanelAndCargo │ PanelAndCargo │\n",
       "│ 5   │ 0            │ 15         │ PanelAndCargo │ PanelAndCargo │\n",
       "│ 6   │ 0            │ 15         │ PanelAndCargo │ PanelAndCargo │\n",
       "│ 7   │ 0            │ 15         │ Panel         │ PanelAndCargo │\n",
       "│ 8   │ 0            │ 15         │ Panel         │ PanelAndCargo │\n",
       "│ 9   │ 0            │ 15         │ Panel         │ PanelAndCargo │\n",
       "│ 10  │ 0            │ 15         │ PanelAndCargo │ PanelAndCargo │\n",
       "⋮\n",
       "│ 530 │ 0            │ 9          │ PanelAndCargo │ PanelAndCargo │\n",
       "│ 531 │ 0            │ 9          │ PanelAndCargo │ PanelAndCargo │\n",
       "│ 532 │ 0            │ 15         │ Panel         │ PanelAndCargo │\n",
       "│ 533 │ 0            │ 15         │ Panel         │ PanelAndCargo │\n",
       "│ 534 │ 0            │ 15         │ Panel         │ PanelAndCargo │\n",
       "│ 535 │ 0            │ 15         │ PanelAndCargo │ PanelAndCargo │\n",
       "│ 536 │ 0            │ 15         │ PanelAndCargo │ PanelAndCargo │\n",
       "│ 537 │ 0            │ 15         │ PanelAndCargo │ PanelAndCargo │\n",
       "│ 538 │ 0            │ 15         │ Panel         │ PanelAndCargo │\n",
       "│ 539 │ 0            │ 15         │ Panel         │ PanelAndCargo │\n",
       "│ 540 │ 0            │ 15         │ Panel         │ PanelAndCargo │"
      ]
     },
     "execution_count": 7,
     "metadata": {},
     "output_type": "execute_result"
    }
   ],
   "source": [
    "scoreline(teams, scores) = let stacked = stack(teams, [:team1, :team2, :team3], variable_name=:role, value_name=:team)\n",
    "    join(scores, stacked, on=:key)\n",
    "end\n",
    "\n",
    "scoreline_blue = scoreline(teams_blue, scores_blue)\n",
    "scoreline_red = scoreline(teams_red, scores_red)"
   ]
  },
  {
   "cell_type": "code",
   "execution_count": 8,
   "metadata": {},
   "outputs": [
    {
     "data": {
      "text/plain": [
       "1080-element Array{Union{Missing, String},1}:\n",
       " \"frc2363\"\n",
       " \"frc612\" \n",
       " \"frc1731\"\n",
       " \"frc2363\"\n",
       " \"frc612\" \n",
       " \"frc1731\"\n",
       " \"frc2363\"\n",
       " \"frc612\" \n",
       " \"frc1731\"\n",
       " \"frc2363\"\n",
       " \"frc612\" \n",
       " \"frc1731\"\n",
       " \"frc2363\"\n",
       " ⋮        \n",
       " \"frc2106\"\n",
       " \"frc1599\"\n",
       " \"frc5804\"\n",
       " \"frc1610\"\n",
       " \"frc384\" \n",
       " \"frc3359\"\n",
       " \"frc1610\"\n",
       " \"frc384\" \n",
       " \"frc3359\"\n",
       " \"frc1610\"\n",
       " \"frc384\" \n",
       " \"frc3359\""
      ]
     },
     "execution_count": 8,
     "metadata": {},
     "output_type": "execute_result"
    }
   ],
   "source": [
    "numericcols = Lib.numeric_col_names(scoreline_red)\n",
    "diff_red = convert(Matrix,scoreline_red[:,numericcols]) .- convert(Matrix, scoreline_blue[:,numericcols])\n",
    "diff_blue = convert(Matrix,scoreline_blue[:,numericcols]) .- convert(Matrix, scoreline_red[:,numericcols])\n",
    "\n",
    "diffdf = DataFrame(vcat(diff_red, diff_blue), numericcols)\n",
    "diffdf[:key] = vcat(scoreline_red.key, scoreline_blue.key)\n",
    "diffdf[:team] = vcat(scoreline_red.team, scoreline_blue.team)"
   ]
  },
  {
   "cell_type": "code",
   "execution_count": 9,
   "metadata": {},
   "outputs": [
    {
     "data": {
      "text/plain": [
       "22-element Array{Symbol,1}:\n",
       " :adjustPoints              \n",
       " :autoPoints                \n",
       " :cargoPoints               \n",
       " :completeRocketRankingPoint\n",
       " :completedRocketFar        \n",
       " :completedRocketNear       \n",
       " :foulCount                 \n",
       " :foulPoints                \n",
       " :habClimbPoints            \n",
       " :habDockingRankingPoint    \n",
       " :hatchPanelPoints          \n",
       " :rp                        \n",
       " :sandStormBonusPoints      \n",
       " :techFoulCount             \n",
       " :teleopPoints              \n",
       " :totalPoints               \n",
       " :rocketLowPoints           \n",
       " :rocketMidPoints           \n",
       " :rocketTopPoints           \n",
       " :rocketPoints              \n",
       " :ownPoints                 \n",
       " :win                       "
      ]
     },
     "execution_count": 9,
     "metadata": {},
     "output_type": "execute_result"
    }
   ],
   "source": [
    "win(pointsMargin) = \n",
    "    if pointsMargin > 0 \n",
    "        1.0\n",
    "    elseif pointsMargin < 0 \n",
    "        0.0\n",
    "    else \n",
    "        0.5\n",
    "    end\n",
    "\n",
    "diffdf[:win] = win.(diffdf.totalPoints)\n",
    "push!(numericcols, :win)"
   ]
  },
  {
   "cell_type": "code",
   "execution_count": 10,
   "metadata": {},
   "outputs": [
    {
     "data": {
      "text/html": [
       "<table class=\"data-frame\"><thead><tr><th></th><th>team</th><th>adjustPoints_mean</th><th>foulPoints_mean</th><th>cargoPoints_mean</th><th>completeRocketRankingPoint_mean</th><th>rocketPoints_mean</th><th>rp_mean</th><th>sandStormBonusPoints_mean</th><th>rocketLowPoints_mean</th><th>rocketMidPoints_mean</th><th>teleopPoints_mean</th><th>win_mean</th><th>autoPoints_mean</th><th>completedRocketNear_mean</th><th>habDockingRankingPoint_mean</th><th>completedRocketFar_mean</th><th>totalPoints_mean</th><th>hatchPanelPoints_mean</th><th>foulCount_mean</th><th>habClimbPoints_mean</th><th>ownPoints_mean</th><th>rocketTopPoints_mean</th><th>techFoulCount_mean</th></tr><tr><th></th><th>String⍰</th><th>Float64</th><th>Float64</th><th>Float64</th><th>Float64</th><th>Float64</th><th>Float64</th><th>Float64</th><th>Float64</th><th>Float64</th><th>Float64</th><th>Float64</th><th>Float64</th><th>Float64</th><th>Float64</th><th>Float64</th><th>Float64</th><th>Float64</th><th>Float64</th><th>Float64</th><th>Float64</th><th>Float64</th><th>Float64</th></tr></thead><tbody><p>75 rows × 23 columns</p><tr><th>1</th><td>frc2363</td><td>3.2</td><td>0.7</td><td>0.9</td><td>0.0</td><td>3.6</td><td>0.55</td><td>2.4</td><td>-0.4</td><td>3.9</td><td>5.35</td><td>0.65</td><td>2.4</td><td>0.0</td><td>0.25</td><td>0.0</td><td>11.65</td><td>2.2</td><td>-0.4</td><td>2.25</td><td>11.7</td><td>0.1</td><td>0.05</td></tr><tr><th>2</th><td>frc612</td><td>3.2</td><td>1.05</td><td>1.95</td><td>0.0</td><td>2.7</td><td>1.5</td><td>2.55</td><td>0.3</td><td>2.8</td><td>8.4</td><td>0.85</td><td>2.55</td><td>0.0</td><td>0.4</td><td>0.0</td><td>15.2</td><td>2.4</td><td>-0.35</td><td>4.05</td><td>15.2</td><td>-0.4</td><td>0.0</td></tr><tr><th>3</th><td>frc1731</td><td>3.04762</td><td>0.857143</td><td>1.0</td><td>0.0</td><td>3.90476</td><td>-0.238095</td><td>1.71429</td><td>1.33333</td><td>2.47619</td><td>0.619048</td><td>0.52381</td><td>1.71429</td><td>0.0</td><td>-0.047619</td><td>0.0</td><td>6.2381</td><td>1.61905</td><td>-0.285714</td><td>-2.0</td><td>6.2381</td><td>0.0952381</td><td>0.0</td></tr><tr><th>4</th><td>frc4099</td><td>0.0</td><td>1.1875</td><td>3.5625</td><td>0.0</td><td>2.6875</td><td>0.75</td><td>1.6875</td><td>2.8125</td><td>-0.6875</td><td>8.5</td><td>0.6875</td><td>1.6875</td><td>0.0</td><td>0.125</td><td>0.0</td><td>11.375</td><td>1.75</td><td>-0.1875</td><td>3.1875</td><td>11.3125</td><td>0.5625</td><td>-0.0625</td></tr><tr><th>5</th><td>frc5338</td><td>0.0</td><td>1.9375</td><td>0.9375</td><td>0.0</td><td>-4.25</td><td>0.875</td><td>0.0</td><td>-1.0625</td><td>-2.75</td><td>5.5</td><td>0.625</td><td>0.0</td><td>0.0</td><td>0.5</td><td>0.0</td><td>7.4375</td><td>-1.25</td><td>-0.4375</td><td>5.8125</td><td>7.375</td><td>-0.4375</td><td>-0.0625</td></tr><tr><th>6</th><td>frc4505</td><td>0.0</td><td>-1.0</td><td>1.3125</td><td>0.0</td><td>-0.4375</td><td>-0.25</td><td>1.875</td><td>-0.375</td><td>-0.3125</td><td>0.8125</td><td>0.5</td><td>1.875</td><td>0.0</td><td>-0.125</td><td>0.0</td><td>1.6875</td><td>-0.125</td><td>0.125</td><td>-0.375</td><td>1.75</td><td>0.25</td><td>0.0625</td></tr><tr><th>7</th><td>frc1418</td><td>0.0</td><td>0.7</td><td>1.8</td><td>0.05</td><td>11.05</td><td>0.4</td><td>-1.05</td><td>5.25</td><td>2.8</td><td>8.95</td><td>0.6</td><td>-1.05</td><td>0.0</td><td>0.05</td><td>0.0</td><td>8.6</td><td>6.4</td><td>0.1</td><td>0.75</td><td>8.5</td><td>3.0</td><td>-0.1</td></tr><tr><th>8</th><td>frc614</td><td>0.0</td><td>3.75</td><td>6.15</td><td>0.0</td><td>2.65</td><td>1.15</td><td>1.5</td><td>2.6</td><td>0.3</td><td>12.4</td><td>0.75</td><td>1.5</td><td>0.0</td><td>0.25</td><td>0.0</td><td>17.65</td><td>1.9</td><td>-0.75</td><td>4.35</td><td>17.5</td><td>-0.25</td><td>-0.15</td></tr><tr><th>9</th><td>frc6543</td><td>0.0</td><td>0.2</td><td>1.2</td><td>-0.05</td><td>0.55</td><td>-0.75</td><td>-1.35</td><td>1.35</td><td>-0.1</td><td>0.3</td><td>0.4</td><td>-1.35</td><td>0.0</td><td>-0.2</td><td>0.0</td><td>-0.85</td><td>0.3</td><td>0.6</td><td>-1.2</td><td>-1.05</td><td>-0.7</td><td>-0.2</td></tr><tr><th>10</th><td>frc2199</td><td>0.0</td><td>-0.941176</td><td>0.0</td><td>0.0</td><td>-2.58824</td><td>-0.176471</td><td>-0.882353</td><td>-2.52941</td><td>-0.352941</td><td>0.117647</td><td>0.470588</td><td>-0.882353</td><td>0.0</td><td>-0.0588235</td><td>0.0</td><td>-1.70588</td><td>-2.70588</td><td>0.117647</td><td>2.82353</td><td>-1.64706</td><td>0.294118</td><td>0.0588235</td></tr><tr><th>11</th><td>frc2534</td><td>0.0</td><td>0.117647</td><td>1.41176</td><td>0.0</td><td>-1.23529</td><td>1.29412</td><td>-0.176471</td><td>0.176471</td><td>-0.588235</td><td>5.17647</td><td>0.764706</td><td>-0.176471</td><td>0.0</td><td>0.235294</td><td>0.0</td><td>5.11765</td><td>-1.17647</td><td>-0.235294</td><td>4.94118</td><td>5.17647</td><td>-0.823529</td><td>0.0588235</td></tr><tr><th>12</th><td>frc5549</td><td>0.0</td><td>-2.0</td><td>-1.23529</td><td>0.0</td><td>-1.41176</td><td>-0.529412</td><td>-0.882353</td><td>-1.64706</td><td>0.352941</td><td>-2.29412</td><td>0.411765</td><td>-0.882353</td><td>0.0</td><td>-0.176471</td><td>0.0</td><td>-5.17647</td><td>-1.41176</td><td>-0.117647</td><td>0.352941</td><td>-4.94118</td><td>-0.117647</td><td>0.235294</td></tr><tr><th>13</th><td>frc2988</td><td>-4.57143</td><td>-1.28571</td><td>-0.214286</td><td>0.0</td><td>-1.92857</td><td>0.5</td><td>-0.857143</td><td>1.42857</td><td>-2.92857</td><td>0.571429</td><td>0.571429</td><td>-0.857143</td><td>0.0</td><td>0.0714286</td><td>0.0</td><td>-6.14286</td><td>-0.285714</td><td>0.428571</td><td>1.07143</td><td>-6.14286</td><td>-0.428571</td><td>0.0</td></tr><tr><th>14</th><td>frc3941</td><td>0.0</td><td>-2.81818</td><td>1.09091</td><td>0.0</td><td>-3.27273</td><td>-1.18182</td><td>-1.90909</td><td>-3.18182</td><td>0.272727</td><td>-8.45455</td><td>0.272727</td><td>-1.90909</td><td>0.0</td><td>-0.272727</td><td>0.0</td><td>-13.1818</td><td>-3.81818</td><td>0.636364</td><td>-5.72727</td><td>-13.0909</td><td>-0.363636</td><td>0.0909091</td></tr><tr><th>15</th><td>frc2421</td><td>0.0</td><td>-0.363636</td><td>-2.72727</td><td>0.0</td><td>0.454545</td><td>-1.81818</td><td>-3.81818</td><td>0.636364</td><td>-0.363636</td><td>-8.72727</td><td>0.136364</td><td>-3.81818</td><td>0.0</td><td>-0.363636</td><td>0.0</td><td>-12.9091</td><td>-1.63636</td><td>-0.181818</td><td>-4.36364</td><td>-12.8182</td><td>0.181818</td><td>0.0909091</td></tr><tr><th>16</th><td>frc1719</td><td>0.0</td><td>1.07143</td><td>-0.642857</td><td>0.0714286</td><td>2.64286</td><td>0.357143</td><td>0.428571</td><td>0.857143</td><td>1.14286</td><td>4.57143</td><td>0.5</td><td>0.428571</td><td>0.0</td><td>0.142857</td><td>0.0</td><td>6.07143</td><td>3.28571</td><td>-0.357143</td><td>1.92857</td><td>6.07143</td><td>0.642857</td><td>0.0</td></tr><tr><th>17</th><td>frc623</td><td>0.0</td><td>-0.272727</td><td>-1.09091</td><td>0.0</td><td>1.0</td><td>-0.181818</td><td>0.545455</td><td>0.0909091</td><td>0.363636</td><td>-1.81818</td><td>0.5</td><td>0.545455</td><td>0.0</td><td>-0.181818</td><td>0.0</td><td>-1.54545</td><td>1.45455</td><td>0.0909091</td><td>-2.18182</td><td>-1.54545</td><td>0.545455</td><td>0.0</td></tr><tr><th>18</th><td>frc4464</td><td>0.0</td><td>-1.36364</td><td>-4.90909</td><td>0.0</td><td>-4.18182</td><td>-1.18182</td><td>-4.09091</td><td>-3.27273</td><td>-1.18182</td><td>-16.0909</td><td>0.272727</td><td>-4.09091</td><td>0.0</td><td>-0.272727</td><td>0.0</td><td>-21.5455</td><td>-3.81818</td><td>0.454545</td><td>-7.36364</td><td>-21.5455</td><td>0.272727</td><td>0.0</td></tr><tr><th>19</th><td>frc2961</td><td>0.0</td><td>0.363636</td><td>-3.54545</td><td>0.0909091</td><td>-3.54545</td><td>0.0</td><td>-1.09091</td><td>-3.54545</td><td>0.0</td><td>-5.72727</td><td>0.5</td><td>-1.09091</td><td>0.0</td><td>-0.0909091</td><td>0.0</td><td>-6.45455</td><td>-1.09091</td><td>0.181818</td><td>-1.09091</td><td>-6.54545</td><td>0.0</td><td>-0.0909091</td></tr><tr><th>20</th><td>frc4242</td><td>0.0</td><td>-1.23077</td><td>2.07692</td><td>-0.0769231</td><td>-1.53846</td><td>0.461538</td><td>2.76923</td><td>-0.692308</td><td>-0.307692</td><td>3.0</td><td>0.538462</td><td>2.76923</td><td>0.0</td><td>0.0769231</td><td>0.0</td><td>4.53846</td><td>-1.38462</td><td>0.153846</td><td>2.30769</td><td>4.61538</td><td>-0.538462</td><td>0.0769231</td></tr><tr><th>21</th><td>frc1629</td><td>0.0</td><td>-2.85714</td><td>1.5</td><td>0.0</td><td>3.71429</td><td>-0.142857</td><td>1.5</td><td>2.28571</td><td>0.857143</td><td>3.71429</td><td>0.464286</td><td>1.5</td><td>0.0</td><td>-0.142857</td><td>0.0</td><td>2.35714</td><td>4.14286</td><td>0.714286</td><td>-1.92857</td><td>2.42857</td><td>0.571429</td><td>0.0714286</td></tr><tr><th>22</th><td>frc2819</td><td>0.0</td><td>-1.54545</td><td>-3.0</td><td>0.0</td><td>-4.72727</td><td>-1.54545</td><td>-4.63636</td><td>-3.63636</td><td>-0.545455</td><td>-9.63636</td><td>0.136364</td><td>-4.63636</td><td>0.0</td><td>-0.0909091</td><td>0.0</td><td>-15.8182</td><td>-3.09091</td><td>0.818182</td><td>-3.54545</td><td>-15.9091</td><td>-0.545455</td><td>-0.0909091</td></tr><tr><th>23</th><td>frc116</td><td>-4.57143</td><td>-2.64286</td><td>1.5</td><td>0.0</td><td>-4.07143</td><td>0.428571</td><td>-0.642857</td><td>-0.357143</td><td>-3.42857</td><td>1.85714</td><td>0.5</td><td>-0.642857</td><td>0.0</td><td>0.285714</td><td>0.0</td><td>-6.0</td><td>-2.85714</td><td>0.642857</td><td>3.21429</td><td>-5.92857</td><td>-0.285714</td><td>0.0714286</td></tr><tr><th>24</th><td>frc316</td><td>0.0</td><td>-1.54545</td><td>1.90909</td><td>0.0</td><td>2.0</td><td>-0.363636</td><td>1.36364</td><td>0.909091</td><td>0.909091</td><td>2.63636</td><td>0.454545</td><td>1.36364</td><td>0.0</td><td>-0.181818</td><td>0.0</td><td>2.45455</td><td>2.90909</td><td>0.818182</td><td>-2.18182</td><td>2.36364</td><td>0.181818</td><td>-0.0909091</td></tr><tr><th>25</th><td>frc888</td><td>0.0</td><td>1.71429</td><td>-1.92857</td><td>0.0</td><td>-1.78571</td><td>-0.142857</td><td>0.0</td><td>-1.21429</td><td>-0.714286</td><td>-4.5</td><td>0.428571</td><td>0.0</td><td>0.0</td><td>0.0</td><td>0.0</td><td>-2.78571</td><td>-1.28571</td><td>-0.571429</td><td>-1.28571</td><td>-2.78571</td><td>0.142857</td><td>0.0</td></tr><tr><th>26</th><td>frc2028</td><td>0.0</td><td>1.71429</td><td>-0.428571</td><td>0.0</td><td>-2.21429</td><td>0.571429</td><td>0.857143</td><td>-0.5</td><td>-1.57143</td><td>-1.57143</td><td>0.607143</td><td>0.857143</td><td>0.0</td><td>0.0</td><td>0.0</td><td>1.0</td><td>-2.0</td><td>-0.571429</td><td>0.857143</td><td>1.0</td><td>-0.142857</td><td>0.0</td></tr><tr><th>27</th><td>frc3373</td><td>0.0</td><td>0.25</td><td>-1.75</td><td>0.0</td><td>3.83333</td><td>0.0</td><td>-1.75</td><td>1.41667</td><td>1.41667</td><td>-0.333333</td><td>0.5</td><td>-1.75</td><td>0.0</td><td>0.0</td><td>0.0</td><td>-1.83333</td><td>1.66667</td><td>-0.0833333</td><td>-0.25</td><td>-1.83333</td><td>1.0</td><td>0.0</td></tr><tr><th>28</th><td>frc1895</td><td>0.0</td><td>-0.0714286</td><td>1.5</td><td>0.0</td><td>-0.0714286</td><td>0.0</td><td>0.857143</td><td>0.857143</td><td>-0.928571</td><td>0.928571</td><td>0.464286</td><td>0.857143</td><td>0.0</td><td>0.0</td><td>0.0</td><td>1.71429</td><td>0.285714</td><td>-0.214286</td><td>-0.857143</td><td>1.78571</td><td>0.0</td><td>0.0714286</td></tr><tr><th>29</th><td>frc611</td><td>-4.57143</td><td>1.07143</td><td>1.71429</td><td>0.0</td><td>-0.642857</td><td>-0.785714</td><td>-0.857143</td><td>1.07143</td><td>-1.71429</td><td>-4.64286</td><td>0.321429</td><td>-0.857143</td><td>0.0</td><td>-0.214286</td><td>0.0</td><td>-9.0</td><td>-2.28571</td><td>-0.357143</td><td>-4.07143</td><td>-9.0</td><td>0.0</td><td>0.0</td></tr><tr><th>30</th><td>frc2186</td><td>0.0</td><td>-2.23077</td><td>-1.38462</td><td>0.0</td><td>-0.230769</td><td>0.0769231</td><td>-1.84615</td><td>1.30769</td><td>-0.923077</td><td>-3.23077</td><td>0.461538</td><td>-1.84615</td><td>0.0</td><td>-0.0769231</td><td>0.0</td><td>-7.30769</td><td>0.0</td><td>0.230769</td><td>-1.84615</td><td>-7.15385</td><td>-0.615385</td><td>0.153846</td></tr><tr><th>&vellip;</th><td>&vellip;</td><td>&vellip;</td><td>&vellip;</td><td>&vellip;</td><td>&vellip;</td><td>&vellip;</td><td>&vellip;</td><td>&vellip;</td><td>&vellip;</td><td>&vellip;</td><td>&vellip;</td><td>&vellip;</td><td>&vellip;</td><td>&vellip;</td><td>&vellip;</td><td>&vellip;</td><td>&vellip;</td><td>&vellip;</td><td>&vellip;</td><td>&vellip;</td><td>&vellip;</td><td>&vellip;</td><td>&vellip;</td></tr></tbody></table>"
      ],
      "text/latex": [
       "\\begin{tabular}{r|ccccccccccccccccccccccc}\n",
       "\t& team & adjustPoints\\_mean & foulPoints\\_mean & cargoPoints\\_mean & completeRocketRankingPoint\\_mean & rocketPoints\\_mean & rp\\_mean & sandStormBonusPoints\\_mean & rocketLowPoints\\_mean & rocketMidPoints\\_mean & teleopPoints\\_mean & win\\_mean & autoPoints\\_mean & completedRocketNear\\_mean & habDockingRankingPoint\\_mean & completedRocketFar\\_mean & totalPoints\\_mean & hatchPanelPoints\\_mean & foulCount\\_mean & habClimbPoints\\_mean & ownPoints\\_mean & rocketTopPoints\\_mean & techFoulCount\\_mean\\\\\n",
       "\t\\hline\n",
       "\t& String⍰ & Float64 & Float64 & Float64 & Float64 & Float64 & Float64 & Float64 & Float64 & Float64 & Float64 & Float64 & Float64 & Float64 & Float64 & Float64 & Float64 & Float64 & Float64 & Float64 & Float64 & Float64 & Float64\\\\\n",
       "\t\\hline\n",
       "\t1 & frc2363 & 3.2 & 0.7 & 0.9 & 0.0 & 3.6 & 0.55 & 2.4 & -0.4 & 3.9 & 5.35 & 0.65 & 2.4 & 0.0 & 0.25 & 0.0 & 11.65 & 2.2 & -0.4 & 2.25 & 11.7 & 0.1 & 0.05 \\\\\n",
       "\t2 & frc612 & 3.2 & 1.05 & 1.95 & 0.0 & 2.7 & 1.5 & 2.55 & 0.3 & 2.8 & 8.4 & 0.85 & 2.55 & 0.0 & 0.4 & 0.0 & 15.2 & 2.4 & -0.35 & 4.05 & 15.2 & -0.4 & 0.0 \\\\\n",
       "\t3 & frc1731 & 3.04762 & 0.857143 & 1.0 & 0.0 & 3.90476 & -0.238095 & 1.71429 & 1.33333 & 2.47619 & 0.619048 & 0.52381 & 1.71429 & 0.0 & -0.047619 & 0.0 & 6.2381 & 1.61905 & -0.285714 & -2.0 & 6.2381 & 0.0952381 & 0.0 \\\\\n",
       "\t4 & frc4099 & 0.0 & 1.1875 & 3.5625 & 0.0 & 2.6875 & 0.75 & 1.6875 & 2.8125 & -0.6875 & 8.5 & 0.6875 & 1.6875 & 0.0 & 0.125 & 0.0 & 11.375 & 1.75 & -0.1875 & 3.1875 & 11.3125 & 0.5625 & -0.0625 \\\\\n",
       "\t5 & frc5338 & 0.0 & 1.9375 & 0.9375 & 0.0 & -4.25 & 0.875 & 0.0 & -1.0625 & -2.75 & 5.5 & 0.625 & 0.0 & 0.0 & 0.5 & 0.0 & 7.4375 & -1.25 & -0.4375 & 5.8125 & 7.375 & -0.4375 & -0.0625 \\\\\n",
       "\t6 & frc4505 & 0.0 & -1.0 & 1.3125 & 0.0 & -0.4375 & -0.25 & 1.875 & -0.375 & -0.3125 & 0.8125 & 0.5 & 1.875 & 0.0 & -0.125 & 0.0 & 1.6875 & -0.125 & 0.125 & -0.375 & 1.75 & 0.25 & 0.0625 \\\\\n",
       "\t7 & frc1418 & 0.0 & 0.7 & 1.8 & 0.05 & 11.05 & 0.4 & -1.05 & 5.25 & 2.8 & 8.95 & 0.6 & -1.05 & 0.0 & 0.05 & 0.0 & 8.6 & 6.4 & 0.1 & 0.75 & 8.5 & 3.0 & -0.1 \\\\\n",
       "\t8 & frc614 & 0.0 & 3.75 & 6.15 & 0.0 & 2.65 & 1.15 & 1.5 & 2.6 & 0.3 & 12.4 & 0.75 & 1.5 & 0.0 & 0.25 & 0.0 & 17.65 & 1.9 & -0.75 & 4.35 & 17.5 & -0.25 & -0.15 \\\\\n",
       "\t9 & frc6543 & 0.0 & 0.2 & 1.2 & -0.05 & 0.55 & -0.75 & -1.35 & 1.35 & -0.1 & 0.3 & 0.4 & -1.35 & 0.0 & -0.2 & 0.0 & -0.85 & 0.3 & 0.6 & -1.2 & -1.05 & -0.7 & -0.2 \\\\\n",
       "\t10 & frc2199 & 0.0 & -0.941176 & 0.0 & 0.0 & -2.58824 & -0.176471 & -0.882353 & -2.52941 & -0.352941 & 0.117647 & 0.470588 & -0.882353 & 0.0 & -0.0588235 & 0.0 & -1.70588 & -2.70588 & 0.117647 & 2.82353 & -1.64706 & 0.294118 & 0.0588235 \\\\\n",
       "\t11 & frc2534 & 0.0 & 0.117647 & 1.41176 & 0.0 & -1.23529 & 1.29412 & -0.176471 & 0.176471 & -0.588235 & 5.17647 & 0.764706 & -0.176471 & 0.0 & 0.235294 & 0.0 & 5.11765 & -1.17647 & -0.235294 & 4.94118 & 5.17647 & -0.823529 & 0.0588235 \\\\\n",
       "\t12 & frc5549 & 0.0 & -2.0 & -1.23529 & 0.0 & -1.41176 & -0.529412 & -0.882353 & -1.64706 & 0.352941 & -2.29412 & 0.411765 & -0.882353 & 0.0 & -0.176471 & 0.0 & -5.17647 & -1.41176 & -0.117647 & 0.352941 & -4.94118 & -0.117647 & 0.235294 \\\\\n",
       "\t13 & frc2988 & -4.57143 & -1.28571 & -0.214286 & 0.0 & -1.92857 & 0.5 & -0.857143 & 1.42857 & -2.92857 & 0.571429 & 0.571429 & -0.857143 & 0.0 & 0.0714286 & 0.0 & -6.14286 & -0.285714 & 0.428571 & 1.07143 & -6.14286 & -0.428571 & 0.0 \\\\\n",
       "\t14 & frc3941 & 0.0 & -2.81818 & 1.09091 & 0.0 & -3.27273 & -1.18182 & -1.90909 & -3.18182 & 0.272727 & -8.45455 & 0.272727 & -1.90909 & 0.0 & -0.272727 & 0.0 & -13.1818 & -3.81818 & 0.636364 & -5.72727 & -13.0909 & -0.363636 & 0.0909091 \\\\\n",
       "\t15 & frc2421 & 0.0 & -0.363636 & -2.72727 & 0.0 & 0.454545 & -1.81818 & -3.81818 & 0.636364 & -0.363636 & -8.72727 & 0.136364 & -3.81818 & 0.0 & -0.363636 & 0.0 & -12.9091 & -1.63636 & -0.181818 & -4.36364 & -12.8182 & 0.181818 & 0.0909091 \\\\\n",
       "\t16 & frc1719 & 0.0 & 1.07143 & -0.642857 & 0.0714286 & 2.64286 & 0.357143 & 0.428571 & 0.857143 & 1.14286 & 4.57143 & 0.5 & 0.428571 & 0.0 & 0.142857 & 0.0 & 6.07143 & 3.28571 & -0.357143 & 1.92857 & 6.07143 & 0.642857 & 0.0 \\\\\n",
       "\t17 & frc623 & 0.0 & -0.272727 & -1.09091 & 0.0 & 1.0 & -0.181818 & 0.545455 & 0.0909091 & 0.363636 & -1.81818 & 0.5 & 0.545455 & 0.0 & -0.181818 & 0.0 & -1.54545 & 1.45455 & 0.0909091 & -2.18182 & -1.54545 & 0.545455 & 0.0 \\\\\n",
       "\t18 & frc4464 & 0.0 & -1.36364 & -4.90909 & 0.0 & -4.18182 & -1.18182 & -4.09091 & -3.27273 & -1.18182 & -16.0909 & 0.272727 & -4.09091 & 0.0 & -0.272727 & 0.0 & -21.5455 & -3.81818 & 0.454545 & -7.36364 & -21.5455 & 0.272727 & 0.0 \\\\\n",
       "\t19 & frc2961 & 0.0 & 0.363636 & -3.54545 & 0.0909091 & -3.54545 & 0.0 & -1.09091 & -3.54545 & 0.0 & -5.72727 & 0.5 & -1.09091 & 0.0 & -0.0909091 & 0.0 & -6.45455 & -1.09091 & 0.181818 & -1.09091 & -6.54545 & 0.0 & -0.0909091 \\\\\n",
       "\t20 & frc4242 & 0.0 & -1.23077 & 2.07692 & -0.0769231 & -1.53846 & 0.461538 & 2.76923 & -0.692308 & -0.307692 & 3.0 & 0.538462 & 2.76923 & 0.0 & 0.0769231 & 0.0 & 4.53846 & -1.38462 & 0.153846 & 2.30769 & 4.61538 & -0.538462 & 0.0769231 \\\\\n",
       "\t21 & frc1629 & 0.0 & -2.85714 & 1.5 & 0.0 & 3.71429 & -0.142857 & 1.5 & 2.28571 & 0.857143 & 3.71429 & 0.464286 & 1.5 & 0.0 & -0.142857 & 0.0 & 2.35714 & 4.14286 & 0.714286 & -1.92857 & 2.42857 & 0.571429 & 0.0714286 \\\\\n",
       "\t22 & frc2819 & 0.0 & -1.54545 & -3.0 & 0.0 & -4.72727 & -1.54545 & -4.63636 & -3.63636 & -0.545455 & -9.63636 & 0.136364 & -4.63636 & 0.0 & -0.0909091 & 0.0 & -15.8182 & -3.09091 & 0.818182 & -3.54545 & -15.9091 & -0.545455 & -0.0909091 \\\\\n",
       "\t23 & frc116 & -4.57143 & -2.64286 & 1.5 & 0.0 & -4.07143 & 0.428571 & -0.642857 & -0.357143 & -3.42857 & 1.85714 & 0.5 & -0.642857 & 0.0 & 0.285714 & 0.0 & -6.0 & -2.85714 & 0.642857 & 3.21429 & -5.92857 & -0.285714 & 0.0714286 \\\\\n",
       "\t24 & frc316 & 0.0 & -1.54545 & 1.90909 & 0.0 & 2.0 & -0.363636 & 1.36364 & 0.909091 & 0.909091 & 2.63636 & 0.454545 & 1.36364 & 0.0 & -0.181818 & 0.0 & 2.45455 & 2.90909 & 0.818182 & -2.18182 & 2.36364 & 0.181818 & -0.0909091 \\\\\n",
       "\t25 & frc888 & 0.0 & 1.71429 & -1.92857 & 0.0 & -1.78571 & -0.142857 & 0.0 & -1.21429 & -0.714286 & -4.5 & 0.428571 & 0.0 & 0.0 & 0.0 & 0.0 & -2.78571 & -1.28571 & -0.571429 & -1.28571 & -2.78571 & 0.142857 & 0.0 \\\\\n",
       "\t26 & frc2028 & 0.0 & 1.71429 & -0.428571 & 0.0 & -2.21429 & 0.571429 & 0.857143 & -0.5 & -1.57143 & -1.57143 & 0.607143 & 0.857143 & 0.0 & 0.0 & 0.0 & 1.0 & -2.0 & -0.571429 & 0.857143 & 1.0 & -0.142857 & 0.0 \\\\\n",
       "\t27 & frc3373 & 0.0 & 0.25 & -1.75 & 0.0 & 3.83333 & 0.0 & -1.75 & 1.41667 & 1.41667 & -0.333333 & 0.5 & -1.75 & 0.0 & 0.0 & 0.0 & -1.83333 & 1.66667 & -0.0833333 & -0.25 & -1.83333 & 1.0 & 0.0 \\\\\n",
       "\t28 & frc1895 & 0.0 & -0.0714286 & 1.5 & 0.0 & -0.0714286 & 0.0 & 0.857143 & 0.857143 & -0.928571 & 0.928571 & 0.464286 & 0.857143 & 0.0 & 0.0 & 0.0 & 1.71429 & 0.285714 & -0.214286 & -0.857143 & 1.78571 & 0.0 & 0.0714286 \\\\\n",
       "\t29 & frc611 & -4.57143 & 1.07143 & 1.71429 & 0.0 & -0.642857 & -0.785714 & -0.857143 & 1.07143 & -1.71429 & -4.64286 & 0.321429 & -0.857143 & 0.0 & -0.214286 & 0.0 & -9.0 & -2.28571 & -0.357143 & -4.07143 & -9.0 & 0.0 & 0.0 \\\\\n",
       "\t30 & frc2186 & 0.0 & -2.23077 & -1.38462 & 0.0 & -0.230769 & 0.0769231 & -1.84615 & 1.30769 & -0.923077 & -3.23077 & 0.461538 & -1.84615 & 0.0 & -0.0769231 & 0.0 & -7.30769 & 0.0 & 0.230769 & -1.84615 & -7.15385 & -0.615385 & 0.153846 \\\\\n",
       "\t$\\dots$ & $\\dots$ & $\\dots$ & $\\dots$ & $\\dots$ & $\\dots$ & $\\dots$ & $\\dots$ & $\\dots$ & $\\dots$ & $\\dots$ & $\\dots$ & $\\dots$ & $\\dots$ & $\\dots$ & $\\dots$ & $\\dots$ & $\\dots$ & $\\dots$ & $\\dots$ & $\\dots$ & $\\dots$ & $\\dots$ & $\\dots$ \\\\\n",
       "\\end{tabular}\n"
      ],
      "text/plain": [
       "75×23 DataFrame. Omitted printing of 19 columns\n",
       "│ Row │ team    │ adjustPoints_mean │ foulPoints_mean │ cargoPoints_mean │\n",
       "│     │ \u001b[90mString⍰\u001b[39m │ \u001b[90mFloat64\u001b[39m           │ \u001b[90mFloat64\u001b[39m         │ \u001b[90mFloat64\u001b[39m          │\n",
       "├─────┼─────────┼───────────────────┼─────────────────┼──────────────────┤\n",
       "│ 1   │ frc2363 │ 3.2               │ 0.7             │ 0.9              │\n",
       "│ 2   │ frc612  │ 3.2               │ 1.05            │ 1.95             │\n",
       "│ 3   │ frc1731 │ 3.04762           │ 0.857143        │ 1.0              │\n",
       "│ 4   │ frc4099 │ 0.0               │ 1.1875          │ 3.5625           │\n",
       "│ 5   │ frc5338 │ 0.0               │ 1.9375          │ 0.9375           │\n",
       "│ 6   │ frc4505 │ 0.0               │ -1.0            │ 1.3125           │\n",
       "│ 7   │ frc1418 │ 0.0               │ 0.7             │ 1.8              │\n",
       "│ 8   │ frc614  │ 0.0               │ 3.75            │ 6.15             │\n",
       "│ 9   │ frc6543 │ 0.0               │ 0.2             │ 1.2              │\n",
       "│ 10  │ frc2199 │ 0.0               │ -0.941176       │ 0.0              │\n",
       "⋮\n",
       "│ 65  │ frc7330 │ 0.0               │ -1.41667        │ -2.0             │\n",
       "│ 66  │ frc3136 │ 0.0               │ -1.35714        │ -0.214286        │\n",
       "│ 67  │ frc2998 │ 0.0               │ 0.4             │ 5.0              │\n",
       "│ 68  │ frc122  │ 0.0               │ -0.0714286      │ 2.78571          │\n",
       "│ 69  │ frc1793 │ 0.0               │ 2.0             │ -1.2             │\n",
       "│ 70  │ frc1080 │ 0.0               │ 0.5             │ 3.5              │\n",
       "│ 71  │ frc5957 │ 0.0               │ -0.928571       │ -5.78571         │\n",
       "│ 72  │ frc619  │ 0.0               │ 1.85714         │ -3.64286         │\n",
       "│ 73  │ frc6334 │ 0.0               │ 2.07143         │ -3.0             │\n",
       "│ 74  │ frc422  │ 0.0               │ 0.0             │ 5.35714          │\n",
       "│ 75  │ frc3361 │ 0.0               │ 1.08333         │ -1.5             │"
      ]
     },
     "execution_count": 10,
     "metadata": {},
     "output_type": "execute_result"
    }
   ],
   "source": [
    "plusminus = by(diffdf, :team, Dict(n => mean for n in numericcols)...)"
   ]
  },
  {
   "cell_type": "code",
   "execution_count": 11,
   "metadata": {},
   "outputs": [
    {
     "data": {
      "text/html": [
       "<table class=\"data-frame\"><thead><tr><th></th><th>team</th><th>win_mean</th></tr><tr><th></th><th>String⍰</th><th>Float64</th></tr></thead><tbody><p>75 rows × 2 columns</p><tr><th>1</th><td>frc346</td><td>0.916667</td></tr><tr><th>2</th><td>frc612</td><td>0.85</td></tr><tr><th>3</th><td>frc1262</td><td>0.833333</td></tr><tr><th>4</th><td>frc2534</td><td>0.764706</td></tr><tr><th>5</th><td>frc977</td><td>0.764706</td></tr><tr><th>6</th><td>frc614</td><td>0.75</td></tr><tr><th>7</th><td>frc1610</td><td>0.736842</td></tr><tr><th>8</th><td>frc339</td><td>0.692308</td></tr><tr><th>9</th><td>frc4099</td><td>0.6875</td></tr><tr><th>10</th><td>frc2363</td><td>0.65</td></tr><tr><th>11</th><td>frc2998</td><td>0.633333</td></tr><tr><th>12</th><td>frc5338</td><td>0.625</td></tr><tr><th>13</th><td>frc6802</td><td>0.617647</td></tr><tr><th>14</th><td>frc2028</td><td>0.607143</td></tr><tr><th>15</th><td>frc384</td><td>0.605263</td></tr><tr><th>16</th><td>frc1418</td><td>0.6</td></tr><tr><th>17</th><td>frc1793</td><td>0.6</td></tr><tr><th>18</th><td>frc1599</td><td>0.588235</td></tr><tr><th>19</th><td>frc2988</td><td>0.571429</td></tr><tr><th>20</th><td>frc3455</td><td>0.571429</td></tr><tr><th>21</th><td>frc422</td><td>0.571429</td></tr><tr><th>22</th><td>frc6882</td><td>0.5625</td></tr><tr><th>23</th><td>frc4242</td><td>0.538462</td></tr><tr><th>24</th><td>frc1908</td><td>0.535714</td></tr><tr><th>25</th><td>frc619</td><td>0.535714</td></tr><tr><th>26</th><td>frc5546</td><td>0.533333</td></tr><tr><th>27</th><td>frc2106</td><td>0.529412</td></tr><tr><th>28</th><td>frc1731</td><td>0.52381</td></tr><tr><th>29</th><td>frc4505</td><td>0.5</td></tr><tr><th>30</th><td>frc1719</td><td>0.5</td></tr><tr><th>&vellip;</th><td>&vellip;</td><td>&vellip;</td></tr></tbody></table>"
      ],
      "text/latex": [
       "\\begin{tabular}{r|cc}\n",
       "\t& team & win\\_mean\\\\\n",
       "\t\\hline\n",
       "\t& String⍰ & Float64\\\\\n",
       "\t\\hline\n",
       "\t1 & frc346 & 0.916667 \\\\\n",
       "\t2 & frc612 & 0.85 \\\\\n",
       "\t3 & frc1262 & 0.833333 \\\\\n",
       "\t4 & frc2534 & 0.764706 \\\\\n",
       "\t5 & frc977 & 0.764706 \\\\\n",
       "\t6 & frc614 & 0.75 \\\\\n",
       "\t7 & frc1610 & 0.736842 \\\\\n",
       "\t8 & frc339 & 0.692308 \\\\\n",
       "\t9 & frc4099 & 0.6875 \\\\\n",
       "\t10 & frc2363 & 0.65 \\\\\n",
       "\t11 & frc2998 & 0.633333 \\\\\n",
       "\t12 & frc5338 & 0.625 \\\\\n",
       "\t13 & frc6802 & 0.617647 \\\\\n",
       "\t14 & frc2028 & 0.607143 \\\\\n",
       "\t15 & frc384 & 0.605263 \\\\\n",
       "\t16 & frc1418 & 0.6 \\\\\n",
       "\t17 & frc1793 & 0.6 \\\\\n",
       "\t18 & frc1599 & 0.588235 \\\\\n",
       "\t19 & frc2988 & 0.571429 \\\\\n",
       "\t20 & frc3455 & 0.571429 \\\\\n",
       "\t21 & frc422 & 0.571429 \\\\\n",
       "\t22 & frc6882 & 0.5625 \\\\\n",
       "\t23 & frc4242 & 0.538462 \\\\\n",
       "\t24 & frc1908 & 0.535714 \\\\\n",
       "\t25 & frc619 & 0.535714 \\\\\n",
       "\t26 & frc5546 & 0.533333 \\\\\n",
       "\t27 & frc2106 & 0.529412 \\\\\n",
       "\t28 & frc1731 & 0.52381 \\\\\n",
       "\t29 & frc4505 & 0.5 \\\\\n",
       "\t30 & frc1719 & 0.5 \\\\\n",
       "\t$\\dots$ & $\\dots$ & $\\dots$ \\\\\n",
       "\\end{tabular}\n"
      ],
      "text/plain": [
       "75×2 DataFrame\n",
       "│ Row │ team    │ win_mean │\n",
       "│     │ \u001b[90mString⍰\u001b[39m │ \u001b[90mFloat64\u001b[39m  │\n",
       "├─────┼─────────┼──────────┤\n",
       "│ 1   │ frc346  │ 0.916667 │\n",
       "│ 2   │ frc612  │ 0.85     │\n",
       "│ 3   │ frc1262 │ 0.833333 │\n",
       "│ 4   │ frc2534 │ 0.764706 │\n",
       "│ 5   │ frc977  │ 0.764706 │\n",
       "│ 6   │ frc614  │ 0.75     │\n",
       "│ 7   │ frc1610 │ 0.736842 │\n",
       "│ 8   │ frc339  │ 0.692308 │\n",
       "│ 9   │ frc4099 │ 0.6875   │\n",
       "│ 10  │ frc2363 │ 0.65     │\n",
       "⋮\n",
       "│ 65  │ frc1086 │ 0.291667 │\n",
       "│ 66  │ frc3941 │ 0.272727 │\n",
       "│ 67  │ frc4464 │ 0.272727 │\n",
       "│ 68  │ frc5950 │ 0.25     │\n",
       "│ 69  │ frc7330 │ 0.25     │\n",
       "│ 70  │ frc3274 │ 0.227273 │\n",
       "│ 71  │ frc5957 │ 0.214286 │\n",
       "│ 72  │ frc6021 │ 0.208333 │\n",
       "│ 73  │ frc620  │ 0.181818 │\n",
       "│ 74  │ frc2421 │ 0.136364 │\n",
       "│ 75  │ frc2819 │ 0.136364 │"
      ]
     },
     "execution_count": 11,
     "metadata": {},
     "output_type": "execute_result"
    }
   ],
   "source": [
    "showbest(col) = sort(plusminus, col, rev=true)[:,[:team, col]]\n",
    "showworst(col) = sort(plusminus, col)[:,[:team, col]]\n",
    "\n",
    "showbest(:win_mean)"
   ]
  },
  {
   "cell_type": "code",
   "execution_count": 12,
   "metadata": {},
   "outputs": [
    {
     "data": {
      "text/plain": [
       "\"../output/2019chs_wk1_plusminus.csv\""
      ]
     },
     "execution_count": 12,
     "metadata": {},
     "output_type": "execute_result"
    }
   ],
   "source": [
    "using CSV\n",
    "CSV.write(\"../output/$(KEY)_plusminus.csv\", plusminus)"
   ]
  }
 ],
 "metadata": {
  "kernelspec": {
   "display_name": "Julia 1.0.2",
   "language": "julia",
   "name": "julia-1.0"
  },
  "language_info": {
   "file_extension": ".jl",
   "mimetype": "application/julia",
   "name": "julia",
   "version": "1.0.2"
  }
 },
 "nbformat": 4,
 "nbformat_minor": 2
}
