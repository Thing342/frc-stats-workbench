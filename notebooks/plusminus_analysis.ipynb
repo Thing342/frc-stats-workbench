{
 "cells": [
  {
   "cell_type": "code",
   "execution_count": 9,
   "metadata": {},
   "outputs": [],
   "source": [
    "import pandas as pd\n",
    "import numpy as np\n",
    "import sklearn.linear_model as sklm\n",
    "import sklearn.metrics as skmet\n",
    "import matplotlib.pyplot as plt\n",
    "\n",
    "import sys\n",
    "sys.path.append(\"../lib\")\n",
    "import plotting"
   ]
  },
  {
   "cell_type": "code",
   "execution_count": 10,
   "metadata": {},
   "outputs": [],
   "source": [
    "KEY=\"2019chs_wk1\""
   ]
  },
  {
   "cell_type": "code",
   "execution_count": 11,
   "metadata": {},
   "outputs": [
    {
     "data": {
      "text/plain": [
       "Index(['team', 'adjustPoints_mean', 'foulPoints_mean', 'cargoPoints_mean',\n",
       "       'completeRocketRankingPoint_mean', 'rocketPoints_mean', 'rp_mean',\n",
       "       'sandStormBonusPoints_mean', 'rocketLowPoints_mean',\n",
       "       'rocketMidPoints_mean', 'teleopPoints_mean', 'win_mean',\n",
       "       'autoPoints_mean', 'completedRocketNear_mean',\n",
       "       'habDockingRankingPoint_mean', 'completedRocketFar_mean',\n",
       "       'totalPoints_mean', 'hatchPanelPoints_mean', 'foulCount_mean',\n",
       "       'habClimbPoints_mean', 'ownPoints_mean', 'rocketTopPoints_mean',\n",
       "       'techFoulCount_mean'],\n",
       "      dtype='object')"
      ]
     },
     "execution_count": 11,
     "metadata": {},
     "output_type": "execute_result"
    }
   ],
   "source": [
    "df = pd.read_csv(f\"../output/{KEY}_plusminus.csv\")\n",
    "df.index = df.team\n",
    "df.columns"
   ]
  },
  {
   "cell_type": "code",
   "execution_count": 12,
   "metadata": {},
   "outputs": [],
   "source": [
    "xcol = \"totalPoints_mean\"\n",
    "x = df[xcol]\n",
    "y = df.win_mean\n",
    "names = df.index"
   ]
  },
  {
   "cell_type": "code",
   "execution_count": 13,
   "metadata": {},
   "outputs": [],
   "source": [
    "model = sklm.LinearRegression().fit(df[[xcol]], y)"
   ]
  },
  {
   "cell_type": "code",
   "execution_count": 14,
   "metadata": {},
   "outputs": [
    {
     "data": {
      "text/plain": [
       "0.8058997936133119"
      ]
     },
     "execution_count": 14,
     "metadata": {},
     "output_type": "execute_result"
    }
   ],
   "source": [
    "yhat = model.predict(df[[xcol]])\n",
    "error = y - yhat\n",
    "error_z = (error - error.mean()) / error.std()\n",
    "skmet.r2_score(y, yhat)"
   ]
  },
  {
   "cell_type": "code",
   "execution_count": 20,
   "metadata": {},
   "outputs": [
    {
     "data": {
      "image/png": "[encoded data removed]",
      "text/plain": [
       "<Figure size 432x288 with 1 Axes>"
      ]
     },
     "metadata": {
      "needs_background": "light"
     },
     "output_type": "display_data"
    }
   ],
   "source": [
    "plotting.plot_with_fit(x, y, yhat, names, delta=1.5)"
   ]
  },
  {
   "cell_type": "code",
   "execution_count": 19,
   "metadata": {},
   "outputs": [
    {
     "name": "stdout",
     "output_type": "stream",
     "text": [
      "\"Unluckiest\" teams, by z-score\n",
      "team\n",
      "frc611    -1.778026\n",
      "frc6882   -1.741827\n",
      "frc620    -1.472461\n",
      "frc2421   -1.350191\n",
      "frc1719   -1.348223\n",
      "frc1731   -1.292702\n",
      "frc540    -1.142993\n",
      "frc316    -1.083268\n",
      "frc346    -1.028507\n",
      "frc614    -0.999422\n",
      "frc5950   -0.975374\n",
      "frc1598   -0.956460\n",
      "frc3359   -0.900519\n",
      "frc6543   -0.879995\n",
      "frc2363   -0.837416\n",
      "frc6334   -0.824262\n",
      "frc1629   -0.817657\n",
      "frc4242   -0.817001\n",
      "frc3361   -0.749608\n",
      "frc7330   -0.732098\n",
      "frc2819   -0.696919\n",
      "frc539    -0.637728\n",
      "frc3136   -0.637728\n",
      "frc6504   -0.634143\n",
      "frc1895   -0.633924\n",
      "frc7429   -0.600702\n",
      "frc5804   -0.581587\n",
      "frc1086   -0.563475\n",
      "frc1413   -0.543358\n",
      "frc2998   -0.542757\n",
      "             ...   \n",
      "frc6189    0.072785\n",
      "frc3274    0.140524\n",
      "frc3941    0.304061\n",
      "frc623     0.345984\n",
      "frc619     0.373806\n",
      "frc6863    0.406573\n",
      "frc1522    0.410230\n",
      "frc3373    0.410631\n",
      "frc977     0.561944\n",
      "frc1262    0.598970\n",
      "frc617     0.709647\n",
      "frc5546    0.729162\n",
      "frc3258    0.822329\n",
      "frc384     0.879071\n",
      "frc1599    0.991553\n",
      "frc4286    1.027777\n",
      "frc2988    1.122402\n",
      "frc1793    1.197402\n",
      "frc2186    1.264868\n",
      "frc1610    1.291772\n",
      "frc422     1.328397\n",
      "frc1908    1.384337\n",
      "frc339     1.388669\n",
      "frc2961    1.448382\n",
      "frc2028    1.510501\n",
      "frc2106    1.702266\n",
      "frc612     1.961157\n",
      "frc3455    2.041066\n",
      "frc4464    2.182220\n",
      "frc2534    2.430259\n",
      "Name: win_mean, Length: 75, dtype: float64\n",
      "\"Luckiest\" teams, by z-score\n",
      "team\n",
      "frc2534    2.430259\n",
      "frc4464    2.182220\n",
      "frc3455    2.041066\n",
      "frc612     1.961157\n",
      "frc2106    1.702266\n",
      "frc2028    1.510501\n",
      "frc2961    1.448382\n",
      "frc339     1.388669\n",
      "frc1908    1.384337\n",
      "frc422     1.328397\n",
      "frc1610    1.291772\n",
      "frc2186    1.264868\n",
      "frc1793    1.197402\n",
      "frc2988    1.122402\n",
      "frc4286    1.027777\n",
      "frc1599    0.991553\n",
      "frc384     0.879071\n",
      "frc3258    0.822329\n",
      "frc5546    0.729162\n",
      "frc617     0.709647\n",
      "frc1262    0.598970\n",
      "frc977     0.561944\n",
      "frc3373    0.410631\n",
      "frc1522    0.410230\n",
      "frc6863    0.406573\n",
      "frc619     0.373806\n",
      "frc623     0.345984\n",
      "frc3941    0.304061\n",
      "frc3274    0.140524\n",
      "frc6189    0.072785\n",
      "             ...   \n",
      "frc2998   -0.542757\n",
      "frc1413   -0.543358\n",
      "frc1086   -0.563475\n",
      "frc5804   -0.581587\n",
      "frc7429   -0.600702\n",
      "frc1895   -0.633924\n",
      "frc6504   -0.634143\n",
      "frc3136   -0.637728\n",
      "frc539    -0.637728\n",
      "frc2819   -0.696919\n",
      "frc7330   -0.732098\n",
      "frc3361   -0.749608\n",
      "frc4242   -0.817001\n",
      "frc1629   -0.817657\n",
      "frc6334   -0.824262\n",
      "frc2363   -0.837416\n",
      "frc6543   -0.879995\n",
      "frc3359   -0.900519\n",
      "frc1598   -0.956460\n",
      "frc5950   -0.975374\n",
      "frc614    -0.999422\n",
      "frc346    -1.028507\n",
      "frc316    -1.083268\n",
      "frc540    -1.142993\n",
      "frc1731   -1.292702\n",
      "frc1719   -1.348223\n",
      "frc2421   -1.350191\n",
      "frc620    -1.472461\n",
      "frc6882   -1.741827\n",
      "frc611    -1.778026\n",
      "Name: win_mean, Length: 75, dtype: float64\n"
     ]
    }
   ],
   "source": [
    "print('\"Unluckiest\" teams, by z-score')\n",
    "error_z.sort_values(ascending=True) |> print\n",
    "print('\"Luckiest\" teams, by z-score')\n",
    "error_z.sort_values(ascending=False) |> print"
   ]
  },
  {
   "cell_type": "code",
   "execution_count": null,
   "metadata": {},
   "outputs": [],
   "source": []
  }
 ],
 "metadata": {
  "kernelspec": {
   "display_name": "Coconut",
   "language": "coconut",
   "name": "coconut"
  },
  "language_info": {
   "codemirror_mode": {
    "name": "python",
    "version": 3.6
   },
   "file_extension": ".coco",
   "mimetype": "text/x-python3",
   "name": "coconut",
   "pygments_lexer": "coconut"
  }
 },
 "nbformat": 4,
 "nbformat_minor": 2
}
