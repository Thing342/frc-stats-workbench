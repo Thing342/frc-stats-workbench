{
 "cells": [
  {
   "cell_type": "code",
   "execution_count": 1,
   "metadata": {},
   "outputs": [],
   "source": [
    "import pandas as pd\n",
    "import numpy as np\n",
    "import sklearn.linear_model as sklm\n",
    "import sklearn.metrics as skmet\n",
    "import matplotlib.pyplot as plt\n",
    "\n",
    "import sys\n",
    "sys.path.append(\"../lib\")\n",
    "import plotting"
   ]
  },
  {
   "cell_type": "code",
   "execution_count": 2,
   "metadata": {},
   "outputs": [],
   "source": [
    "KEY=\"2019chs_wk1\""
   ]
  },
  {
   "cell_type": "code",
   "execution_count": 3,
   "metadata": {},
   "outputs": [
    {
     "data": {
      "text/plain": [
       "Index(['team', 'adjustPoints_mean', 'foulPoints_mean', 'cargoPoints_mean',\n",
       "       'completeRocketRankingPoint_mean', 'rocketPoints_mean', 'rp_mean',\n",
       "       'sandStormBonusPoints_mean', 'rocketLowPoints_mean',\n",
       "       'rocketMidPoints_mean', 'teleopPoints_mean', 'win_mean',\n",
       "       'autoPoints_mean', 'completedRocketNear_mean',\n",
       "       'habDockingRankingPoint_mean', 'completedRocketFar_mean',\n",
       "       'totalPoints_mean', 'hatchPanelPoints_mean', 'foulCount_mean',\n",
       "       'habClimbPoints_mean', 'ownPoints_mean', 'rocketTopPoints_mean',\n",
       "       'techFoulCount_mean'],\n",
       "      dtype='object')"
      ]
     },
     "execution_count": 3,
     "metadata": {},
     "output_type": "execute_result"
    }
   ],
   "source": [
    "df = pd.read_csv(f\"../output/{KEY}_plusminus.csv\")\n",
    "df.index = df.team\n",
    "df.columns"
   ]
  },
  {
   "cell_type": "code",
   "execution_count": 4,
   "metadata": {},
   "outputs": [],
   "source": [
    "xcol = \"totalPoints_mean\"\n",
    "x = df[xcol]\n",
    "y = df.win_mean\n",
    "names = df.index"
   ]
  },
  {
   "cell_type": "code",
   "execution_count": 5,
   "metadata": {},
   "outputs": [],
   "source": [
    "model = sklm.LinearRegression().fit(df[[xcol]], y)"
   ]
  },
  {
   "cell_type": "code",
   "execution_count": 6,
   "metadata": {},
   "outputs": [
    {
     "data": {
      "text/plain": [
       "0.7820478282885537"
      ]
     },
     "execution_count": 6,
     "metadata": {},
     "output_type": "execute_result"
    }
   ],
   "source": [
    "yhat = model.predict(df[[xcol]])\n",
    "error = y - yhat\n",
    "error_z = (error - error.mean()) / error.std()\n",
    "skmet.r2_score(y, yhat)"
   ]
  },
  {
   "cell_type": "code",
   "execution_count": 7,
   "metadata": {},
   "outputs": [
    {
     "data": {
      "image/png": "[encoded data removed]",
      "text/plain": [
       "<Figure size 432x288 with 1 Axes>"
      ]
     },
     "metadata": {
      "needs_background": "light"
     },
     "output_type": "display_data"
    }
   ],
   "source": [
    "plotting.plot_with_fit(x, y, yhat, names, delta=1.5)"
   ]
  },
  {
   "cell_type": "code",
   "execution_count": 8,
   "metadata": {},
   "outputs": [
    {
     "name": "stdout",
     "output_type": "stream",
     "text": [
      "\"Unluckiest\" teams, by z-score\n"
     ]
    },
    {
     "data": {
      "text/plain": [
       "team\n",
       "frc620    -1.892586\n",
       "frc2421   -1.844604\n",
       "frc6882   -1.479768\n",
       "frc5950   -1.304241\n",
       "frc1719   -1.293167\n",
       "frc1598   -1.221113\n",
       "frc2819   -1.210699\n",
       "frc6334   -1.162079\n",
       "frc540    -1.131193\n",
       "frc316    -1.090953\n",
       "frc6543   -1.073984\n",
       "frc7330   -1.068177\n",
       "frc1731   -1.022572\n",
       "frc1629   -0.944174\n",
       "frc1086   -0.839780\n",
       "frc7429   -0.811128\n",
       "frc1895   -0.804092\n",
       "frc3136   -0.737686\n",
       "frc3361   -0.696522\n",
       "frc6504   -0.655144\n",
       "frc614    -0.593617\n",
       "frc2363   -0.575218\n",
       "frc1418   -0.555124\n",
       "frc539    -0.530500\n",
       "frc6021   -0.515749\n",
       "frc5957   -0.509062\n",
       "frc2998   -0.488622\n",
       "frc4242   -0.463345\n",
       "frc1413   -0.437112\n",
       "frc5804   -0.428202\n",
       "             ...   \n",
       "frc2199    0.022421\n",
       "frc3258    0.151921\n",
       "frc6863    0.213392\n",
       "frc1522    0.299382\n",
       "frc5546    0.343288\n",
       "frc623     0.366589\n",
       "frc3359    0.375159\n",
       "frc619     0.427937\n",
       "frc3373    0.429320\n",
       "frc977     0.493843\n",
       "frc617     0.589922\n",
       "frc1262    0.610108\n",
       "frc422     0.794917\n",
       "frc1793    0.810413\n",
       "frc4286    0.898620\n",
       "frc1599    0.923667\n",
       "frc2186    1.126428\n",
       "frc2028    1.193027\n",
       "frc1908    1.221733\n",
       "frc612     1.229281\n",
       "frc2106    1.319027\n",
       "frc116     1.337257\n",
       "frc2961    1.436304\n",
       "frc3455    1.542020\n",
       "frc339     1.586828\n",
       "frc4464    1.795071\n",
       "frc384     1.833980\n",
       "frc2988    2.289122\n",
       "frc1610    2.291456\n",
       "frc2534    2.326808\n",
       "Name: win_mean, Length: 75, dtype: float64"
      ]
     },
     "execution_count": 8,
     "metadata": {},
     "output_type": "execute_result"
    }
   ],
   "source": [
    "print('\"Unluckiest\" teams, by z-score')\n",
    "error_z.sort_values(ascending=True)"
   ]
  },
  {
   "cell_type": "code",
   "execution_count": null,
   "metadata": {},
   "outputs": [],
   "source": []
  }
 ],
 "metadata": {
  "kernelspec": {
   "display_name": "Coconut",
   "language": "coconut",
   "name": "coconut"
  },
  "language_info": {
   "codemirror_mode": {
    "name": "python",
    "version": 3.6
   },
   "file_extension": ".coco",
   "mimetype": "text/x-python3",
   "name": "coconut",
   "pygments_lexer": "coconut"
  }
 },
 "nbformat": 4,
 "nbformat_minor": 2
}
